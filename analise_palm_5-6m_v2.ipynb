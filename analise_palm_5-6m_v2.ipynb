{
 "cells": [
  {
   "cell_type": "code",
   "execution_count": 45,
   "metadata": {},
   "outputs": [],
   "source": [
    "import pandas as pd\n",
    "import matplotlib.pyplot as plt\n",
    "from matplotlib.ticker import MaxNLocator\n",
    "import numpy as np\n",
    "from scipy.stats import mannwhitneyu\n",
    "from scipy.stats import shapiro"
   ]
  },
  {
   "cell_type": "code",
   "execution_count": 46,
   "metadata": {},
   "outputs": [],
   "source": [
    "%matplotlib inline"
   ]
  },
  {
   "cell_type": "code",
   "execution_count": 47,
   "metadata": {},
   "outputs": [],
   "source": [
    "pd.options.display.max_columns = 37  # nr max de colunas exibidas"
   ]
  },
  {
   "cell_type": "code",
   "execution_count": 48,
   "metadata": {},
   "outputs": [],
   "source": [
    "# open csv file\n",
    "arquivo_csv = 'dados_5-6m.csv'\n",
    "\n",
    "original = pd.read_csv(arquivo_csv, ';')"
   ]
  },
  {
   "cell_type": "code",
   "execution_count": 49,
   "metadata": {},
   "outputs": [],
   "source": [
    "df = original.copy()"
   ]
  },
  {
   "cell_type": "code",
   "execution_count": 50,
   "metadata": {},
   "outputs": [
    {
     "data": {
      "text/plain": [
       "(142, 16)"
      ]
     },
     "execution_count": 50,
     "metadata": {},
     "output_type": "execute_result"
    }
   ],
   "source": [
    "#linhas e colunas\n",
    "df.shape"
   ]
  },
  {
   "cell_type": "code",
   "execution_count": 51,
   "metadata": {},
   "outputs": [],
   "source": [
    "#TRATAMENTO DOS DADOS"
   ]
  },
  {
   "cell_type": "code",
   "execution_count": 52,
   "metadata": {},
   "outputs": [],
   "source": [
    "# apenas palmeiras com altura entre 3 e 4 m\n",
    "df = df[df['Altura Palmeira (m)'] == 6]"
   ]
  },
  {
   "cell_type": "code",
   "execution_count": 53,
   "metadata": {},
   "outputs": [],
   "source": [
    "#drop all the columns where all the data is empty\n",
    "df = df.dropna(how='all', axis='columns')"
   ]
  },
  {
   "cell_type": "code",
   "execution_count": 54,
   "metadata": {},
   "outputs": [],
   "source": [
    "#Remove unnamed columns\n",
    "df = df.loc[:, ~df.columns.str.contains('^Unnamed')]"
   ]
  },
  {
   "cell_type": "code",
   "execution_count": 55,
   "metadata": {},
   "outputs": [
    {
     "data": {
      "text/plain": [
       "(142, 16)"
      ]
     },
     "execution_count": 55,
     "metadata": {},
     "output_type": "execute_result"
    }
   ],
   "source": [
    "df.shape"
   ]
  },
  {
   "cell_type": "code",
   "execution_count": 56,
   "metadata": {},
   "outputs": [
    {
     "data": {
      "text/html": [
       "<div>\n",
       "<style scoped>\n",
       "    .dataframe tbody tr th:only-of-type {\n",
       "        vertical-align: middle;\n",
       "    }\n",
       "\n",
       "    .dataframe tbody tr th {\n",
       "        vertical-align: top;\n",
       "    }\n",
       "\n",
       "    .dataframe thead th {\n",
       "        text-align: right;\n",
       "    }\n",
       "</style>\n",
       "<table border=\"1\" class=\"dataframe\">\n",
       "  <thead>\n",
       "    <tr style=\"text-align: right;\">\n",
       "      <th></th>\n",
       "      <th>Data</th>\n",
       "      <th>Palmeira</th>\n",
       "      <th>Altura Palmeira (m)</th>\n",
       "      <th>Área</th>\n",
       "      <th>Quadrante</th>\n",
       "      <th>Número</th>\n",
       "      <th>Família</th>\n",
       "      <th>Gênero</th>\n",
       "      <th>Espécie</th>\n",
       "      <th>Altura (cm)</th>\n",
       "      <th>Dap (mm)</th>\n",
       "      <th>Coletada</th>\n",
       "      <th>Nativa</th>\n",
       "      <th>Estágio sucessional</th>\n",
       "      <th>Obs</th>\n",
       "      <th>Identificação</th>\n",
       "    </tr>\n",
       "  </thead>\n",
       "  <tbody>\n",
       "    <tr>\n",
       "      <th>0</th>\n",
       "      <td>7/2/2020</td>\n",
       "      <td>6</td>\n",
       "      <td>6</td>\n",
       "      <td>Copa</td>\n",
       "      <td>1</td>\n",
       "      <td>4763.0</td>\n",
       "      <td>Sapindaceae</td>\n",
       "      <td>Cupania</td>\n",
       "      <td>Cupania oblongifolia</td>\n",
       "      <td>22.0</td>\n",
       "      <td>3,47</td>\n",
       "      <td>S</td>\n",
       "      <td>S</td>\n",
       "      <td>Secundária Inicial</td>\n",
       "      <td>NaN</td>\n",
       "      <td>OK</td>\n",
       "    </tr>\n",
       "    <tr>\n",
       "      <th>1</th>\n",
       "      <td>7/2/2020</td>\n",
       "      <td>6</td>\n",
       "      <td>6</td>\n",
       "      <td>Copa</td>\n",
       "      <td>2</td>\n",
       "      <td>NaN</td>\n",
       "      <td>NaN</td>\n",
       "      <td>NaN</td>\n",
       "      <td>NaN</td>\n",
       "      <td>NaN</td>\n",
       "      <td>NaN</td>\n",
       "      <td>NaN</td>\n",
       "      <td>NaN</td>\n",
       "      <td>NaN</td>\n",
       "      <td>NaN</td>\n",
       "      <td>NaN</td>\n",
       "    </tr>\n",
       "    <tr>\n",
       "      <th>2</th>\n",
       "      <td>7/2/2020</td>\n",
       "      <td>6</td>\n",
       "      <td>6</td>\n",
       "      <td>Copa</td>\n",
       "      <td>3</td>\n",
       "      <td>NaN</td>\n",
       "      <td>NaN</td>\n",
       "      <td>NaN</td>\n",
       "      <td>NaN</td>\n",
       "      <td>NaN</td>\n",
       "      <td>NaN</td>\n",
       "      <td>NaN</td>\n",
       "      <td>NaN</td>\n",
       "      <td>NaN</td>\n",
       "      <td>NaN</td>\n",
       "      <td>NaN</td>\n",
       "    </tr>\n",
       "    <tr>\n",
       "      <th>3</th>\n",
       "      <td>7/2/2020</td>\n",
       "      <td>6</td>\n",
       "      <td>6</td>\n",
       "      <td>Copa</td>\n",
       "      <td>4</td>\n",
       "      <td>4765.0</td>\n",
       "      <td>Meliaceae</td>\n",
       "      <td>Guarea</td>\n",
       "      <td>Guarea macrophylla</td>\n",
       "      <td>27.0</td>\n",
       "      <td>4,43</td>\n",
       "      <td>N</td>\n",
       "      <td>S</td>\n",
       "      <td>Secundária Inicial</td>\n",
       "      <td>NaN</td>\n",
       "      <td>OK</td>\n",
       "    </tr>\n",
       "    <tr>\n",
       "      <th>4</th>\n",
       "      <td>7/2/2020</td>\n",
       "      <td>6</td>\n",
       "      <td>6</td>\n",
       "      <td>Copa</td>\n",
       "      <td>4</td>\n",
       "      <td>4767.0</td>\n",
       "      <td>Sapindaceae</td>\n",
       "      <td>Cupania</td>\n",
       "      <td>Cupania oblongifolia</td>\n",
       "      <td>20.0</td>\n",
       "      <td>3</td>\n",
       "      <td>S</td>\n",
       "      <td>S</td>\n",
       "      <td>Secundária Inicial</td>\n",
       "      <td>NaN</td>\n",
       "      <td>OK</td>\n",
       "    </tr>\n",
       "  </tbody>\n",
       "</table>\n",
       "</div>"
      ],
      "text/plain": [
       "       Data  Palmeira  Altura Palmeira (m)  Área  Quadrante  Número  \\\n",
       "0  7/2/2020         6                    6  Copa          1  4763.0   \n",
       "1  7/2/2020         6                    6  Copa          2     NaN   \n",
       "2  7/2/2020         6                    6  Copa          3     NaN   \n",
       "3  7/2/2020         6                    6  Copa          4  4765.0   \n",
       "4  7/2/2020         6                    6  Copa          4  4767.0   \n",
       "\n",
       "       Família   Gênero               Espécie  Altura (cm) Dap (mm) Coletada  \\\n",
       "0  Sapindaceae  Cupania  Cupania oblongifolia         22.0     3,47        S   \n",
       "1          NaN      NaN                   NaN          NaN      NaN      NaN   \n",
       "2          NaN      NaN                   NaN          NaN      NaN      NaN   \n",
       "3    Meliaceae   Guarea    Guarea macrophylla         27.0     4,43        N   \n",
       "4  Sapindaceae  Cupania  Cupania oblongifolia         20.0        3        S   \n",
       "\n",
       "  Nativa Estágio sucessional  Obs Identificação  \n",
       "0      S  Secundária Inicial  NaN            OK  \n",
       "1    NaN                 NaN  NaN           NaN  \n",
       "2    NaN                 NaN  NaN           NaN  \n",
       "3      S  Secundária Inicial  NaN            OK  \n",
       "4      S  Secundária Inicial  NaN            OK  "
      ]
     },
     "execution_count": 56,
     "metadata": {},
     "output_type": "execute_result"
    }
   ],
   "source": [
    "df.head()"
   ]
  },
  {
   "cell_type": "code",
   "execution_count": 57,
   "metadata": {},
   "outputs": [
    {
     "name": "stdout",
     "output_type": "stream",
     "text": [
      "Data                    object\n",
      "Palmeira                 int64\n",
      "Altura Palmeira (m)      int64\n",
      "Área                    object\n",
      "Quadrante                int64\n",
      "Número                 float64\n",
      "Família                 object\n",
      "Gênero                  object\n",
      "Espécie                 object\n",
      "Altura (cm)            float64\n",
      "Dap (mm)                object\n",
      "Coletada                object\n",
      "Nativa                  object\n",
      "Estágio sucessional     object\n",
      "Obs                     object\n",
      "Identificação           object\n",
      "dtype: object\n"
     ]
    }
   ],
   "source": [
    "#tipos de dados das colunas\n",
    "print(df.dtypes)"
   ]
  },
  {
   "cell_type": "code",
   "execution_count": 58,
   "metadata": {},
   "outputs": [],
   "source": [
    "#Ajustando os tipos de dados\n",
    "\n",
    "df['Estágio sucessional'] = df['Estágio sucessional'].astype(str)\n",
    "df['Nativa'] = df['Nativa'].astype(str)\n",
    "df['Espécie'] = df['Espécie'].astype(str)\n",
    "df['Gênero'] = df['Gênero'].astype(str)\n",
    "df['Família'] = df['Família'].astype(str)\n",
    "df['Quadrante'] = df['Quadrante'].astype(str)\n",
    "df['Área'] = df['Área'].astype('category')\n",
    "df['Altura Palmeira (m)'] = df['Altura Palmeira (m)'].astype(str)\n",
    "df['Palmeira'] = df['Palmeira'].astype(str)\n",
    "df['Dap (mm)'] = df['Dap (mm)'].astype(str)\n",
    "\n",
    "#troca , por . no na coluna dap\n",
    "df['Dap (mm)'] = df['Dap (mm)'].apply(lambda x: x.replace(',', '.'))\n",
    "df['Dap (mm)'] = df['Dap (mm)'].astype('float64')\n",
    "\n"
   ]
  },
  {
   "cell_type": "code",
   "execution_count": 59,
   "metadata": {},
   "outputs": [
    {
     "name": "stdout",
     "output_type": "stream",
     "text": [
      "Data                     object\n",
      "Palmeira                 object\n",
      "Altura Palmeira (m)      object\n",
      "Área                   category\n",
      "Quadrante                object\n",
      "Número                  float64\n",
      "Família                  object\n",
      "Gênero                   object\n",
      "Espécie                  object\n",
      "Altura (cm)             float64\n",
      "Dap (mm)                float64\n",
      "Coletada                 object\n",
      "Nativa                   object\n",
      "Estágio sucessional      object\n",
      "Obs                      object\n",
      "Identificação            object\n",
      "dtype: object\n"
     ]
    }
   ],
   "source": [
    "#tipos de dados ajustados\n",
    "print(df.dtypes)"
   ]
  },
  {
   "cell_type": "code",
   "execution_count": 60,
   "metadata": {},
   "outputs": [
    {
     "data": {
      "text/html": [
       "<div>\n",
       "<style scoped>\n",
       "    .dataframe tbody tr th:only-of-type {\n",
       "        vertical-align: middle;\n",
       "    }\n",
       "\n",
       "    .dataframe tbody tr th {\n",
       "        vertical-align: top;\n",
       "    }\n",
       "\n",
       "    .dataframe thead th {\n",
       "        text-align: right;\n",
       "    }\n",
       "</style>\n",
       "<table border=\"1\" class=\"dataframe\">\n",
       "  <thead>\n",
       "    <tr style=\"text-align: right;\">\n",
       "      <th></th>\n",
       "      <th>Data</th>\n",
       "      <th>Palmeira</th>\n",
       "      <th>Altura Palmeira (m)</th>\n",
       "      <th>Área</th>\n",
       "      <th>Quadrante</th>\n",
       "      <th>Número</th>\n",
       "      <th>Família</th>\n",
       "      <th>Gênero</th>\n",
       "      <th>Espécie</th>\n",
       "      <th>Altura (cm)</th>\n",
       "      <th>Dap (mm)</th>\n",
       "      <th>Coletada</th>\n",
       "      <th>Nativa</th>\n",
       "      <th>Estágio sucessional</th>\n",
       "      <th>Obs</th>\n",
       "      <th>Identificação</th>\n",
       "    </tr>\n",
       "  </thead>\n",
       "  <tbody>\n",
       "    <tr>\n",
       "      <th>0</th>\n",
       "      <td>7/2/2020</td>\n",
       "      <td>6</td>\n",
       "      <td>6</td>\n",
       "      <td>Copa</td>\n",
       "      <td>1</td>\n",
       "      <td>4763.0</td>\n",
       "      <td>Sapindaceae</td>\n",
       "      <td>Cupania</td>\n",
       "      <td>Cupania oblongifolia</td>\n",
       "      <td>22.0</td>\n",
       "      <td>3.47</td>\n",
       "      <td>S</td>\n",
       "      <td>S</td>\n",
       "      <td>Secundária Inicial</td>\n",
       "      <td>NaN</td>\n",
       "      <td>OK</td>\n",
       "    </tr>\n",
       "    <tr>\n",
       "      <th>1</th>\n",
       "      <td>7/2/2020</td>\n",
       "      <td>6</td>\n",
       "      <td>6</td>\n",
       "      <td>Copa</td>\n",
       "      <td>2</td>\n",
       "      <td>NaN</td>\n",
       "      <td>nan</td>\n",
       "      <td>nan</td>\n",
       "      <td>nan</td>\n",
       "      <td>NaN</td>\n",
       "      <td>NaN</td>\n",
       "      <td>NaN</td>\n",
       "      <td>nan</td>\n",
       "      <td>nan</td>\n",
       "      <td>NaN</td>\n",
       "      <td>NaN</td>\n",
       "    </tr>\n",
       "    <tr>\n",
       "      <th>2</th>\n",
       "      <td>7/2/2020</td>\n",
       "      <td>6</td>\n",
       "      <td>6</td>\n",
       "      <td>Copa</td>\n",
       "      <td>3</td>\n",
       "      <td>NaN</td>\n",
       "      <td>nan</td>\n",
       "      <td>nan</td>\n",
       "      <td>nan</td>\n",
       "      <td>NaN</td>\n",
       "      <td>NaN</td>\n",
       "      <td>NaN</td>\n",
       "      <td>nan</td>\n",
       "      <td>nan</td>\n",
       "      <td>NaN</td>\n",
       "      <td>NaN</td>\n",
       "    </tr>\n",
       "    <tr>\n",
       "      <th>3</th>\n",
       "      <td>7/2/2020</td>\n",
       "      <td>6</td>\n",
       "      <td>6</td>\n",
       "      <td>Copa</td>\n",
       "      <td>4</td>\n",
       "      <td>4765.0</td>\n",
       "      <td>Meliaceae</td>\n",
       "      <td>Guarea</td>\n",
       "      <td>Guarea macrophylla</td>\n",
       "      <td>27.0</td>\n",
       "      <td>4.43</td>\n",
       "      <td>N</td>\n",
       "      <td>S</td>\n",
       "      <td>Secundária Inicial</td>\n",
       "      <td>NaN</td>\n",
       "      <td>OK</td>\n",
       "    </tr>\n",
       "    <tr>\n",
       "      <th>4</th>\n",
       "      <td>7/2/2020</td>\n",
       "      <td>6</td>\n",
       "      <td>6</td>\n",
       "      <td>Copa</td>\n",
       "      <td>4</td>\n",
       "      <td>4767.0</td>\n",
       "      <td>Sapindaceae</td>\n",
       "      <td>Cupania</td>\n",
       "      <td>Cupania oblongifolia</td>\n",
       "      <td>20.0</td>\n",
       "      <td>3.00</td>\n",
       "      <td>S</td>\n",
       "      <td>S</td>\n",
       "      <td>Secundária Inicial</td>\n",
       "      <td>NaN</td>\n",
       "      <td>OK</td>\n",
       "    </tr>\n",
       "  </tbody>\n",
       "</table>\n",
       "</div>"
      ],
      "text/plain": [
       "       Data Palmeira Altura Palmeira (m)  Área Quadrante  Número      Família  \\\n",
       "0  7/2/2020        6                   6  Copa         1  4763.0  Sapindaceae   \n",
       "1  7/2/2020        6                   6  Copa         2     NaN          nan   \n",
       "2  7/2/2020        6                   6  Copa         3     NaN          nan   \n",
       "3  7/2/2020        6                   6  Copa         4  4765.0    Meliaceae   \n",
       "4  7/2/2020        6                   6  Copa         4  4767.0  Sapindaceae   \n",
       "\n",
       "    Gênero               Espécie  Altura (cm)  Dap (mm) Coletada Nativa  \\\n",
       "0  Cupania  Cupania oblongifolia         22.0      3.47        S      S   \n",
       "1      nan                   nan          NaN       NaN      NaN    nan   \n",
       "2      nan                   nan          NaN       NaN      NaN    nan   \n",
       "3   Guarea    Guarea macrophylla         27.0      4.43        N      S   \n",
       "4  Cupania  Cupania oblongifolia         20.0      3.00        S      S   \n",
       "\n",
       "  Estágio sucessional  Obs Identificação  \n",
       "0  Secundária Inicial  NaN            OK  \n",
       "1                 nan  NaN           NaN  \n",
       "2                 nan  NaN           NaN  \n",
       "3  Secundária Inicial  NaN            OK  \n",
       "4  Secundária Inicial  NaN            OK  "
      ]
     },
     "execution_count": 60,
     "metadata": {},
     "output_type": "execute_result"
    }
   ],
   "source": [
    "df.head()"
   ]
  },
  {
   "cell_type": "code",
   "execution_count": 61,
   "metadata": {},
   "outputs": [
    {
     "data": {
      "text/plain": [
       "(142, 16)"
      ]
     },
     "execution_count": 61,
     "metadata": {},
     "output_type": "execute_result"
    }
   ],
   "source": [
    "#new shape\n",
    "df.shape"
   ]
  },
  {
   "cell_type": "code",
   "execution_count": 62,
   "metadata": {},
   "outputs": [],
   "source": [
    "#Ajuste valores ausentes nas colunas Estágio Sucessional e Nativa \n",
    "df['Estágio sucessional'] =  df['Estágio sucessional'].apply(lambda x: x.replace('nan', 'indeterminado'))\n",
    "df['Estágio sucessional'] =  df['Estágio sucessional'].fillna('indeterminado')\n",
    "df['Nativa'] =  df['Nativa'].apply(lambda x: x.replace('nan', 'indeterminado'))\n",
    "df['Nativa'] =  df['Nativa'].fillna('indeterminado')"
   ]
  },
  {
   "cell_type": "code",
   "execution_count": 63,
   "metadata": {},
   "outputs": [],
   "source": [
    "#Ajustar Area externa para 'Entorno'\n",
    "df['Área'] =  df['Área'].apply(lambda x: x.replace('Externo', 'Entorno'))"
   ]
  },
  {
   "cell_type": "code",
   "execution_count": 64,
   "metadata": {},
   "outputs": [],
   "source": [
    "#Remove decimal do nome da palmeira e da altura da palmeira \n",
    "df['Palmeira'] = df['Palmeira'].apply(lambda x: x.split('.')[0]) \n",
    "df['Altura Palmeira (m)'] = df['Altura Palmeira (m)'].apply(lambda x: x.split('.')[0]) "
   ]
  },
  {
   "cell_type": "code",
   "execution_count": 65,
   "metadata": {},
   "outputs": [
    {
     "data": {
      "text/plain": [
       "Entorno    98\n",
       "Copa       44\n",
       "Name: Área, dtype: int64"
      ]
     },
     "execution_count": 65,
     "metadata": {},
     "output_type": "execute_result"
    }
   ],
   "source": [
    "#contar registros em cada grupo em estudo\n",
    "df['Área'].value_counts()"
   ]
  },
  {
   "cell_type": "code",
   "execution_count": 66,
   "metadata": {},
   "outputs": [
    {
     "data": {
      "text/plain": [
       "Entorno    98\n",
       "Copa       44\n",
       "Name: Área, dtype: int64"
      ]
     },
     "execution_count": 66,
     "metadata": {},
     "output_type": "execute_result"
    }
   ],
   "source": [
    "#Dataframe com quadrantes sem plantas (df_with_nan)\n",
    "df_with_nan= df.copy()\n",
    "#df_with_nan['Número'] =  df_with_nan['Número'].fillna(0)\n",
    "df_with_nan['Área'].value_counts()"
   ]
  },
  {
   "cell_type": "code",
   "execution_count": 67,
   "metadata": {},
   "outputs": [
    {
     "data": {
      "text/plain": [
       "Palmeira  Quadrante\n",
       "10        1            0\n",
       "          2            1\n",
       "          3            4\n",
       "          4            1\n",
       "6         1            1\n",
       "          2            0\n",
       "          3            0\n",
       "          4            2\n",
       "7         1            2\n",
       "          2            2\n",
       "          3            2\n",
       "          4            4\n",
       "8         1            3\n",
       "          2            5\n",
       "          3            3\n",
       "          4            3\n",
       "9         1            2\n",
       "          2            2\n",
       "          3            2\n",
       "          4            2\n",
       "Name: Número, dtype: int64"
      ]
     },
     "execution_count": 67,
     "metadata": {},
     "output_type": "execute_result"
    }
   ],
   "source": [
    "#quantidade de individuos nas parcelas da copa\n",
    "copa_with_nan = df_with_nan[df_with_nan['Área'] == 'Copa']\n",
    "abundancia_copa = copa_with_nan.groupby(['Palmeira','Quadrante'])['Número'].count() \n",
    "abundancia_copa"
   ]
  },
  {
   "cell_type": "code",
   "execution_count": 68,
   "metadata": {},
   "outputs": [],
   "source": [
    "#Percentual de individuos sob as copas\n",
    "total_parcelas_copa = abundancia_copa.count()\n",
    "copa_0_2 = (abundancia_copa[abundancia_copa < 3 ].count() / total_parcelas_copa) * 100\n",
    "copa_3_5 = (abundancia_copa[abundancia_copa[(abundancia_copa >= 3) & (abundancia_copa <6)]].count()/ total_parcelas_copa) * 100\n",
    "copa_6_8 = (abundancia_copa[abundancia_copa[(abundancia_copa > 6) ]].count() / total_parcelas_copa) * 100\n",
    "dados_copa = [copa_0_2,copa_3_5,copa_6_8]"
   ]
  },
  {
   "cell_type": "code",
   "execution_count": 69,
   "metadata": {},
   "outputs": [
    {
     "data": {
      "text/plain": [
       "Text(0.5,0,'Quantidade de regenerantes nas parcelas sob as copas')"
      ]
     },
     "execution_count": 69,
     "metadata": {},
     "output_type": "execute_result"
    },
    {
     "data": {
      "image/png": "[encoded data removed]",
      "text/plain": [
       "<Figure size 432x288 with 1 Axes>"
      ]
     },
     "metadata": {},
     "output_type": "display_data"
    }
   ],
   "source": [
    "legendas = ['0 a 2', '2 a 5', '6 ou mais']\n",
    "dados = dados_copa\n",
    "\n",
    "ax = plt.figure().gca()\n",
    "ax.bar(legendas,dados)\n",
    "plt.title (\"% regenerantes nas parcelas sob as copas\")\n",
    "plt.ylabel(\"%\")\n",
    "plt.xlabel(\"Quantidade de regenerantes nas parcelas sob as copas\")\n"
   ]
  },
  {
   "cell_type": "code",
   "execution_count": 70,
   "metadata": {},
   "outputs": [
    {
     "data": {
      "text/plain": [
       "Palmeira  Quadrante\n",
       "10        1             3\n",
       "          2             5\n",
       "          3             3\n",
       "          4             3\n",
       "6         1             5\n",
       "          2             6\n",
       "          3             4\n",
       "          4             5\n",
       "7         1            10\n",
       "          2             3\n",
       "          3             7\n",
       "          4             6\n",
       "8         1             3\n",
       "          2             9\n",
       "          3             7\n",
       "          4             3\n",
       "9         1             3\n",
       "          2             6\n",
       "          3             6\n",
       "          4             0\n",
       "Name: Número, dtype: int64"
      ]
     },
     "execution_count": 70,
     "metadata": {},
     "output_type": "execute_result"
    }
   ],
   "source": [
    "#quantidade de individuos nas parcelas no entorno\n",
    "entorno_with_nan = df_with_nan[df_with_nan['Área'] == 'Entorno']\n",
    "abundancia_entorno = entorno_with_nan.groupby(['Palmeira','Quadrante'])['Número'].count() \n",
    "abundancia_entorno"
   ]
  },
  {
   "cell_type": "code",
   "execution_count": 71,
   "metadata": {},
   "outputs": [],
   "source": [
    "#Percentual de invidiviudos nas parcelas do entorno\n",
    "total_parcelas_entorno = abundancia_entorno.count()\n",
    "entorno_0_2 = (abundancia_entorno[abundancia_entorno < 3 ].count() / total_parcelas_entorno) * 100\n",
    "entorno_3_5 = (abundancia_entorno[abundancia_entorno[(abundancia_entorno >= 3) & (abundancia_entorno <6)]].count() / total_parcelas_entorno) * 100\n",
    "entorno_6_14 =(abundancia_entorno[abundancia_entorno[(abundancia_entorno >= 6) ]].count() / total_parcelas_entorno) * 100\n",
    "dados_entorno = [entorno_0_2,entorno_3_5,entorno_6_14]"
   ]
  },
  {
   "cell_type": "code",
   "execution_count": 72,
   "metadata": {},
   "outputs": [
    {
     "data": {
      "text/plain": [
       "Text(0.5,0,'Quantidade de regenerantes nas parcelas do entorno')"
      ]
     },
     "execution_count": 72,
     "metadata": {},
     "output_type": "execute_result"
    },
    {
     "data": {
      "image/png": "[encoded data removed]",
      "text/plain": [
       "<Figure size 432x288 with 1 Axes>"
      ]
     },
     "metadata": {},
     "output_type": "display_data"
    }
   ],
   "source": [
    "legendas = ['0 a 2', '2 a 5', '6 ou mais']\n",
    "dados = dados_entorno\n",
    "\n",
    "ax = plt.figure().gca()\n",
    "ax.bar(legendas,dados)\n",
    "plt.title (\"% regenerantes nas parcelas no entorno\")\n",
    "plt.ylabel(\"%\")\n",
    "plt.xlabel(\"Quantidade de regenerantes nas parcelas do entorno\")\n"
   ]
  },
  {
   "cell_type": "code",
   "execution_count": 73,
   "metadata": {},
   "outputs": [
    {
     "name": "stdout",
     "output_type": "stream",
     "text": [
      "Statistics=0.929, p=0.146\n",
      "Grupo COPA tem distribuição normal (aceita H0)\n"
     ]
    }
   ],
   "source": [
    "#TESTES ESTATISTICOS DE NORMALIDADE E DISTRIBUIÇÃO DAS ALTURAS E DIAMETROS\n",
    "\n",
    "# 1 - Shapiro-Wilk Test (teste de normalidade) para os dados da copa\n",
    "stat, p = shapiro(abundancia_copa)\n",
    "print('Statistics=%.3f, p=%.3f' % (stat, p))\n",
    "\n",
    "# resultado\n",
    "alpha = 0.05\n",
    "if p > alpha:\n",
    "\tprint('Grupo COPA tem distribuição normal (aceita H0)')\n",
    "else:\n",
    "\tprint('Grupo COPA não tem distribuição normal (rejeita H0)')\n"
   ]
  },
  {
   "cell_type": "code",
   "execution_count": 74,
   "metadata": {},
   "outputs": [
    {
     "name": "stdout",
     "output_type": "stream",
     "text": [
      "Statistics=0.936, p=0.203\n",
      "Grupo ENTORNO tem distribuição normal (aceita H0)\n"
     ]
    }
   ],
   "source": [
    "# 2 - Shapiro-Wilk Test (teste de normalidade) para os dados do entorno\n",
    "stat, p = shapiro(abundancia_entorno)\n",
    "print('Statistics=%.3f, p=%.3f' % (stat, p))\n",
    "\n",
    "# resultado\n",
    "alpha = 0.05\n",
    "if p > alpha:\n",
    "    print('Grupo ENTORNO tem distribuição normal (aceita H0)')\n",
    "else:\n",
    "    print('Grupo ENTORNO não tem distribuição normal (rejeita H0)')"
   ]
  },
  {
   "cell_type": "code",
   "execution_count": 75,
   "metadata": {},
   "outputs": [
    {
     "name": "stdout",
     "output_type": "stream",
     "text": [
      "Statistics=53.500, p=0.000\n",
      "Diferentes distribuiçoes (rejeita H0), ou seja, existem diferenças significativas entre as duas condicoes\n"
     ]
    }
   ],
   "source": [
    "# 3 - Mann-Whitney test (dados com distribuicao nao normal)\n",
    "stat, p = mannwhitneyu(abundancia_copa, abundancia_entorno)\n",
    "print('Statistics=%.3f, p=%.3f' % (stat, p))\n",
    "\n",
    "#  resultado\n",
    "\n",
    "alpha = 0.05\n",
    "\n",
    "if p > alpha:\n",
    "\tprint('Mesma distribuição (aceita H0)')\n",
    "else:\n",
    "\tprint('Diferentes distribuiçoes (rejeita H0), ou seja, existem diferenças significativas entre as duas condicoes')"
   ]
  },
  {
   "cell_type": "code",
   "execution_count": 76,
   "metadata": {},
   "outputs": [
    {
     "data": {
      "text/plain": [
       "Entorno    97\n",
       "Copa       41\n",
       "Name: Área, dtype: int64"
      ]
     },
     "execution_count": 76,
     "metadata": {},
     "output_type": "execute_result"
    }
   ],
   "source": [
    "#Dataframe sem quadrantes e numeros nulos (df_without_nan)\n",
    "df_without_nan = df.copy()\n",
    "df_without_nan.dropna(subset=[ 'Número'], inplace=True)\n",
    "df_without_nan['Área'].value_counts()"
   ]
  },
  {
   "cell_type": "code",
   "execution_count": 77,
   "metadata": {},
   "outputs": [
    {
     "data": {
      "text/plain": [
       "Data                   41\n",
       "Palmeira               41\n",
       "Altura Palmeira (m)    41\n",
       "Área                   41\n",
       "Quadrante              41\n",
       "Número                 41\n",
       "Família                41\n",
       "Gênero                 41\n",
       "Espécie                41\n",
       "Altura (cm)            41\n",
       "Dap (mm)               41\n",
       "Coletada               41\n",
       "Nativa                 41\n",
       "Estágio sucessional    41\n",
       "Obs                     2\n",
       "Identificação           5\n",
       "dtype: int64"
      ]
     },
     "execution_count": 77,
     "metadata": {},
     "output_type": "execute_result"
    }
   ],
   "source": [
    "#contar registros em cada coluna - área da copa\n",
    "df_without_nan[df_without_nan['Área'] == 'Copa'].count()"
   ]
  },
  {
   "cell_type": "code",
   "execution_count": 78,
   "metadata": {},
   "outputs": [
    {
     "data": {
      "text/plain": [
       "Data                   97\n",
       "Palmeira               97\n",
       "Altura Palmeira (m)    97\n",
       "Área                   97\n",
       "Quadrante              97\n",
       "Número                 97\n",
       "Família                97\n",
       "Gênero                 97\n",
       "Espécie                97\n",
       "Altura (cm)            97\n",
       "Dap (mm)               97\n",
       "Coletada               97\n",
       "Nativa                 97\n",
       "Estágio sucessional    97\n",
       "Obs                    15\n",
       "Identificação          19\n",
       "dtype: int64"
      ]
     },
     "execution_count": 78,
     "metadata": {},
     "output_type": "execute_result"
    }
   ],
   "source": [
    "#contar registros em cada coluna - área do entorno\n",
    "df_without_nan[df_without_nan['Área'] == 'Entorno'].count()"
   ]
  },
  {
   "cell_type": "code",
   "execution_count": 79,
   "metadata": {},
   "outputs": [
    {
     "data": {
      "text/plain": [
       "Text(0,0.5,'Número de indivíduos')"
      ]
     },
     "execution_count": 79,
     "metadata": {},
     "output_type": "execute_result"
    },
    {
     "data": {
      "image/png": "[encoded data removed]",
      "text/plain": [
       "<Figure size 432x288 with 1 Axes>"
      ]
     },
     "metadata": {},
     "output_type": "display_data"
    }
   ],
   "source": [
    "#Gráfico de barras da area das especies da area da copa ordenadas de forma descendente\n",
    "plot_copa = df_without_nan[df_without_nan['Área'] == 'Copa']\n",
    "plot_copa =  plot_copa[~plot_copa['Espécie'].isin(['Pendente'] )]\n",
    "plot_copa = plot_copa.groupby('Espécie')['Número'].count() \n",
    "plot_copa = plot_copa[plot_copa > 0]\n",
    "plot_copa = plot_copa.sort_values(ascending = False)\n",
    "\n",
    "ax = plt.figure().gca()\n",
    "ax = plot_copa.plot.bar()\n",
    "ax.yaxis.set_major_locator(MaxNLocator(integer=True))\n",
    "plt.xticks(fontstyle='italic')\n",
    "plt.title (\"Espécies na Copa\")\n",
    "plt.ylabel(\"Número de indivíduos\")"
   ]
  },
  {
   "cell_type": "code",
   "execution_count": 80,
   "metadata": {},
   "outputs": [
    {
     "data": {
      "text/plain": [
       "Text(0,0.5,'Número de indivíduos')"
      ]
     },
     "execution_count": 80,
     "metadata": {},
     "output_type": "execute_result"
    },
    {
     "data": {
      "image/png": "[encoded data removed]",
      "text/plain": [
       "<Figure size 432x288 with 1 Axes>"
      ]
     },
     "metadata": {},
     "output_type": "display_data"
    }
   ],
   "source": [
    "#Gráfico de barras da area das especies da area do entorno ordenadas de forma descendente\n",
    "plot_entorno = df_without_nan[['Área','Espécie','Número']]\n",
    "plot_entorno= plot_entorno[plot_entorno['Área'] == 'Entorno']\n",
    "plot_entorno = plot_entorno.groupby('Espécie')['Número'].count()\n",
    "plot_entorno = plot_entorno[ plot_entorno > 0 ]\n",
    "plot_entorno = plot_entorno.sort_values(ascending = False)\n",
    "\n",
    "ax = plt.figure().gca()\n",
    "ax = plot_entorno.plot.bar()\n",
    "ax.yaxis.set_major_locator(MaxNLocator(integer=True))\n",
    "plt.xticks(fontstyle='italic')\n",
    "plt.title (\"Espécies no Entorno\")\n",
    "plt.ylabel(\"Número de indivíduos\")"
   ]
  },
  {
   "cell_type": "code",
   "execution_count": 81,
   "metadata": {},
   "outputs": [
    {
     "data": {
      "image/png": "[encoded data removed]",
      "text/plain": [
       "<Figure size 360x360 with 1 Axes>"
      ]
     },
     "metadata": {},
     "output_type": "display_data"
    }
   ],
   "source": [
    "#Percentual de indivíduos arbóreos regenerantes sob a copa de palmeiras Livistona chinensis de 3 m de altura e no entorno delas.\n",
    "\n",
    "regenerantes_por_area = df_without_nan[~df_without_nan['Espécie'].isin(['Pendente'] )]\n",
    "regenerantes_por_area = regenerantes_por_area.groupby('Área', as_index=False)['Número'].count() \n",
    "regenerantes_por_area = regenerantes_por_area[regenerantes_por_area > 0]\n",
    "regenerantes_por_area = regenerantes_por_area.dropna()\n",
    "\n",
    "labels = regenerantes_por_area['Área'].tolist()\n",
    "\n",
    "sizes =  regenerantes_por_area['Número'].tolist()\n",
    "\n",
    "explode = [0.1, 0.1]\n",
    "\n",
    "colors = ['#FFA500', '#FF0000']\n",
    "\n",
    "fig, ax = plt.subplots(figsize=(5, 5))\n",
    "ax.axis('equal')\n",
    "\n",
    "pie = ax.pie(sizes, explode=explode, colors=colors,\n",
    "             autopct='%1.2f%%', pctdistance =0.80,textprops=dict(color=\"black\"))\n",
    "\n",
    "plt.legend(pie[0], labels, bbox_to_anchor=(1.5,0.5), loc=\"right\")\n",
    "\n",
    "plt.show()"
   ]
  },
  {
   "cell_type": "code",
   "execution_count": 82,
   "metadata": {},
   "outputs": [
    {
     "name": "stderr",
     "output_type": "stream",
     "text": [
      "/home/tania/anaconda3/lib/python3.6/site-packages/ipykernel_launcher.py:3: UserWarning: Boolean Series key will be reindexed to match DataFrame index.\n",
      "  This is separate from the ipykernel package so we can avoid doing imports until\n"
     ]
    },
    {
     "data": {
      "image/png": "[encoded data removed]",
      "text/plain": [
       "<Figure size 360x360 with 1 Axes>"
      ]
     },
     "metadata": {},
     "output_type": "display_data"
    }
   ],
   "source": [
    "#Proporção de indivíduos arbóreos regenerantes nativos e exóticos sob as copas de palmeiras Livistona chinensis de 3 m de altura e no entorno delas.\n",
    "regenerantes_por_origem = df_without_nan[df_without_nan['Área'] == 'Copa']\n",
    "regenerantes_por_origem = regenerantes_por_origem[~df['Espécie'].isin(['Pendente'] )]\n",
    "regenerantes_por_origem = regenerantes_por_origem.groupby('Nativa', as_index=False)['Número'].count() \n",
    "regenerantes_por_origem = regenerantes_por_origem[regenerantes_por_origem > 0]\n",
    "regenerantes_por_origem = regenerantes_por_origem.dropna()\n",
    "\n",
    "labels = ['Exótico', 'Nativo', 'Não Classificado']\n",
    "\n",
    "sizes =  regenerantes_por_origem['Número'].tolist()\n",
    "\n",
    "explode = [0.1, 0.1, 0.1]\n",
    "\n",
    "colors = ['#FFA500', '#FF0000', '#BBB100']\n",
    "\n",
    "fig, ax = plt.subplots(figsize=(5, 5))\n",
    "ax.axis('equal')\n",
    "\n",
    "pie = ax.pie(sizes, explode=explode, colors=colors,\n",
    "             autopct='%1.2f%%', pctdistance =0.80,textprops=dict(color=\"black\"))\n",
    "\n",
    "plt.legend(pie[0], labels, bbox_to_anchor=(1.5,0.5), loc=\"right\")\n",
    "\n",
    "plt.show()"
   ]
  },
  {
   "cell_type": "code",
   "execution_count": 83,
   "metadata": {},
   "outputs": [
    {
     "name": "stderr",
     "output_type": "stream",
     "text": [
      "/home/tania/anaconda3/lib/python3.6/site-packages/ipykernel_launcher.py:3: UserWarning: Boolean Series key will be reindexed to match DataFrame index.\n",
      "  This is separate from the ipykernel package so we can avoid doing imports until\n"
     ]
    },
    {
     "data": {
      "image/png": "[encoded data removed]",
      "text/plain": [
       "<Figure size 360x360 with 1 Axes>"
      ]
     },
     "metadata": {},
     "output_type": "display_data"
    }
   ],
   "source": [
    "#Proporção de indivíduos arbóreos regenerantes nativos e exóticos no entorno palmeiras Livistona chinensis de 3 m de altura e no entorno delas.\n",
    "regenerantes_por_origem = df_without_nan[df_without_nan['Área'] == 'Entorno']\n",
    "regenerantes_por_origem = regenerantes_por_origem[~df['Espécie'].isin(['Pendente'] )]\n",
    "regenerantes_por_origem = regenerantes_por_origem.groupby('Nativa', as_index=False)['Número'].count() \n",
    "regenerantes_por_origem = regenerantes_por_origem[regenerantes_por_origem > 0]\n",
    "regenerantes_por_origem = regenerantes_por_origem.dropna()\n",
    "\n",
    "labels = ['Exótico', 'Nativo', 'Não Classificado']\n",
    "\n",
    "sizes =  regenerantes_por_origem['Número'].tolist()\n",
    "\n",
    "explode = [0.1, 0.1, 0.1]\n",
    "\n",
    "colors = ['#FFA500', '#FF0000', '#BBB100']\n",
    "\n",
    "fig, ax = plt.subplots(figsize=(5, 5))\n",
    "ax.axis('equal')\n",
    "\n",
    "pie = ax.pie(sizes, explode=explode, colors=colors,\n",
    "             autopct='%1.2f%%', pctdistance =0.80,textprops=dict(color=\"black\"))\n",
    "\n",
    "plt.legend(pie[0], labels, bbox_to_anchor=(1.5,0.5), loc=\"right\")\n",
    "\n",
    "plt.show()"
   ]
  },
  {
   "cell_type": "code",
   "execution_count": 84,
   "metadata": {},
   "outputs": [
    {
     "name": "stderr",
     "output_type": "stream",
     "text": [
      "/home/tania/anaconda3/lib/python3.6/site-packages/ipykernel_launcher.py:3: UserWarning: Boolean Series key will be reindexed to match DataFrame index.\n",
      "  This is separate from the ipykernel package so we can avoid doing imports until\n"
     ]
    },
    {
     "data": {
      "image/png": "[encoded data removed]",
      "text/plain": [
       "<Figure size 360x360 with 1 Axes>"
      ]
     },
     "metadata": {},
     "output_type": "display_data"
    }
   ],
   "source": [
    " #Proporção de indivíduos arbóreos regenerantes na COPA por ESTAGIO SUCESSIONAL\n",
    "regenerantes_por_estagio = df_without_nan[df_without_nan['Área'] == 'Copa']\n",
    "regenerantes_por_estagio = regenerantes_por_estagio[~df['Espécie'].isin(['Pendente'] )]\n",
    "regenerantes_por_estagio = regenerantes_por_estagio.groupby('Estágio sucessional', as_index=False)['Número'].count() \n",
    "regenerantes_por_estagio = regenerantes_por_estagio[regenerantes_por_estagio > 0]\n",
    "regenerantes_por_estagio = regenerantes_por_estagio.dropna()\n",
    "\n",
    "labels = regenerantes_por_estagio['Estágio sucessional'].tolist()\n",
    "\n",
    "sizes =  regenerantes_por_estagio['Número'].tolist()\n",
    "labels\n",
    "explode = [0.1, 0.1, 0.1, 0.1]\n",
    "\n",
    "colors = ['#FFA500', '#FF0000', '#BBB100',  '#ACF400']\n",
    "\n",
    "fig, ax = plt.subplots(figsize=(5, 5))\n",
    "ax.axis('equal')\n",
    "\n",
    "pie = ax.pie(sizes, explode=explode, colors=colors,\n",
    "             autopct='%1.2f%%', pctdistance =0.80,textprops=dict(color=\"black\"))\n",
    "\n",
    "plt.legend(pie[0], labels, bbox_to_anchor=(1.5,0.5), loc=\"right\")\n",
    "\n",
    "plt.show()"
   ]
  },
  {
   "cell_type": "code",
   "execution_count": 85,
   "metadata": {},
   "outputs": [
    {
     "data": {
      "text/plain": [
       "['Não Classificada', 'Secundária Inicial', 'Secundária Tardia', 'Umbrófila']"
      ]
     },
     "execution_count": 85,
     "metadata": {},
     "output_type": "execute_result"
    }
   ],
   "source": [
    "labels"
   ]
  },
  {
   "cell_type": "code",
   "execution_count": 93,
   "metadata": {},
   "outputs": [
    {
     "name": "stderr",
     "output_type": "stream",
     "text": [
      "/home/tania/anaconda3/lib/python3.6/site-packages/ipykernel_launcher.py:3: UserWarning: Boolean Series key will be reindexed to match DataFrame index.\n",
      "  This is separate from the ipykernel package so we can avoid doing imports until\n"
     ]
    },
    {
     "data": {
      "image/png": "[encoded data removed]",
      "text/plain": [
       "<Figure size 360x360 with 1 Axes>"
      ]
     },
     "metadata": {},
     "output_type": "display_data"
    }
   ],
   "source": [
    " #Proporção de indivíduos arbóreos regenerantes Pioneiros e Não Pioneiros no entorno de palmeiras Livistona chinensis de 3 m de altura e no entorno delas.\n",
    "regenerantes_por_estagio = df_without_nan[df_without_nan['Área'] == 'Entorno']\n",
    "regenerantes_por_estagio = regenerantes_por_estagio[~df['Espécie'].isin(['Pendente'] )]\n",
    "regenerantes_por_estagio = regenerantes_por_estagio.groupby('Estágio sucessional', as_index=False)['Número'].count() \n",
    "regenerantes_por_estagio = regenerantes_por_estagio[regenerantes_por_estagio > 0]\n",
    "regenerantes_por_estagio = regenerantes_por_estagio.dropna()\n",
    "\n",
    "labels = regenerantes_por_estagio['Estágio sucessional'].tolist()\n",
    "\n",
    "sizes =  regenerantes_por_estagio['Número'].tolist()\n",
    "\n",
    "explode = [0.1, 0.1, 0.1, 0.1]\n",
    "\n",
    "colors = ['#FFA500', '#FF0000', '#BBB100',  '#ACF400']\n",
    "\n",
    "fig, ax = plt.subplots(figsize=(5, 5))\n",
    "ax.axis('equal')\n",
    "\n",
    "pie = ax.pie(sizes, explode=explode, colors=colors,\n",
    "             autopct='%1.2f%%', pctdistance =0.80,textprops=dict(color=\"black\"))\n",
    "\n",
    "plt.legend(pie[0], labels, bbox_to_anchor=(1.5,0.5), loc=\"right\")\n",
    "\n",
    "plt.show()"
   ]
  },
  {
   "cell_type": "code",
   "execution_count": 94,
   "metadata": {},
   "outputs": [
    {
     "data": {
      "text/plain": [
       "['Não Classificada', 'Secundária Inicial', 'Secundária Tardia', 'Umbrófila']"
      ]
     },
     "execution_count": 94,
     "metadata": {},
     "output_type": "execute_result"
    }
   ],
   "source": [
    "labels"
   ]
  },
  {
   "cell_type": "code",
   "execution_count": 95,
   "metadata": {},
   "outputs": [],
   "source": [
    "#Distribuição das espécies  regenerantes\n",
    "\n",
    "#especies copa\n",
    "all_copa = df_without_nan[df_without_nan['Área'] == 'Copa']\n",
    "all_copa = all_copa[~all_copa['Espécie'].isin(['Pendente'] )]\n",
    "all_copa = all_copa['Espécie']\n",
    "all_copa = all_copa.drop_duplicates()\n",
    "\n",
    "#especies entorno\n",
    "all_entorno = df_without_nan[df_without_nan['Área'] == 'Entorno']\n",
    "all_entorno = all_entorno[~all_entorno['Espécie'].isin(['Pendente'] )]\n",
    "all_entorno = all_entorno['Espécie']\n",
    "all_entorno = all_entorno.drop_duplicates()\n",
    "\n",
    "#especies comuns nos dois grupos                     \n",
    "comum_copa_entorno = all_copa[all_copa.isin(all_entorno)]\n",
    "\n",
    "#especies exclusivas de determinada area\n",
    "only_copa =  all_copa[~all_copa.isin(comum_copa_entorno)]\n",
    "only_entorno =  all_entorno[~all_entorno.isin(comum_copa_entorno)]\n"
   ]
  },
  {
   "cell_type": "code",
   "execution_count": 96,
   "metadata": {},
   "outputs": [
    {
     "data": {
      "text/plain": [
       "3        Guarea macrophylla\n",
       "67     Eugenia brasiliensis\n",
       "139               Citrus sp\n",
       "Name: Espécie, dtype: object"
      ]
     },
     "execution_count": 96,
     "metadata": {},
     "output_type": "execute_result"
    }
   ],
   "source": [
    "#apenas copa\n",
    "\n",
    "only_copa"
   ]
  },
  {
   "cell_type": "code",
   "execution_count": 97,
   "metadata": {},
   "outputs": [
    {
     "data": {
      "text/plain": [
       "9          Mollinedia uleana\n",
       "10         Allophylus edulis\n",
       "12                Solanum sp\n",
       "16         Ficus obtusifolia\n",
       "20        Sloanea guianensis\n",
       "56    Eugenia supraaxillaris\n",
       "Name: Espécie, dtype: object"
      ]
     },
     "execution_count": 97,
     "metadata": {},
     "output_type": "execute_result"
    }
   ],
   "source": [
    "#apenas entorno\n",
    "only_entorno"
   ]
  },
  {
   "cell_type": "code",
   "execution_count": 98,
   "metadata": {},
   "outputs": [
    {
     "data": {
      "text/plain": [
       "0               Cupania oblongifolia\n",
       "25                    Coffea arabica\n",
       "26                    Euterpe edulis\n",
       "30    Archontophoenix cunninghamiana\n",
       "34              Psychotria suterella\n",
       "62                Sorocea bonplandii\n",
       "63              Myrciaria floribunda\n",
       "Name: Espécie, dtype: object"
      ]
     },
     "execution_count": 98,
     "metadata": {},
     "output_type": "execute_result"
    }
   ],
   "source": [
    "#especies em comum\n",
    "comum_copa_entorno"
   ]
  },
  {
   "cell_type": "code",
   "execution_count": 99,
   "metadata": {},
   "outputs": [
    {
     "data": {
      "text/html": [
       "<div>\n",
       "<style scoped>\n",
       "    .dataframe tbody tr th:only-of-type {\n",
       "        vertical-align: middle;\n",
       "    }\n",
       "\n",
       "    .dataframe tbody tr th {\n",
       "        vertical-align: top;\n",
       "    }\n",
       "\n",
       "    .dataframe thead th {\n",
       "        text-align: right;\n",
       "    }\n",
       "</style>\n",
       "<table border=\"1\" class=\"dataframe\">\n",
       "  <thead>\n",
       "    <tr style=\"text-align: right;\">\n",
       "      <th></th>\n",
       "      <th>Área</th>\n",
       "      <th>Quantidade</th>\n",
       "    </tr>\n",
       "  </thead>\n",
       "  <tbody>\n",
       "    <tr>\n",
       "      <th>0</th>\n",
       "      <td>Copa</td>\n",
       "      <td>3</td>\n",
       "    </tr>\n",
       "    <tr>\n",
       "      <th>0</th>\n",
       "      <td>Entorno</td>\n",
       "      <td>6</td>\n",
       "    </tr>\n",
       "    <tr>\n",
       "      <th>0</th>\n",
       "      <td>Ambos</td>\n",
       "      <td>7</td>\n",
       "    </tr>\n",
       "  </tbody>\n",
       "</table>\n",
       "</div>"
      ],
      "text/plain": [
       "      Área  Quantidade\n",
       "0     Copa           3\n",
       "0  Entorno           6\n",
       "0    Ambos           7"
      ]
     },
     "execution_count": 99,
     "metadata": {},
     "output_type": "execute_result"
    }
   ],
   "source": [
    "#merge\n",
    "only_copa_qtd = pd.DataFrame({'Área': ['Copa'],\n",
    "                        'Quantidade': [only_copa.count()] })\n",
    "\n",
    "only_entorno_qtd = pd.DataFrame({'Área': ['Entorno'],\n",
    "                        'Quantidade': [only_entorno.count()] })\n",
    "\n",
    "comum_copa_entorno_qtd = pd.DataFrame({'Área': ['Ambos'],\n",
    "                        'Quantidade': [comum_copa_entorno.count()] })\n",
    "\n",
    "merge = [only_copa_qtd,only_entorno_qtd, comum_copa_entorno_qtd]\n",
    "resultado_merge = pd.concat(merge)\n",
    "\n",
    "resultado_merge"
   ]
  },
  {
   "cell_type": "code",
   "execution_count": 100,
   "metadata": {},
   "outputs": [
    {
     "data": {
      "image/png": "[encoded data removed]",
      "text/plain": [
       "<Figure size 360x360 with 1 Axes>"
      ]
     },
     "metadata": {},
     "output_type": "display_data"
    }
   ],
   "source": [
    "#grafico\n",
    "\n",
    "labels = resultado_merge['Área'].tolist()\n",
    "\n",
    "sizes =  resultado_merge['Quantidade'].tolist()\n",
    "\n",
    "explode = [0.1, 0.1, 0.1]\n",
    "\n",
    "colors = ['#FFA500', '#FF0000', '#BBB100']\n",
    "\n",
    "fig, ax = plt.subplots(figsize=(5, 5))\n",
    "ax.axis('equal')\n",
    "\n",
    "pie = ax.pie(sizes, explode=explode, colors=colors,\n",
    "             autopct='%1.2f%%', pctdistance =0.80,textprops=dict(color=\"black\"))\n",
    "\n",
    "plt.legend(pie[0], labels, bbox_to_anchor=(1.5,0.5), loc=\"right\")\n",
    "\n",
    "plt.show()"
   ]
  },
  {
   "cell_type": "code",
   "execution_count": 101,
   "metadata": {},
   "outputs": [
    {
     "data": {
      "text/html": [
       "<div>\n",
       "<style scoped>\n",
       "    .dataframe tbody tr th:only-of-type {\n",
       "        vertical-align: middle;\n",
       "    }\n",
       "\n",
       "    .dataframe tbody tr th {\n",
       "        vertical-align: top;\n",
       "    }\n",
       "\n",
       "    .dataframe thead th {\n",
       "        text-align: right;\n",
       "    }\n",
       "</style>\n",
       "<table border=\"1\" class=\"dataframe\">\n",
       "  <thead>\n",
       "    <tr style=\"text-align: right;\">\n",
       "      <th></th>\n",
       "      <th>Área</th>\n",
       "      <th>Quantidade</th>\n",
       "    </tr>\n",
       "  </thead>\n",
       "  <tbody>\n",
       "    <tr>\n",
       "      <th>0</th>\n",
       "      <td>Copa</td>\n",
       "      <td>40</td>\n",
       "    </tr>\n",
       "    <tr>\n",
       "      <th>0</th>\n",
       "      <td>Entorno</td>\n",
       "      <td>82</td>\n",
       "    </tr>\n",
       "  </tbody>\n",
       "</table>\n",
       "</div>"
      ],
      "text/plain": [
       "      Área  Quantidade\n",
       "0     Copa          40\n",
       "0  Entorno          82"
      ]
     },
     "execution_count": 101,
     "metadata": {},
     "output_type": "execute_result"
    }
   ],
   "source": [
    "#Proporcao de individuos regenerantes na copa e no entorno \n",
    "\n",
    "#copa\n",
    "copa_total = df_without_nan[df_without_nan['Área'] == 'Copa']\n",
    "copa_total = copa_total[~copa_total['Espécie'].isin(['Pendente'] )]\n",
    "copa_total = copa_total[['Espécie','Número', 'Área']]\n",
    "\n",
    "copa_total_consolidada = pd.DataFrame({'Área': ['Copa'],\n",
    "                        'Quantidade': [copa_total['Número'].count()] })\n",
    "\n",
    "#entorno\n",
    "entorno_total = df[df['Área'] == 'Entorno']\n",
    "entorno_total = entorno_total[~entorno_total['Espécie'].isin(['Pendente'] )]\n",
    "entorno_total = entorno_total[['Espécie','Número', 'Área']]\n",
    "\n",
    "entorno_total_consolidado = pd.DataFrame({'Área': ['Entorno'],\n",
    "                        'Quantidade': [entorno_total['Número'].count()] })\n",
    "\n",
    "merge = [copa_total_consolidada, entorno_total_consolidado]\n",
    "resultado_merge = pd.concat(merge)\n",
    "\n",
    "resultado_merge\n"
   ]
  },
  {
   "cell_type": "code",
   "execution_count": 102,
   "metadata": {},
   "outputs": [
    {
     "data": {
      "image/png": "[encoded data removed]",
      "text/plain": [
       "<Figure size 360x360 with 1 Axes>"
      ]
     },
     "metadata": {},
     "output_type": "display_data"
    }
   ],
   "source": [
    "#Grafico\n",
    "\n",
    "labels = resultado_merge['Área'].tolist()\n",
    "\n",
    "sizes =  resultado_merge['Quantidade'].tolist()\n",
    "\n",
    "explode = [0.1, 0.1]\n",
    "\n",
    "colors = ['#FFA500', '#FF0000']\n",
    "\n",
    "fig, ax = plt.subplots(figsize=(5, 5))\n",
    "ax.axis('equal')\n",
    "\n",
    "pie = ax.pie(sizes, explode=explode, colors=colors,\n",
    "             autopct='%1.2f%%', pctdistance =0.80,textprops=dict(color=\"black\"))\n",
    "\n",
    "plt.legend(pie[0], labels, bbox_to_anchor=(1.5,0.5), loc=\"right\")\n",
    "\n",
    "plt.show()"
   ]
  },
  {
   "cell_type": "code",
   "execution_count": 103,
   "metadata": {},
   "outputs": [],
   "source": [
    "#TESTES ESTATISTICOS\n",
    "#Para as distribuicoes de altura e diametro das especies C.oblongifolia, C. arabica e E. edulis nas copas e no entorno"
   ]
  },
  {
   "cell_type": "code",
   "execution_count": 104,
   "metadata": {},
   "outputs": [],
   "source": [
    "selected_species = df_without_nan[(df_without_nan['Espécie'] == 'Cupania oblongifolia') | \n",
    "                            (df_without_nan['Espécie'] == 'Coffea arabica') | \n",
    "                            (df_without_nan['Espécie'] == 'Euterpe edulis') ]\n",
    "\n",
    "selected_species_copa = selected_species[selected_species['Área'] == 'Copa']\n",
    "\n",
    "selected_species_entorno = selected_species[selected_species['Área'] == 'Entorno']"
   ]
  },
  {
   "cell_type": "code",
   "execution_count": 105,
   "metadata": {},
   "outputs": [
    {
     "name": "stdout",
     "output_type": "stream",
     "text": [
      "Statistics=0.483, p=0.000\n",
      "Grupo COPA não tem distribuição normal  para dados de ALTURA (rejeita H0)\n"
     ]
    }
   ],
   "source": [
    "# 1 - Shapiro-Wilk Test (teste de normalidade) para os dados de ALTURA dos regenerantes sob COPAS\n",
    "stat, p = shapiro(selected_species_copa['Altura (cm)'])\n",
    "print('Statistics=%.3f, p=%.3f' % (stat, p))\n",
    "\n",
    "# resultado\n",
    "alpha = 0.05\n",
    "if p > alpha:\n",
    "    print('Grupo COPA tem distribuição normal  para dados de ALTURA (aceita H0)')\n",
    "else:\n",
    "    print('Grupo COPA não tem distribuição normal  para dados de ALTURA (rejeita H0)')"
   ]
  },
  {
   "cell_type": "code",
   "execution_count": 106,
   "metadata": {},
   "outputs": [
    {
     "name": "stdout",
     "output_type": "stream",
     "text": [
      "Statistics=0.626, p=0.000\n",
      "Grupo ENTORNO não tem distribuição normal para dados de ALTURA (rejeita H0)\n"
     ]
    }
   ],
   "source": [
    "# 1 - Shapiro-Wilk Test (teste de normalidade) para os dados de ALTURA dos regenerantes no ENTORNO\n",
    "stat, p = shapiro(selected_species_entorno['Altura (cm)'])\n",
    "print('Statistics=%.3f, p=%.3f' % (stat, p))\n",
    "\n",
    "# resultado\n",
    "alpha = 0.05\n",
    "if p > alpha:\n",
    "    print('Grupo ENTORNO tem distribuição normal  para dados de ALTURA (aceita H0)')\n",
    "else:\n",
    "    print('Grupo ENTORNO não tem distribuição normal para dados de ALTURA (rejeita H0)')"
   ]
  },
  {
   "cell_type": "code",
   "execution_count": 107,
   "metadata": {},
   "outputs": [
    {
     "name": "stdout",
     "output_type": "stream",
     "text": [
      "Statistics=727.000, p=0.106\n",
      "Mesma distribuição para ALTURA(aceita H0)\n"
     ]
    }
   ],
   "source": [
    "#Teste Man-Whitney para Altura\n",
    "stat, p = mannwhitneyu(selected_species_entorno['Altura (cm)'], selected_species_copa['Altura (cm)'])\n",
    "print('Statistics=%.3f, p=%.3f' % (stat, p))\n",
    "\n",
    "#  resultado\n",
    "\n",
    "alpha = 0.05\n",
    "\n",
    "if p > alpha:\n",
    "\tprint('Mesma distribuição para ALTURA(aceita H0)')\n",
    "else:\n",
    "\tprint('Diferentes distribuiçoes para ALTURA(rejeita H0), ou seja, existem diferenças significativas entre as duas condicoes')"
   ]
  },
  {
   "cell_type": "code",
   "execution_count": 108,
   "metadata": {},
   "outputs": [
    {
     "name": "stdout",
     "output_type": "stream",
     "text": [
      "Statistics=0.590, p=0.000\n",
      "Grupo COPA não tem distribuição normal para dados de DAP(rejeita H0)\n"
     ]
    }
   ],
   "source": [
    "# 1 - Shapiro-Wilk Test (teste de normalidade) para os dados de DAP dos regenerantes sob COPAS\n",
    "stat, p = shapiro(selected_species_copa['Dap (mm)'])\n",
    "print('Statistics=%.3f, p=%.3f' % (stat, p))\n",
    "\n",
    "# resultado\n",
    "alpha = 0.05\n",
    "if p > alpha:\n",
    "    print('Grupo COPA tem distribuição normal  para dados de DAP (aceita H0)')\n",
    "else:\n",
    "    print('Grupo COPA não tem distribuição normal para dados de DAP(rejeita H0)')"
   ]
  },
  {
   "cell_type": "code",
   "execution_count": 109,
   "metadata": {},
   "outputs": [
    {
     "name": "stdout",
     "output_type": "stream",
     "text": [
      "Statistics=0.750, p=0.000\n",
      "Grupo ENTORNO não tem distribuição normal para dados de DAP(rejeita H0)\n"
     ]
    }
   ],
   "source": [
    "# 1 - Shapiro-Wilk Test (teste de normalidade) para os dados de DAP dos regenerantes no ENTORNO\n",
    "stat, p = shapiro(selected_species_entorno['Dap (mm)'])\n",
    "print('Statistics=%.3f, p=%.3f' % (stat, p))\n",
    "\n",
    "# resultado\n",
    "alpha = 0.05\n",
    "if p > alpha:\n",
    "    print('Grupo ENTORNO tem distribuição normal  para dados de DAP (aceita H0)')\n",
    "else:\n",
    "    print('Grupo ENTORNO não tem distribuição normal para dados de DAP(rejeita H0)')"
   ]
  },
  {
   "cell_type": "code",
   "execution_count": 110,
   "metadata": {},
   "outputs": [
    {
     "name": "stdout",
     "output_type": "stream",
     "text": [
      "Statistics=798.500, p=0.270\n",
      "Mesma distribuição para DAP(aceita H0)\n"
     ]
    }
   ],
   "source": [
    "#Teste Man-Whitney para DAP\n",
    "stat, p = mannwhitneyu(selected_species_entorno['Dap (mm)'], selected_species_copa['Dap (mm)'])\n",
    "print('Statistics=%.3f, p=%.3f' % (stat, p))\n",
    "\n",
    "#  resultado\n",
    "\n",
    "alpha = 0.05\n",
    "\n",
    "if p > alpha:\n",
    "\tprint('Mesma distribuição para DAP(aceita H0)')\n",
    "else:\n",
    "\tprint('Diferentes distribuiçoes para DAP (rejeita H0), ou seja, existem diferenças significativas entre as duas condicoes')"
   ]
  },
  {
   "cell_type": "code",
   "execution_count": null,
   "metadata": {},
   "outputs": [],
   "source": []
  },
  {
   "cell_type": "code",
   "execution_count": null,
   "metadata": {},
   "outputs": [],
   "source": []
  },
  {
   "cell_type": "code",
   "execution_count": null,
   "metadata": {},
   "outputs": [],
   "source": []
  },
  {
   "cell_type": "code",
   "execution_count": null,
   "metadata": {},
   "outputs": [],
   "source": []
  },
  {
   "cell_type": "code",
   "execution_count": null,
   "metadata": {},
   "outputs": [],
   "source": []
  }
 ],
 "metadata": {
  "kernelspec": {
   "display_name": "Python 3",
   "language": "python",
   "name": "python3"
  },
  "language_info": {
   "codemirror_mode": {
    "name": "ipython",
    "version": 3
   },
   "file_extension": ".py",
   "mimetype": "text/x-python",
   "name": "python",
   "nbconvert_exporter": "python",
   "pygments_lexer": "ipython3",
   "version": "3.6.5"
  }
 },
 "nbformat": 4,
 "nbformat_minor": 2
}
