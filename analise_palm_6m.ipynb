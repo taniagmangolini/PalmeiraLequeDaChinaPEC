{
 "cells": [
  {
   "cell_type": "code",
   "execution_count": 1,
   "metadata": {},
   "outputs": [
    {
     "name": "stdout",
     "output_type": "stream",
     "text": [
      "Anaconda version: 1.6.14\n",
      "pandas version: 1.1.5\n",
      "numpy version: 1.19.2\n",
      "matplotlib version: 3.3.4\n"
     ]
    }
   ],
   "source": [
    "import pandas as pd\n",
    "import matplotlib\n",
    "import matplotlib.pyplot as plt\n",
    "from matplotlib.ticker import MaxNLocator\n",
    "import numpy as np\n",
    "\n",
    "print('Anaconda version: 1.6.14')\n",
    "print('pandas version:', pd.__version__)\n",
    "print('numpy version:', np.__version__)\n",
    "print('matplotlib version:', matplotlib.__version__)"
   ]
  },
  {
   "cell_type": "code",
   "execution_count": 2,
   "metadata": {},
   "outputs": [],
   "source": [
    "%matplotlib inline "
   ]
  },
  {
   "cell_type": "code",
   "execution_count": 3,
   "metadata": {},
   "outputs": [],
   "source": [
    "pd.options.display.max_columns = 37  # nr max de colunas exibidas"
   ]
  },
  {
   "cell_type": "code",
   "execution_count": 4,
   "metadata": {},
   "outputs": [],
   "source": [
    "# open csv file\n",
    "arquivo_csv = 'dados_6m.csv'\n",
    "\n",
    "original = pd.read_csv(arquivo_csv, ';')"
   ]
  },
  {
   "cell_type": "code",
   "execution_count": 5,
   "metadata": {},
   "outputs": [],
   "source": [
    "df = original.copy()"
   ]
  },
  {
   "cell_type": "code",
   "execution_count": 6,
   "metadata": {},
   "outputs": [
    {
     "data": {
      "text/plain": [
       "(1001, 35)"
      ]
     },
     "execution_count": 6,
     "metadata": {},
     "output_type": "execute_result"
    }
   ],
   "source": [
    "#linhas e colunas\n",
    "df.shape"
   ]
  },
  {
   "cell_type": "code",
   "execution_count": 7,
   "metadata": {},
   "outputs": [],
   "source": [
    "#TRATAMENTO DOS DADOS"
   ]
  },
  {
   "cell_type": "code",
   "execution_count": 8,
   "metadata": {},
   "outputs": [
    {
     "data": {
      "text/html": [
       "<div>\n",
       "<style scoped>\n",
       "    .dataframe tbody tr th:only-of-type {\n",
       "        vertical-align: middle;\n",
       "    }\n",
       "\n",
       "    .dataframe tbody tr th {\n",
       "        vertical-align: top;\n",
       "    }\n",
       "\n",
       "    .dataframe thead th {\n",
       "        text-align: right;\n",
       "    }\n",
       "</style>\n",
       "<table border=\"1\" class=\"dataframe\">\n",
       "  <thead>\n",
       "    <tr style=\"text-align: right;\">\n",
       "      <th></th>\n",
       "      <th>Data</th>\n",
       "      <th>Palmeira</th>\n",
       "      <th>Altura Palmeira (m)</th>\n",
       "      <th>Área</th>\n",
       "      <th>Quadrante</th>\n",
       "      <th>Número</th>\n",
       "      <th>Família</th>\n",
       "      <th>Gênero</th>\n",
       "      <th>Espécie</th>\n",
       "      <th>Altura (cm)</th>\n",
       "      <th>Dap (mm)</th>\n",
       "      <th>Nativa</th>\n",
       "      <th>Estágio sucessional</th>\n",
       "      <th>Obs</th>\n",
       "      <th>Unnamed: 14</th>\n",
       "      <th>Unnamed: 15</th>\n",
       "      <th>Unnamed: 16</th>\n",
       "      <th>Unnamed: 17</th>\n",
       "      <th>Unnamed: 18</th>\n",
       "      <th>Unnamed: 19</th>\n",
       "      <th>Unnamed: 20</th>\n",
       "      <th>Unnamed: 21</th>\n",
       "      <th>Unnamed: 22</th>\n",
       "      <th>Unnamed: 23</th>\n",
       "      <th>Unnamed: 24</th>\n",
       "      <th>Unnamed: 25</th>\n",
       "      <th>Unnamed: 26</th>\n",
       "      <th>Unnamed: 27</th>\n",
       "      <th>Unnamed: 28</th>\n",
       "      <th>Unnamed: 29</th>\n",
       "      <th>Unnamed: 30</th>\n",
       "      <th>Unnamed: 31</th>\n",
       "      <th>Unnamed: 32</th>\n",
       "      <th>Unnamed: 33</th>\n",
       "      <th>Unnamed: 34</th>\n",
       "    </tr>\n",
       "  </thead>\n",
       "  <tbody>\n",
       "    <tr>\n",
       "      <th>0</th>\n",
       "      <td>7/2/2020</td>\n",
       "      <td>6.0</td>\n",
       "      <td>6.0</td>\n",
       "      <td>Copa</td>\n",
       "      <td>1.0</td>\n",
       "      <td>4763.0</td>\n",
       "      <td>Sapindaceae</td>\n",
       "      <td>Cupania</td>\n",
       "      <td>Cupania oblongifolia</td>\n",
       "      <td>22.0</td>\n",
       "      <td>3,47</td>\n",
       "      <td>S</td>\n",
       "      <td>Secundária Inicial</td>\n",
       "      <td>NaN</td>\n",
       "      <td>NaN</td>\n",
       "      <td>NaN</td>\n",
       "      <td>NaN</td>\n",
       "      <td>NaN</td>\n",
       "      <td>NaN</td>\n",
       "      <td>NaN</td>\n",
       "      <td>NaN</td>\n",
       "      <td>NaN</td>\n",
       "      <td>NaN</td>\n",
       "      <td>NaN</td>\n",
       "      <td>NaN</td>\n",
       "      <td>NaN</td>\n",
       "      <td>NaN</td>\n",
       "      <td>NaN</td>\n",
       "      <td>NaN</td>\n",
       "      <td>NaN</td>\n",
       "      <td>NaN</td>\n",
       "      <td>NaN</td>\n",
       "      <td>NaN</td>\n",
       "      <td>NaN</td>\n",
       "      <td>NaN</td>\n",
       "    </tr>\n",
       "    <tr>\n",
       "      <th>1</th>\n",
       "      <td>7/2/2020</td>\n",
       "      <td>6.0</td>\n",
       "      <td>6.0</td>\n",
       "      <td>Copa</td>\n",
       "      <td>2.0</td>\n",
       "      <td>NaN</td>\n",
       "      <td>NaN</td>\n",
       "      <td>NaN</td>\n",
       "      <td>NaN</td>\n",
       "      <td>NaN</td>\n",
       "      <td>NaN</td>\n",
       "      <td>NaN</td>\n",
       "      <td>Não Classificada</td>\n",
       "      <td>NaN</td>\n",
       "      <td>NaN</td>\n",
       "      <td>NaN</td>\n",
       "      <td>NaN</td>\n",
       "      <td>NaN</td>\n",
       "      <td>NaN</td>\n",
       "      <td>NaN</td>\n",
       "      <td>NaN</td>\n",
       "      <td>NaN</td>\n",
       "      <td>NaN</td>\n",
       "      <td>NaN</td>\n",
       "      <td>NaN</td>\n",
       "      <td>NaN</td>\n",
       "      <td>NaN</td>\n",
       "      <td>NaN</td>\n",
       "      <td>NaN</td>\n",
       "      <td>NaN</td>\n",
       "      <td>NaN</td>\n",
       "      <td>NaN</td>\n",
       "      <td>NaN</td>\n",
       "      <td>NaN</td>\n",
       "      <td>NaN</td>\n",
       "    </tr>\n",
       "    <tr>\n",
       "      <th>2</th>\n",
       "      <td>7/2/2020</td>\n",
       "      <td>6.0</td>\n",
       "      <td>6.0</td>\n",
       "      <td>Copa</td>\n",
       "      <td>3.0</td>\n",
       "      <td>NaN</td>\n",
       "      <td>NaN</td>\n",
       "      <td>NaN</td>\n",
       "      <td>NaN</td>\n",
       "      <td>NaN</td>\n",
       "      <td>NaN</td>\n",
       "      <td>NaN</td>\n",
       "      <td>Não Classificada</td>\n",
       "      <td>NaN</td>\n",
       "      <td>NaN</td>\n",
       "      <td>NaN</td>\n",
       "      <td>NaN</td>\n",
       "      <td>NaN</td>\n",
       "      <td>NaN</td>\n",
       "      <td>NaN</td>\n",
       "      <td>NaN</td>\n",
       "      <td>NaN</td>\n",
       "      <td>NaN</td>\n",
       "      <td>NaN</td>\n",
       "      <td>NaN</td>\n",
       "      <td>NaN</td>\n",
       "      <td>NaN</td>\n",
       "      <td>NaN</td>\n",
       "      <td>NaN</td>\n",
       "      <td>NaN</td>\n",
       "      <td>NaN</td>\n",
       "      <td>NaN</td>\n",
       "      <td>NaN</td>\n",
       "      <td>NaN</td>\n",
       "      <td>NaN</td>\n",
       "    </tr>\n",
       "    <tr>\n",
       "      <th>3</th>\n",
       "      <td>7/2/2020</td>\n",
       "      <td>6.0</td>\n",
       "      <td>6.0</td>\n",
       "      <td>Copa</td>\n",
       "      <td>4.0</td>\n",
       "      <td>4765.0</td>\n",
       "      <td>Meliaceae</td>\n",
       "      <td>Guarea</td>\n",
       "      <td>Guarea macrophylla</td>\n",
       "      <td>27.0</td>\n",
       "      <td>4,43</td>\n",
       "      <td>S</td>\n",
       "      <td>Umbrófila</td>\n",
       "      <td>NaN</td>\n",
       "      <td>NaN</td>\n",
       "      <td>NaN</td>\n",
       "      <td>NaN</td>\n",
       "      <td>NaN</td>\n",
       "      <td>NaN</td>\n",
       "      <td>NaN</td>\n",
       "      <td>NaN</td>\n",
       "      <td>NaN</td>\n",
       "      <td>NaN</td>\n",
       "      <td>NaN</td>\n",
       "      <td>NaN</td>\n",
       "      <td>NaN</td>\n",
       "      <td>NaN</td>\n",
       "      <td>NaN</td>\n",
       "      <td>NaN</td>\n",
       "      <td>NaN</td>\n",
       "      <td>NaN</td>\n",
       "      <td>NaN</td>\n",
       "      <td>NaN</td>\n",
       "      <td>NaN</td>\n",
       "      <td>NaN</td>\n",
       "    </tr>\n",
       "    <tr>\n",
       "      <th>4</th>\n",
       "      <td>7/2/2020</td>\n",
       "      <td>6.0</td>\n",
       "      <td>6.0</td>\n",
       "      <td>Copa</td>\n",
       "      <td>4.0</td>\n",
       "      <td>4767.0</td>\n",
       "      <td>Sapindaceae</td>\n",
       "      <td>Cupania</td>\n",
       "      <td>Cupania oblongifolia</td>\n",
       "      <td>20.0</td>\n",
       "      <td>3</td>\n",
       "      <td>S</td>\n",
       "      <td>Secundária Inicial</td>\n",
       "      <td>NaN</td>\n",
       "      <td>NaN</td>\n",
       "      <td>NaN</td>\n",
       "      <td>NaN</td>\n",
       "      <td>NaN</td>\n",
       "      <td>NaN</td>\n",
       "      <td>NaN</td>\n",
       "      <td>NaN</td>\n",
       "      <td>NaN</td>\n",
       "      <td>NaN</td>\n",
       "      <td>NaN</td>\n",
       "      <td>NaN</td>\n",
       "      <td>NaN</td>\n",
       "      <td>NaN</td>\n",
       "      <td>NaN</td>\n",
       "      <td>NaN</td>\n",
       "      <td>NaN</td>\n",
       "      <td>NaN</td>\n",
       "      <td>NaN</td>\n",
       "      <td>NaN</td>\n",
       "      <td>NaN</td>\n",
       "      <td>NaN</td>\n",
       "    </tr>\n",
       "    <tr>\n",
       "      <th>5</th>\n",
       "      <td>7/2/2020</td>\n",
       "      <td>6.0</td>\n",
       "      <td>6.0</td>\n",
       "      <td>Externo</td>\n",
       "      <td>1.0</td>\n",
       "      <td>4769.0</td>\n",
       "      <td>Rubiaceae</td>\n",
       "      <td>Coffea</td>\n",
       "      <td>Coffea arabica</td>\n",
       "      <td>195.0</td>\n",
       "      <td>24,8</td>\n",
       "      <td>N</td>\n",
       "      <td>Umbrófila</td>\n",
       "      <td>NaN</td>\n",
       "      <td>NaN</td>\n",
       "      <td>NaN</td>\n",
       "      <td>NaN</td>\n",
       "      <td>NaN</td>\n",
       "      <td>NaN</td>\n",
       "      <td>NaN</td>\n",
       "      <td>NaN</td>\n",
       "      <td>NaN</td>\n",
       "      <td>NaN</td>\n",
       "      <td>NaN</td>\n",
       "      <td>NaN</td>\n",
       "      <td>NaN</td>\n",
       "      <td>NaN</td>\n",
       "      <td>NaN</td>\n",
       "      <td>NaN</td>\n",
       "      <td>NaN</td>\n",
       "      <td>NaN</td>\n",
       "      <td>NaN</td>\n",
       "      <td>NaN</td>\n",
       "      <td>NaN</td>\n",
       "      <td>NaN</td>\n",
       "    </tr>\n",
       "    <tr>\n",
       "      <th>6</th>\n",
       "      <td>7/2/2020</td>\n",
       "      <td>6.0</td>\n",
       "      <td>6.0</td>\n",
       "      <td>Externo</td>\n",
       "      <td>1.0</td>\n",
       "      <td>4770.0</td>\n",
       "      <td>Indeterminada 6</td>\n",
       "      <td>Indeterminada 6</td>\n",
       "      <td>Indeterminada 6</td>\n",
       "      <td>44.0</td>\n",
       "      <td>5,07</td>\n",
       "      <td>NaN</td>\n",
       "      <td>Não Classificada</td>\n",
       "      <td>NaN</td>\n",
       "      <td>NaN</td>\n",
       "      <td>NaN</td>\n",
       "      <td>NaN</td>\n",
       "      <td>NaN</td>\n",
       "      <td>NaN</td>\n",
       "      <td>NaN</td>\n",
       "      <td>NaN</td>\n",
       "      <td>NaN</td>\n",
       "      <td>NaN</td>\n",
       "      <td>NaN</td>\n",
       "      <td>NaN</td>\n",
       "      <td>NaN</td>\n",
       "      <td>NaN</td>\n",
       "      <td>NaN</td>\n",
       "      <td>NaN</td>\n",
       "      <td>NaN</td>\n",
       "      <td>NaN</td>\n",
       "      <td>NaN</td>\n",
       "      <td>NaN</td>\n",
       "      <td>NaN</td>\n",
       "      <td>NaN</td>\n",
       "    </tr>\n",
       "    <tr>\n",
       "      <th>7</th>\n",
       "      <td>7/2/2020</td>\n",
       "      <td>6.0</td>\n",
       "      <td>6.0</td>\n",
       "      <td>Externo</td>\n",
       "      <td>1.0</td>\n",
       "      <td>4771.0</td>\n",
       "      <td>Rubiaceae</td>\n",
       "      <td>Psychotria</td>\n",
       "      <td>Psychotria suterella</td>\n",
       "      <td>20.0</td>\n",
       "      <td>3,58</td>\n",
       "      <td>S</td>\n",
       "      <td>Umbrófila</td>\n",
       "      <td>NaN</td>\n",
       "      <td>NaN</td>\n",
       "      <td>NaN</td>\n",
       "      <td>NaN</td>\n",
       "      <td>NaN</td>\n",
       "      <td>NaN</td>\n",
       "      <td>NaN</td>\n",
       "      <td>NaN</td>\n",
       "      <td>NaN</td>\n",
       "      <td>NaN</td>\n",
       "      <td>NaN</td>\n",
       "      <td>NaN</td>\n",
       "      <td>NaN</td>\n",
       "      <td>NaN</td>\n",
       "      <td>NaN</td>\n",
       "      <td>NaN</td>\n",
       "      <td>NaN</td>\n",
       "      <td>NaN</td>\n",
       "      <td>NaN</td>\n",
       "      <td>NaN</td>\n",
       "      <td>NaN</td>\n",
       "      <td>NaN</td>\n",
       "    </tr>\n",
       "    <tr>\n",
       "      <th>8</th>\n",
       "      <td>7/2/2020</td>\n",
       "      <td>6.0</td>\n",
       "      <td>6.0</td>\n",
       "      <td>Externo</td>\n",
       "      <td>1.0</td>\n",
       "      <td>4772.0</td>\n",
       "      <td>Sapindaceae</td>\n",
       "      <td>Cupania</td>\n",
       "      <td>Cupania oblongifolia</td>\n",
       "      <td>37.0</td>\n",
       "      <td>4,54</td>\n",
       "      <td>S</td>\n",
       "      <td>Secundária Inicial</td>\n",
       "      <td>NaN</td>\n",
       "      <td>NaN</td>\n",
       "      <td>NaN</td>\n",
       "      <td>NaN</td>\n",
       "      <td>NaN</td>\n",
       "      <td>NaN</td>\n",
       "      <td>NaN</td>\n",
       "      <td>NaN</td>\n",
       "      <td>NaN</td>\n",
       "      <td>NaN</td>\n",
       "      <td>NaN</td>\n",
       "      <td>NaN</td>\n",
       "      <td>NaN</td>\n",
       "      <td>NaN</td>\n",
       "      <td>NaN</td>\n",
       "      <td>NaN</td>\n",
       "      <td>NaN</td>\n",
       "      <td>NaN</td>\n",
       "      <td>NaN</td>\n",
       "      <td>NaN</td>\n",
       "      <td>NaN</td>\n",
       "      <td>NaN</td>\n",
       "    </tr>\n",
       "    <tr>\n",
       "      <th>9</th>\n",
       "      <td>7/2/2020</td>\n",
       "      <td>6.0</td>\n",
       "      <td>6.0</td>\n",
       "      <td>Externo</td>\n",
       "      <td>1.0</td>\n",
       "      <td>4773.0</td>\n",
       "      <td>Monimiaceae</td>\n",
       "      <td>Mollinedia</td>\n",
       "      <td>Mollinedia uleana</td>\n",
       "      <td>58.0</td>\n",
       "      <td>10,8</td>\n",
       "      <td>S</td>\n",
       "      <td>Umbrófila</td>\n",
       "      <td>NaN</td>\n",
       "      <td>NaN</td>\n",
       "      <td>NaN</td>\n",
       "      <td>NaN</td>\n",
       "      <td>NaN</td>\n",
       "      <td>NaN</td>\n",
       "      <td>NaN</td>\n",
       "      <td>NaN</td>\n",
       "      <td>NaN</td>\n",
       "      <td>NaN</td>\n",
       "      <td>NaN</td>\n",
       "      <td>NaN</td>\n",
       "      <td>NaN</td>\n",
       "      <td>NaN</td>\n",
       "      <td>NaN</td>\n",
       "      <td>NaN</td>\n",
       "      <td>NaN</td>\n",
       "      <td>NaN</td>\n",
       "      <td>NaN</td>\n",
       "      <td>NaN</td>\n",
       "      <td>NaN</td>\n",
       "      <td>NaN</td>\n",
       "    </tr>\n",
       "    <tr>\n",
       "      <th>10</th>\n",
       "      <td>7/2/2020</td>\n",
       "      <td>6.0</td>\n",
       "      <td>6.0</td>\n",
       "      <td>Externo</td>\n",
       "      <td>2.0</td>\n",
       "      <td>4774.0</td>\n",
       "      <td>Sapindaceae</td>\n",
       "      <td>Allophylus</td>\n",
       "      <td>Allophylus edulis</td>\n",
       "      <td>400.0</td>\n",
       "      <td>45,4</td>\n",
       "      <td>S</td>\n",
       "      <td>Secundária Inicial</td>\n",
       "      <td>idem 4774</td>\n",
       "      <td>NaN</td>\n",
       "      <td>NaN</td>\n",
       "      <td>NaN</td>\n",
       "      <td>NaN</td>\n",
       "      <td>NaN</td>\n",
       "      <td>NaN</td>\n",
       "      <td>NaN</td>\n",
       "      <td>NaN</td>\n",
       "      <td>NaN</td>\n",
       "      <td>NaN</td>\n",
       "      <td>NaN</td>\n",
       "      <td>NaN</td>\n",
       "      <td>NaN</td>\n",
       "      <td>NaN</td>\n",
       "      <td>NaN</td>\n",
       "      <td>NaN</td>\n",
       "      <td>NaN</td>\n",
       "      <td>NaN</td>\n",
       "      <td>NaN</td>\n",
       "      <td>NaN</td>\n",
       "      <td>NaN</td>\n",
       "    </tr>\n",
       "    <tr>\n",
       "      <th>11</th>\n",
       "      <td>7/2/2020</td>\n",
       "      <td>6.0</td>\n",
       "      <td>6.0</td>\n",
       "      <td>Externo</td>\n",
       "      <td>2.0</td>\n",
       "      <td>4775.0</td>\n",
       "      <td>Rubiaceae</td>\n",
       "      <td>Coffea</td>\n",
       "      <td>Coffea arabica</td>\n",
       "      <td>48.0</td>\n",
       "      <td>4,38</td>\n",
       "      <td>N</td>\n",
       "      <td>Umbrófila</td>\n",
       "      <td>NaN</td>\n",
       "      <td>NaN</td>\n",
       "      <td>NaN</td>\n",
       "      <td>NaN</td>\n",
       "      <td>NaN</td>\n",
       "      <td>NaN</td>\n",
       "      <td>NaN</td>\n",
       "      <td>NaN</td>\n",
       "      <td>NaN</td>\n",
       "      <td>NaN</td>\n",
       "      <td>NaN</td>\n",
       "      <td>NaN</td>\n",
       "      <td>NaN</td>\n",
       "      <td>NaN</td>\n",
       "      <td>NaN</td>\n",
       "      <td>NaN</td>\n",
       "      <td>NaN</td>\n",
       "      <td>NaN</td>\n",
       "      <td>NaN</td>\n",
       "      <td>NaN</td>\n",
       "      <td>NaN</td>\n",
       "      <td>NaN</td>\n",
       "    </tr>\n",
       "    <tr>\n",
       "      <th>12</th>\n",
       "      <td>7/2/2020</td>\n",
       "      <td>6.0</td>\n",
       "      <td>6.0</td>\n",
       "      <td>Externo</td>\n",
       "      <td>2.0</td>\n",
       "      <td>4778.0</td>\n",
       "      <td>Monimiaceae</td>\n",
       "      <td>Mollinedia</td>\n",
       "      <td>Mollinedia uleana</td>\n",
       "      <td>160.0</td>\n",
       "      <td>20,2</td>\n",
       "      <td>S</td>\n",
       "      <td>Umbrófila</td>\n",
       "      <td>NaN</td>\n",
       "      <td>NaN</td>\n",
       "      <td>NaN</td>\n",
       "      <td>NaN</td>\n",
       "      <td>NaN</td>\n",
       "      <td>NaN</td>\n",
       "      <td>NaN</td>\n",
       "      <td>NaN</td>\n",
       "      <td>NaN</td>\n",
       "      <td>NaN</td>\n",
       "      <td>NaN</td>\n",
       "      <td>NaN</td>\n",
       "      <td>NaN</td>\n",
       "      <td>NaN</td>\n",
       "      <td>NaN</td>\n",
       "      <td>NaN</td>\n",
       "      <td>NaN</td>\n",
       "      <td>NaN</td>\n",
       "      <td>NaN</td>\n",
       "      <td>NaN</td>\n",
       "      <td>NaN</td>\n",
       "      <td>NaN</td>\n",
       "    </tr>\n",
       "    <tr>\n",
       "      <th>13</th>\n",
       "      <td>7/2/2020</td>\n",
       "      <td>6.0</td>\n",
       "      <td>6.0</td>\n",
       "      <td>Externo</td>\n",
       "      <td>2.0</td>\n",
       "      <td>4779.0</td>\n",
       "      <td>Arecaceae</td>\n",
       "      <td>Euterpe</td>\n",
       "      <td>Euterpe edulis</td>\n",
       "      <td>34.0</td>\n",
       "      <td>5,92</td>\n",
       "      <td>S</td>\n",
       "      <td>Secundária Tardia</td>\n",
       "      <td>NaN</td>\n",
       "      <td>NaN</td>\n",
       "      <td>NaN</td>\n",
       "      <td>NaN</td>\n",
       "      <td>NaN</td>\n",
       "      <td>NaN</td>\n",
       "      <td>NaN</td>\n",
       "      <td>NaN</td>\n",
       "      <td>NaN</td>\n",
       "      <td>NaN</td>\n",
       "      <td>NaN</td>\n",
       "      <td>NaN</td>\n",
       "      <td>NaN</td>\n",
       "      <td>NaN</td>\n",
       "      <td>NaN</td>\n",
       "      <td>NaN</td>\n",
       "      <td>NaN</td>\n",
       "      <td>NaN</td>\n",
       "      <td>NaN</td>\n",
       "      <td>NaN</td>\n",
       "      <td>NaN</td>\n",
       "      <td>NaN</td>\n",
       "    </tr>\n",
       "    <tr>\n",
       "      <th>14</th>\n",
       "      <td>7/2/2020</td>\n",
       "      <td>6.0</td>\n",
       "      <td>6.0</td>\n",
       "      <td>Externo</td>\n",
       "      <td>2.0</td>\n",
       "      <td>4780.0</td>\n",
       "      <td>Indeterminada 8</td>\n",
       "      <td>Indeterminada 8</td>\n",
       "      <td>Indeterminada 8</td>\n",
       "      <td>32.0</td>\n",
       "      <td>6,6</td>\n",
       "      <td>NaN</td>\n",
       "      <td>Não Classificada</td>\n",
       "      <td>Nyctaginaceae (psionia?)</td>\n",
       "      <td>NaN</td>\n",
       "      <td>NaN</td>\n",
       "      <td>NaN</td>\n",
       "      <td>NaN</td>\n",
       "      <td>NaN</td>\n",
       "      <td>NaN</td>\n",
       "      <td>NaN</td>\n",
       "      <td>NaN</td>\n",
       "      <td>NaN</td>\n",
       "      <td>NaN</td>\n",
       "      <td>NaN</td>\n",
       "      <td>NaN</td>\n",
       "      <td>NaN</td>\n",
       "      <td>NaN</td>\n",
       "      <td>NaN</td>\n",
       "      <td>NaN</td>\n",
       "      <td>NaN</td>\n",
       "      <td>NaN</td>\n",
       "      <td>NaN</td>\n",
       "      <td>NaN</td>\n",
       "      <td>NaN</td>\n",
       "    </tr>\n",
       "    <tr>\n",
       "      <th>15</th>\n",
       "      <td>7/2/2020</td>\n",
       "      <td>6.0</td>\n",
       "      <td>6.0</td>\n",
       "      <td>Externo</td>\n",
       "      <td>3.0</td>\n",
       "      <td>4781.0</td>\n",
       "      <td>Moraceae</td>\n",
       "      <td>Ficus</td>\n",
       "      <td>Ficus sp</td>\n",
       "      <td>180.0</td>\n",
       "      <td>29,3</td>\n",
       "      <td>NaN</td>\n",
       "      <td>Não Classificada</td>\n",
       "      <td>NaN</td>\n",
       "      <td>NaN</td>\n",
       "      <td>NaN</td>\n",
       "      <td>NaN</td>\n",
       "      <td>NaN</td>\n",
       "      <td>NaN</td>\n",
       "      <td>NaN</td>\n",
       "      <td>NaN</td>\n",
       "      <td>NaN</td>\n",
       "      <td>NaN</td>\n",
       "      <td>NaN</td>\n",
       "      <td>NaN</td>\n",
       "      <td>NaN</td>\n",
       "      <td>NaN</td>\n",
       "      <td>NaN</td>\n",
       "      <td>NaN</td>\n",
       "      <td>NaN</td>\n",
       "      <td>NaN</td>\n",
       "      <td>NaN</td>\n",
       "      <td>NaN</td>\n",
       "      <td>NaN</td>\n",
       "      <td>NaN</td>\n",
       "    </tr>\n",
       "    <tr>\n",
       "      <th>16</th>\n",
       "      <td>7/2/2020</td>\n",
       "      <td>6.0</td>\n",
       "      <td>6.0</td>\n",
       "      <td>Externo</td>\n",
       "      <td>3.0</td>\n",
       "      <td>4782.0</td>\n",
       "      <td>Arecaceae</td>\n",
       "      <td>Archontophoenix</td>\n",
       "      <td>Archontophoenix cunninghamiana</td>\n",
       "      <td>24.0</td>\n",
       "      <td>4,06</td>\n",
       "      <td>N</td>\n",
       "      <td>Não Classificada</td>\n",
       "      <td>NaN</td>\n",
       "      <td>NaN</td>\n",
       "      <td>NaN</td>\n",
       "      <td>NaN</td>\n",
       "      <td>NaN</td>\n",
       "      <td>NaN</td>\n",
       "      <td>NaN</td>\n",
       "      <td>NaN</td>\n",
       "      <td>NaN</td>\n",
       "      <td>NaN</td>\n",
       "      <td>NaN</td>\n",
       "      <td>NaN</td>\n",
       "      <td>NaN</td>\n",
       "      <td>NaN</td>\n",
       "      <td>NaN</td>\n",
       "      <td>NaN</td>\n",
       "      <td>NaN</td>\n",
       "      <td>NaN</td>\n",
       "      <td>NaN</td>\n",
       "      <td>NaN</td>\n",
       "      <td>NaN</td>\n",
       "      <td>NaN</td>\n",
       "    </tr>\n",
       "    <tr>\n",
       "      <th>17</th>\n",
       "      <td>7/2/2020</td>\n",
       "      <td>6.0</td>\n",
       "      <td>6.0</td>\n",
       "      <td>Externo</td>\n",
       "      <td>3.0</td>\n",
       "      <td>4783.0</td>\n",
       "      <td>Arecaceae</td>\n",
       "      <td>Euterpe</td>\n",
       "      <td>Euterpe edulis</td>\n",
       "      <td>150.0</td>\n",
       "      <td>28,4</td>\n",
       "      <td>S</td>\n",
       "      <td>Secundária Tardia</td>\n",
       "      <td>NaN</td>\n",
       "      <td>NaN</td>\n",
       "      <td>NaN</td>\n",
       "      <td>NaN</td>\n",
       "      <td>NaN</td>\n",
       "      <td>NaN</td>\n",
       "      <td>NaN</td>\n",
       "      <td>NaN</td>\n",
       "      <td>NaN</td>\n",
       "      <td>NaN</td>\n",
       "      <td>NaN</td>\n",
       "      <td>NaN</td>\n",
       "      <td>NaN</td>\n",
       "      <td>NaN</td>\n",
       "      <td>NaN</td>\n",
       "      <td>NaN</td>\n",
       "      <td>NaN</td>\n",
       "      <td>NaN</td>\n",
       "      <td>NaN</td>\n",
       "      <td>NaN</td>\n",
       "      <td>NaN</td>\n",
       "      <td>NaN</td>\n",
       "    </tr>\n",
       "    <tr>\n",
       "      <th>18</th>\n",
       "      <td>7/2/2020</td>\n",
       "      <td>6.0</td>\n",
       "      <td>6.0</td>\n",
       "      <td>Externo</td>\n",
       "      <td>3.0</td>\n",
       "      <td>4785.0</td>\n",
       "      <td>Arecaceae</td>\n",
       "      <td>Euterpe</td>\n",
       "      <td>Euterpe edulis</td>\n",
       "      <td>33.0</td>\n",
       "      <td>6,58</td>\n",
       "      <td>S</td>\n",
       "      <td>Secundária Tardia</td>\n",
       "      <td>NaN</td>\n",
       "      <td>NaN</td>\n",
       "      <td>NaN</td>\n",
       "      <td>NaN</td>\n",
       "      <td>NaN</td>\n",
       "      <td>NaN</td>\n",
       "      <td>NaN</td>\n",
       "      <td>NaN</td>\n",
       "      <td>NaN</td>\n",
       "      <td>NaN</td>\n",
       "      <td>NaN</td>\n",
       "      <td>NaN</td>\n",
       "      <td>NaN</td>\n",
       "      <td>NaN</td>\n",
       "      <td>NaN</td>\n",
       "      <td>NaN</td>\n",
       "      <td>NaN</td>\n",
       "      <td>NaN</td>\n",
       "      <td>NaN</td>\n",
       "      <td>NaN</td>\n",
       "      <td>NaN</td>\n",
       "      <td>NaN</td>\n",
       "    </tr>\n",
       "    <tr>\n",
       "      <th>19</th>\n",
       "      <td>7/2/2020</td>\n",
       "      <td>6.0</td>\n",
       "      <td>6.0</td>\n",
       "      <td>Externo</td>\n",
       "      <td>4.0</td>\n",
       "      <td>4786.0</td>\n",
       "      <td>Elaeocarpaceae</td>\n",
       "      <td>Sloanea</td>\n",
       "      <td>Sloanea hirsuta</td>\n",
       "      <td>100.0</td>\n",
       "      <td>10,56</td>\n",
       "      <td>S</td>\n",
       "      <td>Secundária Tardia</td>\n",
       "      <td>BARRETTO, E.H.P; CATHARINO, E.L.M.</td>\n",
       "      <td>NaN</td>\n",
       "      <td>NaN</td>\n",
       "      <td>NaN</td>\n",
       "      <td>NaN</td>\n",
       "      <td>NaN</td>\n",
       "      <td>NaN</td>\n",
       "      <td>NaN</td>\n",
       "      <td>NaN</td>\n",
       "      <td>NaN</td>\n",
       "      <td>NaN</td>\n",
       "      <td>NaN</td>\n",
       "      <td>NaN</td>\n",
       "      <td>NaN</td>\n",
       "      <td>NaN</td>\n",
       "      <td>NaN</td>\n",
       "      <td>NaN</td>\n",
       "      <td>NaN</td>\n",
       "      <td>NaN</td>\n",
       "      <td>NaN</td>\n",
       "      <td>NaN</td>\n",
       "      <td>NaN</td>\n",
       "    </tr>\n",
       "  </tbody>\n",
       "</table>\n",
       "</div>"
      ],
      "text/plain": [
       "        Data  Palmeira  Altura Palmeira (m)     Área  Quadrante  Número  \\\n",
       "0   7/2/2020       6.0                  6.0     Copa        1.0  4763.0   \n",
       "1   7/2/2020       6.0                  6.0     Copa        2.0     NaN   \n",
       "2   7/2/2020       6.0                  6.0     Copa        3.0     NaN   \n",
       "3   7/2/2020       6.0                  6.0     Copa        4.0  4765.0   \n",
       "4   7/2/2020       6.0                  6.0     Copa        4.0  4767.0   \n",
       "5   7/2/2020       6.0                  6.0  Externo        1.0  4769.0   \n",
       "6   7/2/2020       6.0                  6.0  Externo        1.0  4770.0   \n",
       "7   7/2/2020       6.0                  6.0  Externo        1.0  4771.0   \n",
       "8   7/2/2020       6.0                  6.0  Externo        1.0  4772.0   \n",
       "9   7/2/2020       6.0                  6.0  Externo        1.0  4773.0   \n",
       "10  7/2/2020       6.0                  6.0  Externo        2.0  4774.0   \n",
       "11  7/2/2020       6.0                  6.0  Externo        2.0  4775.0   \n",
       "12  7/2/2020       6.0                  6.0  Externo        2.0  4778.0   \n",
       "13  7/2/2020       6.0                  6.0  Externo        2.0  4779.0   \n",
       "14  7/2/2020       6.0                  6.0  Externo        2.0  4780.0   \n",
       "15  7/2/2020       6.0                  6.0  Externo        3.0  4781.0   \n",
       "16  7/2/2020       6.0                  6.0  Externo        3.0  4782.0   \n",
       "17  7/2/2020       6.0                  6.0  Externo        3.0  4783.0   \n",
       "18  7/2/2020       6.0                  6.0  Externo        3.0  4785.0   \n",
       "19  7/2/2020       6.0                  6.0  Externo        4.0  4786.0   \n",
       "\n",
       "            Família           Gênero                         Espécie  \\\n",
       "0       Sapindaceae          Cupania            Cupania oblongifolia   \n",
       "1               NaN              NaN                             NaN   \n",
       "2               NaN              NaN                             NaN   \n",
       "3         Meliaceae           Guarea              Guarea macrophylla   \n",
       "4       Sapindaceae          Cupania            Cupania oblongifolia   \n",
       "5         Rubiaceae           Coffea                  Coffea arabica   \n",
       "6   Indeterminada 6  Indeterminada 6                 Indeterminada 6   \n",
       "7         Rubiaceae       Psychotria            Psychotria suterella   \n",
       "8       Sapindaceae          Cupania            Cupania oblongifolia   \n",
       "9      Monimiaceae        Mollinedia               Mollinedia uleana   \n",
       "10      Sapindaceae      Allophylus                Allophylus edulis   \n",
       "11        Rubiaceae           Coffea                  Coffea arabica   \n",
       "12     Monimiaceae        Mollinedia               Mollinedia uleana   \n",
       "13        Arecaceae          Euterpe                  Euterpe edulis   \n",
       "14  Indeterminada 8  Indeterminada 8                 Indeterminada 8   \n",
       "15         Moraceae            Ficus                        Ficus sp   \n",
       "16        Arecaceae  Archontophoenix  Archontophoenix cunninghamiana   \n",
       "17        Arecaceae          Euterpe                  Euterpe edulis   \n",
       "18        Arecaceae          Euterpe                  Euterpe edulis   \n",
       "19  Elaeocarpaceae           Sloanea                 Sloanea hirsuta   \n",
       "\n",
       "    Altura (cm) Dap (mm) Nativa Estágio sucessional  \\\n",
       "0          22.0     3,47      S  Secundária Inicial   \n",
       "1           NaN      NaN    NaN    Não Classificada   \n",
       "2           NaN      NaN    NaN    Não Classificada   \n",
       "3          27.0     4,43      S           Umbrófila   \n",
       "4          20.0        3      S  Secundária Inicial   \n",
       "5         195.0     24,8      N           Umbrófila   \n",
       "6          44.0     5,07    NaN    Não Classificada   \n",
       "7          20.0     3,58      S           Umbrófila   \n",
       "8          37.0     4,54      S  Secundária Inicial   \n",
       "9          58.0     10,8      S           Umbrófila   \n",
       "10        400.0     45,4      S  Secundária Inicial   \n",
       "11         48.0     4,38      N           Umbrófila   \n",
       "12        160.0     20,2      S           Umbrófila   \n",
       "13         34.0     5,92      S   Secundária Tardia   \n",
       "14         32.0      6,6    NaN    Não Classificada   \n",
       "15        180.0     29,3    NaN    Não Classificada   \n",
       "16         24.0     4,06      N    Não Classificada   \n",
       "17        150.0     28,4      S   Secundária Tardia   \n",
       "18         33.0     6,58      S   Secundária Tardia   \n",
       "19        100.0    10,56      S   Secundária Tardia   \n",
       "\n",
       "                                   Obs  Unnamed: 14  Unnamed: 15  Unnamed: 16  \\\n",
       "0                                  NaN          NaN          NaN          NaN   \n",
       "1                                  NaN          NaN          NaN          NaN   \n",
       "2                                  NaN          NaN          NaN          NaN   \n",
       "3                                  NaN          NaN          NaN          NaN   \n",
       "4                                  NaN          NaN          NaN          NaN   \n",
       "5                                  NaN          NaN          NaN          NaN   \n",
       "6                                  NaN          NaN          NaN          NaN   \n",
       "7                                  NaN          NaN          NaN          NaN   \n",
       "8                                  NaN          NaN          NaN          NaN   \n",
       "9                                  NaN          NaN          NaN          NaN   \n",
       "10                           idem 4774          NaN          NaN          NaN   \n",
       "11                                 NaN          NaN          NaN          NaN   \n",
       "12                                 NaN          NaN          NaN          NaN   \n",
       "13                                 NaN          NaN          NaN          NaN   \n",
       "14            Nyctaginaceae (psionia?)          NaN          NaN          NaN   \n",
       "15                                 NaN          NaN          NaN          NaN   \n",
       "16                                 NaN          NaN          NaN          NaN   \n",
       "17                                 NaN          NaN          NaN          NaN   \n",
       "18                                 NaN          NaN          NaN          NaN   \n",
       "19  BARRETTO, E.H.P; CATHARINO, E.L.M.          NaN          NaN          NaN   \n",
       "\n",
       "    Unnamed: 17  Unnamed: 18  Unnamed: 19  Unnamed: 20  Unnamed: 21  \\\n",
       "0           NaN          NaN          NaN          NaN          NaN   \n",
       "1           NaN          NaN          NaN          NaN          NaN   \n",
       "2           NaN          NaN          NaN          NaN          NaN   \n",
       "3           NaN          NaN          NaN          NaN          NaN   \n",
       "4           NaN          NaN          NaN          NaN          NaN   \n",
       "5           NaN          NaN          NaN          NaN          NaN   \n",
       "6           NaN          NaN          NaN          NaN          NaN   \n",
       "7           NaN          NaN          NaN          NaN          NaN   \n",
       "8           NaN          NaN          NaN          NaN          NaN   \n",
       "9           NaN          NaN          NaN          NaN          NaN   \n",
       "10          NaN          NaN          NaN          NaN          NaN   \n",
       "11          NaN          NaN          NaN          NaN          NaN   \n",
       "12          NaN          NaN          NaN          NaN          NaN   \n",
       "13          NaN          NaN          NaN          NaN          NaN   \n",
       "14          NaN          NaN          NaN          NaN          NaN   \n",
       "15          NaN          NaN          NaN          NaN          NaN   \n",
       "16          NaN          NaN          NaN          NaN          NaN   \n",
       "17          NaN          NaN          NaN          NaN          NaN   \n",
       "18          NaN          NaN          NaN          NaN          NaN   \n",
       "19          NaN          NaN          NaN          NaN          NaN   \n",
       "\n",
       "    Unnamed: 22  Unnamed: 23  Unnamed: 24  Unnamed: 25  Unnamed: 26  \\\n",
       "0           NaN          NaN          NaN          NaN          NaN   \n",
       "1           NaN          NaN          NaN          NaN          NaN   \n",
       "2           NaN          NaN          NaN          NaN          NaN   \n",
       "3           NaN          NaN          NaN          NaN          NaN   \n",
       "4           NaN          NaN          NaN          NaN          NaN   \n",
       "5           NaN          NaN          NaN          NaN          NaN   \n",
       "6           NaN          NaN          NaN          NaN          NaN   \n",
       "7           NaN          NaN          NaN          NaN          NaN   \n",
       "8           NaN          NaN          NaN          NaN          NaN   \n",
       "9           NaN          NaN          NaN          NaN          NaN   \n",
       "10          NaN          NaN          NaN          NaN          NaN   \n",
       "11          NaN          NaN          NaN          NaN          NaN   \n",
       "12          NaN          NaN          NaN          NaN          NaN   \n",
       "13          NaN          NaN          NaN          NaN          NaN   \n",
       "14          NaN          NaN          NaN          NaN          NaN   \n",
       "15          NaN          NaN          NaN          NaN          NaN   \n",
       "16          NaN          NaN          NaN          NaN          NaN   \n",
       "17          NaN          NaN          NaN          NaN          NaN   \n",
       "18          NaN          NaN          NaN          NaN          NaN   \n",
       "19          NaN          NaN          NaN          NaN          NaN   \n",
       "\n",
       "    Unnamed: 27  Unnamed: 28  Unnamed: 29  Unnamed: 30  Unnamed: 31  \\\n",
       "0           NaN          NaN          NaN          NaN          NaN   \n",
       "1           NaN          NaN          NaN          NaN          NaN   \n",
       "2           NaN          NaN          NaN          NaN          NaN   \n",
       "3           NaN          NaN          NaN          NaN          NaN   \n",
       "4           NaN          NaN          NaN          NaN          NaN   \n",
       "5           NaN          NaN          NaN          NaN          NaN   \n",
       "6           NaN          NaN          NaN          NaN          NaN   \n",
       "7           NaN          NaN          NaN          NaN          NaN   \n",
       "8           NaN          NaN          NaN          NaN          NaN   \n",
       "9           NaN          NaN          NaN          NaN          NaN   \n",
       "10          NaN          NaN          NaN          NaN          NaN   \n",
       "11          NaN          NaN          NaN          NaN          NaN   \n",
       "12          NaN          NaN          NaN          NaN          NaN   \n",
       "13          NaN          NaN          NaN          NaN          NaN   \n",
       "14          NaN          NaN          NaN          NaN          NaN   \n",
       "15          NaN          NaN          NaN          NaN          NaN   \n",
       "16          NaN          NaN          NaN          NaN          NaN   \n",
       "17          NaN          NaN          NaN          NaN          NaN   \n",
       "18          NaN          NaN          NaN          NaN          NaN   \n",
       "19          NaN          NaN          NaN          NaN          NaN   \n",
       "\n",
       "    Unnamed: 32  Unnamed: 33  Unnamed: 34  \n",
       "0           NaN          NaN          NaN  \n",
       "1           NaN          NaN          NaN  \n",
       "2           NaN          NaN          NaN  \n",
       "3           NaN          NaN          NaN  \n",
       "4           NaN          NaN          NaN  \n",
       "5           NaN          NaN          NaN  \n",
       "6           NaN          NaN          NaN  \n",
       "7           NaN          NaN          NaN  \n",
       "8           NaN          NaN          NaN  \n",
       "9           NaN          NaN          NaN  \n",
       "10          NaN          NaN          NaN  \n",
       "11          NaN          NaN          NaN  \n",
       "12          NaN          NaN          NaN  \n",
       "13          NaN          NaN          NaN  \n",
       "14          NaN          NaN          NaN  \n",
       "15          NaN          NaN          NaN  \n",
       "16          NaN          NaN          NaN  \n",
       "17          NaN          NaN          NaN  \n",
       "18          NaN          NaN          NaN  \n",
       "19          NaN          NaN          NaN  "
      ]
     },
     "execution_count": 8,
     "metadata": {},
     "output_type": "execute_result"
    }
   ],
   "source": [
    "df.head(20)"
   ]
  },
  {
   "cell_type": "code",
   "execution_count": 9,
   "metadata": {},
   "outputs": [],
   "source": [
    "# apenas palmeiras com altura entre 6 m\n",
    "df = df[df['Altura Palmeira (m)'] == 6]"
   ]
  },
  {
   "cell_type": "code",
   "execution_count": 10,
   "metadata": {},
   "outputs": [],
   "source": [
    "#drop all the columns where all the data is empty\n",
    "df = df.dropna(how='all', axis='columns')"
   ]
  },
  {
   "cell_type": "code",
   "execution_count": 11,
   "metadata": {},
   "outputs": [],
   "source": [
    "#Remove unnamed columns\n",
    "df = df.loc[:, ~df.columns.str.contains('^Unnamed')]"
   ]
  },
  {
   "cell_type": "code",
   "execution_count": 12,
   "metadata": {},
   "outputs": [
    {
     "data": {
      "text/plain": [
       "(138, 14)"
      ]
     },
     "execution_count": 12,
     "metadata": {},
     "output_type": "execute_result"
    }
   ],
   "source": [
    "df.shape"
   ]
  },
  {
   "cell_type": "code",
   "execution_count": 13,
   "metadata": {},
   "outputs": [
    {
     "name": "stdout",
     "output_type": "stream",
     "text": [
      "Data                    object\n",
      "Palmeira               float64\n",
      "Altura Palmeira (m)    float64\n",
      "Área                    object\n",
      "Quadrante              float64\n",
      "Número                 float64\n",
      "Família                 object\n",
      "Gênero                  object\n",
      "Espécie                 object\n",
      "Altura (cm)            float64\n",
      "Dap (mm)                object\n",
      "Nativa                  object\n",
      "Estágio sucessional     object\n",
      "Obs                     object\n",
      "dtype: object\n"
     ]
    }
   ],
   "source": [
    "#tipos de dados das colunas\n",
    "print(df.dtypes)"
   ]
  },
  {
   "cell_type": "code",
   "execution_count": 14,
   "metadata": {},
   "outputs": [],
   "source": [
    "#Ajustando os tipos de dados\n",
    "\n",
    "df['Estágio sucessional'] = df['Estágio sucessional'].astype(str)\n",
    "df['Nativa'] = df['Nativa'].astype(str)\n",
    "df['Espécie'] = df['Espécie'].astype(str)\n",
    "df['Gênero'] = df['Gênero'].astype(str)\n",
    "df['Família'] = df['Família'].astype(str)\n",
    "df['Quadrante'] = df['Quadrante'].astype(str)\n",
    "df['Área'] = df['Área'].astype('category')\n",
    "df['Altura Palmeira (m)'] = df['Altura Palmeira (m)'].astype(str)\n",
    "df['Palmeira'] = df['Palmeira'].astype(str)\n",
    "df['Dap (mm)'] = df['Dap (mm)'].astype(str)\n",
    "\n",
    "#troca , por . no na coluna dap\n",
    "df['Dap (mm)'] = df['Dap (mm)'].apply(lambda x: x.replace(',', '.'))\n",
    "df['Dap (mm)'] = df['Dap (mm)'].astype('float64')\n",
    "\n"
   ]
  },
  {
   "cell_type": "code",
   "execution_count": 15,
   "metadata": {},
   "outputs": [
    {
     "data": {
      "text/plain": [
       "Externo    95\n",
       "Copa       43\n",
       "Name: Área, dtype: int64"
      ]
     },
     "execution_count": 15,
     "metadata": {},
     "output_type": "execute_result"
    }
   ],
   "source": [
    "#contar registros em cada grupo em estudo\n",
    "df['Área'].value_counts()"
   ]
  },
  {
   "cell_type": "code",
   "execution_count": 16,
   "metadata": {},
   "outputs": [
    {
     "name": "stdout",
     "output_type": "stream",
     "text": [
      "Data                     object\n",
      "Palmeira                 object\n",
      "Altura Palmeira (m)      object\n",
      "Área                   category\n",
      "Quadrante                object\n",
      "Número                  float64\n",
      "Família                  object\n",
      "Gênero                   object\n",
      "Espécie                  object\n",
      "Altura (cm)             float64\n",
      "Dap (mm)                float64\n",
      "Nativa                   object\n",
      "Estágio sucessional      object\n",
      "Obs                      object\n",
      "dtype: object\n"
     ]
    }
   ],
   "source": [
    "#tipos de dados ajustados\n",
    "print(df.dtypes)"
   ]
  },
  {
   "cell_type": "code",
   "execution_count": 17,
   "metadata": {},
   "outputs": [
    {
     "data": {
      "text/html": [
       "<div>\n",
       "<style scoped>\n",
       "    .dataframe tbody tr th:only-of-type {\n",
       "        vertical-align: middle;\n",
       "    }\n",
       "\n",
       "    .dataframe tbody tr th {\n",
       "        vertical-align: top;\n",
       "    }\n",
       "\n",
       "    .dataframe thead th {\n",
       "        text-align: right;\n",
       "    }\n",
       "</style>\n",
       "<table border=\"1\" class=\"dataframe\">\n",
       "  <thead>\n",
       "    <tr style=\"text-align: right;\">\n",
       "      <th></th>\n",
       "      <th>Data</th>\n",
       "      <th>Palmeira</th>\n",
       "      <th>Altura Palmeira (m)</th>\n",
       "      <th>Área</th>\n",
       "      <th>Quadrante</th>\n",
       "      <th>Número</th>\n",
       "      <th>Família</th>\n",
       "      <th>Gênero</th>\n",
       "      <th>Espécie</th>\n",
       "      <th>Altura (cm)</th>\n",
       "      <th>Dap (mm)</th>\n",
       "      <th>Nativa</th>\n",
       "      <th>Estágio sucessional</th>\n",
       "      <th>Obs</th>\n",
       "    </tr>\n",
       "  </thead>\n",
       "  <tbody>\n",
       "    <tr>\n",
       "      <th>0</th>\n",
       "      <td>7/2/2020</td>\n",
       "      <td>6.0</td>\n",
       "      <td>6.0</td>\n",
       "      <td>Copa</td>\n",
       "      <td>1.0</td>\n",
       "      <td>4763.0</td>\n",
       "      <td>Sapindaceae</td>\n",
       "      <td>Cupania</td>\n",
       "      <td>Cupania oblongifolia</td>\n",
       "      <td>22.0</td>\n",
       "      <td>3.47</td>\n",
       "      <td>S</td>\n",
       "      <td>Secundária Inicial</td>\n",
       "      <td>NaN</td>\n",
       "    </tr>\n",
       "    <tr>\n",
       "      <th>1</th>\n",
       "      <td>7/2/2020</td>\n",
       "      <td>6.0</td>\n",
       "      <td>6.0</td>\n",
       "      <td>Copa</td>\n",
       "      <td>2.0</td>\n",
       "      <td>NaN</td>\n",
       "      <td>nan</td>\n",
       "      <td>nan</td>\n",
       "      <td>nan</td>\n",
       "      <td>NaN</td>\n",
       "      <td>NaN</td>\n",
       "      <td>nan</td>\n",
       "      <td>Não Classificada</td>\n",
       "      <td>NaN</td>\n",
       "    </tr>\n",
       "    <tr>\n",
       "      <th>2</th>\n",
       "      <td>7/2/2020</td>\n",
       "      <td>6.0</td>\n",
       "      <td>6.0</td>\n",
       "      <td>Copa</td>\n",
       "      <td>3.0</td>\n",
       "      <td>NaN</td>\n",
       "      <td>nan</td>\n",
       "      <td>nan</td>\n",
       "      <td>nan</td>\n",
       "      <td>NaN</td>\n",
       "      <td>NaN</td>\n",
       "      <td>nan</td>\n",
       "      <td>Não Classificada</td>\n",
       "      <td>NaN</td>\n",
       "    </tr>\n",
       "    <tr>\n",
       "      <th>3</th>\n",
       "      <td>7/2/2020</td>\n",
       "      <td>6.0</td>\n",
       "      <td>6.0</td>\n",
       "      <td>Copa</td>\n",
       "      <td>4.0</td>\n",
       "      <td>4765.0</td>\n",
       "      <td>Meliaceae</td>\n",
       "      <td>Guarea</td>\n",
       "      <td>Guarea macrophylla</td>\n",
       "      <td>27.0</td>\n",
       "      <td>4.43</td>\n",
       "      <td>S</td>\n",
       "      <td>Umbrófila</td>\n",
       "      <td>NaN</td>\n",
       "    </tr>\n",
       "    <tr>\n",
       "      <th>4</th>\n",
       "      <td>7/2/2020</td>\n",
       "      <td>6.0</td>\n",
       "      <td>6.0</td>\n",
       "      <td>Copa</td>\n",
       "      <td>4.0</td>\n",
       "      <td>4767.0</td>\n",
       "      <td>Sapindaceae</td>\n",
       "      <td>Cupania</td>\n",
       "      <td>Cupania oblongifolia</td>\n",
       "      <td>20.0</td>\n",
       "      <td>3.00</td>\n",
       "      <td>S</td>\n",
       "      <td>Secundária Inicial</td>\n",
       "      <td>NaN</td>\n",
       "    </tr>\n",
       "  </tbody>\n",
       "</table>\n",
       "</div>"
      ],
      "text/plain": [
       "       Data Palmeira Altura Palmeira (m)  Área Quadrante  Número      Família  \\\n",
       "0  7/2/2020      6.0                 6.0  Copa       1.0  4763.0  Sapindaceae   \n",
       "1  7/2/2020      6.0                 6.0  Copa       2.0     NaN          nan   \n",
       "2  7/2/2020      6.0                 6.0  Copa       3.0     NaN          nan   \n",
       "3  7/2/2020      6.0                 6.0  Copa       4.0  4765.0    Meliaceae   \n",
       "4  7/2/2020      6.0                 6.0  Copa       4.0  4767.0  Sapindaceae   \n",
       "\n",
       "    Gênero               Espécie  Altura (cm)  Dap (mm) Nativa  \\\n",
       "0  Cupania  Cupania oblongifolia         22.0      3.47      S   \n",
       "1      nan                   nan          NaN       NaN    nan   \n",
       "2      nan                   nan          NaN       NaN    nan   \n",
       "3   Guarea    Guarea macrophylla         27.0      4.43      S   \n",
       "4  Cupania  Cupania oblongifolia         20.0      3.00      S   \n",
       "\n",
       "  Estágio sucessional  Obs  \n",
       "0  Secundária Inicial  NaN  \n",
       "1    Não Classificada  NaN  \n",
       "2    Não Classificada  NaN  \n",
       "3           Umbrófila  NaN  \n",
       "4  Secundária Inicial  NaN  "
      ]
     },
     "execution_count": 17,
     "metadata": {},
     "output_type": "execute_result"
    }
   ],
   "source": [
    "df.head()"
   ]
  },
  {
   "cell_type": "code",
   "execution_count": 18,
   "metadata": {},
   "outputs": [
    {
     "data": {
      "text/plain": [
       "(138, 14)"
      ]
     },
     "execution_count": 18,
     "metadata": {},
     "output_type": "execute_result"
    }
   ],
   "source": [
    "#new shape\n",
    "df.shape"
   ]
  },
  {
   "cell_type": "code",
   "execution_count": 19,
   "metadata": {},
   "outputs": [],
   "source": [
    "#Ajuste valores ausentes nas colunas Estágio Sucessional e Nativa \n",
    "df['Estágio sucessional'] =  df['Estágio sucessional'].apply(lambda x: x.replace('nan', 'indeterminado'))\n",
    "df['Estágio sucessional'] =  df['Estágio sucessional'].fillna('indeterminado')\n",
    "df['Nativa'] =  df['Nativa'].apply(lambda x: x.replace('nan', 'indeterminado'))\n",
    "df['Nativa'] =  df['Nativa'].fillna('indeterminado')"
   ]
  },
  {
   "cell_type": "code",
   "execution_count": 20,
   "metadata": {},
   "outputs": [],
   "source": [
    "#Ajustar Area externa para 'Entorno'\n",
    "df['Área'] =  df['Área'].apply(lambda x: x.replace('Externo', 'Entorno'))"
   ]
  },
  {
   "cell_type": "code",
   "execution_count": 21,
   "metadata": {},
   "outputs": [],
   "source": [
    "#Remove decimal do nome da palmeira e da altura da palmeira \n",
    "df['Palmeira'] = df['Palmeira'].apply(lambda x: x.split('.')[0]) \n",
    "df['Altura Palmeira (m)'] = df['Altura Palmeira (m)'].apply(lambda x: x.split('.')[0]) "
   ]
  },
  {
   "cell_type": "code",
   "execution_count": 22,
   "metadata": {},
   "outputs": [
    {
     "data": {
      "text/plain": [
       "Entorno    95\n",
       "Copa       43\n",
       "Name: Área, dtype: int64"
      ]
     },
     "execution_count": 22,
     "metadata": {},
     "output_type": "execute_result"
    }
   ],
   "source": [
    "#contar registros em cada grupo em estudo\n",
    "df['Área'].value_counts()"
   ]
  },
  {
   "cell_type": "code",
   "execution_count": 23,
   "metadata": {},
   "outputs": [
    {
     "data": {
      "text/plain": [
       "Entorno    95\n",
       "Copa       43\n",
       "Name: Área, dtype: int64"
      ]
     },
     "execution_count": 23,
     "metadata": {},
     "output_type": "execute_result"
    }
   ],
   "source": [
    "#Dataframe com quadrantes sem plantas (df_with_nan)\n",
    "df_with_nan= df.copy()\n",
    "#df_with_nan['Número'] =  df_with_nan['Número'].fillna(0)\n",
    "df_with_nan['Área'].value_counts()"
   ]
  },
  {
   "cell_type": "code",
   "execution_count": 24,
   "metadata": {},
   "outputs": [
    {
     "data": {
      "text/plain": [
       "Palmeira  Quadrante\n",
       "10        1.0          0\n",
       "          2.0          1\n",
       "          3.0          4\n",
       "          4.0          1\n",
       "6         1.0          1\n",
       "          2.0          0\n",
       "          3.0          0\n",
       "          4.0          2\n",
       "7         1.0          2\n",
       "          2.0          2\n",
       "          3.0          2\n",
       "          4.0          4\n",
       "8         1.0          3\n",
       "          2.0          5\n",
       "          3.0          2\n",
       "          4.0          3\n",
       "9         1.0          2\n",
       "          2.0          2\n",
       "          3.0          2\n",
       "          4.0          2\n",
       "Name: Número, dtype: int64"
      ]
     },
     "execution_count": 24,
     "metadata": {},
     "output_type": "execute_result"
    }
   ],
   "source": [
    "#quantidade de individuos nas parcelas da copa\n",
    "copa_with_nan = df_with_nan[df_with_nan['Área'] == 'Copa']\n",
    "abundancia_copa = copa_with_nan.groupby(['Palmeira','Quadrante'])['Número'].count() \n",
    "abundancia_copa"
   ]
  },
  {
   "cell_type": "code",
   "execution_count": 25,
   "metadata": {},
   "outputs": [],
   "source": [
    "#Percentual de individuos sob as copas\n",
    "total_parcelas_copa = abundancia_copa.count()\n",
    "copa_0_2 = (abundancia_copa[abundancia_copa < 3 ].count() / total_parcelas_copa) * 100\n",
    "copa_3_5 = (abundancia_copa[abundancia_copa[(abundancia_copa >= 3) & (abundancia_copa <6)]].count()/ total_parcelas_copa) * 100\n",
    "copa_6_8 = (abundancia_copa[abundancia_copa[(abundancia_copa > 6) ]].count() / total_parcelas_copa) * 100\n",
    "dados_copa = [copa_0_2,copa_3_5,copa_6_8]"
   ]
  },
  {
   "cell_type": "code",
   "execution_count": 26,
   "metadata": {},
   "outputs": [
    {
     "data": {
      "text/plain": [
       "[75.0, 25.0, 0.0]"
      ]
     },
     "execution_count": 26,
     "metadata": {},
     "output_type": "execute_result"
    }
   ],
   "source": [
    "dados_copa"
   ]
  },
  {
   "cell_type": "code",
   "execution_count": 27,
   "metadata": {},
   "outputs": [
    {
     "data": {
      "text/plain": [
       "Text(0.5, 0, 'Quantidade de regenerantes por parcela sob as copas')"
      ]
     },
     "execution_count": 27,
     "metadata": {},
     "output_type": "execute_result"
    },
    {
     "data": {
      "image/png": "[encoded data removed]",
      "text/plain": [
       "<Figure size 432x288 with 1 Axes>"
      ]
     },
     "metadata": {
      "needs_background": "light"
     },
     "output_type": "display_data"
    }
   ],
   "source": [
    "legendas = ['0 a 2', '3 a 5', '6 ou mais']\n",
    "dados = dados_copa\n",
    "\n",
    "ax = plt.figure().gca()\n",
    "ax.bar(legendas,dados)\n",
    "plt.title (\"% regenerantes nas parcelas sob as copas\")\n",
    "plt.ylabel(\"%\")\n",
    "plt.xlabel(\"Quantidade de regenerantes por parcela sob as copas\")\n"
   ]
  },
  {
   "cell_type": "code",
   "execution_count": 28,
   "metadata": {},
   "outputs": [
    {
     "data": {
      "text/plain": [
       "Palmeira  Quadrante\n",
       "10        1.0          3\n",
       "          2.0          5\n",
       "          3.0          3\n",
       "          4.0          3\n",
       "6         1.0          5\n",
       "          2.0          5\n",
       "          3.0          4\n",
       "          4.0          5\n",
       "7         1.0          9\n",
       "          2.0          2\n",
       "          3.0          8\n",
       "          4.0          6\n",
       "8         1.0          3\n",
       "          2.0          9\n",
       "          3.0          7\n",
       "          4.0          3\n",
       "9         1.0          2\n",
       "          2.0          6\n",
       "          3.0          6\n",
       "          4.0          0\n",
       "Name: Número, dtype: int64"
      ]
     },
     "execution_count": 28,
     "metadata": {},
     "output_type": "execute_result"
    }
   ],
   "source": [
    "#quantidade de individuos nas parcelas no entorno\n",
    "entorno_with_nan = df_with_nan[df_with_nan['Área'] == 'Entorno']\n",
    "abundancia_entorno = entorno_with_nan.groupby(['Palmeira','Quadrante'])['Número'].count() \n",
    "abundancia_entorno"
   ]
  },
  {
   "cell_type": "code",
   "execution_count": 29,
   "metadata": {},
   "outputs": [],
   "source": [
    "#Percentual de invidiviudos nas parcelas do entorno\n",
    "total_parcelas_entorno = abundancia_entorno.count()\n",
    "entorno_0_2 = (abundancia_entorno[abundancia_entorno < 3 ].count() / total_parcelas_entorno) * 100\n",
    "entorno_3_5 = (abundancia_entorno[abundancia_entorno[(abundancia_entorno >= 3) & (abundancia_entorno <6)]].count() / total_parcelas_entorno) * 100\n",
    "entorno_6_14 =(abundancia_entorno[abundancia_entorno[(abundancia_entorno >= 6) ]].count() / total_parcelas_entorno) * 100\n",
    "dados_entorno = [entorno_0_2,entorno_3_5,entorno_6_14]"
   ]
  },
  {
   "cell_type": "code",
   "execution_count": 30,
   "metadata": {},
   "outputs": [
    {
     "data": {
      "text/plain": [
       "[15.0, 50.0, 35.0]"
      ]
     },
     "execution_count": 30,
     "metadata": {},
     "output_type": "execute_result"
    }
   ],
   "source": [
    "dados_entorno"
   ]
  },
  {
   "cell_type": "code",
   "execution_count": 31,
   "metadata": {},
   "outputs": [
    {
     "data": {
      "text/plain": [
       "Text(0.5, 0, 'Quantidade de regenerantes por parcela no entorno')"
      ]
     },
     "execution_count": 31,
     "metadata": {},
     "output_type": "execute_result"
    },
    {
     "data": {
      "image/png": "[encoded data removed]",
      "text/plain": [
       "<Figure size 432x288 with 1 Axes>"
      ]
     },
     "metadata": {
      "needs_background": "light"
     },
     "output_type": "display_data"
    }
   ],
   "source": [
    "legendas = ['0 a 2', '3 a 5', '6 ou mais']\n",
    "dados = dados_entorno\n",
    "\n",
    "ax = plt.figure().gca()\n",
    "ax.bar(legendas,dados)\n",
    "plt.title (\"% regenerantes nas parcelas no entorno\")\n",
    "plt.ylabel(\"%\")\n",
    "plt.xlabel(\"Quantidade de regenerantes por parcela no entorno\")\n"
   ]
  },
  {
   "cell_type": "code",
   "execution_count": 32,
   "metadata": {},
   "outputs": [
    {
     "data": {
      "text/plain": [
       "Entorno    94\n",
       "Copa       40\n",
       "Name: Área, dtype: int64"
      ]
     },
     "execution_count": 32,
     "metadata": {},
     "output_type": "execute_result"
    }
   ],
   "source": [
    "#Dataframe sem quadrantes e numeros nulos (df_without_nan)\n",
    "df_without_nan = df.copy()\n",
    "df_without_nan.dropna(subset=[ 'Número'], inplace=True)\n",
    "df_without_nan['Área'].value_counts()"
   ]
  },
  {
   "cell_type": "code",
   "execution_count": 33,
   "metadata": {},
   "outputs": [
    {
     "data": {
      "text/plain": [
       "Data                   40\n",
       "Palmeira               40\n",
       "Altura Palmeira (m)    40\n",
       "Área                   40\n",
       "Quadrante              40\n",
       "Número                 40\n",
       "Família                40\n",
       "Gênero                 40\n",
       "Espécie                40\n",
       "Altura (cm)            40\n",
       "Dap (mm)               40\n",
       "Nativa                 40\n",
       "Estágio sucessional    40\n",
       "Obs                     0\n",
       "dtype: int64"
      ]
     },
     "execution_count": 33,
     "metadata": {},
     "output_type": "execute_result"
    }
   ],
   "source": [
    "#contar registros em cada coluna - área da copa\n",
    "df_without_nan[df_without_nan['Área'] == 'Copa'].count()"
   ]
  },
  {
   "cell_type": "code",
   "execution_count": 34,
   "metadata": {},
   "outputs": [
    {
     "data": {
      "text/plain": [
       "Data                   94\n",
       "Palmeira               94\n",
       "Altura Palmeira (m)    94\n",
       "Área                   94\n",
       "Quadrante              94\n",
       "Número                 94\n",
       "Família                94\n",
       "Gênero                 94\n",
       "Espécie                94\n",
       "Altura (cm)            94\n",
       "Dap (mm)               94\n",
       "Nativa                 94\n",
       "Estágio sucessional    94\n",
       "Obs                    12\n",
       "dtype: int64"
      ]
     },
     "execution_count": 34,
     "metadata": {},
     "output_type": "execute_result"
    }
   ],
   "source": [
    "#contar registros em cada coluna - área do entorno\n",
    "df_without_nan[df_without_nan['Área'] == 'Entorno'].count()"
   ]
  },
  {
   "cell_type": "code",
   "execution_count": 35,
   "metadata": {},
   "outputs": [
    {
     "data": {
      "text/plain": [
       "Text(0, 0.5, 'Número de indivíduos')"
      ]
     },
     "execution_count": 35,
     "metadata": {},
     "output_type": "execute_result"
    },
    {
     "data": {
      "image/png": "[encoded data removed]",
      "text/plain": [
       "<Figure size 432x288 with 1 Axes>"
      ]
     },
     "metadata": {
      "needs_background": "light"
     },
     "output_type": "display_data"
    }
   ],
   "source": [
    "#Gráfico de barras da area das especies da area da copa ordenadas de forma descendente\n",
    "plot_copa = df_without_nan[df_without_nan['Área'] == 'Copa']\n",
    "plot_copa =  plot_copa[~plot_copa['Espécie'].isin(['Pendente'] )]\n",
    "plot_copa = plot_copa.groupby('Espécie')['Número'].count() \n",
    "plot_copa = plot_copa[plot_copa > 0]\n",
    "plot_copa = plot_copa.sort_values(ascending = False)\n",
    "\n",
    "cmap = plt.cm.tab10\n",
    "colors = cmap(np.arange(len(df)) % cmap.N)\n",
    "\n",
    "ax = plt.figure().gca()\n",
    "ax = plot_copa.plot.bar(color=colors)\n",
    "ax.yaxis.set_major_locator(MaxNLocator(integer=True))\n",
    "plt.yticks(np.arange(0, 30, 5))\n",
    "plt.xticks(fontstyle='italic')\n",
    "plt.title (\"Espécies na Copa\")\n",
    "plt.ylabel(\"Número de indivíduos\")"
   ]
  },
  {
   "cell_type": "code",
   "execution_count": 36,
   "metadata": {},
   "outputs": [
    {
     "data": {
      "text/plain": [
       "Text(0, 0.5, 'Número de indivíduos')"
      ]
     },
     "execution_count": 36,
     "metadata": {},
     "output_type": "execute_result"
    },
    {
     "data": {
      "image/png": "[encoded data removed]",
      "text/plain": [
       "<Figure size 432x288 with 1 Axes>"
      ]
     },
     "metadata": {
      "needs_background": "light"
     },
     "output_type": "display_data"
    }
   ],
   "source": [
    "#Gráfico de barras da area das especies da area do entorno ordenadas de forma descendente\n",
    "plot_entorno = df_without_nan[['Área','Espécie','Número']]\n",
    "plot_entorno= plot_entorno[plot_entorno['Área'] == 'Entorno']\n",
    "plot_entorno = plot_entorno.groupby('Espécie')['Número'].count()\n",
    "plot_entorno = plot_entorno[ plot_entorno > 0 ]\n",
    "plot_entorno = plot_entorno.sort_values(ascending = False)\n",
    "\n",
    "cmap = plt.cm.tab10\n",
    "colors = cmap(np.arange(len(df)) % cmap.N)\n",
    "\n",
    "ax = plt.figure().gca()\n",
    "ax = plot_entorno.plot.bar(color=colors)\n",
    "ax.yaxis.set_major_locator(MaxNLocator(integer=True))\n",
    "plt.yticks(np.arange(0, 30, 5))\n",
    "plt.xticks(fontstyle='italic')\n",
    "plt.title (\"Espécies no Entorno\")\n",
    "plt.ylabel(\"Número de indivíduos\")"
   ]
  },
  {
   "cell_type": "code",
   "execution_count": 37,
   "metadata": {},
   "outputs": [
    {
     "data": {
      "image/png": "[encoded data removed]",
      "text/plain": [
       "<Figure size 360x360 with 1 Axes>"
      ]
     },
     "metadata": {},
     "output_type": "display_data"
    }
   ],
   "source": [
    "#Percentual de indivíduos arbóreos regenerantes sob a copa de palmeiras Livistona chinensis de 6 m de altura e no entorno delas.\n",
    "\n",
    "regenerantes_por_area = df_without_nan[~df_without_nan['Espécie'].isin(['Pendente'] )]\n",
    "regenerantes_por_area = regenerantes_por_area.groupby('Área', as_index=False)['Número'].count() \n",
    "regenerantes_por_area = regenerantes_por_area[regenerantes_por_area['Número'] > 0]\n",
    "regenerantes_por_area = regenerantes_por_area.dropna()\n",
    "\n",
    "labels = regenerantes_por_area['Área'].tolist()\n",
    "\n",
    "sizes =  regenerantes_por_area['Número'].tolist()\n",
    "\n",
    "explode = [0.1, 0.1]\n",
    "\n",
    "fig, ax = plt.subplots(figsize=(5, 5))\n",
    "ax.axis('equal')\n",
    "\n",
    "pie = ax.pie(sizes, explode=explode, \n",
    "             autopct='%1.2f%%', pctdistance =0.80,textprops=dict(color=\"black\"))\n",
    "\n",
    "plt.legend(pie[0], labels, bbox_to_anchor=(1.5,0.5), loc=\"right\")\n",
    "\n",
    "plt.show()"
   ]
  },
  {
   "cell_type": "code",
   "execution_count": 38,
   "metadata": {},
   "outputs": [
    {
     "name": "stderr",
     "output_type": "stream",
     "text": [
      "/home/tania/anaconda3/lib/python3.6/site-packages/ipykernel_launcher.py:3: UserWarning: Boolean Series key will be reindexed to match DataFrame index.\n",
      "  This is separate from the ipykernel package so we can avoid doing imports until\n"
     ]
    },
    {
     "data": {
      "image/png": "[encoded data removed]",
      "text/plain": [
       "<Figure size 360x360 with 1 Axes>"
      ]
     },
     "metadata": {},
     "output_type": "display_data"
    }
   ],
   "source": [
    "#Proporção de indivíduos arbóreos regenerantes nativos e exóticos sob as copas de palmeiras Livistona chinensis de 6 m de altura e no entorno delas.\n",
    "regenerantes_por_origem = df_without_nan[df_without_nan['Área'] == 'Copa']\n",
    "regenerantes_por_origem = regenerantes_por_origem[~df['Espécie'].isin(['Pendente'] )]\n",
    "regenerantes_por_origem = regenerantes_por_origem.groupby('Nativa', as_index=False)['Número'].count() \n",
    "regenerantes_por_origem = regenerantes_por_origem[regenerantes_por_origem['Número'] > 0]\n",
    "regenerantes_por_origem = regenerantes_por_origem.dropna()\n",
    "\n",
    "labels = ['Exótico', 'Nativo', 'Não Classificado']\n",
    "\n",
    "sizes =  regenerantes_por_origem['Número'].tolist()\n",
    "\n",
    "explode = [0.1, 0.1, 0.1]\n",
    "\n",
    "\n",
    "fig, ax = plt.subplots(figsize=(5, 5))\n",
    "ax.axis('equal')\n",
    "\n",
    "pie = ax.pie(sizes, explode=explode, \n",
    "             autopct='%1.2f%%', pctdistance =0.80,textprops=dict(color=\"black\"))\n",
    "\n",
    "plt.legend(pie[0], labels, bbox_to_anchor=(1.5,0.5), loc=\"right\")\n",
    "\n",
    "plt.show()"
   ]
  },
  {
   "cell_type": "code",
   "execution_count": 39,
   "metadata": {},
   "outputs": [
    {
     "name": "stderr",
     "output_type": "stream",
     "text": [
      "/home/tania/anaconda3/lib/python3.6/site-packages/ipykernel_launcher.py:3: UserWarning: Boolean Series key will be reindexed to match DataFrame index.\n",
      "  This is separate from the ipykernel package so we can avoid doing imports until\n"
     ]
    },
    {
     "data": {
      "image/png": "[encoded data removed]",
      "text/plain": [
       "<Figure size 360x360 with 1 Axes>"
      ]
     },
     "metadata": {},
     "output_type": "display_data"
    }
   ],
   "source": [
    "#Proporção de indivíduos arbóreos regenerantes nativos e exóticos no entorno palmeiras Livistona chinensis de 6 m de altura e no entorno delas.\n",
    "regenerantes_por_origem = df_without_nan[df_without_nan['Área'] == 'Entorno']\n",
    "regenerantes_por_origem = regenerantes_por_origem[~df['Espécie'].isin(['Pendente'] )]\n",
    "regenerantes_por_origem = regenerantes_por_origem.groupby('Nativa', as_index=False)['Número'].count() \n",
    "regenerantes_por_origem = regenerantes_por_origem[regenerantes_por_origem['Número'] > 0]\n",
    "regenerantes_por_origem = regenerantes_por_origem.dropna()\n",
    "\n",
    "labels = ['Exótico', 'Nativo', 'Não Classificado']\n",
    "\n",
    "sizes =  regenerantes_por_origem['Número'].tolist()\n",
    "\n",
    "explode = [0.1, 0.1, 0.1]\n",
    "\n",
    "fig, ax = plt.subplots(figsize=(5, 5))\n",
    "ax.axis('equal')\n",
    "\n",
    "pie = ax.pie(sizes, explode=explode, \n",
    "             autopct='%1.2f%%', pctdistance =0.80,textprops=dict(color=\"black\"))\n",
    "\n",
    "plt.legend(pie[0], labels, bbox_to_anchor=(1.5,0.5), loc=\"right\")\n",
    "\n",
    "plt.show()"
   ]
  },
  {
   "cell_type": "code",
   "execution_count": 40,
   "metadata": {},
   "outputs": [
    {
     "name": "stderr",
     "output_type": "stream",
     "text": [
      "/home/tania/anaconda3/lib/python3.6/site-packages/ipykernel_launcher.py:3: UserWarning: Boolean Series key will be reindexed to match DataFrame index.\n",
      "  This is separate from the ipykernel package so we can avoid doing imports until\n"
     ]
    },
    {
     "data": {
      "image/png": "[encoded data removed]",
      "text/plain": [
       "<Figure size 360x360 with 1 Axes>"
      ]
     },
     "metadata": {},
     "output_type": "display_data"
    }
   ],
   "source": [
    " #Proporção de indivíduos arbóreos regenerantes na COPA por ESTAGIO SUCESSIONAL\n",
    "regenerantes_por_estagio = df_without_nan[df_without_nan['Área'] == 'Copa']\n",
    "regenerantes_por_estagio = regenerantes_por_estagio[~df['Espécie'].isin(['Pendente'] )]\n",
    "regenerantes_por_estagio = regenerantes_por_estagio.groupby('Estágio sucessional', as_index=False)['Número'].count() \n",
    "regenerantes_por_estagio = regenerantes_por_estagio[regenerantes_por_estagio['Número'] > 0]\n",
    "regenerantes_por_estagio = regenerantes_por_estagio.dropna()\n",
    "\n",
    "labels = regenerantes_por_estagio['Estágio sucessional'].tolist()\n",
    "\n",
    "sizes =  regenerantes_por_estagio['Número'].tolist()\n",
    "labels\n",
    "explode = [0.1, 0.1, 0.1, 0.1]\n",
    "\n",
    "fig, ax = plt.subplots(figsize=(5, 5))\n",
    "ax.axis('equal')\n",
    "\n",
    "pie = ax.pie(sizes, explode=explode,\n",
    "             autopct='%1.2f%%', pctdistance =0.80,textprops=dict(color=\"black\"))\n",
    "\n",
    "plt.legend(pie[0], labels, bbox_to_anchor=(1.5,0.5), loc=\"right\")\n",
    "\n",
    "plt.show()"
   ]
  },
  {
   "cell_type": "code",
   "execution_count": 41,
   "metadata": {},
   "outputs": [
    {
     "data": {
      "text/plain": [
       "['Não Classificada', 'Secundária Inicial', 'Secundária Tardia', 'Umbrófila']"
      ]
     },
     "execution_count": 41,
     "metadata": {},
     "output_type": "execute_result"
    }
   ],
   "source": [
    "labels"
   ]
  },
  {
   "cell_type": "code",
   "execution_count": 42,
   "metadata": {},
   "outputs": [
    {
     "name": "stderr",
     "output_type": "stream",
     "text": [
      "/home/tania/anaconda3/lib/python3.6/site-packages/ipykernel_launcher.py:3: UserWarning: Boolean Series key will be reindexed to match DataFrame index.\n",
      "  This is separate from the ipykernel package so we can avoid doing imports until\n"
     ]
    },
    {
     "data": {
      "image/png": "[encoded data removed]",
      "text/plain": [
       "<Figure size 360x360 with 1 Axes>"
      ]
     },
     "metadata": {},
     "output_type": "display_data"
    }
   ],
   "source": [
    " #Proporção de indivíduos arbóreos regenerantes Pioneiros e Não Pioneiros no entorno de palmeiras Livistona chinensis de 6 m de altura e no entorno delas.\n",
    "regenerantes_por_estagio = df_without_nan[df_without_nan['Área'] == 'Entorno']\n",
    "regenerantes_por_estagio = regenerantes_por_estagio[~df['Espécie'].isin(['Pendente'] )]\n",
    "regenerantes_por_estagio = regenerantes_por_estagio.groupby('Estágio sucessional', as_index=False)['Número'].count() \n",
    "regenerantes_por_estagio = regenerantes_por_estagio[regenerantes_por_estagio['Número'] > 0]\n",
    "regenerantes_por_estagio = regenerantes_por_estagio.dropna()\n",
    "\n",
    "labels = regenerantes_por_estagio['Estágio sucessional'].tolist()\n",
    "\n",
    "sizes =  regenerantes_por_estagio['Número'].tolist()\n",
    "\n",
    "explode = [0.1, 0.1, 0.1, 0.1, 0.1]\n",
    "\n",
    "fig, ax = plt.subplots(figsize=(5, 5))\n",
    "ax.axis('equal')\n",
    "\n",
    "pie = ax.pie(sizes, explode=explode, \n",
    "             autopct='%1.2f%%', pctdistance =0.80,textprops=dict(color=\"black\"))\n",
    "\n",
    "plt.legend(pie[0], labels, bbox_to_anchor=(1.5,0.5), loc=\"right\")\n",
    "\n",
    "plt.show()"
   ]
  },
  {
   "cell_type": "code",
   "execution_count": 43,
   "metadata": {},
   "outputs": [
    {
     "data": {
      "text/html": [
       "<div>\n",
       "<style scoped>\n",
       "    .dataframe tbody tr th:only-of-type {\n",
       "        vertical-align: middle;\n",
       "    }\n",
       "\n",
       "    .dataframe tbody tr th {\n",
       "        vertical-align: top;\n",
       "    }\n",
       "\n",
       "    .dataframe thead th {\n",
       "        text-align: right;\n",
       "    }\n",
       "</style>\n",
       "<table border=\"1\" class=\"dataframe\">\n",
       "  <thead>\n",
       "    <tr style=\"text-align: right;\">\n",
       "      <th></th>\n",
       "      <th>Estágio sucessional</th>\n",
       "      <th>Número</th>\n",
       "    </tr>\n",
       "  </thead>\n",
       "  <tbody>\n",
       "    <tr>\n",
       "      <th>0</th>\n",
       "      <td>Não Classificada</td>\n",
       "      <td>9</td>\n",
       "    </tr>\n",
       "    <tr>\n",
       "      <th>1</th>\n",
       "      <td>Pioneira</td>\n",
       "      <td>1</td>\n",
       "    </tr>\n",
       "    <tr>\n",
       "      <th>2</th>\n",
       "      <td>Secundária Inicial</td>\n",
       "      <td>39</td>\n",
       "    </tr>\n",
       "    <tr>\n",
       "      <th>3</th>\n",
       "      <td>Secundária Tardia</td>\n",
       "      <td>16</td>\n",
       "    </tr>\n",
       "    <tr>\n",
       "      <th>4</th>\n",
       "      <td>Umbrófila</td>\n",
       "      <td>29</td>\n",
       "    </tr>\n",
       "  </tbody>\n",
       "</table>\n",
       "</div>"
      ],
      "text/plain": [
       "  Estágio sucessional  Número\n",
       "0    Não Classificada       9\n",
       "1            Pioneira       1\n",
       "2  Secundária Inicial      39\n",
       "3   Secundária Tardia      16\n",
       "4           Umbrófila      29"
      ]
     },
     "execution_count": 43,
     "metadata": {},
     "output_type": "execute_result"
    }
   ],
   "source": [
    "regenerantes_por_estagio"
   ]
  },
  {
   "cell_type": "code",
   "execution_count": 44,
   "metadata": {},
   "outputs": [
    {
     "data": {
      "text/plain": [
       "['Não Classificada',\n",
       " 'Pioneira',\n",
       " 'Secundária Inicial',\n",
       " 'Secundária Tardia',\n",
       " 'Umbrófila']"
      ]
     },
     "execution_count": 44,
     "metadata": {},
     "output_type": "execute_result"
    }
   ],
   "source": [
    "labels"
   ]
  },
  {
   "cell_type": "code",
   "execution_count": 45,
   "metadata": {},
   "outputs": [],
   "source": [
    "#Distribuição das espécies  regenerantes\n",
    "\n",
    "#especies copa\n",
    "all_copa = df_without_nan[df_without_nan['Área'] == 'Copa']\n",
    "all_copa = all_copa[~all_copa['Espécie'].isin(['Pendente'] )]\n",
    "all_copa = all_copa['Espécie']\n",
    "all_copa = all_copa.drop_duplicates()\n",
    "\n",
    "#especies entorno\n",
    "all_entorno = df_without_nan[df_without_nan['Área'] == 'Entorno']\n",
    "all_entorno = all_entorno[~all_entorno['Espécie'].isin(['Pendente'] )]\n",
    "all_entorno = all_entorno['Espécie']\n",
    "all_entorno = all_entorno.drop_duplicates()\n",
    "\n",
    "#especies comuns nos dois grupos                     \n",
    "comum_copa_entorno = all_copa[all_copa.isin(all_entorno)]\n",
    "\n",
    "#especies exclusivas de determinada area\n",
    "only_copa =  all_copa[~all_copa.isin(comum_copa_entorno)]\n",
    "only_entorno =  all_entorno[~all_entorno.isin(comum_copa_entorno)]\n"
   ]
  },
  {
   "cell_type": "code",
   "execution_count": 46,
   "metadata": {},
   "outputs": [
    {
     "data": {
      "text/plain": [
       "3      Guarea macrophylla\n",
       "135             Citrus sp\n",
       "Name: Espécie, dtype: object"
      ]
     },
     "execution_count": 46,
     "metadata": {},
     "output_type": "execute_result"
    }
   ],
   "source": [
    "#apenas copa\n",
    "\n",
    "only_copa"
   ]
  },
  {
   "cell_type": "code",
   "execution_count": 47,
   "metadata": {},
   "outputs": [
    {
     "data": {
      "text/plain": [
       "6              Indeterminada 6\n",
       "9            Mollinedia uleana\n",
       "10           Allophylus edulis\n",
       "14             Indeterminada 8\n",
       "15                    Ficus sp\n",
       "19             Sloanea hirsuta\n",
       "54                Myrciaria sp\n",
       "75        Matayba elaeagnoides\n",
       "105       Mollinedia clavigera\n",
       "109            Indeterminada 9\n",
       "119      Mollinedia schottiana\n",
       "122            Indeterminada 7\n",
       "123    Allophylus petiolulatus\n",
       "125    Cestrum schlechtendalii\n",
       "Name: Espécie, dtype: object"
      ]
     },
     "execution_count": 47,
     "metadata": {},
     "output_type": "execute_result"
    }
   ],
   "source": [
    "#apenas entorno\n",
    "only_entorno"
   ]
  },
  {
   "cell_type": "code",
   "execution_count": 48,
   "metadata": {},
   "outputs": [
    {
     "data": {
      "text/plain": [
       "0               Cupania oblongifolia\n",
       "24                    Coffea arabica\n",
       "25                    Euterpe edulis\n",
       "29    Archontophoenix cunninghamiana\n",
       "33              Psychotria suterella\n",
       "60                Sorocea bonplandii\n",
       "61              Myrciaria floribunda\n",
       "65              Eugenia brasiliensis\n",
       "Name: Espécie, dtype: object"
      ]
     },
     "execution_count": 48,
     "metadata": {},
     "output_type": "execute_result"
    }
   ],
   "source": [
    "#especies em comum\n",
    "comum_copa_entorno"
   ]
  },
  {
   "cell_type": "code",
   "execution_count": 49,
   "metadata": {},
   "outputs": [
    {
     "data": {
      "text/html": [
       "<div>\n",
       "<style scoped>\n",
       "    .dataframe tbody tr th:only-of-type {\n",
       "        vertical-align: middle;\n",
       "    }\n",
       "\n",
       "    .dataframe tbody tr th {\n",
       "        vertical-align: top;\n",
       "    }\n",
       "\n",
       "    .dataframe thead th {\n",
       "        text-align: right;\n",
       "    }\n",
       "</style>\n",
       "<table border=\"1\" class=\"dataframe\">\n",
       "  <thead>\n",
       "    <tr style=\"text-align: right;\">\n",
       "      <th></th>\n",
       "      <th>Área</th>\n",
       "      <th>Quantidade</th>\n",
       "    </tr>\n",
       "  </thead>\n",
       "  <tbody>\n",
       "    <tr>\n",
       "      <th>0</th>\n",
       "      <td>Copa</td>\n",
       "      <td>2</td>\n",
       "    </tr>\n",
       "    <tr>\n",
       "      <th>0</th>\n",
       "      <td>Entorno</td>\n",
       "      <td>14</td>\n",
       "    </tr>\n",
       "    <tr>\n",
       "      <th>0</th>\n",
       "      <td>Ambos</td>\n",
       "      <td>8</td>\n",
       "    </tr>\n",
       "  </tbody>\n",
       "</table>\n",
       "</div>"
      ],
      "text/plain": [
       "      Área  Quantidade\n",
       "0     Copa           2\n",
       "0  Entorno          14\n",
       "0    Ambos           8"
      ]
     },
     "execution_count": 49,
     "metadata": {},
     "output_type": "execute_result"
    }
   ],
   "source": [
    "#merge\n",
    "only_copa_qtd = pd.DataFrame({'Área': ['Copa'],\n",
    "                        'Quantidade': [only_copa.count()] })\n",
    "\n",
    "only_entorno_qtd = pd.DataFrame({'Área': ['Entorno'],\n",
    "                        'Quantidade': [only_entorno.count()] })\n",
    "\n",
    "comum_copa_entorno_qtd = pd.DataFrame({'Área': ['Ambos'],\n",
    "                        'Quantidade': [comum_copa_entorno.count()] })\n",
    "\n",
    "merge = [only_copa_qtd,only_entorno_qtd, comum_copa_entorno_qtd]\n",
    "resultado_merge = pd.concat(merge)\n",
    "\n",
    "resultado_merge"
   ]
  },
  {
   "cell_type": "code",
   "execution_count": 50,
   "metadata": {},
   "outputs": [
    {
     "data": {
      "image/png": "[encoded data removed]",
      "text/plain": [
       "<Figure size 360x360 with 1 Axes>"
      ]
     },
     "metadata": {},
     "output_type": "display_data"
    }
   ],
   "source": [
    "#grafico\n",
    "\n",
    "labels = resultado_merge['Área'].tolist()\n",
    "\n",
    "sizes =  resultado_merge['Quantidade'].tolist()\n",
    "\n",
    "explode = [0.1, 0.1, 0.1]\n",
    "\n",
    "fig, ax = plt.subplots(figsize=(5, 5))\n",
    "ax.axis('equal')\n",
    "\n",
    "pie = ax.pie(sizes, explode=explode,\n",
    "             autopct='%1.2f%%', pctdistance =0.80,textprops=dict(color=\"black\"))\n",
    "\n",
    "plt.legend(pie[0], labels, bbox_to_anchor=(1.5,0.5), loc=\"right\")\n",
    "\n",
    "plt.show()"
   ]
  },
  {
   "cell_type": "code",
   "execution_count": 51,
   "metadata": {},
   "outputs": [
    {
     "data": {
      "text/plain": [
       "['Copa', 'Entorno', 'Ambos']"
      ]
     },
     "execution_count": 51,
     "metadata": {},
     "output_type": "execute_result"
    }
   ],
   "source": [
    "labels"
   ]
  },
  {
   "cell_type": "code",
   "execution_count": 52,
   "metadata": {},
   "outputs": [
    {
     "data": {
      "text/html": [
       "<div>\n",
       "<style scoped>\n",
       "    .dataframe tbody tr th:only-of-type {\n",
       "        vertical-align: middle;\n",
       "    }\n",
       "\n",
       "    .dataframe tbody tr th {\n",
       "        vertical-align: top;\n",
       "    }\n",
       "\n",
       "    .dataframe thead th {\n",
       "        text-align: right;\n",
       "    }\n",
       "</style>\n",
       "<table border=\"1\" class=\"dataframe\">\n",
       "  <thead>\n",
       "    <tr style=\"text-align: right;\">\n",
       "      <th></th>\n",
       "      <th>Área</th>\n",
       "      <th>Quantidade</th>\n",
       "    </tr>\n",
       "  </thead>\n",
       "  <tbody>\n",
       "    <tr>\n",
       "      <th>0</th>\n",
       "      <td>Copa</td>\n",
       "      <td>40</td>\n",
       "    </tr>\n",
       "    <tr>\n",
       "      <th>0</th>\n",
       "      <td>Entorno</td>\n",
       "      <td>94</td>\n",
       "    </tr>\n",
       "  </tbody>\n",
       "</table>\n",
       "</div>"
      ],
      "text/plain": [
       "      Área  Quantidade\n",
       "0     Copa          40\n",
       "0  Entorno          94"
      ]
     },
     "execution_count": 52,
     "metadata": {},
     "output_type": "execute_result"
    }
   ],
   "source": [
    "#Proporcao de individuos regenerantes na copa e no entorno \n",
    "\n",
    "#copa\n",
    "copa_total = df_without_nan[df_without_nan['Área'] == 'Copa']\n",
    "copa_total = copa_total[~copa_total['Espécie'].isin(['Pendente'] )]\n",
    "copa_total = copa_total[['Espécie','Número', 'Área']]\n",
    "\n",
    "copa_total_consolidada = pd.DataFrame({'Área': ['Copa'],\n",
    "                        'Quantidade': [copa_total['Número'].count()] })\n",
    "\n",
    "#entorno\n",
    "entorno_total = df[df['Área'] == 'Entorno']\n",
    "entorno_total = entorno_total[~entorno_total['Espécie'].isin(['Pendente'] )]\n",
    "entorno_total = entorno_total[['Espécie','Número', 'Área']]\n",
    "\n",
    "entorno_total_consolidado = pd.DataFrame({'Área': ['Entorno'],\n",
    "                        'Quantidade': [entorno_total['Número'].count()] })\n",
    "\n",
    "merge = [copa_total_consolidada, entorno_total_consolidado]\n",
    "resultado_merge = pd.concat(merge)\n",
    "\n",
    "resultado_merge\n"
   ]
  },
  {
   "cell_type": "code",
   "execution_count": 53,
   "metadata": {},
   "outputs": [
    {
     "data": {
      "image/png": "[encoded data removed]",
      "text/plain": [
       "<Figure size 360x360 with 1 Axes>"
      ]
     },
     "metadata": {},
     "output_type": "display_data"
    }
   ],
   "source": [
    "#Grafico\n",
    "\n",
    "labels = resultado_merge['Área'].tolist()\n",
    "\n",
    "sizes =  resultado_merge['Quantidade'].tolist()\n",
    "\n",
    "explode = [0.1, 0.1]\n",
    "\n",
    "fig, ax = plt.subplots(figsize=(5, 5))\n",
    "ax.axis('equal')\n",
    "\n",
    "pie = ax.pie(sizes, explode=explode, \n",
    "             autopct='%1.2f%%', pctdistance =0.80,textprops=dict(color=\"black\"))\n",
    "\n",
    "plt.legend(pie[0], labels, bbox_to_anchor=(1.5,0.5), loc=\"right\")\n",
    "\n",
    "plt.show()"
   ]
  },
  {
   "cell_type": "code",
   "execution_count": 54,
   "metadata": {},
   "outputs": [],
   "source": [
    "#especies copa por estagio sucessional\n",
    "all_copa = df_without_nan[df_without_nan['Área'] == 'Copa']\n",
    "all_copa_secundaria_inicial =  all_copa[all_copa['Estágio sucessional'] == 'Secundária Inicial']\n",
    "all_copa_secundaria_tardia =  all_copa[all_copa['Estágio sucessional'] == 'Secundária Tardia']\n",
    "all_copa_pioneira =  all_copa[all_copa['Estágio sucessional'] == 'Pioneira']\n",
    "all_copa_umbrofila=  all_copa[all_copa['Estágio sucessional'] == 'Umbrófila']"
   ]
  },
  {
   "cell_type": "code",
   "execution_count": 55,
   "metadata": {},
   "outputs": [
    {
     "data": {
      "image/png": "[encoded data removed]",
      "text/plain": [
       "<Figure size 360x360 with 1 Axes>"
      ]
     },
     "metadata": {},
     "output_type": "display_data"
    }
   ],
   "source": [
    "#Proporcao de especies por estagio secundaria incial nas copas\n",
    "all_copa_secundaria_inicial = all_copa_secundaria_inicial.groupby('Espécie', as_index=False)['Número'].count() \n",
    "labels = all_copa_secundaria_inicial['Espécie'].tolist()\n",
    "sizes =  all_copa_secundaria_inicial['Número'].tolist()\n",
    "fig, ax = plt.subplots(figsize=(5, 5))\n",
    "ax.axis('equal')\n",
    "explode = [0.1]\n",
    "pie = ax.pie(sizes, explode,\n",
    "             autopct='%1.2f%%', pctdistance =0.80,textprops=dict(color=\"black\"))\n",
    "\n",
    "plt.legend(pie[0], labels, bbox_to_anchor=(1.5,0.5), loc=\"right\",  prop={ 'style': 'italic'} )\n",
    "plt.show()"
   ]
  },
  {
   "cell_type": "code",
   "execution_count": 56,
   "metadata": {},
   "outputs": [
    {
     "data": {
      "image/png": "[encoded data removed]",
      "text/plain": [
       "<Figure size 360x360 with 1 Axes>"
      ]
     },
     "metadata": {},
     "output_type": "display_data"
    }
   ],
   "source": [
    "#Proporcao de especies por estagio secundaria tardia nas copas\n",
    "all_copa_secundaria_tardia = all_copa_secundaria_tardia.groupby('Espécie', as_index=False)['Número'].count() \n",
    "labels = all_copa_secundaria_tardia['Espécie'].tolist()\n",
    "sizes =  all_copa_secundaria_tardia['Número'].tolist()\n",
    "fig, ax = plt.subplots(figsize=(5, 5))\n",
    "ax.axis('equal')\n",
    "explode = [0.1, 0.1, 0.1]\n",
    "pie = ax.pie(sizes, explode,\n",
    "             autopct='%1.2f%%', pctdistance =0.80,textprops=dict(color=\"black\"))\n",
    "\n",
    "plt.legend(pie[0], labels, bbox_to_anchor=(1.5,0.5), loc=\"right\",  prop={ 'style': 'italic'} )\n",
    "plt.show()"
   ]
  },
  {
   "cell_type": "code",
   "execution_count": 57,
   "metadata": {},
   "outputs": [
    {
     "data": {
      "image/png": "[encoded data removed]",
      "text/plain": [
       "<Figure size 360x360 with 1 Axes>"
      ]
     },
     "metadata": {},
     "output_type": "display_data"
    }
   ],
   "source": [
    "#Proporcao de especies por estagio umbrofilo nas copas\n",
    "all_copa_umbrofila = all_copa_umbrofila.groupby('Espécie', as_index=False)['Número'].count() \n",
    "labels = all_copa_umbrofila['Espécie'].tolist()\n",
    "sizes =  all_copa_umbrofila['Número'].tolist()\n",
    "fig, ax = plt.subplots(figsize=(5, 5))\n",
    "ax.axis('equal')\n",
    "explode = [0.1, 0.1, 0.1, 0.1]\n",
    "pie = ax.pie(sizes, explode,\n",
    "             autopct='%1.2f%%', pctdistance =0.80,textprops=dict(color=\"black\"))\n",
    "\n",
    "plt.legend(pie[0], labels, bbox_to_anchor=(1.5,0.5), loc=\"right\",  prop={ 'style': 'italic'} )\n",
    "plt.show()"
   ]
  },
  {
   "cell_type": "code",
   "execution_count": 58,
   "metadata": {},
   "outputs": [],
   "source": [
    "#especies entorno por estagio sucessional\n",
    "all_entorno = df_without_nan[df_without_nan['Área'] == 'Entorno']\n",
    "all_entorno_secundaria_inicial =  all_entorno[all_entorno['Estágio sucessional'] == 'Secundária Inicial']\n",
    "all_entorno_secundaria_tardia =  all_entorno[all_entorno['Estágio sucessional'] == 'Secundária Tardia']\n",
    "all_entorno_pioneira =  all_entorno[all_entorno['Estágio sucessional'] == 'Pioneira']\n",
    "all_entorno_umbrofila=  all_entorno[all_entorno['Estágio sucessional'] == 'Umbrófila']"
   ]
  },
  {
   "cell_type": "code",
   "execution_count": 59,
   "metadata": {},
   "outputs": [
    {
     "data": {
      "image/png": "[encoded data removed]",
      "text/plain": [
       "<Figure size 360x360 with 1 Axes>"
      ]
     },
     "metadata": {},
     "output_type": "display_data"
    }
   ],
   "source": [
    "#Proporcao de especies por estagio secundaria incial no entorno\n",
    "all_entorno_secundaria_inicial = all_entorno_secundaria_inicial.groupby('Espécie', as_index=False)['Número'].count() \n",
    "labels = all_entorno_secundaria_inicial['Espécie'].tolist()\n",
    "sizes =  all_entorno_secundaria_inicial['Número'].tolist()\n",
    "fig, ax = plt.subplots(figsize=(5, 5))\n",
    "explode = [0.1, 0.1, 0.1, 0.1, 0.1]\n",
    "ax.axis('equal')\n",
    "pie = ax.pie(sizes, explode,\n",
    "             autopct='%1.2f%%', pctdistance =0.80,textprops=dict(color=\"black\"))\n",
    "plt.legend(pie[0], labels, bbox_to_anchor=(1.5,0.5), loc=\"right\",  prop={ 'style': 'italic'} )\n",
    "plt.show()"
   ]
  },
  {
   "cell_type": "code",
   "execution_count": 60,
   "metadata": {},
   "outputs": [
    {
     "data": {
      "image/png": "[encoded data removed]",
      "text/plain": [
       "<Figure size 360x360 with 1 Axes>"
      ]
     },
     "metadata": {},
     "output_type": "display_data"
    }
   ],
   "source": [
    "#Proporcao de especies por estagio secundario tardio no entorno\n",
    "all_entorno_secundaria_tardia = all_entorno_secundaria_tardia.groupby('Espécie', as_index=False)['Número'].count() \n",
    "labels = all_entorno_secundaria_tardia['Espécie'].tolist()\n",
    "sizes =  all_entorno_secundaria_tardia['Número'].tolist()\n",
    "fig, ax = plt.subplots(figsize=(5, 5))\n",
    "ax.axis('equal')\n",
    "explode = [0.1, 0.1, 0.1, 0.1]\n",
    "pie = ax.pie(sizes, \n",
    "             autopct='%1.2f%%', pctdistance =0.80,textprops=dict(color=\"black\"))\n",
    "\n",
    "plt.legend(pie[0], labels, bbox_to_anchor=(1.5,0.5), loc=\"right\",  prop={ 'style': 'italic'} )\n",
    "plt.show()"
   ]
  },
  {
   "cell_type": "code",
   "execution_count": 61,
   "metadata": {},
   "outputs": [
    {
     "data": {
      "image/png": "[encoded data removed]",
      "text/plain": [
       "<Figure size 360x360 with 1 Axes>"
      ]
     },
     "metadata": {},
     "output_type": "display_data"
    }
   ],
   "source": [
    "#Proporcao de especies por estagio umbrofilo no entorno\n",
    "all_entorno_umbrofila = all_entorno_umbrofila.groupby('Espécie', as_index=False)['Número'].count() \n",
    "labels = all_entorno_umbrofila['Espécie'].tolist()\n",
    "sizes =  all_entorno_umbrofila['Número'].tolist()\n",
    "fig, ax = plt.subplots(figsize=(5, 5))\n",
    "ax.axis('equal')\n",
    "explode = [0.1, 0.1, 0.1, 0.1, 0.1, 0.1]\n",
    "pie = ax.pie(sizes, explode,\n",
    "             autopct='%1.2f%%', pctdistance =0.80,textprops=dict(color=\"black\"))\n",
    "\n",
    "plt.legend(pie[0], labels, bbox_to_anchor=(1.5,0.5), loc=\"right\",  prop={ 'style': 'italic'} )\n",
    "plt.show()"
   ]
  },
  {
   "cell_type": "code",
   "execution_count": 62,
   "metadata": {},
   "outputs": [
    {
     "data": {
      "image/png": "[encoded data removed]",
      "text/plain": [
       "<Figure size 360x360 with 1 Axes>"
      ]
     },
     "metadata": {},
     "output_type": "display_data"
    }
   ],
   "source": [
    "#Proporcao de especies por estagio  pioneiro no entorno\n",
    "all_entorno_pioneira= all_entorno_pioneira.groupby('Espécie', as_index=False)['Número'].count() \n",
    "labels = all_entorno_pioneira['Espécie'].tolist()\n",
    "sizes =  all_entorno_pioneira['Número'].tolist()\n",
    "fig, ax = plt.subplots(figsize=(5, 5))\n",
    "ax.axis('equal')\n",
    "explode = [0.1]\n",
    "pie = ax.pie(sizes, explode,\n",
    "             autopct='%1.2f%%', pctdistance =0.80,textprops=dict(color=\"black\"))\n",
    "\n",
    "plt.legend(pie[0], labels, bbox_to_anchor=(1.5,0.5), loc=\"right\",  prop={ 'style': 'italic'} )\n",
    "plt.show()"
   ]
  },
  {
   "cell_type": "code",
   "execution_count": null,
   "metadata": {},
   "outputs": [],
   "source": []
  },
  {
   "cell_type": "code",
   "execution_count": null,
   "metadata": {},
   "outputs": [],
   "source": []
  },
  {
   "cell_type": "code",
   "execution_count": null,
   "metadata": {},
   "outputs": [],
   "source": []
  },
  {
   "cell_type": "code",
   "execution_count": null,
   "metadata": {},
   "outputs": [],
   "source": []
  },
  {
   "cell_type": "code",
   "execution_count": null,
   "metadata": {},
   "outputs": [],
   "source": []
  },
  {
   "cell_type": "code",
   "execution_count": null,
   "metadata": {},
   "outputs": [],
   "source": []
  },
  {
   "cell_type": "code",
   "execution_count": null,
   "metadata": {},
   "outputs": [],
   "source": []
  }
 ],
 "metadata": {
  "kernelspec": {
   "display_name": "Python 3",
   "language": "python",
   "name": "python3"
  },
  "language_info": {
   "codemirror_mode": {
    "name": "ipython",
    "version": 3
   },
   "file_extension": ".py",
   "mimetype": "text/x-python",
   "name": "python",
   "nbconvert_exporter": "python",
   "pygments_lexer": "ipython3",
   "version": "3.6.5"
  }
 },
 "nbformat": 4,
 "nbformat_minor": 4
}
