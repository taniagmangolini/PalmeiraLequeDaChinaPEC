{
 "cells": [
  {
   "cell_type": "code",
   "execution_count": 1,
   "metadata": {},
   "outputs": [],
   "source": [
    "import pandas as pd\n",
    "import matplotlib.pyplot as plt\n",
    "from matplotlib.ticker import MaxNLocator\n",
    "import numpy as np\n",
    "from scipy import stats\n",
    "from scipy.stats import mannwhitneyu\n",
    "from scipy.stats import shapiro\n",
    "\n",
    "%matplotlib inline\n",
    "\n",
    "pd.options.display.max_columns = 37  # nr max de colunas exibidas"
   ]
  },
  {
   "cell_type": "code",
   "execution_count": 2,
   "metadata": {},
   "outputs": [],
   "source": [
    "# open csv file\n",
    "arquivo_csv = 'dados_all.csv'\n",
    "\n",
    "original = pd.read_csv(arquivo_csv, ';')\n",
    "\n",
    "df = original.copy()"
   ]
  },
  {
   "cell_type": "code",
   "execution_count": 3,
   "metadata": {},
   "outputs": [
    {
     "data": {
      "text/plain": [
       "(334, 16)"
      ]
     },
     "execution_count": 3,
     "metadata": {},
     "output_type": "execute_result"
    }
   ],
   "source": [
    "#linhas e colunas\n",
    "df.shape"
   ]
  },
  {
   "cell_type": "code",
   "execution_count": 4,
   "metadata": {},
   "outputs": [],
   "source": [
    "#TRATAMENTO DOS DADOS\n",
    "#drop all the columns where all the data is empty\n",
    "df = df.dropna(how='all', axis='columns')\n",
    "\n",
    "#Remove unnamed columns\n",
    "df = df.loc[:, ~df.columns.str.contains('^Unnamed')]"
   ]
  },
  {
   "cell_type": "code",
   "execution_count": 5,
   "metadata": {},
   "outputs": [
    {
     "data": {
      "text/plain": [
       "(334, 16)"
      ]
     },
     "execution_count": 5,
     "metadata": {},
     "output_type": "execute_result"
    }
   ],
   "source": [
    "df.shape"
   ]
  },
  {
   "cell_type": "code",
   "execution_count": 6,
   "metadata": {},
   "outputs": [
    {
     "data": {
      "text/html": [
       "<div>\n",
       "<style scoped>\n",
       "    .dataframe tbody tr th:only-of-type {\n",
       "        vertical-align: middle;\n",
       "    }\n",
       "\n",
       "    .dataframe tbody tr th {\n",
       "        vertical-align: top;\n",
       "    }\n",
       "\n",
       "    .dataframe thead th {\n",
       "        text-align: right;\n",
       "    }\n",
       "</style>\n",
       "<table border=\"1\" class=\"dataframe\">\n",
       "  <thead>\n",
       "    <tr style=\"text-align: right;\">\n",
       "      <th></th>\n",
       "      <th>Data</th>\n",
       "      <th>Palmeira</th>\n",
       "      <th>Altura Palmeira (m)</th>\n",
       "      <th>Área</th>\n",
       "      <th>Quadrante</th>\n",
       "      <th>Número</th>\n",
       "      <th>Família</th>\n",
       "      <th>Gênero</th>\n",
       "      <th>Espécie</th>\n",
       "      <th>Altura (cm)</th>\n",
       "      <th>Dap (mm)</th>\n",
       "      <th>Coletada</th>\n",
       "      <th>Nativa</th>\n",
       "      <th>Estágio sucessional</th>\n",
       "      <th>Obs</th>\n",
       "      <th>Identificação</th>\n",
       "    </tr>\n",
       "  </thead>\n",
       "  <tbody>\n",
       "    <tr>\n",
       "      <th>0</th>\n",
       "      <td>29/11/2019</td>\n",
       "      <td>1</td>\n",
       "      <td>3</td>\n",
       "      <td>Copa</td>\n",
       "      <td>1</td>\n",
       "      <td>NaN</td>\n",
       "      <td>NaN</td>\n",
       "      <td>NaN</td>\n",
       "      <td>NaN</td>\n",
       "      <td>NaN</td>\n",
       "      <td>NaN</td>\n",
       "      <td>NaN</td>\n",
       "      <td>NaN</td>\n",
       "      <td>NaN</td>\n",
       "      <td>Nenhuma planta</td>\n",
       "      <td>NaN</td>\n",
       "    </tr>\n",
       "    <tr>\n",
       "      <th>1</th>\n",
       "      <td>29/11/2019</td>\n",
       "      <td>1</td>\n",
       "      <td>3</td>\n",
       "      <td>Copa</td>\n",
       "      <td>2</td>\n",
       "      <td>2</td>\n",
       "      <td>Rubiaceae</td>\n",
       "      <td>Coffea</td>\n",
       "      <td>Coffea arabica</td>\n",
       "      <td>34.0</td>\n",
       "      <td>3</td>\n",
       "      <td>N</td>\n",
       "      <td>N</td>\n",
       "      <td>Umbrófila</td>\n",
       "      <td>NaN</td>\n",
       "      <td>OK</td>\n",
       "    </tr>\n",
       "    <tr>\n",
       "      <th>2</th>\n",
       "      <td>29/11/2019</td>\n",
       "      <td>1</td>\n",
       "      <td>3</td>\n",
       "      <td>Copa</td>\n",
       "      <td>2</td>\n",
       "      <td>3</td>\n",
       "      <td>Rubiaceae</td>\n",
       "      <td>Coffea</td>\n",
       "      <td>Coffea arabica</td>\n",
       "      <td>29.0</td>\n",
       "      <td>4,5</td>\n",
       "      <td>N</td>\n",
       "      <td>N</td>\n",
       "      <td>Umbrófila</td>\n",
       "      <td>NaN</td>\n",
       "      <td>OK</td>\n",
       "    </tr>\n",
       "    <tr>\n",
       "      <th>3</th>\n",
       "      <td>29/11/2019</td>\n",
       "      <td>1</td>\n",
       "      <td>3</td>\n",
       "      <td>Copa</td>\n",
       "      <td>2</td>\n",
       "      <td>4</td>\n",
       "      <td>Sapindaceae</td>\n",
       "      <td>Cupania</td>\n",
       "      <td>Cupania oblongifolia</td>\n",
       "      <td>58.0</td>\n",
       "      <td>5,4</td>\n",
       "      <td>N</td>\n",
       "      <td>S</td>\n",
       "      <td>Secundária Inicial</td>\n",
       "      <td>NaN</td>\n",
       "      <td>OK</td>\n",
       "    </tr>\n",
       "    <tr>\n",
       "      <th>4</th>\n",
       "      <td>29/11/2019</td>\n",
       "      <td>1</td>\n",
       "      <td>3</td>\n",
       "      <td>Copa</td>\n",
       "      <td>2</td>\n",
       "      <td>5</td>\n",
       "      <td>Sapindaceae</td>\n",
       "      <td>Cupania</td>\n",
       "      <td>Cupania oblongifolia</td>\n",
       "      <td>164.0</td>\n",
       "      <td>10,8</td>\n",
       "      <td>N</td>\n",
       "      <td>S</td>\n",
       "      <td>Secundária Inicial</td>\n",
       "      <td>NaN</td>\n",
       "      <td>OK</td>\n",
       "    </tr>\n",
       "  </tbody>\n",
       "</table>\n",
       "</div>"
      ],
      "text/plain": [
       "         Data  Palmeira  Altura Palmeira (m)  Área  Quadrante Número  \\\n",
       "0  29/11/2019         1                    3  Copa          1    NaN   \n",
       "1  29/11/2019         1                    3  Copa          2      2   \n",
       "2  29/11/2019         1                    3  Copa          2      3   \n",
       "3  29/11/2019         1                    3  Copa          2      4   \n",
       "4  29/11/2019         1                    3  Copa          2      5   \n",
       "\n",
       "       Família   Gênero               Espécie  Altura (cm) Dap (mm) Coletada  \\\n",
       "0          NaN      NaN                   NaN          NaN      NaN      NaN   \n",
       "1    Rubiaceae  Coffea         Coffea arabica         34.0        3        N   \n",
       "2    Rubiaceae  Coffea         Coffea arabica         29.0      4,5        N   \n",
       "3  Sapindaceae  Cupania  Cupania oblongifolia         58.0      5,4        N   \n",
       "4  Sapindaceae  Cupania  Cupania oblongifolia        164.0     10,8        N   \n",
       "\n",
       "  Nativa Estágio sucessional             Obs Identificação  \n",
       "0    NaN                 NaN  Nenhuma planta           NaN  \n",
       "1      N           Umbrófila             NaN            OK  \n",
       "2      N           Umbrófila             NaN            OK  \n",
       "3      S  Secundária Inicial             NaN            OK  \n",
       "4      S  Secundária Inicial             NaN            OK  "
      ]
     },
     "execution_count": 6,
     "metadata": {},
     "output_type": "execute_result"
    }
   ],
   "source": [
    "df.head()"
   ]
  },
  {
   "cell_type": "code",
   "execution_count": 7,
   "metadata": {},
   "outputs": [
    {
     "name": "stdout",
     "output_type": "stream",
     "text": [
      "Data                    object\n",
      "Palmeira                 int64\n",
      "Altura Palmeira (m)      int64\n",
      "Área                    object\n",
      "Quadrante                int64\n",
      "Número                  object\n",
      "Família                 object\n",
      "Gênero                  object\n",
      "Espécie                 object\n",
      "Altura (cm)            float64\n",
      "Dap (mm)                object\n",
      "Coletada                object\n",
      "Nativa                  object\n",
      "Estágio sucessional     object\n",
      "Obs                     object\n",
      "Identificação           object\n",
      "dtype: object\n"
     ]
    }
   ],
   "source": [
    "#tipos de dados das colunas\n",
    "print(df.dtypes)"
   ]
  },
  {
   "cell_type": "code",
   "execution_count": 8,
   "metadata": {},
   "outputs": [],
   "source": [
    "#Ajustando os tipos de dados\n",
    "\n",
    "df['Estágio sucessional'] = df['Estágio sucessional'].astype(str)\n",
    "df['Nativa'] = df['Nativa'].astype(str)\n",
    "df['Espécie'] = df['Espécie'].astype(str)\n",
    "df['Gênero'] = df['Gênero'].astype(str)\n",
    "df['Família'] = df['Família'].astype(str)\n",
    "df['Quadrante'] = df['Quadrante'].astype(str)\n",
    "df['Área'] = df['Área'].astype('category')\n",
    "df['Altura Palmeira (m)'] = df['Altura Palmeira (m)'].astype(str)\n",
    "df['Palmeira'] = df['Palmeira'].astype(str)\n",
    "df['Dap (mm)'] = df['Dap (mm)'].astype(str)\n",
    "\n",
    "#troca , por . no na coluna dap\n",
    "df['Dap (mm)'] = df['Dap (mm)'].apply(lambda x: x.replace(',', '.'))\n",
    "df['Dap (mm)'] = df['Dap (mm)'].astype('float64')"
   ]
  },
  {
   "cell_type": "code",
   "execution_count": 9,
   "metadata": {},
   "outputs": [
    {
     "name": "stdout",
     "output_type": "stream",
     "text": [
      "Data                     object\n",
      "Palmeira                 object\n",
      "Altura Palmeira (m)      object\n",
      "Área                   category\n",
      "Quadrante                object\n",
      "Número                   object\n",
      "Família                  object\n",
      "Gênero                   object\n",
      "Espécie                  object\n",
      "Altura (cm)             float64\n",
      "Dap (mm)                float64\n",
      "Coletada                 object\n",
      "Nativa                   object\n",
      "Estágio sucessional      object\n",
      "Obs                      object\n",
      "Identificação            object\n",
      "dtype: object\n"
     ]
    }
   ],
   "source": [
    "#tipos de dados ajustados\n",
    "print(df.dtypes)"
   ]
  },
  {
   "cell_type": "code",
   "execution_count": 10,
   "metadata": {},
   "outputs": [
    {
     "data": {
      "text/html": [
       "<div>\n",
       "<style scoped>\n",
       "    .dataframe tbody tr th:only-of-type {\n",
       "        vertical-align: middle;\n",
       "    }\n",
       "\n",
       "    .dataframe tbody tr th {\n",
       "        vertical-align: top;\n",
       "    }\n",
       "\n",
       "    .dataframe thead th {\n",
       "        text-align: right;\n",
       "    }\n",
       "</style>\n",
       "<table border=\"1\" class=\"dataframe\">\n",
       "  <thead>\n",
       "    <tr style=\"text-align: right;\">\n",
       "      <th></th>\n",
       "      <th>Data</th>\n",
       "      <th>Palmeira</th>\n",
       "      <th>Altura Palmeira (m)</th>\n",
       "      <th>Área</th>\n",
       "      <th>Quadrante</th>\n",
       "      <th>Número</th>\n",
       "      <th>Família</th>\n",
       "      <th>Gênero</th>\n",
       "      <th>Espécie</th>\n",
       "      <th>Altura (cm)</th>\n",
       "      <th>Dap (mm)</th>\n",
       "      <th>Coletada</th>\n",
       "      <th>Nativa</th>\n",
       "      <th>Estágio sucessional</th>\n",
       "      <th>Obs</th>\n",
       "      <th>Identificação</th>\n",
       "    </tr>\n",
       "  </thead>\n",
       "  <tbody>\n",
       "    <tr>\n",
       "      <th>0</th>\n",
       "      <td>29/11/2019</td>\n",
       "      <td>1</td>\n",
       "      <td>3</td>\n",
       "      <td>Copa</td>\n",
       "      <td>1</td>\n",
       "      <td>NaN</td>\n",
       "      <td>nan</td>\n",
       "      <td>nan</td>\n",
       "      <td>nan</td>\n",
       "      <td>NaN</td>\n",
       "      <td>NaN</td>\n",
       "      <td>NaN</td>\n",
       "      <td>nan</td>\n",
       "      <td>nan</td>\n",
       "      <td>Nenhuma planta</td>\n",
       "      <td>NaN</td>\n",
       "    </tr>\n",
       "    <tr>\n",
       "      <th>1</th>\n",
       "      <td>29/11/2019</td>\n",
       "      <td>1</td>\n",
       "      <td>3</td>\n",
       "      <td>Copa</td>\n",
       "      <td>2</td>\n",
       "      <td>2</td>\n",
       "      <td>Rubiaceae</td>\n",
       "      <td>Coffea</td>\n",
       "      <td>Coffea arabica</td>\n",
       "      <td>34.0</td>\n",
       "      <td>3.0</td>\n",
       "      <td>N</td>\n",
       "      <td>N</td>\n",
       "      <td>Umbrófila</td>\n",
       "      <td>NaN</td>\n",
       "      <td>OK</td>\n",
       "    </tr>\n",
       "    <tr>\n",
       "      <th>2</th>\n",
       "      <td>29/11/2019</td>\n",
       "      <td>1</td>\n",
       "      <td>3</td>\n",
       "      <td>Copa</td>\n",
       "      <td>2</td>\n",
       "      <td>3</td>\n",
       "      <td>Rubiaceae</td>\n",
       "      <td>Coffea</td>\n",
       "      <td>Coffea arabica</td>\n",
       "      <td>29.0</td>\n",
       "      <td>4.5</td>\n",
       "      <td>N</td>\n",
       "      <td>N</td>\n",
       "      <td>Umbrófila</td>\n",
       "      <td>NaN</td>\n",
       "      <td>OK</td>\n",
       "    </tr>\n",
       "    <tr>\n",
       "      <th>3</th>\n",
       "      <td>29/11/2019</td>\n",
       "      <td>1</td>\n",
       "      <td>3</td>\n",
       "      <td>Copa</td>\n",
       "      <td>2</td>\n",
       "      <td>4</td>\n",
       "      <td>Sapindaceae</td>\n",
       "      <td>Cupania</td>\n",
       "      <td>Cupania oblongifolia</td>\n",
       "      <td>58.0</td>\n",
       "      <td>5.4</td>\n",
       "      <td>N</td>\n",
       "      <td>S</td>\n",
       "      <td>Secundária Inicial</td>\n",
       "      <td>NaN</td>\n",
       "      <td>OK</td>\n",
       "    </tr>\n",
       "    <tr>\n",
       "      <th>4</th>\n",
       "      <td>29/11/2019</td>\n",
       "      <td>1</td>\n",
       "      <td>3</td>\n",
       "      <td>Copa</td>\n",
       "      <td>2</td>\n",
       "      <td>5</td>\n",
       "      <td>Sapindaceae</td>\n",
       "      <td>Cupania</td>\n",
       "      <td>Cupania oblongifolia</td>\n",
       "      <td>164.0</td>\n",
       "      <td>10.8</td>\n",
       "      <td>N</td>\n",
       "      <td>S</td>\n",
       "      <td>Secundária Inicial</td>\n",
       "      <td>NaN</td>\n",
       "      <td>OK</td>\n",
       "    </tr>\n",
       "  </tbody>\n",
       "</table>\n",
       "</div>"
      ],
      "text/plain": [
       "         Data Palmeira Altura Palmeira (m)  Área Quadrante Número  \\\n",
       "0  29/11/2019        1                   3  Copa         1    NaN   \n",
       "1  29/11/2019        1                   3  Copa         2      2   \n",
       "2  29/11/2019        1                   3  Copa         2      3   \n",
       "3  29/11/2019        1                   3  Copa         2      4   \n",
       "4  29/11/2019        1                   3  Copa         2      5   \n",
       "\n",
       "       Família   Gênero               Espécie  Altura (cm)  Dap (mm) Coletada  \\\n",
       "0          nan      nan                   nan          NaN       NaN      NaN   \n",
       "1    Rubiaceae  Coffea         Coffea arabica         34.0       3.0        N   \n",
       "2    Rubiaceae  Coffea         Coffea arabica         29.0       4.5        N   \n",
       "3  Sapindaceae  Cupania  Cupania oblongifolia         58.0       5.4        N   \n",
       "4  Sapindaceae  Cupania  Cupania oblongifolia        164.0      10.8        N   \n",
       "\n",
       "  Nativa Estágio sucessional             Obs Identificação  \n",
       "0    nan                 nan  Nenhuma planta           NaN  \n",
       "1      N           Umbrófila             NaN            OK  \n",
       "2      N           Umbrófila             NaN            OK  \n",
       "3      S  Secundária Inicial             NaN            OK  \n",
       "4      S  Secundária Inicial             NaN            OK  "
      ]
     },
     "execution_count": 10,
     "metadata": {},
     "output_type": "execute_result"
    }
   ],
   "source": [
    "df.head()"
   ]
  },
  {
   "cell_type": "code",
   "execution_count": 11,
   "metadata": {},
   "outputs": [
    {
     "data": {
      "text/plain": [
       "(334, 16)"
      ]
     },
     "execution_count": 11,
     "metadata": {},
     "output_type": "execute_result"
    }
   ],
   "source": [
    "#new shape\n",
    "df.shape"
   ]
  },
  {
   "cell_type": "code",
   "execution_count": 12,
   "metadata": {},
   "outputs": [],
   "source": [
    "#Ajuste valores ausentes nas colunas Estágio Sucessional e Nativa \n",
    "df['Estágio sucessional'] =  df['Estágio sucessional'].apply(lambda x: x.replace('nan', 'indeterminado'))\n",
    "df['Estágio sucessional'] =  df['Estágio sucessional'].fillna('indeterminado')\n",
    "df['Nativa'] =  df['Nativa'].apply(lambda x: x.replace('nan', 'indeterminado'))\n",
    "df['Nativa'] =  df['Nativa'].fillna('indeterminado')"
   ]
  },
  {
   "cell_type": "code",
   "execution_count": 13,
   "metadata": {},
   "outputs": [],
   "source": [
    "#Ajustar Area externa para 'Entorno'\n",
    "df['Área'] =  df['Área'].apply(lambda x: x.replace('Externo', 'Entorno'))"
   ]
  },
  {
   "cell_type": "code",
   "execution_count": 14,
   "metadata": {},
   "outputs": [],
   "source": [
    "#Remove decimal do nome da palmeira e da altura da palmeira \n",
    "df['Palmeira'] = df['Palmeira'].apply(lambda x: x.split('.')[0]) \n",
    "df['Altura Palmeira (m)'] = df['Altura Palmeira (m)'].apply(lambda x: x.split('.')[0]) "
   ]
  },
  {
   "cell_type": "code",
   "execution_count": 15,
   "metadata": {},
   "outputs": [
    {
     "data": {
      "text/plain": [
       "Entorno    233\n",
       "Copa       101\n",
       "Name: Área, dtype: int64"
      ]
     },
     "execution_count": 15,
     "metadata": {},
     "output_type": "execute_result"
    }
   ],
   "source": [
    "#contar registros em cada grupo em estudo\n",
    "df['Área'].value_counts()"
   ]
  },
  {
   "cell_type": "code",
   "execution_count": 16,
   "metadata": {},
   "outputs": [
    {
     "data": {
      "text/plain": [
       "Entorno    233\n",
       "Copa       101\n",
       "Name: Área, dtype: int64"
      ]
     },
     "execution_count": 16,
     "metadata": {},
     "output_type": "execute_result"
    }
   ],
   "source": [
    "#Dataframe com quadrantes sem plantas (df_with_nan)\n",
    "df_with_nan= df.copy()\n",
    "#df_with_nan['Número'] =  df_with_nan['Número'].fillna(0)\n",
    "df_with_nan['Área'].value_counts()"
   ]
  },
  {
   "cell_type": "code",
   "execution_count": 17,
   "metadata": {},
   "outputs": [
    {
     "data": {
      "text/html": [
       "<div>\n",
       "<style scoped>\n",
       "    .dataframe tbody tr th:only-of-type {\n",
       "        vertical-align: middle;\n",
       "    }\n",
       "\n",
       "    .dataframe tbody tr th {\n",
       "        vertical-align: top;\n",
       "    }\n",
       "\n",
       "    .dataframe thead th {\n",
       "        text-align: right;\n",
       "    }\n",
       "</style>\n",
       "<table border=\"1\" class=\"dataframe\">\n",
       "  <thead>\n",
       "    <tr style=\"text-align: right;\">\n",
       "      <th></th>\n",
       "      <th>Altura (cm)</th>\n",
       "      <th>Dap (mm)</th>\n",
       "    </tr>\n",
       "  </thead>\n",
       "  <tbody>\n",
       "    <tr>\n",
       "      <th>count</th>\n",
       "      <td>55.000000</td>\n",
       "      <td>55.000000</td>\n",
       "    </tr>\n",
       "    <tr>\n",
       "      <th>mean</th>\n",
       "      <td>69.400000</td>\n",
       "      <td>8.002364</td>\n",
       "    </tr>\n",
       "    <tr>\n",
       "      <th>std</th>\n",
       "      <td>61.674954</td>\n",
       "      <td>7.650251</td>\n",
       "    </tr>\n",
       "    <tr>\n",
       "      <th>min</th>\n",
       "      <td>20.000000</td>\n",
       "      <td>1.750000</td>\n",
       "    </tr>\n",
       "    <tr>\n",
       "      <th>25%</th>\n",
       "      <td>23.500000</td>\n",
       "      <td>3.000000</td>\n",
       "    </tr>\n",
       "    <tr>\n",
       "      <th>50%</th>\n",
       "      <td>42.000000</td>\n",
       "      <td>5.700000</td>\n",
       "    </tr>\n",
       "    <tr>\n",
       "      <th>75%</th>\n",
       "      <td>92.500000</td>\n",
       "      <td>9.500000</td>\n",
       "    </tr>\n",
       "    <tr>\n",
       "      <th>max</th>\n",
       "      <td>300.000000</td>\n",
       "      <td>41.300000</td>\n",
       "    </tr>\n",
       "  </tbody>\n",
       "</table>\n",
       "</div>"
      ],
      "text/plain": [
       "       Altura (cm)   Dap (mm)\n",
       "count    55.000000  55.000000\n",
       "mean     69.400000   8.002364\n",
       "std      61.674954   7.650251\n",
       "min      20.000000   1.750000\n",
       "25%      23.500000   3.000000\n",
       "50%      42.000000   5.700000\n",
       "75%      92.500000   9.500000\n",
       "max     300.000000  41.300000"
      ]
     },
     "execution_count": 17,
     "metadata": {},
     "output_type": "execute_result"
    }
   ],
   "source": [
    "#quantidade de individuos nas parcelas da copa\n",
    "copa_with_nan = df_with_nan[df_with_nan['Área'] == 'Copa']\n",
    "\n",
    "abundancia_copa3m = copa_with_nan[copa_with_nan['Altura Palmeira (m)'] == '3']\n",
    "abundancia_copa6m = copa_with_nan[copa_with_nan['Altura Palmeira (m)'] == '6']\n",
    "\n",
    "abundancia_copa3m.describe()\n"
   ]
  },
  {
   "cell_type": "code",
   "execution_count": 18,
   "metadata": {},
   "outputs": [
    {
     "data": {
      "text/html": [
       "<div>\n",
       "<style scoped>\n",
       "    .dataframe tbody tr th:only-of-type {\n",
       "        vertical-align: middle;\n",
       "    }\n",
       "\n",
       "    .dataframe tbody tr th {\n",
       "        vertical-align: top;\n",
       "    }\n",
       "\n",
       "    .dataframe thead th {\n",
       "        text-align: right;\n",
       "    }\n",
       "</style>\n",
       "<table border=\"1\" class=\"dataframe\">\n",
       "  <thead>\n",
       "    <tr style=\"text-align: right;\">\n",
       "      <th></th>\n",
       "      <th>Altura (cm)</th>\n",
       "      <th>Dap (mm)</th>\n",
       "    </tr>\n",
       "  </thead>\n",
       "  <tbody>\n",
       "    <tr>\n",
       "      <th>count</th>\n",
       "      <td>40.000000</td>\n",
       "      <td>40.000000</td>\n",
       "    </tr>\n",
       "    <tr>\n",
       "      <th>mean</th>\n",
       "      <td>99.450000</td>\n",
       "      <td>10.765750</td>\n",
       "    </tr>\n",
       "    <tr>\n",
       "      <th>std</th>\n",
       "      <td>152.195884</td>\n",
       "      <td>14.607978</td>\n",
       "    </tr>\n",
       "    <tr>\n",
       "      <th>min</th>\n",
       "      <td>20.000000</td>\n",
       "      <td>2.100000</td>\n",
       "    </tr>\n",
       "    <tr>\n",
       "      <th>25%</th>\n",
       "      <td>22.000000</td>\n",
       "      <td>3.850000</td>\n",
       "    </tr>\n",
       "    <tr>\n",
       "      <th>50%</th>\n",
       "      <td>43.000000</td>\n",
       "      <td>4.890000</td>\n",
       "    </tr>\n",
       "    <tr>\n",
       "      <th>75%</th>\n",
       "      <td>73.500000</td>\n",
       "      <td>9.812500</td>\n",
       "    </tr>\n",
       "    <tr>\n",
       "      <th>max</th>\n",
       "      <td>700.000000</td>\n",
       "      <td>80.000000</td>\n",
       "    </tr>\n",
       "  </tbody>\n",
       "</table>\n",
       "</div>"
      ],
      "text/plain": [
       "       Altura (cm)   Dap (mm)\n",
       "count    40.000000  40.000000\n",
       "mean     99.450000  10.765750\n",
       "std     152.195884  14.607978\n",
       "min      20.000000   2.100000\n",
       "25%      22.000000   3.850000\n",
       "50%      43.000000   4.890000\n",
       "75%      73.500000   9.812500\n",
       "max     700.000000  80.000000"
      ]
     },
     "execution_count": 18,
     "metadata": {},
     "output_type": "execute_result"
    }
   ],
   "source": [
    "abundancia_copa6m.describe()"
   ]
  },
  {
   "cell_type": "code",
   "execution_count": 19,
   "metadata": {},
   "outputs": [
    {
     "name": "stdout",
     "output_type": "stream",
     "text": [
      "TESTES ESTATISTICOS DE NORMALIDADE PARA AS DISTRIBUIÇOES DE ALTURAS E DIAMETROS DAS PLANTAS SOB AS COPAS DAS PALMEIRAS DE 3M E 6M\n",
      "------------------------------------- ALTURA --------------------------------------------\n",
      "Statistics=nan, p=1.000\n",
      "Grupo COPA 3M tem distribuição normal para altura (aceita H0)\n",
      "-------------------------------------------------------------------------\n",
      "Statistics=nan, p=1.000\n",
      "Grupo COPA 6M tem distribuição normal para altura (aceita H0)\n",
      "-------------------------------------------------------------------------\n",
      "Welch’s t-test T-TEST: A média das alturas varia significativamente nos dados de altura da copa (rejeita H0)\n",
      "-------------------------------------------------------------------------\n",
      "MANN-WHITNEY:: A média das alturas não varia significativamente nos dados de altura no entorno (aceita H0)\n",
      "-------------------------------------------------------------------------\n",
      "---------------------------------- DIAMETRO ---------------------------------------\n",
      "Statistics=nan, p=1.000\n",
      "Grupo COPA 3M tem distribuição normal para diametro (aceita H0)\n",
      "-------------------------------------------------------------------------\n",
      "Statistics=nan, p=1.000\n",
      "Grupo COPA 6M tem distribuição normal para diametro (aceita H0)\n",
      "-------------------------------------------------------------------------\n",
      "Welch’s T-TEST: A média dos diametros varia significativamente nos dados de diametro da copa (rejeita H0)\n",
      "-------------------------------------------------------------------------\n",
      "MANN-WHITNEY:: A média dos diametros não varia significativamente nos dados de altura no entorno (aceita H0)\n"
     ]
    }
   ],
   "source": [
    "print(\"TESTES ESTATISTICOS DE NORMALIDADE PARA AS DISTRIBUIÇOES DE ALTURAS E DIAMETROS DAS PLANTAS SOB AS COPAS DAS PALMEIRAS DE 3M E 6M\")\n",
    "\n",
    "#teste Shapiro: checagem de normalidade\n",
    "#teste T: comparação de médias (https://docs.scipy.org/doc/scipy/reference/generated/scipy.stats.ttest_ind.html)\n",
    "#T test for diferent sample sizes: https://www.youtube.com/watch?v=OyB_w4XNQ58\n",
    "#teste Mann-Whithney: comparação das distribuicoes\n",
    "\n",
    "print (\"------------------------------------- ALTURA --------------------------------------------\")\n",
    "# 1 - Shapiro-Wilk Test (teste de normalidade) para os dados de ALTURA da copa 3M\n",
    "stat, p = shapiro(abundancia_copa3m['Altura (cm)'])\n",
    "print('Statistics=%.3f, p=%.3f' % (stat, p))\n",
    "\n",
    "alpha = 0.05\n",
    "if p > alpha:\n",
    "\tprint('Grupo COPA 3M tem distribuição normal para altura (aceita H0)')\n",
    "else:\n",
    "\tprint('Grupo COPA 3M não tem distribuição normal  para altura (rejeita H0)')\n",
    "\n",
    "print('-------------------------------------------------------------------------')\n",
    "\n",
    "# 2 - Shapiro-Wilk Test (teste de normalidade) para os dados de ALTURA da copa 6M\n",
    "stat, p = shapiro(abundancia_copa6m['Altura (cm)'])\n",
    "print('Statistics=%.3f, p=%.3f' % (stat, p))\n",
    "\n",
    "if p > alpha:\n",
    "\tprint('Grupo COPA 6M tem distribuição normal para altura (aceita H0)')\n",
    "else:\n",
    "\tprint('Grupo COPA 6M não tem distribuição normal  para altura (rejeita H0)')\n",
    "\n",
    "print('-------------------------------------------------------------------------')\n",
    "\n",
    "# 3 - Welch’s T-TEST para os dados de altura\n",
    "stat, p = stats.ttest_ind(abundancia_copa3m['Altura (cm)'],abundancia_copa6m['Altura (cm)'], equal_var= False )\n",
    "\n",
    "if p > alpha:\n",
    "\tprint(' Welch’sT-TEST: A média das alturas não varia significativamente nos dados de altura da copa (aceita H0)')\n",
    "else:\n",
    "\tprint('Welch’s t-test T-TEST: A média das alturas varia significativamente nos dados de altura da copa (rejeita H0)')\n",
    "\n",
    "print('-------------------------------------------------------------------------')\n",
    "\n",
    "# 4 - Mann-Withney Test PARA DADOS DE DIAMETRO NA COPA\n",
    "stat, p = mannwhitneyu(abundancia_copa3m['Altura (cm)'],abundancia_copa6m['Altura (cm)'])\n",
    "\n",
    "if p > alpha:\n",
    "\tprint('MANN-WHITNEY:: A média das alturas não varia significativamente nos dados de altura no entorno (aceita H0)')\n",
    "else:\n",
    "\tprint('MANN-WHITNEY: A média das alturas varia significativamente nos dados de altura no entorno (rejeita H0)')\n",
    "\n",
    "print('-------------------------------------------------------------------------')\n",
    "\n",
    "#------------------------------------------- DIAMETRO ------------------------------------------------------------\n",
    "\n",
    "print (\"---------------------------------- DIAMETRO ---------------------------------------\")\n",
    "# 1 - Shapiro-Wilk Test (teste de normalidade) para os dados de DIAMETRO da copa 3M\n",
    "stat, p = shapiro(abundancia_copa3m['Dap (mm)'])\n",
    "print('Statistics=%.3f, p=%.3f' % (stat, p))\n",
    "\n",
    "if p > alpha:\n",
    "\tprint('Grupo COPA 3M tem distribuição normal para diametro (aceita H0)')\n",
    "else:\n",
    "\tprint('Grupo COPA 3M não tem distribuição normal para diamentro (rejeita H0)')\n",
    "\n",
    "print('-------------------------------------------------------------------------')\n",
    "\n",
    "# 2 - Shapiro-Wilk Test (teste de normalidade) para os dados de DIAMETRO da copa 6M\n",
    "stat, p = shapiro(abundancia_copa6m['Dap (mm)'])\n",
    "print('Statistics=%.3f, p=%.3f' % (stat, p))\n",
    "\n",
    "alpha = 0.05\n",
    "if p > alpha:\n",
    "\tprint('Grupo COPA 6M tem distribuição normal para diametro (aceita H0)')\n",
    "else:\n",
    "\tprint('Grupo COPA 6M não tem distribuição normal para diametro (rejeita H0)') \n",
    "\n",
    "print('-------------------------------------------------------------------------')\n",
    "\n",
    "\n",
    "# 3 - Welch’s T-TEST para dados de diametro\n",
    "stat, p = stats.ttest_ind(abundancia_copa3m['Dap (mm)'],abundancia_copa6m['Dap (mm)'],  equal_var= False )\n",
    "\n",
    "if p > alpha:\n",
    "\tprint('Welch’s T-TEST: A média dos diametros não varia significativamente nos dados de diametro da copa (aceita H0)')\n",
    "else:\n",
    "\tprint('Welch’s T-TEST: A média dos diametros varia significativamente nos dados de diametro da copa (rejeita H0)')\n",
    "    \n",
    "print('-------------------------------------------------------------------------')\n",
    "\n",
    "# 4 - Mann-Withney Test PARA DADOS DE DIAMETRO NA COPA\n",
    "stat, p = mannwhitneyu(abundancia_copa3m['Dap (mm)'],abundancia_copa6m['Dap (mm)'])\n",
    "\n",
    "if p > alpha:\n",
    "\tprint('MANN-WHITNEY:: A média dos diametros não varia significativamente nos dados de altura no entorno (aceita H0)')\n",
    "else:\n",
    "\tprint('MANN-WHITNEY: A média dos diametros varia significativamente nos dados de altura no entorno (rejeita H0)')\n"
   ]
  },
  {
   "cell_type": "code",
   "execution_count": 20,
   "metadata": {},
   "outputs": [
    {
     "data": {
      "text/plain": [
       "Palmeira  Quadrante\n",
       "1         1            0\n",
       "          2            8\n",
       "          3            0\n",
       "          4            1\n",
       "10        1            0\n",
       "          2            1\n",
       "          3            4\n",
       "          4            1\n",
       "2         1            2\n",
       "          2            1\n",
       "          3            3\n",
       "          4            3\n",
       "3         1            2\n",
       "          2            0\n",
       "          3            5\n",
       "          4            3\n",
       "4         1            2\n",
       "          2            3\n",
       "          3            5\n",
       "          4            4\n",
       "5         1            5\n",
       "          2            2\n",
       "          3            2\n",
       "          4            4\n",
       "6         1            1\n",
       "          2            0\n",
       "          3            0\n",
       "          4            2\n",
       "7         1            2\n",
       "          2            2\n",
       "          3            2\n",
       "          4            4\n",
       "8         1            3\n",
       "          2            5\n",
       "          3            2\n",
       "          4            3\n",
       "9         1            2\n",
       "          2            2\n",
       "          3            2\n",
       "          4            2\n",
       "Name: Número, dtype: int64"
      ]
     },
     "execution_count": 20,
     "metadata": {},
     "output_type": "execute_result"
    }
   ],
   "source": [
    "#analise de dados da copa considerando todas as palmeiras\n",
    "abundancia_copa = copa_with_nan\n",
    "abundancia_copa = abundancia_copa.groupby(['Palmeira','Quadrante'])['Número'].count() \n",
    "abundancia_copa"
   ]
  },
  {
   "cell_type": "code",
   "execution_count": 21,
   "metadata": {},
   "outputs": [],
   "source": [
    "#Percentual de individuos sob as copas\n",
    "total_parcelas_copa = abundancia_copa.count()\n",
    "copa_0_2 = (abundancia_copa[abundancia_copa < 3 ].count() / total_parcelas_copa) * 100\n",
    "copa_3_5 = (abundancia_copa[abundancia_copa[(abundancia_copa >= 3) & (abundancia_copa <6)]].count()/ total_parcelas_copa) * 100\n",
    "copa_6_8 = (abundancia_copa[abundancia_copa[(abundancia_copa > 6) ]].count() / total_parcelas_copa) * 100\n",
    "dados_copa = [copa_0_2,copa_3_5,copa_6_8]"
   ]
  },
  {
   "cell_type": "code",
   "execution_count": 22,
   "metadata": {},
   "outputs": [
    {
     "data": {
      "text/plain": [
       "Text(0.5,0,'Quantidade de regenerantes nas parcelas sob as copas')"
      ]
     },
     "execution_count": 22,
     "metadata": {},
     "output_type": "execute_result"
    },
    {
     "data": {
      "image/png": "[encoded data removed]",
      "text/plain": [
       "<Figure size 432x288 with 1 Axes>"
      ]
     },
     "metadata": {},
     "output_type": "display_data"
    }
   ],
   "source": [
    "legendas = ['0 a 2', '2 a 5', '6 ou mais']\n",
    "dados = dados_copa\n",
    "\n",
    "ax = plt.figure().gca()\n",
    "ax.bar(legendas,dados)\n",
    "plt.title (\"% regenerantes nas parcelas sob as copas\")\n",
    "plt.ylabel(\"%\")\n",
    "plt.xlabel(\"Quantidade de regenerantes nas parcelas sob as copas\")\n"
   ]
  },
  {
   "cell_type": "code",
   "execution_count": 23,
   "metadata": {},
   "outputs": [
    {
     "data": {
      "text/plain": [
       "Palmeira  Quadrante\n",
       "1         1            0\n",
       "          2            8\n",
       "          3            0\n",
       "          4            1\n",
       "2         1            2\n",
       "          2            1\n",
       "          3            3\n",
       "          4            3\n",
       "3         1            2\n",
       "          2            0\n",
       "          3            5\n",
       "          4            3\n",
       "4         1            2\n",
       "          2            3\n",
       "          3            5\n",
       "          4            4\n",
       "5         1            5\n",
       "          2            2\n",
       "          3            2\n",
       "          4            4\n",
       "Name: Número, dtype: int64"
      ]
     },
     "execution_count": 23,
     "metadata": {},
     "output_type": "execute_result"
    }
   ],
   "source": [
    "abundancia_copa3m = abundancia_copa3m.groupby(['Palmeira','Quadrante'])['Número'].count()\n",
    "abundancia_copa6m = abundancia_copa6m.groupby(['Palmeira','Quadrante'])['Número'].count() \n",
    "abundancia_copa3m"
   ]
  },
  {
   "cell_type": "code",
   "execution_count": 24,
   "metadata": {},
   "outputs": [
    {
     "data": {
      "text/plain": [
       "Palmeira  Quadrante\n",
       "10        1            0\n",
       "          2            1\n",
       "          3            4\n",
       "          4            1\n",
       "6         1            1\n",
       "          2            0\n",
       "          3            0\n",
       "          4            2\n",
       "7         1            2\n",
       "          2            2\n",
       "          3            2\n",
       "          4            4\n",
       "8         1            3\n",
       "          2            5\n",
       "          3            2\n",
       "          4            3\n",
       "9         1            2\n",
       "          2            2\n",
       "          3            2\n",
       "          4            2\n",
       "Name: Número, dtype: int64"
      ]
     },
     "execution_count": 24,
     "metadata": {},
     "output_type": "execute_result"
    }
   ],
   "source": [
    "abundancia_copa6m"
   ]
  },
  {
   "cell_type": "code",
   "execution_count": 25,
   "metadata": {},
   "outputs": [],
   "source": [
    "#Percentual de individuos sob as copas 3m\n",
    "total_parcelas_copa3m = abundancia_copa3m.count()\n",
    "copa3m_0_2 = (abundancia_copa3m[abundancia_copa3m < 3 ].count() / total_parcelas_copa3m) * 100\n",
    "copa3m_3_5 = (abundancia_copa3m[abundancia_copa3m[(abundancia_copa3m >= 3) & (abundancia_copa3m <6)]].count()/ total_parcelas_copa3m) * 100\n",
    "copa3m_6_8 = (abundancia_copa3m[abundancia_copa3m[(abundancia_copa3m >= 6) ]].count() / total_parcelas_copa3m) * 100\n",
    "dados_copa3m = [copa3m_0_2, copa3m_3_5, copa3m_6_8]\n",
    "\n",
    "#Percentual de individuos sob as copas 6m\n",
    "total_parcelas_copa6m = abundancia_copa6m.count()\n",
    "copa6m_0_2 = (abundancia_copa6m[abundancia_copa6m < 3 ].count() / total_parcelas_copa6m) * 100\n",
    "copa6m_3_5 = (abundancia_copa6m[abundancia_copa6m[(abundancia_copa6m >= 3) & (abundancia_copa6m <6)]].count()/ total_parcelas_copa6m) * 100\n",
    "copa6m_6_8 = (abundancia_copa6m[abundancia_copa6m[(abundancia_copa6m >= 6) ]].count() / total_parcelas_copa6m) * 100\n",
    "dados_copa6m = [copa6m_0_2, copa6m_3_5, copa6m_6_8]"
   ]
  },
  {
   "cell_type": "code",
   "execution_count": 26,
   "metadata": {},
   "outputs": [
    {
     "data": {
      "text/plain": [
       "[50.0, 45.0, 5.0]"
      ]
     },
     "execution_count": 26,
     "metadata": {},
     "output_type": "execute_result"
    }
   ],
   "source": [
    "dados_copa3m"
   ]
  },
  {
   "cell_type": "code",
   "execution_count": 27,
   "metadata": {},
   "outputs": [
    {
     "data": {
      "text/plain": [
       "[75.0, 25.0, 0.0]"
      ]
     },
     "execution_count": 27,
     "metadata": {},
     "output_type": "execute_result"
    }
   ],
   "source": [
    "dados_copa6m"
   ]
  },
  {
   "cell_type": "code",
   "execution_count": 28,
   "metadata": {},
   "outputs": [
    {
     "data": {
      "text/plain": [
       "<matplotlib.legend.Legend at 0x7f84c5404f28>"
      ]
     },
     "execution_count": 28,
     "metadata": {},
     "output_type": "execute_result"
    },
    {
     "data": {
      "image/png": "[encoded data removed]",
      "text/plain": [
       "<Figure size 576x360 with 1 Axes>"
      ]
     },
     "metadata": {},
     "output_type": "display_data"
    }
   ],
   "source": [
    "#https://www.dezyre.com/recipes/generate-grouped-bar-plot-in-python\n",
    "legenda_eixo_x = ['0 a 2', '2 a 5', '6 ou mais']\n",
    "legendas_tamanhos = ['3m', '6m']\n",
    "\n",
    "# Setting the positions and width for the bars\n",
    "pos = list(range(len(dados_copa3m)))\n",
    "# Set the labels for the x ticks\n",
    "bar_width = 0.4\n",
    "\n",
    "fig, ax = plt.subplots(figsize=(8, 5))\n",
    "ax.bar(pos, dados_copa3m ,  width=bar_width, color='#EE3224')\n",
    "ax.bar([p + bar_width for p in pos], dados_copa6m,  width=bar_width, color='#F78F1E')\n",
    "# Set the position of the x ticks\n",
    "ax.set_xticks([p + 0.5 * bar_width for p in pos])\n",
    "ax.set_xticklabels(legenda_eixo_x)\n",
    "\n",
    "plt.title (\"% regenerantes nas parcelas sob as copas\")\n",
    "plt.ylabel(\"%\")\n",
    "plt.xlabel(\"Quantidade de regenerantes nas parcelas sob as copas\")\n",
    "plt.legend(legendas_tamanhos)\n"
   ]
  },
  {
   "cell_type": "code",
   "execution_count": 29,
   "metadata": {},
   "outputs": [
    {
     "data": {
      "text/html": [
       "<div>\n",
       "<style scoped>\n",
       "    .dataframe tbody tr th:only-of-type {\n",
       "        vertical-align: middle;\n",
       "    }\n",
       "\n",
       "    .dataframe tbody tr th {\n",
       "        vertical-align: top;\n",
       "    }\n",
       "\n",
       "    .dataframe thead th {\n",
       "        text-align: right;\n",
       "    }\n",
       "</style>\n",
       "<table border=\"1\" class=\"dataframe\">\n",
       "  <thead>\n",
       "    <tr style=\"text-align: right;\">\n",
       "      <th></th>\n",
       "      <th>Altura (cm)</th>\n",
       "      <th>Dap (mm)</th>\n",
       "    </tr>\n",
       "  </thead>\n",
       "  <tbody>\n",
       "    <tr>\n",
       "      <th>count</th>\n",
       "      <td>135.000000</td>\n",
       "      <td>135.000000</td>\n",
       "    </tr>\n",
       "    <tr>\n",
       "      <th>mean</th>\n",
       "      <td>77.903704</td>\n",
       "      <td>9.394222</td>\n",
       "    </tr>\n",
       "    <tr>\n",
       "      <th>std</th>\n",
       "      <td>84.019798</td>\n",
       "      <td>10.859971</td>\n",
       "    </tr>\n",
       "    <tr>\n",
       "      <th>min</th>\n",
       "      <td>5.000000</td>\n",
       "      <td>1.450000</td>\n",
       "    </tr>\n",
       "    <tr>\n",
       "      <th>25%</th>\n",
       "      <td>33.500000</td>\n",
       "      <td>3.825000</td>\n",
       "    </tr>\n",
       "    <tr>\n",
       "      <th>50%</th>\n",
       "      <td>50.000000</td>\n",
       "      <td>6.100000</td>\n",
       "    </tr>\n",
       "    <tr>\n",
       "      <th>75%</th>\n",
       "      <td>80.500000</td>\n",
       "      <td>9.700000</td>\n",
       "    </tr>\n",
       "    <tr>\n",
       "      <th>max</th>\n",
       "      <td>600.000000</td>\n",
       "      <td>68.700000</td>\n",
       "    </tr>\n",
       "  </tbody>\n",
       "</table>\n",
       "</div>"
      ],
      "text/plain": [
       "       Altura (cm)    Dap (mm)\n",
       "count   135.000000  135.000000\n",
       "mean     77.903704    9.394222\n",
       "std      84.019798   10.859971\n",
       "min       5.000000    1.450000\n",
       "25%      33.500000    3.825000\n",
       "50%      50.000000    6.100000\n",
       "75%      80.500000    9.700000\n",
       "max     600.000000   68.700000"
      ]
     },
     "execution_count": 29,
     "metadata": {},
     "output_type": "execute_result"
    }
   ],
   "source": [
    "#quantidade de individuos nas parcelas no entorno\n",
    "entorno_with_nan = df_with_nan[df_with_nan['Área'] == 'Entorno']\n",
    "abundancia_entorno = entorno_with_nan.groupby(['Palmeira','Quadrante'])['Número'].count() \n",
    "\n",
    "abundancia_entorno3m = entorno_with_nan[entorno_with_nan['Altura Palmeira (m)'] == '3']\n",
    "abundancia_entorno6m = entorno_with_nan[entorno_with_nan['Altura Palmeira (m)'] == '6']\n",
    "\n",
    "abundancia_entorno3m.describe()"
   ]
  },
  {
   "cell_type": "code",
   "execution_count": 30,
   "metadata": {},
   "outputs": [
    {
     "data": {
      "text/html": [
       "<div>\n",
       "<style scoped>\n",
       "    .dataframe tbody tr th:only-of-type {\n",
       "        vertical-align: middle;\n",
       "    }\n",
       "\n",
       "    .dataframe tbody tr th {\n",
       "        vertical-align: top;\n",
       "    }\n",
       "\n",
       "    .dataframe thead th {\n",
       "        text-align: right;\n",
       "    }\n",
       "</style>\n",
       "<table border=\"1\" class=\"dataframe\">\n",
       "  <thead>\n",
       "    <tr style=\"text-align: right;\">\n",
       "      <th></th>\n",
       "      <th>Altura (cm)</th>\n",
       "      <th>Dap (mm)</th>\n",
       "    </tr>\n",
       "  </thead>\n",
       "  <tbody>\n",
       "    <tr>\n",
       "      <th>count</th>\n",
       "      <td>97.000000</td>\n",
       "      <td>97.000000</td>\n",
       "    </tr>\n",
       "    <tr>\n",
       "      <th>mean</th>\n",
       "      <td>85.731959</td>\n",
       "      <td>9.278557</td>\n",
       "    </tr>\n",
       "    <tr>\n",
       "      <th>std</th>\n",
       "      <td>121.763561</td>\n",
       "      <td>11.025570</td>\n",
       "    </tr>\n",
       "    <tr>\n",
       "      <th>min</th>\n",
       "      <td>20.000000</td>\n",
       "      <td>1.180000</td>\n",
       "    </tr>\n",
       "    <tr>\n",
       "      <th>25%</th>\n",
       "      <td>26.000000</td>\n",
       "      <td>3.500000</td>\n",
       "    </tr>\n",
       "    <tr>\n",
       "      <th>50%</th>\n",
       "      <td>47.000000</td>\n",
       "      <td>5.000000</td>\n",
       "    </tr>\n",
       "    <tr>\n",
       "      <th>75%</th>\n",
       "      <td>87.000000</td>\n",
       "      <td>9.950000</td>\n",
       "    </tr>\n",
       "    <tr>\n",
       "      <th>max</th>\n",
       "      <td>800.000000</td>\n",
       "      <td>67.130000</td>\n",
       "    </tr>\n",
       "  </tbody>\n",
       "</table>\n",
       "</div>"
      ],
      "text/plain": [
       "       Altura (cm)   Dap (mm)\n",
       "count    97.000000  97.000000\n",
       "mean     85.731959   9.278557\n",
       "std     121.763561  11.025570\n",
       "min      20.000000   1.180000\n",
       "25%      26.000000   3.500000\n",
       "50%      47.000000   5.000000\n",
       "75%      87.000000   9.950000\n",
       "max     800.000000  67.130000"
      ]
     },
     "execution_count": 30,
     "metadata": {},
     "output_type": "execute_result"
    }
   ],
   "source": [
    "abundancia_entorno6m.describe()"
   ]
  },
  {
   "cell_type": "code",
   "execution_count": 33,
   "metadata": {},
   "outputs": [
    {
     "name": "stdout",
     "output_type": "stream",
     "text": [
      "TESTES ESTATISTICOS DE NORMALIDADE PARA AS DISTRIBUIÇOES DE ALTURAS E DIAMETROS DAS PLANTAS NO ENTORNO DAS PALMEIRAS DE 3M E 6M\n",
      "---------------------------- ALTURA -----------------------------------\n",
      "Statistics=0.634, p=0.000\n",
      "Grupo ENTORNO 3M não tem distribuição normal  para altura (rejeita H0)\n",
      "-------------------------------------------------------------------------\n",
      "Statistics=nan, p=1.000\n",
      "Grupo ENTORNO 6M tem distribuição normal para altura (aceita H0)\n",
      "-------------------------------------------------------------------------\n",
      "MANN-WHITNEY:: A média das alturas não varia significativamente nos dados de altura no entorno (aceita H0)\n",
      "---------------------------------- DIAMETRO ---------------------------------------\n",
      "Statistics=0.607, p=0.000\n",
      "Grupo ENTORNO 3M não tem distribuição normal para diametro (rejeita H0)\n",
      "-------------------------------------------------------------------------\n",
      "Statistics=nan, p=1.000\n",
      "Grupo ENTORNO 6M tem distribuição normal para diametro (aceita H0)\n",
      "-------------------------------------------------------------------------\n",
      "MANN-WHITNEY: A média dos diametros não varia significativamente nos dados de diametro no entorno (aceita H0)\n"
     ]
    }
   ],
   "source": [
    "print(\"TESTES ESTATISTICOS DE NORMALIDADE PARA AS DISTRIBUIÇOES DE ALTURAS E DIAMETROS DAS PLANTAS NO ENTORNO DAS PALMEIRAS DE 3M E 6M\")\n",
    "\n",
    "#teste Shapiro: checagem de normalidade\n",
    "#teste F: comparação de variâncias \n",
    "#teste Mann-Whithney: comparação de distribuicoes (https://operdata.com.br/blog/teste-t-e-mann-whitney-para-amostras-independentes)\n",
    "\n",
    "#-------------------------------------------ALTURA ------------------------------------------------------------\n",
    "\n",
    "print(\"---------------------------- ALTURA -----------------------------------\")\n",
    "\n",
    "# 1 - Shapiro-Wilk Test (teste de normalidade) para os dados de ALTURA do entorno 3M\n",
    "stat, p = shapiro(abundancia_entorno3m['Altura (cm)'])\n",
    "print('Statistics=%.3f, p=%.3f' % (stat, p))\n",
    "\n",
    "alpha = 0.05\n",
    "if p > alpha:\n",
    "\tprint('Grupo ENTORNO 3M tem distribuição normal para altura (aceita H0)')\n",
    "else:\n",
    "\tprint('Grupo ENTORNO 3M não tem distribuição normal  para altura (rejeita H0)')\n",
    "\n",
    "print('-------------------------------------------------------------------------')\n",
    "\n",
    "# 2 - Shapiro-Wilk Test (teste de normalidade) para os dados de ALTURA NO ENTORNO 6M\n",
    "stat, p = shapiro(abundancia_entorno6m['Altura (cm)'])\n",
    "print('Statistics=%.3f, p=%.3f' % (stat, p))\n",
    "\n",
    "if p > alpha:\n",
    "\tprint('Grupo ENTORNO 6M tem distribuição normal para altura (aceita H0)')\n",
    "else:\n",
    "\tprint('Grupo ENTORNO 6M não tem distribuição normal  para altura (rejeita H0)')\n",
    "\n",
    "print('-------------------------------------------------------------------------')\n",
    "# 4 - Mann-Withney Test PARA DADOS DE ALTURA NO ENTORNO\n",
    "stat, p = mannwhitneyu(abundancia_entorno3m['Altura (cm)'], abundancia_entorno6m['Altura (cm)'])\n",
    "\n",
    "if p > alpha:\n",
    "\tprint('MANN-WHITNEY:: A média das alturas não varia significativamente nos dados de altura no entorno (aceita H0)')\n",
    "else:\n",
    "\tprint('MANN-WHITNEY: A média das alturas varia significativamente nos dados de altura no entorno (rejeita H0)')\n",
    "\n",
    "print('---------------------------------- DIAMETRO ---------------------------------------')\n",
    "\n",
    "# 1 - Shapiro-Wilk Test (teste de normalidade) para os dados de DIAMETRO NO ENTORNO 3M\n",
    "stat, p = shapiro(abundancia_entorno3m['Dap (mm)'])\n",
    "print('Statistics=%.3f, p=%.3f' % (stat, p))\n",
    "\n",
    "if p > alpha:\n",
    "\tprint('Grupo ENTORNO 3M tem distribuição normal para diametro (aceita H0)')\n",
    "else:\n",
    "\tprint('Grupo ENTORNO 3M não tem distribuição normal para diametro (rejeita H0)')\n",
    "\n",
    "print('-------------------------------------------------------------------------')\n",
    "\n",
    "# 2 - Shapiro-Wilk Test (teste de normalidade) para os dados de DIAMETRO NO ENTORNO 6M\n",
    "stat, p = shapiro(abundancia_entorno6m['Dap (mm)'])\n",
    "print('Statistics=%.3f, p=%.3f' % (stat, p))\n",
    "\n",
    "alpha = 0.05\n",
    "if p > alpha:\n",
    "\tprint('Grupo ENTORNO 6M tem distribuição normal para diametro (aceita H0)')\n",
    "else:\n",
    "\tprint('Grupo ENTORNO 6M não tem distribuição normal para diametro (rejeita H0)') \n",
    "\n",
    "print('-------------------------------------------------------------------------')\n",
    "\n",
    "# 3 - Mann-Whithney Test PARA DADOS DE ALTURA NO ENTORNO\n",
    "stat, p = mannwhitneyu(abundancia_entorno3m['Dap (mm)'], abundancia_entorno6m['Dap (mm)'])\n",
    "\n",
    "if p > alpha:\n",
    "\tprint('MANN-WHITNEY: A média dos diametros não varia significativamente nos dados de diametro no entorno (aceita H0)')\n",
    "else:\n",
    "\tprint('MANN-WHITNEY: A média dos diametros varia significativamente nos dados de altura de diametro no entorno (rejeita H0)')\n",
    "    "
   ]
  },
  {
   "cell_type": "code",
   "execution_count": 32,
   "metadata": {},
   "outputs": [
    {
     "data": {
      "text/plain": [
       "Palmeira  Quadrante\n",
       "1         1             3\n",
       "          2            10\n",
       "          3             6\n",
       "          4             3\n",
       "10        1             3\n",
       "          2             5\n",
       "          3             3\n",
       "          4             3\n",
       "2         1             3\n",
       "          2             4\n",
       "          3             4\n",
       "          4             4\n",
       "3         1             9\n",
       "          2             3\n",
       "          3             4\n",
       "          4             6\n",
       "4         1             7\n",
       "          2             8\n",
       "          3             9\n",
       "          4            13\n",
       "5         1             6\n",
       "          2            13\n",
       "          3            14\n",
       "          4             6\n",
       "6         1             5\n",
       "          2             6\n",
       "          3             4\n",
       "          4             5\n",
       "7         1            10\n",
       "          2             3\n",
       "          3             7\n",
       "          4             6\n",
       "8         1             3\n",
       "          2             9\n",
       "          3             7\n",
       "          4             3\n",
       "9         1             3\n",
       "          2             6\n",
       "          3             6\n",
       "          4             0\n",
       "Name: Número, dtype: int64"
      ]
     },
     "execution_count": 32,
     "metadata": {},
     "output_type": "execute_result"
    }
   ],
   "source": [
    "abundancia_entorno"
   ]
  },
  {
   "cell_type": "code",
   "execution_count": 33,
   "metadata": {},
   "outputs": [],
   "source": [
    "#Percentual de invidiviudos nas parcelas do entorno\n",
    "total_parcelas_entorno = abundancia_entorno.count()\n",
    "entorno_0_2 = (abundancia_entorno[abundancia_entorno < 3 ].count() / total_parcelas_entorno) * 100\n",
    "entorno_3_5 = (abundancia_entorno[abundancia_entorno[(abundancia_entorno >= 3) & (abundancia_entorno <6)]].count() / total_parcelas_entorno) * 100\n",
    "entorno_6_14 =(abundancia_entorno[abundancia_entorno[(abundancia_entorno >= 6) ]].count() / total_parcelas_entorno) * 100\n",
    "dados_entorno = [entorno_0_2,entorno_3_5,entorno_6_14]"
   ]
  },
  {
   "cell_type": "code",
   "execution_count": 34,
   "metadata": {},
   "outputs": [
    {
     "data": {
      "text/plain": [
       "Text(0.5,0,'Quantidade de regenerantes nas parcelas do entorno')"
      ]
     },
     "execution_count": 34,
     "metadata": {},
     "output_type": "execute_result"
    },
    {
     "data": {
      "image/png": "[encoded data removed]",
      "text/plain": [
       "<Figure size 432x288 with 1 Axes>"
      ]
     },
     "metadata": {},
     "output_type": "display_data"
    }
   ],
   "source": [
    "legendas = ['0 a 2', '2 a 5', '6 ou mais']\n",
    "dados = dados_entorno\n",
    "\n",
    "ax = plt.figure().gca()\n",
    "ax.bar(legendas,dados)\n",
    "plt.title (\"% regenerantes nas parcelas no entorno\")\n",
    "plt.ylabel(\"%\")\n",
    "plt.xlabel(\"Quantidade de regenerantes nas parcelas do entorno\")\n"
   ]
  },
  {
   "cell_type": "code",
   "execution_count": 35,
   "metadata": {},
   "outputs": [
    {
     "data": {
      "text/plain": [
       "Palmeira  Quadrante\n",
       "1         1             3\n",
       "          2            10\n",
       "          3             6\n",
       "          4             3\n",
       "2         1             3\n",
       "          2             4\n",
       "          3             4\n",
       "          4             4\n",
       "3         1             9\n",
       "          2             3\n",
       "          3             4\n",
       "          4             6\n",
       "4         1             7\n",
       "          2             8\n",
       "          3             9\n",
       "          4            13\n",
       "5         1             6\n",
       "          2            13\n",
       "          3            14\n",
       "          4             6\n",
       "Name: Número, dtype: int64"
      ]
     },
     "execution_count": 35,
     "metadata": {},
     "output_type": "execute_result"
    }
   ],
   "source": [
    "abundancia_entorno3m = abundancia_entorno3m.groupby(['Palmeira','Quadrante'])['Número'].count()\n",
    "abundancia_entorno6m = abundancia_entorno6m.groupby(['Palmeira','Quadrante'])['Número'].count() \n",
    "abundancia_entorno3m"
   ]
  },
  {
   "cell_type": "code",
   "execution_count": 36,
   "metadata": {},
   "outputs": [
    {
     "data": {
      "text/plain": [
       "[0.0, 40.0, 60.0]"
      ]
     },
     "execution_count": 36,
     "metadata": {},
     "output_type": "execute_result"
    }
   ],
   "source": [
    "#Percentual de individuos no entorno de palmeiras 3m\n",
    "total_parcelas_entorno3m = abundancia_entorno3m.count()\n",
    "entorno3m_0_2 = (abundancia_entorno3m[abundancia_entorno3m < 3 ].count() / total_parcelas_entorno3m) * 100\n",
    "entorno3m_3_5 = (abundancia_entorno3m[abundancia_entorno3m[(abundancia_entorno3m >= 3) & (abundancia_entorno3m <6)]].count()/ total_parcelas_entorno3m) * 100\n",
    "entorno3m_6_8 = (abundancia_entorno3m[abundancia_entorno3m[(abundancia_entorno3m >= 6) ]].count() / total_parcelas_entorno3m) * 100\n",
    "dados_entorno3m = [entorno3m_0_2, entorno3m_3_5, entorno3m_6_8]\n",
    "\n",
    "#Percentual de individuos no entorno de palmeiras 6m\n",
    "total_parcelas_entorno6m = abundancia_entorno6m.count()\n",
    "entorno6m_0_2 = (abundancia_entorno6m[abundancia_entorno6m < 3 ].count() / total_parcelas_entorno6m) * 100\n",
    "entorno6m_3_5 = (abundancia_entorno6m[abundancia_entorno6m[(abundancia_entorno6m >= 3) & (abundancia_entorno6m <6)]].count()/ total_parcelas_entorno6m) * 100\n",
    "entorno6m_6_14 = (abundancia_entorno6m[abundancia_entorno6m[(abundancia_entorno6m >= 6) ]].count() / total_parcelas_entorno6m) * 100\n",
    "dados_entorno6m = [entorno6m_0_2, entorno6m_3_5, entorno6m_6_14]\n",
    "\n",
    "dados_entorno3m"
   ]
  },
  {
   "cell_type": "code",
   "execution_count": 37,
   "metadata": {},
   "outputs": [
    {
     "data": {
      "text/plain": [
       "[5.0, 55.00000000000001, 40.0]"
      ]
     },
     "execution_count": 37,
     "metadata": {},
     "output_type": "execute_result"
    }
   ],
   "source": [
    "dados_entorno6m"
   ]
  },
  {
   "cell_type": "code",
   "execution_count": 38,
   "metadata": {},
   "outputs": [
    {
     "data": {
      "text/plain": [
       "<matplotlib.legend.Legend at 0x7f76e3628470>"
      ]
     },
     "execution_count": 38,
     "metadata": {},
     "output_type": "execute_result"
    },
    {
     "data": {
      "image/png": "[encoded data removed]",
      "text/plain": [
       "<Figure size 576x360 with 1 Axes>"
      ]
     },
     "metadata": {},
     "output_type": "display_data"
    }
   ],
   "source": [
    "legenda_eixo_x = ['0 a 2', '2 a 5', '6 ou mais']\n",
    "legendas_tamanhos = ['3m', '6m']\n",
    "\n",
    "# Setting the positions and width for the bars\n",
    "pos = list(range(len(dados_entorno3m)))\n",
    "# Set the labels for the x ticks\n",
    "bar_width = 0.4\n",
    "\n",
    "fig, ax = plt.subplots(figsize=(8, 5))\n",
    "ax.bar(pos, dados_entorno3m ,  width=bar_width, color='#EE3224')\n",
    "ax.bar([p + bar_width for p in pos], dados_entorno6m,  width=bar_width, color='#F78F1E')\n",
    "# Set the position of the x ticks\n",
    "ax.set_xticks([p + 0.5 * bar_width for p in pos])\n",
    "ax.set_xticklabels(legenda_eixo_x)\n",
    "\n",
    "plt.title (\"% regenerantes nas parcelas no entorno\")\n",
    "plt.ylabel(\"%\")\n",
    "plt.xlabel(\"Quantidade de regenerantes nas parcelas no entorno\")\n",
    "plt.legend(legendas_tamanhos)\n"
   ]
  },
  {
   "cell_type": "code",
   "execution_count": 39,
   "metadata": {},
   "outputs": [
    {
     "data": {
      "text/plain": [
       "<matplotlib.legend.Legend at 0x7f76e36008d0>"
      ]
     },
     "execution_count": 39,
     "metadata": {},
     "output_type": "execute_result"
    },
    {
     "data": {
      "image/png": "[encoded data removed]",
      "text/plain": [
       "<Figure size 576x360 with 1 Axes>"
      ]
     },
     "metadata": {},
     "output_type": "display_data"
    }
   ],
   "source": [
    "#Grafico de barras considerando todos os dados\n",
    "legenda_eixo_x = ['0 a 2', '2 a 5', '6 ou mais']\n",
    "legendas_tamanhos = ['Copa', 'Entorno']\n",
    "\n",
    "# Setting the positions and width for the bars\n",
    "pos = list(range(len(dados_copa)))\n",
    "# Set the labels for the x ticks\n",
    "bar_width = 0.4\n",
    "\n",
    "fig, ax = plt.subplots(figsize=(8, 5))\n",
    "ax.bar(pos, dados_copa ,  width=bar_width, color='#EE3224')\n",
    "ax.bar([p + bar_width for p in pos], dados_entorno,  width=bar_width, color='blue')\n",
    "# Set the position of the x ticks\n",
    "ax.set_xticks([p + 0.5 * bar_width for p in pos])\n",
    "ax.set_xticklabels(legenda_eixo_x)\n",
    "\n",
    "plt.title (\"% regenerantes nas parcelas sob as copas e no entorno\")\n",
    "plt.ylabel(\"%\")\n",
    "plt.xlabel(\"Quantidade de regenerantes nas parcelas sob as copas e no entorno together\")\n",
    "plt.legend(legendas_tamanhos)"
   ]
  },
  {
   "cell_type": "code",
   "execution_count": 40,
   "metadata": {},
   "outputs": [
    {
     "name": "stdout",
     "output_type": "stream",
     "text": [
      "1. ABUNDANCIA TODAS AS PALMEIRAS --------------------------------------\n",
      "Statistics=0.909, p=0.003\n",
      "Grupo COPA não tem distribuição normal (rejeita H0)\n",
      "Statistics=0.900, p=0.002\n",
      "Grupo ENTORNO não tem distribuição normal (rejeita H0)\n",
      "Statistics=224.500, p=0.000\n",
      "Diferentes distribuiçoes (rejeita H0), ou seja, existem diferenças significativas entre as duas condicoes\n"
     ]
    }
   ],
   "source": [
    "#TESTES ESTATISTICOS DOS DADOS DE ABUNDANCIA DAS PALMEIRAS \n",
    "#1, TODAS\n",
    "#2. APENAS COPAs\n",
    "#3. APENAS ENTORNO\n",
    "\n",
    "print(\"1. ABUNDANCIA TODAS AS PALMEIRAS --------------------------------------\")\n",
    "# 1 - Shapiro-Wilk Test (teste de normalidade) para os dados da copa\n",
    "stat, p = shapiro(abundancia_copa)\n",
    "print('Statistics=%.3f, p=%.3f' % (stat, p))\n",
    "\n",
    "alpha = 0.05\n",
    "if p > alpha:\n",
    "\tprint('Grupo COPA tem distribuição normal (aceita H0)')\n",
    "else:\n",
    "\tprint('Grupo COPA não tem distribuição normal (rejeita H0)')\n",
    "    \n",
    " # 2 - Shapiro-Wilk Test (teste de normalidade) para os dados do entorno\n",
    "stat, p = shapiro(abundancia_entorno)\n",
    "print('Statistics=%.3f, p=%.3f' % (stat, p))\n",
    "\n",
    "alpha = 0.05\n",
    "if p > alpha:\n",
    "    print('Grupo ENTORNO tem distribuição normal (aceita H0)')\n",
    "else:\n",
    "    print('Grupo ENTORNO não tem distribuição normal (rejeita H0)')\n",
    "\n",
    "    # 3 - Mann-Whitney test (dados com distribuicao nao normal)\n",
    "stat, p = mannwhitneyu(abundancia_copa, abundancia_entorno)\n",
    "print('Statistics=%.3f, p=%.3f' % (stat, p))\n",
    "\n",
    "alpha = 0.05\n",
    "\n",
    "if p > alpha:\n",
    "\tprint('Mesma distribuição (aceita H0)')\n",
    "else:\n",
    "\tprint('Diferentes distribuiçoes (rejeita H0), ou seja, existem diferenças significativas entre as duas condicoes')\n",
    "    "
   ]
  },
  {
   "cell_type": "code",
   "execution_count": 41,
   "metadata": {},
   "outputs": [
    {
     "name": "stdout",
     "output_type": "stream",
     "text": [
      "2. ABUNDANCIA APENAS NA COPA 3M E 6M--------------------------------------\n",
      "Statistics=0.931, p=0.164\n",
      "Grupo COPA 3M tem distribuição normal (aceita H0)\n",
      "Statistics=0.911, p=0.065\n",
      "Grupo  COPA 6M tem distribuição normal (aceita H0)\n",
      "Statistics=155.500, p=0.111\n",
      "Man Withney Test: Mesma distribuição (aceita H0)\n",
      "Welch’s T-TEST: A média da abundancia não varia significativamente nos dados das copas (aceita H0)\n"
     ]
    }
   ],
   "source": [
    "#TESTES ESTATISTICOS DOS DADOS DE ABUNDANCIA DAS PALMEIRAS DA COPA\n",
    "\n",
    "print(\"2. ABUNDANCIA APENAS NA COPA 3M E 6M--------------------------------------\")\n",
    "# 1 - Shapiro-Wilk Test (teste de normalidade) para os dados da copa 3M\n",
    "stat, p = shapiro(abundancia_copa3m)\n",
    "print('Statistics=%.3f, p=%.3f' % (stat, p))\n",
    "\n",
    "alpha = 0.05\n",
    "if p > alpha:\n",
    "\tprint('Grupo COPA 3M tem distribuição normal (aceita H0)')\n",
    "else:\n",
    "\tprint('Grupo COPA 3M não tem distribuição normal (rejeita H0)')\n",
    "    \n",
    " # 2 - Shapiro-Wilk Test (teste de normalidade) para os dados do copa 6M\n",
    "stat, p = shapiro(abundancia_copa6m)\n",
    "print('Statistics=%.3f, p=%.3f' % (stat, p))\n",
    "\n",
    "alpha = 0.05\n",
    "if p > alpha:\n",
    "    print('Grupo  COPA 6M tem distribuição normal (aceita H0)')\n",
    "else:\n",
    "    print('Grupo COPA 6M  não tem distribuição normal (rejeita H0)')\n",
    "\n",
    "    # 3 - Mann-Whitney test (dados com distribuicao nao normal)\n",
    "stat, p = mannwhitneyu(abundancia_copa3m, abundancia_copa6m)\n",
    "print('Statistics=%.3f, p=%.3f' % (stat, p))\n",
    "\n",
    "alpha = 0.05\n",
    "\n",
    "if p > alpha:\n",
    "\tprint('Man Withney Test: Mesma distribuição (aceita H0)')\n",
    "else:\n",
    "\tprint('Man Withney Test: Diferentes distribuiçoes (rejeita H0), ou seja, existem diferenças significativas entre as duas condicoes')\n",
    "\n",
    "# 4 - Welch’s T-TEST para dados de diametro\n",
    "stat, p = stats.ttest_ind(abundancia_copa3m,abundancia_copa6m, equal_var= False )\n",
    "\n",
    "if p > alpha:\n",
    "\tprint('Welch’s T-TEST: A média da abundancia não varia significativamente nos dados das copas (aceita H0)')\n",
    "else:\n",
    "\tprint('Welch’s T-TEST: A média da abundancia varia significativamente nos dados das copas (rejeita H0)')"
   ]
  },
  {
   "cell_type": "code",
   "execution_count": 42,
   "metadata": {},
   "outputs": [
    {
     "name": "stdout",
     "output_type": "stream",
     "text": [
      "3. ABUNDANCIA APENAS NO ENTORNO 3M E 6M--------------------------------------\n",
      "Statistics=0.878, p=0.016\n",
      "Grupo ENTORNO 3M não tem distribuição normal (rejeita H0)\n",
      "Statistics=0.936, p=0.203\n",
      "Grupo  ENTORNO 6M tem distribuição normal (aceita H0)\n",
      "Statistics=140.500, p=0.052\n",
      "Man Withney Test: Mesma distribuição (aceita H0)\n"
     ]
    }
   ],
   "source": [
    "#TESTES ESTATISTICOS DOS DADOS DE ABUNDANCIA DAS PALMEIRAS DO ENTORNO\n",
    "\n",
    "print(\"3. ABUNDANCIA APENAS NO ENTORNO 3M E 6M--------------------------------------\")\n",
    "# 1 - Shapiro-Wilk Test (teste de normalidade) para os dados da ENTORNO 3M\n",
    "stat, p = shapiro(abundancia_entorno3m)\n",
    "print('Statistics=%.3f, p=%.3f' % (stat, p))\n",
    "\n",
    "alpha = 0.05\n",
    "if p > alpha:\n",
    "\tprint('Grupo ENTORNO 3M tem distribuição normal (aceita H0)')\n",
    "else:\n",
    "\tprint('Grupo ENTORNO 3M não tem distribuição normal (rejeita H0)')\n",
    "    \n",
    " # 2 - Shapiro-Wilk Test (teste de normalidade) para os dados do ENTORNO 6M\n",
    "stat, p = shapiro(abundancia_entorno6m)\n",
    "print('Statistics=%.3f, p=%.3f' % (stat, p))\n",
    "\n",
    "alpha = 0.05\n",
    "if p > alpha:\n",
    "    print('Grupo  ENTORNO 6M tem distribuição normal (aceita H0)')\n",
    "else:\n",
    "    print('Grupo ENTORNO 6M  não tem distribuição normal (rejeita H0)')\n",
    "\n",
    "    # 3 - Mann-Whitney test (dados com distribuicao nao normal)\n",
    "stat, p = mannwhitneyu(abundancia_entorno3m, abundancia_entorno6m)\n",
    "print('Statistics=%.3f, p=%.3f' % (stat, p))\n",
    "\n",
    "alpha = 0.05\n",
    "\n",
    "if p > alpha:\n",
    "\tprint('Man Withney Test: Mesma distribuição (aceita H0)')\n",
    "else:\n",
    "\tprint('Man Withney Test: Diferentes distribuiçoes (rejeita H0), ou seja, existem diferenças significativas entre as duas condicoes')\n"
   ]
  },
  {
   "cell_type": "code",
   "execution_count": 43,
   "metadata": {},
   "outputs": [
    {
     "data": {
      "text/plain": [
       "Entorno    232\n",
       "Copa        95\n",
       "Name: Área, dtype: int64"
      ]
     },
     "execution_count": 43,
     "metadata": {},
     "output_type": "execute_result"
    }
   ],
   "source": [
    "#Dataframe sem quadrantes e numeros nulos (df_without_nan)\n",
    "df_without_nan = df.copy()\n",
    "df_without_nan.dropna(subset=[ 'Número'], inplace=True)\n",
    "df_without_nan['Área'].value_counts()"
   ]
  },
  {
   "cell_type": "code",
   "execution_count": 44,
   "metadata": {},
   "outputs": [
    {
     "data": {
      "text/plain": [
       "Data                   95\n",
       "Palmeira               95\n",
       "Altura Palmeira (m)    95\n",
       "Área                   95\n",
       "Quadrante              95\n",
       "Número                 95\n",
       "Família                95\n",
       "Gênero                 95\n",
       "Espécie                95\n",
       "Altura (cm)            95\n",
       "Dap (mm)               95\n",
       "Coletada               95\n",
       "Nativa                 95\n",
       "Estágio sucessional    95\n",
       "Obs                     4\n",
       "Identificação          55\n",
       "dtype: int64"
      ]
     },
     "execution_count": 44,
     "metadata": {},
     "output_type": "execute_result"
    }
   ],
   "source": [
    "#contar registros em cada coluna - área da copa\n",
    "df_without_nan[df_without_nan['Área'] == 'Copa'].count()"
   ]
  },
  {
   "cell_type": "code",
   "execution_count": 45,
   "metadata": {},
   "outputs": [
    {
     "data": {
      "text/plain": [
       "Data                   232\n",
       "Palmeira               232\n",
       "Altura Palmeira (m)    232\n",
       "Área                   232\n",
       "Quadrante              232\n",
       "Número                 232\n",
       "Família                232\n",
       "Gênero                 232\n",
       "Espécie                232\n",
       "Altura (cm)            232\n",
       "Dap (mm)               232\n",
       "Coletada               232\n",
       "Nativa                 232\n",
       "Estágio sucessional    232\n",
       "Obs                     36\n",
       "Identificação          146\n",
       "dtype: int64"
      ]
     },
     "execution_count": 45,
     "metadata": {},
     "output_type": "execute_result"
    }
   ],
   "source": [
    "#contar registros em cada coluna - área do entorno\n",
    "df_without_nan[df_without_nan['Área'] == 'Entorno'].count()"
   ]
  },
  {
   "cell_type": "code",
   "execution_count": 46,
   "metadata": {},
   "outputs": [
    {
     "data": {
      "text/plain": [
       "Text(0,0.5,'Número de indivíduos')"
      ]
     },
     "execution_count": 46,
     "metadata": {},
     "output_type": "execute_result"
    },
    {
     "data": {
      "image/png": "[encoded data removed]",
      "text/plain": [
       "<Figure size 432x288 with 1 Axes>"
      ]
     },
     "metadata": {},
     "output_type": "display_data"
    }
   ],
   "source": [
    "#Gráfico de barras da area das especies da area da copa ordenadas de forma descendente\n",
    "plot_copa = df_without_nan[df_without_nan['Área'] == 'Copa']\n",
    "plot_copa =  plot_copa[~plot_copa['Espécie'].isin(['Pendente'] )]\n",
    "plot_copa = plot_copa.groupby('Espécie')['Número'].count() \n",
    "plot_copa = plot_copa[plot_copa > 0]\n",
    "plot_copa = plot_copa.sort_values(ascending = False)\n",
    "\n",
    "ax = plt.figure().gca()\n",
    "ax = plot_copa.plot.bar()\n",
    "ax.yaxis.set_major_locator(MaxNLocator(integer=True))\n",
    "plt.xticks(fontstyle='italic')\n",
    "plt.title (\"Espécies na Copa\")\n",
    "plt.ylabel(\"Número de indivíduos\")"
   ]
  },
  {
   "cell_type": "code",
   "execution_count": 47,
   "metadata": {},
   "outputs": [
    {
     "data": {
      "text/plain": [
       "Text(0,0.5,'Número de indivíduos')"
      ]
     },
     "execution_count": 47,
     "metadata": {},
     "output_type": "execute_result"
    },
    {
     "data": {
      "image/png": "[encoded data removed]",
      "text/plain": [
       "<Figure size 432x288 with 1 Axes>"
      ]
     },
     "metadata": {},
     "output_type": "display_data"
    }
   ],
   "source": [
    "#Gráfico de barras da area das especies da area do entorno ordenadas de forma descendente\n",
    "plot_entorno = df_without_nan[['Área','Espécie','Número']]\n",
    "plot_entorno= plot_entorno[plot_entorno['Área'] == 'Entorno']\n",
    "plot_entorno = plot_entorno.groupby('Espécie')['Número'].count()\n",
    "plot_entorno = plot_entorno[ plot_entorno > 0 ]\n",
    "plot_entorno = plot_entorno.sort_values(ascending = False)\n",
    "\n",
    "ax = plt.figure().gca()\n",
    "ax = plot_entorno.plot.bar()\n",
    "ax.yaxis.set_major_locator(MaxNLocator(integer=True))\n",
    "plt.xticks(fontstyle='italic')\n",
    "plt.title (\"Espécies no Entorno\")\n",
    "plt.ylabel(\"Número de indivíduos\")"
   ]
  },
  {
   "cell_type": "code",
   "execution_count": 48,
   "metadata": {},
   "outputs": [
    {
     "data": {
      "image/png": "[encoded data removed]",
      "text/plain": [
       "<Figure size 360x360 with 1 Axes>"
      ]
     },
     "metadata": {},
     "output_type": "display_data"
    }
   ],
   "source": [
    "#Percentual de indivíduos arbóreos regenerantes sob a copa de palmeiras Livistona chinensis de 3 m de altura e no entorno delas.\n",
    "\n",
    "regenerantes_por_area = df_without_nan[~df_without_nan['Espécie'].isin(['Pendente'] )]\n",
    "regenerantes_por_area = regenerantes_por_area.groupby('Área', as_index=False)['Número'].count() \n",
    "regenerantes_por_area = regenerantes_por_area[regenerantes_por_area > 0]\n",
    "regenerantes_por_area = regenerantes_por_area.dropna()\n",
    "\n",
    "labels = regenerantes_por_area['Área'].tolist()\n",
    "\n",
    "sizes =  regenerantes_por_area['Número'].tolist()\n",
    "\n",
    "explode = [0.1, 0.1]\n",
    "\n",
    "colors = ['#FFA500', '#FF0000']\n",
    "\n",
    "fig, ax = plt.subplots(figsize=(5, 5))\n",
    "ax.axis('equal')\n",
    "\n",
    "pie = ax.pie(sizes, explode=explode, colors=colors,\n",
    "             autopct='%1.2f%%', pctdistance =0.80,textprops=dict(color=\"black\"))\n",
    "\n",
    "plt.legend(pie[0], labels, bbox_to_anchor=(1.5,0.5), loc=\"right\")\n",
    "\n",
    "plt.show()"
   ]
  },
  {
   "cell_type": "code",
   "execution_count": 49,
   "metadata": {},
   "outputs": [
    {
     "name": "stderr",
     "output_type": "stream",
     "text": [
      "/home/tania/anaconda3/lib/python3.6/site-packages/ipykernel_launcher.py:3: UserWarning: Boolean Series key will be reindexed to match DataFrame index.\n",
      "  This is separate from the ipykernel package so we can avoid doing imports until\n"
     ]
    },
    {
     "data": {
      "image/png": "[encoded data removed]",
      "text/plain": [
       "<Figure size 360x360 with 1 Axes>"
      ]
     },
     "metadata": {},
     "output_type": "display_data"
    }
   ],
   "source": [
    "#Proporção de indivíduos arbóreos regenerantes nativos e exóticos sob as copas de palmeiras Livistona chinensis de 3 m de altura e no entorno delas.\n",
    "regenerantes_por_origem = df_without_nan[df_without_nan['Área'] == 'Copa']\n",
    "regenerantes_por_origem = regenerantes_por_origem[~df['Espécie'].isin(['Pendente'] )]\n",
    "regenerantes_por_origem = regenerantes_por_origem.groupby('Nativa', as_index=False)['Número'].count() \n",
    "regenerantes_por_origem = regenerantes_por_origem[regenerantes_por_origem > 0]\n",
    "regenerantes_por_origem = regenerantes_por_origem.dropna()\n",
    "\n",
    "labels = ['Exótico', 'Nativo', 'Não Classificado']\n",
    "\n",
    "sizes =  regenerantes_por_origem['Número'].tolist()\n",
    "\n",
    "explode = [0.1, 0.1, 0.1]\n",
    "\n",
    "colors = ['#FFA500', '#FF0000', '#BBB100']\n",
    "\n",
    "fig, ax = plt.subplots(figsize=(5, 5))\n",
    "ax.axis('equal')\n",
    "\n",
    "pie = ax.pie(sizes, explode=explode, colors=colors,\n",
    "             autopct='%1.2f%%', pctdistance =0.80,textprops=dict(color=\"black\"))\n",
    "\n",
    "plt.legend(pie[0], labels, bbox_to_anchor=(1.5,0.5), loc=\"right\")\n",
    "\n",
    "plt.show()"
   ]
  },
  {
   "cell_type": "code",
   "execution_count": 50,
   "metadata": {},
   "outputs": [
    {
     "name": "stderr",
     "output_type": "stream",
     "text": [
      "/home/tania/anaconda3/lib/python3.6/site-packages/ipykernel_launcher.py:3: UserWarning: Boolean Series key will be reindexed to match DataFrame index.\n",
      "  This is separate from the ipykernel package so we can avoid doing imports until\n"
     ]
    },
    {
     "data": {
      "image/png": "[encoded data removed]",
      "text/plain": [
       "<Figure size 360x360 with 1 Axes>"
      ]
     },
     "metadata": {},
     "output_type": "display_data"
    }
   ],
   "source": [
    "#Proporção de indivíduos arbóreos regenerantes nativos e exóticos no entorno palmeiras Livistona chinensis de 3 m de altura e no entorno delas.\n",
    "regenerantes_por_origem = df_without_nan[df_without_nan['Área'] == 'Entorno']\n",
    "regenerantes_por_origem = regenerantes_por_origem[~df['Espécie'].isin(['Pendente'] )]\n",
    "regenerantes_por_origem = regenerantes_por_origem.groupby('Nativa', as_index=False)['Número'].count() \n",
    "regenerantes_por_origem = regenerantes_por_origem[regenerantes_por_origem > 0]\n",
    "regenerantes_por_origem = regenerantes_por_origem.dropna()\n",
    "\n",
    "labels = ['Exótico', 'Nativo', 'Não Classificado']\n",
    "\n",
    "sizes =  regenerantes_por_origem['Número'].tolist()\n",
    "\n",
    "explode = [0.1, 0.1, 0.1]\n",
    "\n",
    "colors = ['#FFA500', '#FF0000', '#BBB100']\n",
    "\n",
    "fig, ax = plt.subplots(figsize=(5, 5))\n",
    "ax.axis('equal')\n",
    "\n",
    "pie = ax.pie(sizes, explode=explode, colors=colors,\n",
    "             autopct='%1.2f%%', pctdistance =0.80,textprops=dict(color=\"black\"))\n",
    "\n",
    "plt.legend(pie[0], labels, bbox_to_anchor=(1.5,0.5), loc=\"right\")\n",
    "\n",
    "plt.show()"
   ]
  },
  {
   "cell_type": "code",
   "execution_count": 51,
   "metadata": {},
   "outputs": [
    {
     "name": "stderr",
     "output_type": "stream",
     "text": [
      "/home/tania/anaconda3/lib/python3.6/site-packages/ipykernel_launcher.py:3: UserWarning: Boolean Series key will be reindexed to match DataFrame index.\n",
      "  This is separate from the ipykernel package so we can avoid doing imports until\n"
     ]
    },
    {
     "data": {
      "image/png": "[encoded data removed]",
      "text/plain": [
       "<Figure size 360x360 with 1 Axes>"
      ]
     },
     "metadata": {},
     "output_type": "display_data"
    }
   ],
   "source": [
    " #Proporção de indivíduos arbóreos regenerantes na COPA por ESTAGIO SUCESSIONAL\n",
    "regenerantes_por_estagio = df_without_nan[df_without_nan['Área'] == 'Copa']\n",
    "regenerantes_por_estagio = regenerantes_por_estagio[~df['Espécie'].isin(['Pendente'] )]\n",
    "regenerantes_por_estagio = regenerantes_por_estagio.groupby('Estágio sucessional', as_index=False)['Número'].count() \n",
    "regenerantes_por_estagio = regenerantes_por_estagio[regenerantes_por_estagio > 0]\n",
    "regenerantes_por_estagio = regenerantes_por_estagio.dropna()\n",
    "\n",
    "labels = regenerantes_por_estagio['Estágio sucessional'].tolist()\n",
    "\n",
    "sizes =  regenerantes_por_estagio['Número'].tolist()\n",
    "\n",
    "explode = [0.1, 0.1, 0.1, 0.1, 0.1]\n",
    "\n",
    "colors = ['#FFA500', '#FF0000', '#BBB100',  '#ACF400',  '#ACF400']\n",
    "\n",
    "fig, ax = plt.subplots(figsize=(5, 5))\n",
    "ax.axis('equal')\n",
    "\n",
    "pie = ax.pie(sizes, explode=explode, colors=colors,\n",
    "             autopct='%1.2f%%', pctdistance =0.80,textprops=dict(color=\"black\"))\n",
    "\n",
    "plt.legend(pie[0], labels, bbox_to_anchor=(1.5,0.5), loc=\"right\")\n",
    "\n",
    "plt.show()"
   ]
  },
  {
   "cell_type": "code",
   "execution_count": 52,
   "metadata": {},
   "outputs": [
    {
     "data": {
      "text/plain": [
       "['Não Classificada',\n",
       " 'Secundária Inicial',\n",
       " 'Secundária Tardia',\n",
       " 'Umbrófila',\n",
       " 'indeterminado']"
      ]
     },
     "execution_count": 52,
     "metadata": {},
     "output_type": "execute_result"
    }
   ],
   "source": [
    "labels"
   ]
  },
  {
   "cell_type": "code",
   "execution_count": 53,
   "metadata": {},
   "outputs": [
    {
     "name": "stderr",
     "output_type": "stream",
     "text": [
      "/home/tania/anaconda3/lib/python3.6/site-packages/ipykernel_launcher.py:3: UserWarning: Boolean Series key will be reindexed to match DataFrame index.\n",
      "  This is separate from the ipykernel package so we can avoid doing imports until\n"
     ]
    },
    {
     "data": {
      "image/png": "[encoded data removed]",
      "text/plain": [
       "<Figure size 360x360 with 1 Axes>"
      ]
     },
     "metadata": {},
     "output_type": "display_data"
    }
   ],
   "source": [
    " #Proporção de indivíduos arbóreos regenerantes Pioneiros e Não Pioneiros no entorno de palmeiras Livistona chinensis de 3 m de altura e no entorno delas.\n",
    "regenerantes_por_estagio = df_without_nan[df_without_nan['Área'] == 'Entorno']\n",
    "regenerantes_por_estagio = regenerantes_por_estagio[~df['Espécie'].isin(['Pendente'] )]\n",
    "regenerantes_por_estagio = regenerantes_por_estagio.groupby('Estágio sucessional', as_index=False)['Número'].count() \n",
    "regenerantes_por_estagio = regenerantes_por_estagio[regenerantes_por_estagio > 0]\n",
    "regenerantes_por_estagio = regenerantes_por_estagio.dropna()\n",
    "\n",
    "labels = regenerantes_por_estagio['Estágio sucessional'].tolist()\n",
    "\n",
    "sizes =  regenerantes_por_estagio['Número'].tolist()\n",
    "\n",
    "explode = [0.1, 0.1, 0.1, 0.1, 0.1, 0.1]\n",
    "\n",
    "colors = ['#FFA500', '#FF0000', '#BBB100',  '#ACF400', '#EEC400', '#ABC000' ]\n",
    "\n",
    "fig, ax = plt.subplots(figsize=(5, 5))\n",
    "ax.axis('equal')\n",
    "\n",
    "pie = ax.pie(sizes, explode=explode, colors=colors,\n",
    "             autopct='%1.2f%%', pctdistance =0.80,textprops=dict(color=\"black\"))\n",
    "\n",
    "plt.legend(pie[0], labels, bbox_to_anchor=(1.5,0.5), loc=\"right\")\n",
    "\n",
    "plt.show()"
   ]
  },
  {
   "cell_type": "code",
   "execution_count": 54,
   "metadata": {},
   "outputs": [
    {
     "data": {
      "text/plain": [
       "['Não Classificada',\n",
       " 'Pioneira',\n",
       " 'Secundária Inicial',\n",
       " 'Secundária Tardia',\n",
       " 'Umbrófila',\n",
       " 'indeterminado']"
      ]
     },
     "execution_count": 54,
     "metadata": {},
     "output_type": "execute_result"
    }
   ],
   "source": [
    "labels"
   ]
  },
  {
   "cell_type": "code",
   "execution_count": 55,
   "metadata": {},
   "outputs": [],
   "source": [
    "#Distribuição das espécies  regenerantes\n",
    "\n",
    "#especies copa\n",
    "all_copa = df_without_nan[df_without_nan['Área'] == 'Copa']\n",
    "all_copa = all_copa[~all_copa['Espécie'].isin(['Pendente'] )]\n",
    "all_copa = all_copa['Espécie']\n",
    "all_copa = all_copa.drop_duplicates()\n",
    "\n",
    "#especies entorno\n",
    "all_entorno = df_without_nan[df_without_nan['Área'] == 'Entorno']\n",
    "all_entorno = all_entorno[~all_entorno['Espécie'].isin(['Pendente'] )]\n",
    "all_entorno = all_entorno['Espécie']\n",
    "all_entorno = all_entorno.drop_duplicates()\n",
    "\n",
    "#especies comuns nos dois grupos                     \n",
    "comum_copa_entorno = all_copa[all_copa.isin(all_entorno)]\n",
    "\n",
    "#especies exclusivas de determinada area\n",
    "only_copa =  all_copa[~all_copa.isin(comum_copa_entorno)]\n",
    "only_entorno =  all_entorno[~all_entorno.isin(comum_copa_entorno)]\n"
   ]
  },
  {
   "cell_type": "code",
   "execution_count": 56,
   "metadata": {},
   "outputs": [
    {
     "data": {
      "text/plain": [
       "58        Prunus myrtifolia\n",
       "94     Matayba elaeagnoides\n",
       "103               Citrus sp\n",
       "152         Indeterminada 5\n",
       "Name: Espécie, dtype: object"
      ]
     },
     "execution_count": 56,
     "metadata": {},
     "output_type": "execute_result"
    }
   ],
   "source": [
    "#apenas copa\n",
    "\n",
    "only_copa"
   ]
  },
  {
   "cell_type": "code",
   "execution_count": 57,
   "metadata": {},
   "outputs": [
    {
     "data": {
      "text/plain": [
       "12       Mollinedia schottiana\n",
       "51            Guapira opposita\n",
       "68           Mollinedia uleana\n",
       "69       Pittosporum undulatum\n",
       "70        Mollinedia clavigera\n",
       "75       Machaerium stipitatum\n",
       "77             Indeterminada 1\n",
       "78     Cestrum schlechtendalii\n",
       "109          Allophylus edulis\n",
       "110         Leandra dasytricha\n",
       "120          Myrsine umbellata\n",
       "122       Nectandra barbellata\n",
       "125          Cordia sellowiana\n",
       "129            Indeterminada 6\n",
       "174            Indeterminada 4\n",
       "182            Indeterminada 3\n",
       "205                 Solanum sp\n",
       "209          Ficus obtusifolia\n",
       "213         Sloanea guianensis\n",
       "Name: Espécie, dtype: object"
      ]
     },
     "execution_count": 57,
     "metadata": {},
     "output_type": "execute_result"
    }
   ],
   "source": [
    "#apenas entorno\n",
    "only_entorno"
   ]
  },
  {
   "cell_type": "code",
   "execution_count": 58,
   "metadata": {},
   "outputs": [
    {
     "data": {
      "text/plain": [
       "1                      Coffea arabica\n",
       "3                Cupania oblongifolia\n",
       "8                Myrciaria floribunda\n",
       "36                     Euterpe edulis\n",
       "91                  Myrcia tijucensis\n",
       "141                   Indeterminada 2\n",
       "142              Psychotria suterella\n",
       "148            Eugenia supraaxillaris\n",
       "196                Guarea macrophylla\n",
       "223    Archontophoenix cunninghamiana\n",
       "260              Eugenia brasiliensis\n",
       "Name: Espécie, dtype: object"
      ]
     },
     "execution_count": 58,
     "metadata": {},
     "output_type": "execute_result"
    }
   ],
   "source": [
    "#especies em comum\n",
    "comum_copa_entorno"
   ]
  },
  {
   "cell_type": "code",
   "execution_count": 59,
   "metadata": {},
   "outputs": [
    {
     "data": {
      "text/html": [
       "<div>\n",
       "<style scoped>\n",
       "    .dataframe tbody tr th:only-of-type {\n",
       "        vertical-align: middle;\n",
       "    }\n",
       "\n",
       "    .dataframe tbody tr th {\n",
       "        vertical-align: top;\n",
       "    }\n",
       "\n",
       "    .dataframe thead th {\n",
       "        text-align: right;\n",
       "    }\n",
       "</style>\n",
       "<table border=\"1\" class=\"dataframe\">\n",
       "  <thead>\n",
       "    <tr style=\"text-align: right;\">\n",
       "      <th></th>\n",
       "      <th>Área</th>\n",
       "      <th>Quantidade</th>\n",
       "    </tr>\n",
       "  </thead>\n",
       "  <tbody>\n",
       "    <tr>\n",
       "      <th>0</th>\n",
       "      <td>Copa</td>\n",
       "      <td>4</td>\n",
       "    </tr>\n",
       "    <tr>\n",
       "      <th>0</th>\n",
       "      <td>Entorno</td>\n",
       "      <td>19</td>\n",
       "    </tr>\n",
       "    <tr>\n",
       "      <th>0</th>\n",
       "      <td>Ambos</td>\n",
       "      <td>11</td>\n",
       "    </tr>\n",
       "  </tbody>\n",
       "</table>\n",
       "</div>"
      ],
      "text/plain": [
       "      Área  Quantidade\n",
       "0     Copa           4\n",
       "0  Entorno          19\n",
       "0    Ambos          11"
      ]
     },
     "execution_count": 59,
     "metadata": {},
     "output_type": "execute_result"
    }
   ],
   "source": [
    "#merge\n",
    "only_copa_qtd = pd.DataFrame({'Área': ['Copa'],\n",
    "                        'Quantidade': [only_copa.count()] })\n",
    "\n",
    "only_entorno_qtd = pd.DataFrame({'Área': ['Entorno'],\n",
    "                        'Quantidade': [only_entorno.count()] })\n",
    "\n",
    "comum_copa_entorno_qtd = pd.DataFrame({'Área': ['Ambos'],\n",
    "                        'Quantidade': [comum_copa_entorno.count()] })\n",
    "\n",
    "merge = [only_copa_qtd,only_entorno_qtd, comum_copa_entorno_qtd]\n",
    "resultado_merge = pd.concat(merge)\n",
    "\n",
    "resultado_merge"
   ]
  },
  {
   "cell_type": "code",
   "execution_count": 60,
   "metadata": {},
   "outputs": [
    {
     "data": {
      "image/png": "[encoded data removed]",
      "text/plain": [
       "<Figure size 360x360 with 1 Axes>"
      ]
     },
     "metadata": {},
     "output_type": "display_data"
    }
   ],
   "source": [
    "#grafico\n",
    "\n",
    "labels = resultado_merge['Área'].tolist()\n",
    "\n",
    "sizes =  resultado_merge['Quantidade'].tolist()\n",
    "\n",
    "explode = [0.1, 0.1, 0.1]\n",
    "\n",
    "colors = ['#FFA500', '#FF0000', '#BBB100']\n",
    "\n",
    "fig, ax = plt.subplots(figsize=(5, 5))\n",
    "ax.axis('equal')\n",
    "\n",
    "pie = ax.pie(sizes, explode=explode, colors=colors,\n",
    "             autopct='%1.2f%%', pctdistance =0.80,textprops=dict(color=\"black\"))\n",
    "\n",
    "plt.legend(pie[0], labels, bbox_to_anchor=(1.5,0.5), loc=\"right\")\n",
    "\n",
    "plt.show()"
   ]
  },
  {
   "cell_type": "code",
   "execution_count": 61,
   "metadata": {},
   "outputs": [
    {
     "data": {
      "text/html": [
       "<div>\n",
       "<style scoped>\n",
       "    .dataframe tbody tr th:only-of-type {\n",
       "        vertical-align: middle;\n",
       "    }\n",
       "\n",
       "    .dataframe tbody tr th {\n",
       "        vertical-align: top;\n",
       "    }\n",
       "\n",
       "    .dataframe thead th {\n",
       "        text-align: right;\n",
       "    }\n",
       "</style>\n",
       "<table border=\"1\" class=\"dataframe\">\n",
       "  <thead>\n",
       "    <tr style=\"text-align: right;\">\n",
       "      <th></th>\n",
       "      <th>Área</th>\n",
       "      <th>Quantidade</th>\n",
       "    </tr>\n",
       "  </thead>\n",
       "  <tbody>\n",
       "    <tr>\n",
       "      <th>0</th>\n",
       "      <td>Copa</td>\n",
       "      <td>94</td>\n",
       "    </tr>\n",
       "    <tr>\n",
       "      <th>0</th>\n",
       "      <td>Entorno</td>\n",
       "      <td>218</td>\n",
       "    </tr>\n",
       "  </tbody>\n",
       "</table>\n",
       "</div>"
      ],
      "text/plain": [
       "      Área  Quantidade\n",
       "0     Copa          94\n",
       "0  Entorno         218"
      ]
     },
     "execution_count": 61,
     "metadata": {},
     "output_type": "execute_result"
    }
   ],
   "source": [
    "#Proporcao de individuos regenerantes na copa e no entorno \n",
    "\n",
    "#copa\n",
    "copa_total = df_without_nan[df_without_nan['Área'] == 'Copa']\n",
    "copa_total = copa_total[~copa_total['Espécie'].isin(['Pendente'] )]\n",
    "copa_total = copa_total[['Espécie','Número', 'Área']]\n",
    "\n",
    "copa_total_consolidada = pd.DataFrame({'Área': ['Copa'],\n",
    "                        'Quantidade': [copa_total['Número'].count()] })\n",
    "\n",
    "#entorno\n",
    "entorno_total = df[df['Área'] == 'Entorno']\n",
    "entorno_total = entorno_total[~entorno_total['Espécie'].isin(['Pendente'] )]\n",
    "entorno_total = entorno_total[['Espécie','Número', 'Área']]\n",
    "\n",
    "entorno_total_consolidado = pd.DataFrame({'Área': ['Entorno'],\n",
    "                        'Quantidade': [entorno_total['Número'].count()] })\n",
    "\n",
    "merge = [copa_total_consolidada, entorno_total_consolidado]\n",
    "resultado_merge = pd.concat(merge)\n",
    "\n",
    "resultado_merge\n"
   ]
  },
  {
   "cell_type": "code",
   "execution_count": 62,
   "metadata": {},
   "outputs": [
    {
     "data": {
      "image/png": "[encoded data removed]",
      "text/plain": [
       "<Figure size 360x360 with 1 Axes>"
      ]
     },
     "metadata": {},
     "output_type": "display_data"
    }
   ],
   "source": [
    "#Grafico\n",
    "\n",
    "labels = resultado_merge['Área'].tolist()\n",
    "\n",
    "sizes =  resultado_merge['Quantidade'].tolist()\n",
    "\n",
    "explode = [0.1, 0.1]\n",
    "\n",
    "colors = ['#FFA500', '#FF0000']\n",
    "\n",
    "fig, ax = plt.subplots(figsize=(5, 5))\n",
    "ax.axis('equal')\n",
    "\n",
    "pie = ax.pie(sizes, explode=explode, colors=colors,\n",
    "             autopct='%1.2f%%', pctdistance =0.80,textprops=dict(color=\"black\"))\n",
    "\n",
    "plt.legend(pie[0], labels, bbox_to_anchor=(1.5,0.5), loc=\"right\")\n",
    "\n",
    "plt.show()"
   ]
  },
  {
   "cell_type": "code",
   "execution_count": 63,
   "metadata": {},
   "outputs": [],
   "source": [
    "#TESTES ESTATISTICOS\n",
    "#Para as distribuicoes de altura e diametro das especies C.oblongifolia, C. arabica e E. edulis nas copas e no entorno"
   ]
  },
  {
   "cell_type": "code",
   "execution_count": 64,
   "metadata": {},
   "outputs": [],
   "source": [
    "selected_species = df_without_nan[(df_without_nan['Espécie'] == 'Cupania oblongifolia') | \n",
    "                            (df_without_nan['Espécie'] == 'Coffea arabica') | \n",
    "                            (df_without_nan['Espécie'] == 'Euterpe edulis') ]\n",
    "\n",
    "selected_species_copa = selected_species[selected_species['Área'] == 'Copa']\n",
    "\n",
    "selected_species_entorno = selected_species[selected_species['Área'] == 'Entorno']"
   ]
  },
  {
   "cell_type": "code",
   "execution_count": 65,
   "metadata": {},
   "outputs": [
    {
     "name": "stdout",
     "output_type": "stream",
     "text": [
      "Statistics=0.586, p=0.000\n",
      "Grupo COPA não tem distribuição normal  para dados de ALTURA (rejeita H0)\n"
     ]
    }
   ],
   "source": [
    "# 1 - Shapiro-Wilk Test (teste de normalidade) para os dados de ALTURA dos regenerantes sob COPAS\n",
    "stat, p = shapiro(selected_species_copa['Altura (cm)'])\n",
    "print('Statistics=%.3f, p=%.3f' % (stat, p))\n",
    "\n",
    "# resultado\n",
    "alpha = 0.05\n",
    "if p > alpha:\n",
    "    print('Grupo COPA tem distribuição normal  para dados de ALTURA (aceita H0)')\n",
    "else:\n",
    "    print('Grupo COPA não tem distribuição normal  para dados de ALTURA (rejeita H0)')"
   ]
  },
  {
   "cell_type": "code",
   "execution_count": 66,
   "metadata": {},
   "outputs": [
    {
     "name": "stdout",
     "output_type": "stream",
     "text": [
      "Statistics=0.674, p=0.000\n",
      "Grupo ENTORNO não tem distribuição normal para dados de ALTURA (rejeita H0)\n"
     ]
    }
   ],
   "source": [
    "# 1 - Shapiro-Wilk Test (teste de normalidade) para os dados de ALTURA dos regenerantes no ENTORNO\n",
    "stat, p = shapiro(selected_species_entorno['Altura (cm)'])\n",
    "print('Statistics=%.3f, p=%.3f' % (stat, p))\n",
    "\n",
    "# resultado\n",
    "alpha = 0.05\n",
    "if p > alpha:\n",
    "    print('Grupo ENTORNO tem distribuição normal  para dados de ALTURA (aceita H0)')\n",
    "else:\n",
    "    print('Grupo ENTORNO não tem distribuição normal para dados de ALTURA (rejeita H0)')"
   ]
  },
  {
   "cell_type": "code",
   "execution_count": 67,
   "metadata": {},
   "outputs": [
    {
     "name": "stdout",
     "output_type": "stream",
     "text": [
      "Statistics=4554.500, p=0.163\n",
      "Mesma distribuição para ALTURA(aceita H0)\n"
     ]
    }
   ],
   "source": [
    "#Teste Man-Whitney para Altura\n",
    "stat, p = mannwhitneyu(selected_species_entorno['Altura (cm)'], selected_species_copa['Altura (cm)'])\n",
    "print('Statistics=%.3f, p=%.3f' % (stat, p))\n",
    "\n",
    "#  resultado\n",
    "\n",
    "alpha = 0.05\n",
    "\n",
    "if p > alpha:\n",
    "\tprint('Mesma distribuição para ALTURA(aceita H0)')\n",
    "else:\n",
    "\tprint('Diferentes distribuiçoes para ALTURA(rejeita H0), ou seja, existem diferenças significativas entre as duas condicoes')"
   ]
  },
  {
   "cell_type": "code",
   "execution_count": 68,
   "metadata": {},
   "outputs": [
    {
     "name": "stdout",
     "output_type": "stream",
     "text": [
      "Statistics=0.666, p=0.000\n",
      "Grupo COPA não tem distribuição normal para dados de DAP(rejeita H0)\n"
     ]
    }
   ],
   "source": [
    "# 1 - Shapiro-Wilk Test (teste de normalidade) para os dados de DAP dos regenerantes sob COPAS\n",
    "stat, p = shapiro(selected_species_copa['Dap (mm)'])\n",
    "print('Statistics=%.3f, p=%.3f' % (stat, p))\n",
    "\n",
    "# resultado\n",
    "alpha = 0.05\n",
    "if p > alpha:\n",
    "    print('Grupo COPA tem distribuição normal  para dados de DAP (aceita H0)')\n",
    "else:\n",
    "    print('Grupo COPA não tem distribuição normal para dados de DAP(rejeita H0)')"
   ]
  },
  {
   "cell_type": "code",
   "execution_count": 69,
   "metadata": {},
   "outputs": [
    {
     "name": "stdout",
     "output_type": "stream",
     "text": [
      "Statistics=0.598, p=0.000\n",
      "Grupo ENTORNO não tem distribuição normal para dados de DAP(rejeita H0)\n"
     ]
    }
   ],
   "source": [
    "# 1 - Shapiro-Wilk Test (teste de normalidade) para os dados de DAP dos regenerantes no ENTORNO\n",
    "stat, p = shapiro(selected_species_entorno['Dap (mm)'])\n",
    "print('Statistics=%.3f, p=%.3f' % (stat, p))\n",
    "\n",
    "# resultado\n",
    "alpha = 0.05\n",
    "if p > alpha:\n",
    "    print('Grupo ENTORNO tem distribuição normal  para dados de DAP (aceita H0)')\n",
    "else:\n",
    "    print('Grupo ENTORNO não tem distribuição normal para dados de DAP(rejeita H0)')"
   ]
  },
  {
   "cell_type": "code",
   "execution_count": 70,
   "metadata": {},
   "outputs": [
    {
     "name": "stdout",
     "output_type": "stream",
     "text": [
      "Statistics=4842.500, p=0.386\n",
      "Mesma distribuição para DAP(aceita H0)\n"
     ]
    }
   ],
   "source": [
    "#Teste Man-Whitney para DAP\n",
    "stat, p = mannwhitneyu(selected_species_entorno['Dap (mm)'], selected_species_copa['Dap (mm)'])\n",
    "print('Statistics=%.3f, p=%.3f' % (stat, p))\n",
    "\n",
    "#  resultado\n",
    "\n",
    "alpha = 0.05\n",
    "\n",
    "if p > alpha:\n",
    "\tprint('Mesma distribuição para DAP(aceita H0)')\n",
    "else:\n",
    "\tprint('Diferentes distribuiçoes para DAP (rejeita H0), ou seja, existem diferenças significativas entre as duas condicoes')"
   ]
  },
  {
   "cell_type": "code",
   "execution_count": null,
   "metadata": {},
   "outputs": [],
   "source": []
  },
  {
   "cell_type": "code",
   "execution_count": null,
   "metadata": {},
   "outputs": [],
   "source": []
  },
  {
   "cell_type": "code",
   "execution_count": null,
   "metadata": {},
   "outputs": [],
   "source": []
  },
  {
   "cell_type": "code",
   "execution_count": null,
   "metadata": {},
   "outputs": [],
   "source": []
  },
  {
   "cell_type": "code",
   "execution_count": null,
   "metadata": {},
   "outputs": [],
   "source": []
  }
 ],
 "metadata": {
  "kernelspec": {
   "display_name": "Python 3",
   "language": "python",
   "name": "python3"
  },
  "language_info": {
   "codemirror_mode": {
    "name": "ipython",
    "version": 3
   },
   "file_extension": ".py",
   "mimetype": "text/x-python",
   "name": "python",
   "nbconvert_exporter": "python",
   "pygments_lexer": "ipython3",
   "version": "3.6.5"
  }
 },
 "nbformat": 4,
 "nbformat_minor": 2
}
