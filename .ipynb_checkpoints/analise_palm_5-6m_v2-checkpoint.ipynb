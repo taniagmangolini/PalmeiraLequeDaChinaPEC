{
 "cells": [
  {
   "cell_type": "code",
   "execution_count": 170,
   "metadata": {},
   "outputs": [],
   "source": [
    "import pandas as pd\n",
    "import matplotlib.pyplot as plt\n",
    "from matplotlib.ticker import MaxNLocator\n",
    "import numpy as np\n",
    "from scipy.stats import mannwhitneyu\n",
    "from scipy.stats import shapiro"
   ]
  },
  {
   "cell_type": "code",
   "execution_count": null,
   "metadata": {},
   "outputs": [],
   "source": [
    "%matplotlib inline"
   ]
  },
  {
   "cell_type": "code",
   "execution_count": null,
   "metadata": {},
   "outputs": [],
   "source": [
    "pd.options.display.max_columns = 37  # nr max de colunas exibidas"
   ]
  },
  {
   "cell_type": "code",
   "execution_count": null,
   "metadata": {},
   "outputs": [],
   "source": [
    "# open csv file\n",
    "arquivo_csv = 'dados_5-6m.csv'\n",
    "\n",
    "original = pd.read_csv(arquivo_csv, ';')"
   ]
  },
  {
   "cell_type": "code",
   "execution_count": null,
   "metadata": {},
   "outputs": [],
   "source": [
    "df = original.copy()"
   ]
  },
  {
   "cell_type": "code",
   "execution_count": null,
   "metadata": {},
   "outputs": [],
   "source": [
    "#linhas e colunas\n",
    "df.shape"
   ]
  },
  {
   "cell_type": "code",
   "execution_count": null,
   "metadata": {},
   "outputs": [],
   "source": [
    "#TRATAMENTO DOS DADOS"
   ]
  },
  {
   "cell_type": "code",
   "execution_count": null,
   "metadata": {},
   "outputs": [],
   "source": [
    "# apenas palmeiras com altura entre 3 e 4 m\n",
    "df = df[df['Altura Palmeira (m)'] == 6]"
   ]
  },
  {
   "cell_type": "code",
   "execution_count": null,
   "metadata": {},
   "outputs": [],
   "source": [
    "#drop all the columns where all the data is empty\n",
    "df = df.dropna(how='all', axis='columns')"
   ]
  },
  {
   "cell_type": "code",
   "execution_count": null,
   "metadata": {},
   "outputs": [],
   "source": [
    "#Remove unnamed columns\n",
    "df = df.loc[:, ~df.columns.str.contains('^Unnamed')]"
   ]
  },
  {
   "cell_type": "code",
   "execution_count": null,
   "metadata": {},
   "outputs": [],
   "source": [
    "df.shape"
   ]
  },
  {
   "cell_type": "code",
   "execution_count": null,
   "metadata": {},
   "outputs": [],
   "source": [
    "df.head()"
   ]
  },
  {
   "cell_type": "code",
   "execution_count": null,
   "metadata": {},
   "outputs": [],
   "source": [
    "#tipos de dados das colunas\n",
    "print(df.dtypes)"
   ]
  },
  {
   "cell_type": "code",
   "execution_count": null,
   "metadata": {},
   "outputs": [],
   "source": [
    "#Ajustando os tipos de dados\n",
    "\n",
    "df['Estágio sucessional'] = df['Estágio sucessional'].astype(str)\n",
    "df['Nativa'] = df['Nativa'].astype(str)\n",
    "df['Espécie'] = df['Espécie'].astype(str)\n",
    "df['Gênero'] = df['Gênero'].astype(str)\n",
    "df['Família'] = df['Família'].astype(str)\n",
    "df['Quadrante'] = df['Quadrante'].astype(str)\n",
    "df['Área'] = df['Área'].astype('category')\n",
    "df['Altura Palmeira (m)'] = df['Altura Palmeira (m)'].astype(str)\n",
    "df['Palmeira'] = df['Palmeira'].astype(str)\n",
    "df['Dap (mm)'] = df['Dap (mm)'].astype(str)\n",
    "\n",
    "#troca , por . no na coluna dap\n",
    "df['Dap (mm)'] = df['Dap (mm)'].apply(lambda x: x.replace(',', '.'))\n",
    "df['Dap (mm)'] = df['Dap (mm)'].astype('float64')\n",
    "\n"
   ]
  },
  {
   "cell_type": "code",
   "execution_count": null,
   "metadata": {},
   "outputs": [],
   "source": [
    "#tipos de dados ajustados\n",
    "print(df.dtypes)"
   ]
  },
  {
   "cell_type": "code",
   "execution_count": null,
   "metadata": {},
   "outputs": [],
   "source": [
    "df.head()"
   ]
  },
  {
   "cell_type": "code",
   "execution_count": null,
   "metadata": {},
   "outputs": [],
   "source": [
    "#new shape\n",
    "df.shape"
   ]
  },
  {
   "cell_type": "code",
   "execution_count": null,
   "metadata": {},
   "outputs": [],
   "source": [
    "#Ajuste valores ausentes nas colunas Estágio Sucessional e Nativa \n",
    "df['Estágio sucessional'] =  df['Estágio sucessional'].apply(lambda x: x.replace('nan', 'indeterminado'))\n",
    "df['Estágio sucessional'] =  df['Estágio sucessional'].fillna('indeterminado')\n",
    "df['Nativa'] =  df['Nativa'].apply(lambda x: x.replace('nan', 'indeterminado'))\n",
    "df['Nativa'] =  df['Nativa'].fillna('indeterminado')"
   ]
  },
  {
   "cell_type": "code",
   "execution_count": null,
   "metadata": {},
   "outputs": [],
   "source": [
    "#Ajustar Area externa para 'Entorno'\n",
    "df['Área'] =  df['Área'].apply(lambda x: x.replace('Externo', 'Entorno'))"
   ]
  },
  {
   "cell_type": "code",
   "execution_count": null,
   "metadata": {},
   "outputs": [],
   "source": [
    "#Remove decimal do nome da palmeira e da altura da palmeira \n",
    "df['Palmeira'] = df['Palmeira'].apply(lambda x: x.split('.')[0]) \n",
    "df['Altura Palmeira (m)'] = df['Altura Palmeira (m)'].apply(lambda x: x.split('.')[0]) "
   ]
  },
  {
   "cell_type": "code",
   "execution_count": null,
   "metadata": {},
   "outputs": [],
   "source": [
    "#contar registros em cada grupo em estudo\n",
    "df['Área'].value_counts()"
   ]
  },
  {
   "cell_type": "code",
   "execution_count": null,
   "metadata": {},
   "outputs": [],
   "source": [
    "#Dataframe com quadrantes sem plantas (df_with_nan)\n",
    "df_with_nan= df.copy()\n",
    "#df_with_nan['Número'] =  df_with_nan['Número'].fillna(0)\n",
    "df_with_nan['Área'].value_counts()"
   ]
  },
  {
   "cell_type": "code",
   "execution_count": null,
   "metadata": {},
   "outputs": [],
   "source": [
    "#quantidade de individuos nas parcelas da copa\n",
    "copa_with_nan = df_with_nan[df_with_nan['Área'] == 'Copa']\n",
    "abundancia_copa = copa_with_nan.groupby(['Palmeira','Quadrante'])['Número'].count() \n",
    "abundancia_copa"
   ]
  },
  {
   "cell_type": "code",
   "execution_count": null,
   "metadata": {},
   "outputs": [],
   "source": [
    "#Percentual de individuos sob as copas\n",
    "total_parcelas_copa = abundancia_copa.count()\n",
    "copa_0_2 = (abundancia_copa[abundancia_copa < 3 ].count() / total_parcelas_copa) * 100\n",
    "copa_3_5 = (abundancia_copa[abundancia_copa[(abundancia_copa >= 3) & (abundancia_copa <6)]].count()/ total_parcelas_copa) * 100\n",
    "copa_6_8 = (abundancia_copa[abundancia_copa[(abundancia_copa > 6) ]].count() / total_parcelas_copa) * 100\n",
    "dados_copa = [copa_0_2,copa_3_5,copa_6_8]"
   ]
  },
  {
   "cell_type": "code",
   "execution_count": null,
   "metadata": {},
   "outputs": [],
   "source": [
    "legendas = ['0 a 2', '2 a 5', '6 ou mais']\n",
    "dados = dados_copa\n",
    "\n",
    "ax = plt.figure().gca()\n",
    "ax.bar(legendas,dados)\n",
    "plt.title (\"% regenerantes nas parcelas sob as copas\")\n",
    "plt.ylabel(\"%\")\n",
    "plt.xlabel(\"Quantidade de regenerantes nas parcelas sob as copas\")\n"
   ]
  },
  {
   "cell_type": "code",
   "execution_count": null,
   "metadata": {},
   "outputs": [],
   "source": [
    "#quantidade de individuos nas parcelas no entorno\n",
    "entorno_with_nan = df_with_nan[df_with_nan['Área'] == 'Entorno']\n",
    "abundancia_entorno = entorno_with_nan.groupby(['Palmeira','Quadrante'])['Número'].count() \n",
    "abundancia_entorno"
   ]
  },
  {
   "cell_type": "code",
   "execution_count": null,
   "metadata": {},
   "outputs": [],
   "source": [
    "#Percentual de invidiviudos nas parcelas do entorno\n",
    "total_parcelas_entorno = abundancia_entorno.count()\n",
    "entorno_0_2 = (abundancia_entorno[abundancia_entorno < 3 ].count() / total_parcelas_entorno) * 100\n",
    "entorno_3_5 = (abundancia_entorno[abundancia_entorno[(abundancia_entorno >= 3) & (abundancia_entorno <6)]].count() / total_parcelas_entorno) * 100\n",
    "entorno_6_14 =(abundancia_entorno[abundancia_entorno[(abundancia_entorno >= 6) ]].count() / total_parcelas_entorno) * 100\n",
    "dados_entorno = [entorno_0_2,entorno_3_5,entorno_6_14]"
   ]
  },
  {
   "cell_type": "code",
   "execution_count": null,
   "metadata": {},
   "outputs": [],
   "source": [
    "legendas = ['0 a 2', '2 a 5', '6 ou mais']\n",
    "dados = dados_entorno\n",
    "\n",
    "ax = plt.figure().gca()\n",
    "ax.bar(legendas,dados)\n",
    "plt.title (\"% regenerantes nas parcelas no entorno\")\n",
    "plt.ylabel(\"%\")\n",
    "plt.xlabel(\"Quantidade de regenerantes nas parcelas do entorno\")\n"
   ]
  },
  {
   "cell_type": "code",
   "execution_count": null,
   "metadata": {},
   "outputs": [],
   "source": [
    "#TESTES ESTATISTICOS DE NORMALIDADE E DISTRIBUIÇÃO DAS ALTURAS E DIAMETROS\n",
    "\n",
    "# 1 - Shapiro-Wilk Test (teste de normalidade) para os dados da copa\n",
    "stat, p = shapiro(abundancia_copa)\n",
    "print('Statistics=%.3f, p=%.3f' % (stat, p))\n",
    "\n",
    "# resultado\n",
    "alpha = 0.05\n",
    "if p > alpha:\n",
    "\tprint('Grupo COPA tem distribuição normal (aceita H0)')\n",
    "else:\n",
    "\tprint('Grupo COPA não tem distribuição normal (rejeita H0)')\n"
   ]
  },
  {
   "cell_type": "code",
   "execution_count": null,
   "metadata": {},
   "outputs": [],
   "source": [
    "# 2 - Shapiro-Wilk Test (teste de normalidade) para os dados do entorno\n",
    "stat, p = shapiro(abundancia_entorno)\n",
    "print('Statistics=%.3f, p=%.3f' % (stat, p))\n",
    "\n",
    "# resultado\n",
    "alpha = 0.05\n",
    "if p > alpha:\n",
    "    print('Grupo ENTORNO tem distribuição normal (aceita H0)')\n",
    "else:\n",
    "    print('Grupo ENTORNO não tem distribuição normal (rejeita H0)')"
   ]
  },
  {
   "cell_type": "code",
   "execution_count": null,
   "metadata": {},
   "outputs": [],
   "source": [
    "# 3 - Mann-Whitney test (dados com distribuicao nao normal)\n",
    "stat, p = mannwhitneyu(abundancia_copa, abundancia_entorno)\n",
    "print('Statistics=%.3f, p=%.3f' % (stat, p))\n",
    "\n",
    "#  resultado\n",
    "\n",
    "alpha = 0.05\n",
    "\n",
    "if p > alpha:\n",
    "\tprint('Mesma distribuição (aceita H0)')\n",
    "else:\n",
    "\tprint('Diferentes distribuiçoes (rejeita H0), ou seja, existem diferenças significativas entre as duas condicoes')"
   ]
  },
  {
   "cell_type": "code",
   "execution_count": null,
   "metadata": {},
   "outputs": [],
   "source": [
    "#Dataframe sem quadrantes e numeros nulos (df_without_nan)\n",
    "df_without_nan = df.copy()\n",
    "df_without_nan.dropna(subset=[ 'Número'], inplace=True)\n",
    "df_without_nan['Área'].value_counts()"
   ]
  },
  {
   "cell_type": "code",
   "execution_count": null,
   "metadata": {},
   "outputs": [],
   "source": [
    "#contar registros em cada coluna - área da copa\n",
    "df_without_nan[df_without_nan['Área'] == 'Copa'].count()"
   ]
  },
  {
   "cell_type": "code",
   "execution_count": null,
   "metadata": {},
   "outputs": [],
   "source": [
    "#contar registros em cada coluna - área do entorno\n",
    "df_without_nan[df_without_nan['Área'] == 'Entorno'].count()"
   ]
  },
  {
   "cell_type": "code",
   "execution_count": null,
   "metadata": {},
   "outputs": [],
   "source": [
    "#Gráfico de barras da area das especies da area da copa ordenadas de forma descendente\n",
    "plot_copa = df_without_nan[df_without_nan['Área'] == 'Copa']\n",
    "plot_copa =  plot_copa[~plot_copa['Espécie'].isin(['Pendente'] )]\n",
    "plot_copa = plot_copa.groupby('Espécie')['Número'].count() \n",
    "plot_copa = plot_copa[plot_copa > 0]\n",
    "plot_copa = plot_copa.sort_values(ascending = False)\n",
    "\n",
    "ax = plt.figure().gca()\n",
    "ax = plot_copa.plot.bar()\n",
    "ax.yaxis.set_major_locator(MaxNLocator(integer=True))\n",
    "plt.xticks(fontstyle='italic')\n",
    "plt.title (\"Espécies na Copa\")\n",
    "plt.ylabel(\"Número de indivíduos\")"
   ]
  },
  {
   "cell_type": "code",
   "execution_count": null,
   "metadata": {},
   "outputs": [],
   "source": [
    "#Gráfico de barras da area das especies da area do entorno ordenadas de forma descendente\n",
    "plot_entorno = df_without_nan[['Área','Espécie','Número']]\n",
    "plot_entorno= plot_entorno[plot_entorno['Área'] == 'Entorno']\n",
    "plot_entorno = plot_entorno.groupby('Espécie')['Número'].count()\n",
    "plot_entorno = plot_entorno[ plot_entorno > 0 ]\n",
    "plot_entorno = plot_entorno.sort_values(ascending = False)\n",
    "\n",
    "ax = plt.figure().gca()\n",
    "ax = plot_entorno.plot.bar()\n",
    "ax.yaxis.set_major_locator(MaxNLocator(integer=True))\n",
    "plt.xticks(fontstyle='italic')\n",
    "plt.title (\"Espécies no Entorno\")\n",
    "plt.ylabel(\"Número de indivíduos\")"
   ]
  },
  {
   "cell_type": "code",
   "execution_count": null,
   "metadata": {},
   "outputs": [],
   "source": [
    "#Percentual de indivíduos arbóreos regenerantes sob a copa de palmeiras Livistona chinensis de 3 m de altura e no entorno delas.\n",
    "\n",
    "regenerantes_por_area = df_without_nan[~df_without_nan['Espécie'].isin(['Pendente'] )]\n",
    "regenerantes_por_area = regenerantes_por_area.groupby('Área', as_index=False)['Número'].count() \n",
    "regenerantes_por_area = regenerantes_por_area[regenerantes_por_area > 0]\n",
    "regenerantes_por_area = regenerantes_por_area.dropna()\n",
    "\n",
    "labels = regenerantes_por_area['Área'].tolist()\n",
    "\n",
    "sizes =  regenerantes_por_area['Número'].tolist()\n",
    "\n",
    "explode = [0.1, 0.1]\n",
    "\n",
    "colors = ['#FFA500', '#FF0000']\n",
    "\n",
    "fig, ax = plt.subplots(figsize=(5, 5))\n",
    "ax.axis('equal')\n",
    "\n",
    "pie = ax.pie(sizes, explode=explode, colors=colors,\n",
    "             autopct='%1.2f%%', pctdistance =0.80,textprops=dict(color=\"black\"))\n",
    "\n",
    "plt.legend(pie[0], labels, bbox_to_anchor=(1.5,0.5), loc=\"right\")\n",
    "\n",
    "plt.show()"
   ]
  },
  {
   "cell_type": "code",
   "execution_count": null,
   "metadata": {},
   "outputs": [],
   "source": [
    "#Proporção de indivíduos arbóreos regenerantes nativos e exóticos sob as copas de palmeiras Livistona chinensis de 3 m de altura e no entorno delas.\n",
    "regenerantes_por_origem = df_without_nan[df_without_nan['Área'] == 'Copa']\n",
    "regenerantes_por_origem = regenerantes_por_origem[~df['Espécie'].isin(['Pendente'] )]\n",
    "regenerantes_por_origem = regenerantes_por_origem.groupby('Nativa', as_index=False)['Número'].count() \n",
    "regenerantes_por_origem = regenerantes_por_origem[regenerantes_por_origem > 0]\n",
    "regenerantes_por_origem = regenerantes_por_origem.dropna()\n",
    "\n",
    "labels = ['Exótico', 'Nativo', 'Não Classificado']\n",
    "\n",
    "sizes =  regenerantes_por_origem['Número'].tolist()\n",
    "\n",
    "explode = [0.1, 0.1, 0.1]\n",
    "\n",
    "colors = ['#FFA500', '#FF0000', '#BBB100']\n",
    "\n",
    "fig, ax = plt.subplots(figsize=(5, 5))\n",
    "ax.axis('equal')\n",
    "\n",
    "pie = ax.pie(sizes, explode=explode, colors=colors,\n",
    "             autopct='%1.2f%%', pctdistance =0.80,textprops=dict(color=\"black\"))\n",
    "\n",
    "plt.legend(pie[0], labels, bbox_to_anchor=(1.5,0.5), loc=\"right\")\n",
    "\n",
    "plt.show()"
   ]
  },
  {
   "cell_type": "code",
   "execution_count": null,
   "metadata": {},
   "outputs": [],
   "source": [
    "#Proporção de indivíduos arbóreos regenerantes nativos e exóticos no entorno palmeiras Livistona chinensis de 3 m de altura e no entorno delas.\n",
    "regenerantes_por_origem = df_without_nan[df_without_nan['Área'] == 'Entorno']\n",
    "regenerantes_por_origem = regenerantes_por_origem[~df['Espécie'].isin(['Pendente'] )]\n",
    "regenerantes_por_origem = regenerantes_por_origem.groupby('Nativa', as_index=False)['Número'].count() \n",
    "regenerantes_por_origem = regenerantes_por_origem[regenerantes_por_origem > 0]\n",
    "regenerantes_por_origem = regenerantes_por_origem.dropna()\n",
    "\n",
    "labels = ['Exótico', 'Nativo', 'Não Classificado']\n",
    "\n",
    "sizes =  regenerantes_por_origem['Número'].tolist()\n",
    "\n",
    "explode = [0.1, 0.1, 0.1]\n",
    "\n",
    "colors = ['#FFA500', '#FF0000', '#BBB100']\n",
    "\n",
    "fig, ax = plt.subplots(figsize=(5, 5))\n",
    "ax.axis('equal')\n",
    "\n",
    "pie = ax.pie(sizes, explode=explode, colors=colors,\n",
    "             autopct='%1.2f%%', pctdistance =0.80,textprops=dict(color=\"black\"))\n",
    "\n",
    "plt.legend(pie[0], labels, bbox_to_anchor=(1.5,0.5), loc=\"right\")\n",
    "\n",
    "plt.show()"
   ]
  },
  {
   "cell_type": "code",
   "execution_count": null,
   "metadata": {},
   "outputs": [],
   "source": [
    " #Proporção de indivíduos arbóreos regenerantes na COPA por ESTAGIO SUCESSIONAL\n",
    "regenerantes_por_estagio = df_without_nan[df_without_nan['Área'] == 'Copa']\n",
    "regenerantes_por_estagio = regenerantes_por_estagio[~df['Espécie'].isin(['Pendente'] )]\n",
    "regenerantes_por_estagio = regenerantes_por_estagio.groupby('Estágio sucessional', as_index=False)['Número'].count() \n",
    "regenerantes_por_estagio = regenerantes_por_estagio[regenerantes_por_estagio > 0]\n",
    "regenerantes_por_estagio = regenerantes_por_estagio.dropna()\n",
    "\n",
    "labels = regenerantes_por_estagio['Estágio sucessional'].tolist()\n",
    "\n",
    "sizes =  regenerantes_por_estagio['Número'].tolist()\n",
    "labels\n",
    "explode = [0.1, 0.1, 0.1, 0.1]\n",
    "\n",
    "colors = ['#FFA500', '#FF0000', '#BBB100',  '#ACF400']\n",
    "\n",
    "fig, ax = plt.subplots(figsize=(5, 5))\n",
    "ax.axis('equal')\n",
    "\n",
    "pie = ax.pie(sizes, explode=explode, colors=colors,\n",
    "             autopct='%1.2f%%', pctdistance =0.80,textprops=dict(color=\"black\"))\n",
    "\n",
    "plt.legend(pie[0], labels, bbox_to_anchor=(1.5,0.5), loc=\"right\")\n",
    "\n",
    "plt.show()"
   ]
  },
  {
   "cell_type": "code",
   "execution_count": null,
   "metadata": {},
   "outputs": [],
   "source": [
    "labels"
   ]
  },
  {
   "cell_type": "code",
   "execution_count": null,
   "metadata": {},
   "outputs": [],
   "source": [
    " #Proporção de indivíduos arbóreos regenerantes Pioneiros e Não Pioneiros no entorno de palmeiras Livistona chinensis de 3 m de altura e no entorno delas.\n",
    "regenerantes_por_estagio = df_without_nan[df_without_nan['Área'] == 'Entorno']\n",
    "regenerantes_por_estagio = regenerantes_por_estagio[~df['Espécie'].isin(['Pendente'] )]\n",
    "regenerantes_por_estagio = regenerantes_por_estagio.groupby('Estágio sucessional', as_index=False)['Número'].count() \n",
    "regenerantes_por_estagio = regenerantes_por_estagio[regenerantes_por_estagio > 0]\n",
    "regenerantes_por_estagio = regenerantes_por_estagio.dropna()\n",
    "\n",
    "labels = regenerantes_por_estagio['Estágio sucessional'].tolist()\n",
    "\n",
    "sizes =  regenerantes_por_estagio['Número'].tolist()\n",
    "\n",
    "explode = [0.1, 0.1, 0.1, 0.1]\n",
    "\n",
    "colors = ['#FFA500', '#FF0000', '#BBB100',  '#ACF400']\n",
    "\n",
    "fig, ax = plt.subplots(figsize=(5, 5))\n",
    "ax.axis('equal')\n",
    "\n",
    "pie = ax.pie(sizes, explode=explode, colors=colors,\n",
    "             autopct='%1.2f%%', pctdistance =0.80,textprops=dict(color=\"black\"))\n",
    "\n",
    "plt.legend(pie[0], labels, bbox_to_anchor=(1.5,0.5), loc=\"right\")\n",
    "\n",
    "plt.show()"
   ]
  },
  {
   "cell_type": "code",
   "execution_count": null,
   "metadata": {},
   "outputs": [],
   "source": [
    "labels"
   ]
  },
  {
   "cell_type": "code",
   "execution_count": null,
   "metadata": {},
   "outputs": [],
   "source": [
    "#Distribuição das espécies  regenerantes\n",
    "\n",
    "#especies copa\n",
    "all_copa = df_without_nan[df_without_nan['Área'] == 'Copa']\n",
    "all_copa = all_copa[~all_copa['Espécie'].isin(['Pendente'] )]\n",
    "all_copa = all_copa['Espécie']\n",
    "all_copa = all_copa.drop_duplicates()\n",
    "\n",
    "#especies entorno\n",
    "all_entorno = df_without_nan[df_without_nan['Área'] == 'Entorno']\n",
    "all_entorno = all_entorno[~all_entorno['Espécie'].isin(['Pendente'] )]\n",
    "all_entorno = all_entorno['Espécie']\n",
    "all_entorno = all_entorno.drop_duplicates()\n",
    "\n",
    "#especies comuns nos dois grupos                     \n",
    "comum_copa_entorno = all_copa[all_copa.isin(all_entorno)]\n",
    "\n",
    "#especies exclusivas de determinada area\n",
    "only_copa =  all_copa[~all_copa.isin(comum_copa_entorno)]\n",
    "only_entorno =  all_entorno[~all_entorno.isin(comum_copa_entorno)]\n"
   ]
  },
  {
   "cell_type": "code",
   "execution_count": null,
   "metadata": {},
   "outputs": [],
   "source": [
    "#apenas copa\n",
    "\n",
    "only_copa"
   ]
  },
  {
   "cell_type": "code",
   "execution_count": null,
   "metadata": {},
   "outputs": [],
   "source": [
    "#apenas entorno\n",
    "only_entorno"
   ]
  },
  {
   "cell_type": "code",
   "execution_count": null,
   "metadata": {},
   "outputs": [],
   "source": [
    "#especies em comum\n",
    "comum_copa_entorno"
   ]
  },
  {
   "cell_type": "code",
   "execution_count": null,
   "metadata": {},
   "outputs": [],
   "source": [
    "#merge\n",
    "only_copa_qtd = pd.DataFrame({'Área': ['Copa'],\n",
    "                        'Quantidade': [only_copa.count()] })\n",
    "\n",
    "only_entorno_qtd = pd.DataFrame({'Área': ['Entorno'],\n",
    "                        'Quantidade': [only_entorno.count()] })\n",
    "\n",
    "comum_copa_entorno_qtd = pd.DataFrame({'Área': ['Ambos'],\n",
    "                        'Quantidade': [comum_copa_entorno.count()] })\n",
    "\n",
    "merge = [only_copa_qtd,only_entorno_qtd, comum_copa_entorno_qtd]\n",
    "resultado_merge = pd.concat(merge)\n",
    "\n",
    "resultado_merge"
   ]
  },
  {
   "cell_type": "code",
   "execution_count": null,
   "metadata": {},
   "outputs": [],
   "source": [
    "#grafico\n",
    "\n",
    "labels = resultado_merge['Área'].tolist()\n",
    "\n",
    "sizes =  resultado_merge['Quantidade'].tolist()\n",
    "\n",
    "explode = [0.1, 0.1, 0.1]\n",
    "\n",
    "colors = ['#FFA500', '#FF0000', '#BBB100']\n",
    "\n",
    "fig, ax = plt.subplots(figsize=(5, 5))\n",
    "ax.axis('equal')\n",
    "\n",
    "pie = ax.pie(sizes, explode=explode, colors=colors,\n",
    "             autopct='%1.2f%%', pctdistance =0.80,textprops=dict(color=\"black\"))\n",
    "\n",
    "plt.legend(pie[0], labels, bbox_to_anchor=(1.5,0.5), loc=\"right\")\n",
    "\n",
    "plt.show()"
   ]
  },
  {
   "cell_type": "code",
   "execution_count": null,
   "metadata": {},
   "outputs": [],
   "source": [
    "#Proporcao de individuos regenerantes na copa e no entorno \n",
    "\n",
    "#copa\n",
    "copa_total = df_without_nan[df_without_nan['Área'] == 'Copa']\n",
    "copa_total = copa_total[~copa_total['Espécie'].isin(['Pendente'] )]\n",
    "copa_total = copa_total[['Espécie','Número', 'Área']]\n",
    "\n",
    "copa_total_consolidada = pd.DataFrame({'Área': ['Copa'],\n",
    "                        'Quantidade': [copa_total['Número'].count()] })\n",
    "\n",
    "#entorno\n",
    "entorno_total = df[df['Área'] == 'Entorno']\n",
    "entorno_total = entorno_total[~entorno_total['Espécie'].isin(['Pendente'] )]\n",
    "entorno_total = entorno_total[['Espécie','Número', 'Área']]\n",
    "\n",
    "entorno_total_consolidado = pd.DataFrame({'Área': ['Entorno'],\n",
    "                        'Quantidade': [entorno_total['Número'].count()] })\n",
    "\n",
    "merge = [copa_total_consolidada, entorno_total_consolidado]\n",
    "resultado_merge = pd.concat(merge)\n",
    "\n",
    "resultado_merge\n"
   ]
  },
  {
   "cell_type": "code",
   "execution_count": null,
   "metadata": {},
   "outputs": [],
   "source": [
    "#Grafico\n",
    "\n",
    "labels = resultado_merge['Área'].tolist()\n",
    "\n",
    "sizes =  resultado_merge['Quantidade'].tolist()\n",
    "\n",
    "explode = [0.1, 0.1]\n",
    "\n",
    "colors = ['#FFA500', '#FF0000']\n",
    "\n",
    "fig, ax = plt.subplots(figsize=(5, 5))\n",
    "ax.axis('equal')\n",
    "\n",
    "pie = ax.pie(sizes, explode=explode, colors=colors,\n",
    "             autopct='%1.2f%%', pctdistance =0.80,textprops=dict(color=\"black\"))\n",
    "\n",
    "plt.legend(pie[0], labels, bbox_to_anchor=(1.5,0.5), loc=\"right\")\n",
    "\n",
    "plt.show()"
   ]
  },
  {
   "cell_type": "code",
   "execution_count": null,
   "metadata": {},
   "outputs": [],
   "source": [
    "#TESTES ESTATISTICOS\n",
    "#Para as distribuicoes de altura e diametro das especies C.oblongifolia, C. arabica e E. edulis nas copas e no entorno"
   ]
  },
  {
   "cell_type": "code",
   "execution_count": null,
   "metadata": {},
   "outputs": [],
   "source": [
    "selected_species = df_without_nan[(df_without_nan['Espécie'] == 'Cupania oblongifolia') | \n",
    "                            (df_without_nan['Espécie'] == 'Coffea arabica') | \n",
    "                            (df_without_nan['Espécie'] == 'Euterpe edulis') ]\n",
    "\n",
    "selected_species_copa = selected_species[selected_species['Área'] == 'Copa']\n",
    "\n",
    "selected_species_entorno = selected_species[selected_species['Área'] == 'Entorno']"
   ]
  },
  {
   "cell_type": "code",
   "execution_count": null,
   "metadata": {},
   "outputs": [],
   "source": [
    "# 1 - Shapiro-Wilk Test (teste de normalidade) para os dados de ALTURA dos regenerantes sob COPAS\n",
    "stat, p = shapiro(selected_species_copa['Altura (cm)'])\n",
    "print('Statistics=%.3f, p=%.3f' % (stat, p))\n",
    "\n",
    "# resultado\n",
    "alpha = 0.05\n",
    "if p > alpha:\n",
    "    print('Grupo COPA tem distribuição normal  para dados de ALTURA (aceita H0)')\n",
    "else:\n",
    "    print('Grupo COPA não tem distribuição normal  para dados de ALTURA (rejeita H0)')"
   ]
  },
  {
   "cell_type": "code",
   "execution_count": null,
   "metadata": {},
   "outputs": [],
   "source": [
    "# 1 - Shapiro-Wilk Test (teste de normalidade) para os dados de ALTURA dos regenerantes no ENTORNO\n",
    "stat, p = shapiro(selected_species_entorno['Altura (cm)'])\n",
    "print('Statistics=%.3f, p=%.3f' % (stat, p))\n",
    "\n",
    "# resultado\n",
    "alpha = 0.05\n",
    "if p > alpha:\n",
    "    print('Grupo ENTORNO tem distribuição normal  para dados de ALTURA (aceita H0)')\n",
    "else:\n",
    "    print('Grupo ENTORNO não tem distribuição normal para dados de ALTURA (rejeita H0)')"
   ]
  },
  {
   "cell_type": "code",
   "execution_count": null,
   "metadata": {},
   "outputs": [],
   "source": [
    "#Teste Man-Whitney para Altura\n",
    "stat, p = mannwhitneyu(selected_species_entorno['Altura (cm)'], selected_species_copa['Altura (cm)'])\n",
    "print('Statistics=%.3f, p=%.3f' % (stat, p))\n",
    "\n",
    "#  resultado\n",
    "\n",
    "alpha = 0.05\n",
    "\n",
    "if p > alpha:\n",
    "\tprint('Mesma distribuição para ALTURA(aceita H0)')\n",
    "else:\n",
    "\tprint('Diferentes distribuiçoes para ALTURA(rejeita H0), ou seja, existem diferenças significativas entre as duas condicoes')"
   ]
  },
  {
   "cell_type": "code",
   "execution_count": null,
   "metadata": {},
   "outputs": [],
   "source": [
    "# 1 - Shapiro-Wilk Test (teste de normalidade) para os dados de DAP dos regenerantes sob COPAS\n",
    "stat, p = shapiro(selected_species_copa['Dap (mm)'])\n",
    "print('Statistics=%.3f, p=%.3f' % (stat, p))\n",
    "\n",
    "# resultado\n",
    "alpha = 0.05\n",
    "if p > alpha:\n",
    "    print('Grupo COPA tem distribuição normal  para dados de DAP (aceita H0)')\n",
    "else:\n",
    "    print('Grupo COPA não tem distribuição normal para dados de DAP(rejeita H0)')"
   ]
  },
  {
   "cell_type": "code",
   "execution_count": null,
   "metadata": {},
   "outputs": [],
   "source": [
    "# 1 - Shapiro-Wilk Test (teste de normalidade) para os dados de DAP dos regenerantes no ENTORNO\n",
    "stat, p = shapiro(selected_species_entorno['Dap (mm)'])\n",
    "print('Statistics=%.3f, p=%.3f' % (stat, p))\n",
    "\n",
    "# resultado\n",
    "alpha = 0.05\n",
    "if p > alpha:\n",
    "    print('Grupo ENTORNO tem distribuição normal  para dados de DAP (aceita H0)')\n",
    "else:\n",
    "    print('Grupo ENTORNO não tem distribuição normal para dados de DAP(rejeita H0)')"
   ]
  },
  {
   "cell_type": "code",
   "execution_count": null,
   "metadata": {},
   "outputs": [],
   "source": [
    "#Teste Man-Whitney para DAP\n",
    "stat, p = mannwhitneyu(selected_species_entorno['Dap (mm)'], selected_species_copa['Dap (mm)'])\n",
    "print('Statistics=%.3f, p=%.3f' % (stat, p))\n",
    "\n",
    "#  resultado\n",
    "\n",
    "alpha = 0.05\n",
    "\n",
    "if p > alpha:\n",
    "\tprint('Mesma distribuição para DAP(aceita H0)')\n",
    "else:\n",
    "\tprint('Diferentes distribuiçoes para DAP (rejeita H0), ou seja, existem diferenças significativas entre as duas condicoes')"
   ]
  },
  {
   "cell_type": "code",
   "execution_count": null,
   "metadata": {},
   "outputs": [],
   "source": []
  },
  {
   "cell_type": "code",
   "execution_count": null,
   "metadata": {},
   "outputs": [],
   "source": []
  },
  {
   "cell_type": "code",
   "execution_count": null,
   "metadata": {},
   "outputs": [],
   "source": []
  },
  {
   "cell_type": "code",
   "execution_count": null,
   "metadata": {},
   "outputs": [],
   "source": []
  },
  {
   "cell_type": "code",
   "execution_count": null,
   "metadata": {},
   "outputs": [],
   "source": []
  }
 ],
 "metadata": {
  "kernelspec": {
   "display_name": "Python 3",
   "language": "python",
   "name": "python3"
  },
  "language_info": {
   "codemirror_mode": {
    "name": "ipython",
    "version": 3
   },
   "file_extension": ".py",
   "mimetype": "text/x-python",
   "name": "python",
   "nbconvert_exporter": "python",
   "pygments_lexer": "ipython3",
   "version": "3.6.5"
  }
 },
 "nbformat": 4,
 "nbformat_minor": 2
}
