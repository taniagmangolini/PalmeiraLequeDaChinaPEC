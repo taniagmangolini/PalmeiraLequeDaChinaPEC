{
 "cells": [
  {
   "cell_type": "code",
   "execution_count": 115,
   "metadata": {},
   "outputs": [],
   "source": [
    "import pandas as pd\n",
    "import matplotlib.pyplot as plt"
   ]
  },
  {
   "cell_type": "code",
   "execution_count": 116,
   "metadata": {},
   "outputs": [],
   "source": [
    "%matplotlib inline"
   ]
  },
  {
   "cell_type": "code",
   "execution_count": 117,
   "metadata": {},
   "outputs": [
    {
     "data": {
      "text/plain": [
       "60"
      ]
     },
     "execution_count": 117,
     "metadata": {},
     "output_type": "execute_result"
    }
   ],
   "source": [
    "pd.options.display.max_rows  # nr max de linhas exibidas"
   ]
  },
  {
   "cell_type": "code",
   "execution_count": 118,
   "metadata": {},
   "outputs": [],
   "source": [
    "pd.options.display.max_columns = 37  # nr max de colunas exibidas"
   ]
  },
  {
   "cell_type": "code",
   "execution_count": 119,
   "metadata": {},
   "outputs": [],
   "source": [
    "# open csv file\n",
    "arquivo_csv = 'dados_v2.csv'\n",
    "\n",
    "original = pd.read_csv(arquivo_csv, ';')"
   ]
  },
  {
   "cell_type": "code",
   "execution_count": 120,
   "metadata": {},
   "outputs": [],
   "source": [
    "df = original.copy()"
   ]
  },
  {
   "cell_type": "code",
   "execution_count": 121,
   "metadata": {},
   "outputs": [
    {
     "data": {
      "text/plain": [
       "<bound method NDFrame.head of             Data  Palmeira  Altura Palmeira (m)     Área  Quadrante Número  \\\n",
       "0     29/11/2019       1.0                  3.0     Copa        1.0    NaN   \n",
       "1     29/11/2019       1.0                  3.0     Copa        2.0      2   \n",
       "2     29/11/2019       1.0                  3.0     Copa        2.0      3   \n",
       "3     29/11/2019       1.0                  3.0     Copa        2.0      4   \n",
       "4     29/11/2019       1.0                  3.0     Copa        2.0      5   \n",
       "5     29/11/2019       1.0                  3.0     Copa        2.0      6   \n",
       "6     29/11/2019       1.0                  3.0     Copa        2.0      7   \n",
       "7     29/11/2019       1.0                  3.0     Copa        2.0      9   \n",
       "8     29/11/2019       1.0                  3.0     Copa        2.0     10   \n",
       "9     29/11/2019       1.0                  3.0     Copa        3.0    NaN   \n",
       "10    29/11/2019       1.0                  3.0     Copa        4.0     11   \n",
       "11    29/11/2019       1.0                  3.0  Externo        1.0     12   \n",
       "12    29/11/2019       1.0                  3.0  Externo        1.0     14   \n",
       "13    29/11/2019       1.0                  3.0  Externo        1.0     15   \n",
       "14    29/11/2019       1.0                  3.0  Externo        2.0     16   \n",
       "15    29/11/2019       1.0                  3.0  Externo        2.0     17   \n",
       "16    29/11/2019       1.0                  3.0  Externo        2.0     18   \n",
       "17    29/11/2019       1.0                  3.0  Externo        2.0     19   \n",
       "18    29/11/2019       1.0                  3.0  Externo        2.0     20   \n",
       "19    29/11/2019       1.0                  3.0  Externo        2.0     21   \n",
       "20    29/11/2019       1.0                  3.0  Externo        2.0     22   \n",
       "21    29/11/2019       1.0                  3.0  Externo        2.0     23   \n",
       "22    29/11/2019       1.0                  3.0  Externo        2.0     24   \n",
       "23    29/11/2019       1.0                  3.0  Externo        2.0     25   \n",
       "24    29/11/2019       1.0                  3.0  Externo        3.0     26   \n",
       "25    29/11/2019       1.0                  3.0  Externo        3.0     27   \n",
       "26    29/11/2019       1.0                  3.0  Externo        3.0     28   \n",
       "27    29/11/2019       1.0                  3.0  Externo        3.0     29   \n",
       "28    29/11/2019       1.0                  3.0  Externo        3.0     30   \n",
       "29    29/11/2019       1.0                  3.0  Externo        3.0     31   \n",
       "...          ...       ...                  ...      ...        ...    ...   \n",
       "980          NaN       NaN                  NaN      NaN        NaN    NaN   \n",
       "981          NaN       NaN                  NaN      NaN        NaN    NaN   \n",
       "982          NaN       NaN                  NaN      NaN        NaN    NaN   \n",
       "983          NaN       NaN                  NaN      NaN        NaN    NaN   \n",
       "984          NaN       NaN                  NaN      NaN        NaN    NaN   \n",
       "985          NaN       NaN                  NaN      NaN        NaN    NaN   \n",
       "986          NaN       NaN                  NaN      NaN        NaN    NaN   \n",
       "987          NaN       NaN                  NaN      NaN        NaN    NaN   \n",
       "988          NaN       NaN                  NaN      NaN        NaN    NaN   \n",
       "989          NaN       NaN                  NaN      NaN        NaN    NaN   \n",
       "990          NaN       NaN                  NaN      NaN        NaN    NaN   \n",
       "991          NaN       NaN                  NaN      NaN        NaN    NaN   \n",
       "992          NaN       NaN                  NaN      NaN        NaN    NaN   \n",
       "993          NaN       NaN                  NaN      NaN        NaN    NaN   \n",
       "994          NaN       NaN                  NaN      NaN        NaN    NaN   \n",
       "995          NaN       NaN                  NaN      NaN        NaN    NaN   \n",
       "996          NaN       NaN                  NaN      NaN        NaN    NaN   \n",
       "997          NaN       NaN                  NaN      NaN        NaN    NaN   \n",
       "998          NaN       NaN                  NaN      NaN        NaN    NaN   \n",
       "999          NaN       NaN                  NaN      NaN        NaN    NaN   \n",
       "1000         NaN       NaN                  NaN      NaN        NaN    NaN   \n",
       "1001         NaN       NaN                  NaN      NaN        NaN    NaN   \n",
       "1002         NaN       NaN                  NaN      NaN        NaN    NaN   \n",
       "1003         NaN       NaN                  NaN      NaN        NaN    NaN   \n",
       "1004         NaN       NaN                  NaN      NaN        NaN    NaN   \n",
       "1005         NaN       NaN                  NaN      NaN        NaN    NaN   \n",
       "1006         NaN       NaN                  NaN      NaN        NaN    NaN   \n",
       "1007         NaN       NaN                  NaN      NaN        NaN    NaN   \n",
       "1008         NaN       NaN                  NaN      NaN        NaN    NaN   \n",
       "1009         NaN       NaN                  NaN      NaN        NaN    NaN   \n",
       "\n",
       "          Família      Gênero                Espécie Nome Popular  \\\n",
       "0             NaN         NaN                    NaN          NaN   \n",
       "1       Rubiaceae     Coffea          Coffea arabica         Café   \n",
       "2       Rubiaceae     Coffea          Coffea arabica         Café   \n",
       "3     Sapindaceae     Cupania   Cupania oblongifolia       Cuvatã   \n",
       "4     Sapindaceae     Cupania   Cupania oblongifolia       Cuvatã   \n",
       "5       Rubiaceae     Coffea          Coffea arabica         Café   \n",
       "6     Sapindaceae     Cupania   Cupania oblongifolia       Cuvatã   \n",
       "7       Rubiaceae     Coffea          Coffea arabica         Café   \n",
       "8       Myrtaceae   Myrciaria   Myrciaria floribunda     Pendente   \n",
       "9             NaN         NaN                    NaN          NaN   \n",
       "10    Sapindaceae     Cupania   Cupania oblongifolia       Cuvatã   \n",
       "11      Rubiaceae     Coffea          Coffea arabica         Café   \n",
       "12    Monimiaceae  Mollinedia  Mollinedia schottiana   Floribunda   \n",
       "13    Sapindaceae     Cupania   Cupania oblongifolia       Cuvatã   \n",
       "14      Rubiaceae     Coffea          Coffea arabica         Café   \n",
       "15      Rubiaceae     Coffea          Coffea arabica         Café   \n",
       "16      Rubiaceae     Coffea          Coffea arabica         Café   \n",
       "17      Rubiaceae     Coffea          Coffea arabica         Café   \n",
       "18      Rubiaceae     Coffea          Coffea arabica         Café   \n",
       "19      Rubiaceae     Coffea          Coffea arabica         Café   \n",
       "20      Rubiaceae     Coffea          Coffea arabica         Café   \n",
       "21      Rubiaceae     Coffea          Coffea arabica         Café   \n",
       "22      Rubiaceae     Coffea          Coffea arabica         Café   \n",
       "23    Sapindaceae     Cupania   Cupania oblongifolia       Cuvatã   \n",
       "24      Arecaceae     Euterpe         Euterpe edulis       Juçara   \n",
       "25    Sapindaceae     Cupania   Cupania oblongifolia       Cuvatã   \n",
       "26      Myrtaceae     Myrcia       Myrcia tijucensis     Pendente   \n",
       "27    Sapindaceae     Cupania   Cupania oblongifolia       Cuvatã   \n",
       "28    Sapindaceae     Cupania   Cupania oblongifolia       Cuvatã   \n",
       "29      Arecaceae     Euterpe         Euterpe edulis       Juçara   \n",
       "...           ...         ...                    ...          ...   \n",
       "980           NaN         NaN                    NaN          NaN   \n",
       "981           NaN         NaN                    NaN          NaN   \n",
       "982           NaN         NaN                    NaN          NaN   \n",
       "983           NaN         NaN                    NaN          NaN   \n",
       "984           NaN         NaN                    NaN          NaN   \n",
       "985           NaN         NaN                    NaN          NaN   \n",
       "986           NaN         NaN                    NaN          NaN   \n",
       "987           NaN         NaN                    NaN          NaN   \n",
       "988           NaN         NaN                    NaN          NaN   \n",
       "989           NaN         NaN                    NaN          NaN   \n",
       "990           NaN         NaN                    NaN          NaN   \n",
       "991           NaN         NaN                    NaN          NaN   \n",
       "992           NaN         NaN                    NaN          NaN   \n",
       "993           NaN         NaN                    NaN          NaN   \n",
       "994           NaN         NaN                    NaN          NaN   \n",
       "995           NaN         NaN                    NaN          NaN   \n",
       "996           NaN         NaN                    NaN          NaN   \n",
       "997           NaN         NaN                    NaN          NaN   \n",
       "998           NaN         NaN                    NaN          NaN   \n",
       "999           NaN         NaN                    NaN          NaN   \n",
       "1000          NaN         NaN                    NaN          NaN   \n",
       "1001          NaN         NaN                    NaN          NaN   \n",
       "1002          NaN         NaN                    NaN          NaN   \n",
       "1003          NaN         NaN                    NaN          NaN   \n",
       "1004          NaN         NaN                    NaN          NaN   \n",
       "1005          NaN         NaN                    NaN          NaN   \n",
       "1006          NaN         NaN                    NaN          NaN   \n",
       "1007          NaN         NaN                    NaN          NaN   \n",
       "1008          NaN         NaN                    NaN          NaN   \n",
       "1009          NaN         NaN                    NaN          NaN   \n",
       "\n",
       "      Altura (cm) Dap (mm) Coletada Nativa Estágio sucessional  \\\n",
       "0             NaN      NaN      NaN    NaN                 NaN   \n",
       "1            34.0        3        N      N                 NaN   \n",
       "2            29.0      4,5        N      N                 NaN   \n",
       "3            58.0      5,4        N      S            Pioneira   \n",
       "4           164.0     10,8        N      S            Pioneira   \n",
       "5            23.0        3        N      N                 NaN   \n",
       "6            39.0      6,3        N      S            Pioneira   \n",
       "7            85.0     14,2        N      N                 NaN   \n",
       "8           300.0       32        S      S        Não Pioneira   \n",
       "9             NaN      NaN      NaN    NaN                 NaN   \n",
       "10           25.0      5,7        N      S            Pioneira   \n",
       "11           87.0      7,6        N      N                 NaN   \n",
       "12           59.0        8        S      S        Não Pioneira   \n",
       "13           49.0      4,8        N      S            Pioneira   \n",
       "14           38.0      3,4        N      N                 NaN   \n",
       "15           72.0      5,3        N      N                 NaN   \n",
       "16           36.0      2,6        N      N                 NaN   \n",
       "17          116.0      7,8        N      N                 NaN   \n",
       "18           32.0        3        N      N                 NaN   \n",
       "19           64.0      6,2        N      N                 NaN   \n",
       "20           33.0      2,5        N      N                 NaN   \n",
       "21           64.0      3,9        N      N                 NaN   \n",
       "22           70.0        4        N      N                 NaN   \n",
       "23           79.0     12,1        N      S            Pioneira   \n",
       "24           22.0      2,4        N      S        Não Pioneira   \n",
       "25           89.0      8,3        N      S            Pioneira   \n",
       "26           20.0        2        S      S        Não Pioneira   \n",
       "27           66.0      7,3        N      S            Pioneira   \n",
       "28           48.0      6,2        N      S            Pioneira   \n",
       "29           83.0      9,9        N      S        Não Pioneira   \n",
       "...           ...      ...      ...    ...                 ...   \n",
       "980           NaN      NaN      NaN    NaN                 NaN   \n",
       "981           NaN      NaN      NaN    NaN                 NaN   \n",
       "982           NaN      NaN      NaN    NaN                 NaN   \n",
       "983           NaN      NaN      NaN    NaN                 NaN   \n",
       "984           NaN      NaN      NaN    NaN                 NaN   \n",
       "985           NaN      NaN      NaN    NaN                 NaN   \n",
       "986           NaN      NaN      NaN    NaN                 NaN   \n",
       "987           NaN      NaN      NaN    NaN                 NaN   \n",
       "988           NaN      NaN      NaN    NaN                 NaN   \n",
       "989           NaN      NaN      NaN    NaN                 NaN   \n",
       "990           NaN      NaN      NaN    NaN                 NaN   \n",
       "991           NaN      NaN      NaN    NaN                 NaN   \n",
       "992           NaN      NaN      NaN    NaN                 NaN   \n",
       "993           NaN      NaN      NaN    NaN                 NaN   \n",
       "994           NaN      NaN      NaN    NaN                 NaN   \n",
       "995           NaN      NaN      NaN    NaN                 NaN   \n",
       "996           NaN      NaN      NaN    NaN                 NaN   \n",
       "997           NaN      NaN      NaN    NaN                 NaN   \n",
       "998           NaN      NaN      NaN    NaN                 NaN   \n",
       "999           NaN      NaN      NaN    NaN                 NaN   \n",
       "1000          NaN      NaN      NaN    NaN                 NaN   \n",
       "1001          NaN      NaN      NaN    NaN                 NaN   \n",
       "1002          NaN      NaN      NaN    NaN                 NaN   \n",
       "1003          NaN      NaN      NaN    NaN                 NaN   \n",
       "1004          NaN      NaN      NaN    NaN                 NaN   \n",
       "1005          NaN      NaN      NaN    NaN                 NaN   \n",
       "1006          NaN      NaN      NaN    NaN                 NaN   \n",
       "1007          NaN      NaN      NaN    NaN                 NaN   \n",
       "1008          NaN      NaN      NaN    NaN                 NaN   \n",
       "1009          NaN      NaN      NaN    NaN                 NaN   \n",
       "\n",
       "                 Obs Identificação  Unnamed: 17     ...       Unnamed: 20  \\\n",
       "0     Nenhuma planta           NaN          NaN     ...               NaN   \n",
       "1                NaN            OK          NaN     ...               NaN   \n",
       "2                NaN            OK          NaN     ...               NaN   \n",
       "3                NaN            OK          NaN     ...               NaN   \n",
       "4                NaN            OK          NaN     ...               NaN   \n",
       "5                NaN            OK          NaN     ...               NaN   \n",
       "6                NaN            OK          NaN     ...               NaN   \n",
       "7                NaN            OK          NaN     ...               NaN   \n",
       "8                NaN            OK          NaN     ...               NaN   \n",
       "9     Nenhuma planta           NaN          NaN     ...               NaN   \n",
       "10               NaN            OK          NaN     ...               NaN   \n",
       "11               NaN            OK          NaN     ...               NaN   \n",
       "12      Mollinedia 2            OK          NaN     ...               NaN   \n",
       "13               NaN            OK          NaN     ...               NaN   \n",
       "14               NaN            OK          NaN     ...               NaN   \n",
       "15               NaN            OK          NaN     ...               NaN   \n",
       "16               NaN            OK          NaN     ...               NaN   \n",
       "17               NaN            OK          NaN     ...               NaN   \n",
       "18               NaN            OK          NaN     ...               NaN   \n",
       "19               NaN            OK          NaN     ...               NaN   \n",
       "20               NaN            OK          NaN     ...               NaN   \n",
       "21               NaN            OK          NaN     ...               NaN   \n",
       "22               NaN            OK          NaN     ...               NaN   \n",
       "23               NaN            OK          NaN     ...               NaN   \n",
       "24               NaN            OK          NaN     ...               NaN   \n",
       "25               NaN            OK          NaN     ...               NaN   \n",
       "26               NaN            OK          NaN     ...               NaN   \n",
       "27               NaN            OK          NaN     ...               NaN   \n",
       "28               NaN            OK          NaN     ...               NaN   \n",
       "29               NaN            OK          NaN     ...               NaN   \n",
       "...              ...           ...          ...     ...               ...   \n",
       "980              NaN           NaN          NaN     ...               NaN   \n",
       "981              NaN           NaN          NaN     ...               NaN   \n",
       "982              NaN           NaN          NaN     ...               NaN   \n",
       "983              NaN           NaN          NaN     ...               NaN   \n",
       "984              NaN           NaN          NaN     ...               NaN   \n",
       "985              NaN           NaN          NaN     ...               NaN   \n",
       "986              NaN           NaN          NaN     ...               NaN   \n",
       "987              NaN           NaN          NaN     ...               NaN   \n",
       "988              NaN           NaN          NaN     ...               NaN   \n",
       "989              NaN           NaN          NaN     ...               NaN   \n",
       "990              NaN           NaN          NaN     ...               NaN   \n",
       "991              NaN           NaN          NaN     ...               NaN   \n",
       "992              NaN           NaN          NaN     ...               NaN   \n",
       "993              NaN           NaN          NaN     ...               NaN   \n",
       "994              NaN           NaN          NaN     ...               NaN   \n",
       "995              NaN           NaN          NaN     ...               NaN   \n",
       "996              NaN           NaN          NaN     ...               NaN   \n",
       "997              NaN           NaN          NaN     ...               NaN   \n",
       "998              NaN           NaN          NaN     ...               NaN   \n",
       "999              NaN           NaN          NaN     ...               NaN   \n",
       "1000             NaN           NaN          NaN     ...               NaN   \n",
       "1001             NaN           NaN          NaN     ...               NaN   \n",
       "1002             NaN           NaN          NaN     ...               NaN   \n",
       "1003             NaN           NaN          NaN     ...               NaN   \n",
       "1004             NaN           NaN          NaN     ...               NaN   \n",
       "1005             NaN           NaN          NaN     ...               NaN   \n",
       "1006             NaN           NaN          NaN     ...               NaN   \n",
       "1007             NaN           NaN          NaN     ...               NaN   \n",
       "1008             NaN           NaN          NaN     ...               NaN   \n",
       "1009             NaN           NaN          NaN     ...               NaN   \n",
       "\n",
       "      Unnamed: 21  Unnamed: 22  Unnamed: 23  Unnamed: 24  Unnamed: 25  \\\n",
       "0             NaN          NaN          NaN          NaN          NaN   \n",
       "1             NaN          NaN          NaN          NaN          NaN   \n",
       "2             NaN          NaN          NaN          NaN          NaN   \n",
       "3             NaN          NaN          NaN          NaN          NaN   \n",
       "4             NaN          NaN          NaN          NaN          NaN   \n",
       "5             NaN          NaN          NaN          NaN          NaN   \n",
       "6             NaN          NaN          NaN          NaN          NaN   \n",
       "7             NaN          NaN          NaN          NaN          NaN   \n",
       "8             NaN          NaN          NaN          NaN          NaN   \n",
       "9             NaN          NaN          NaN          NaN          NaN   \n",
       "10            NaN          NaN          NaN          NaN          NaN   \n",
       "11            NaN          NaN          NaN          NaN          NaN   \n",
       "12            NaN          NaN          NaN          NaN          NaN   \n",
       "13            NaN          NaN          NaN          NaN          NaN   \n",
       "14            NaN          NaN          NaN          NaN          NaN   \n",
       "15            NaN          NaN          NaN          NaN          NaN   \n",
       "16            NaN          NaN          NaN          NaN          NaN   \n",
       "17            NaN          NaN          NaN          NaN          NaN   \n",
       "18            NaN          NaN          NaN          NaN          NaN   \n",
       "19            NaN          NaN          NaN          NaN          NaN   \n",
       "20            NaN          NaN          NaN          NaN          NaN   \n",
       "21            NaN          NaN          NaN          NaN          NaN   \n",
       "22            NaN          NaN          NaN          NaN          NaN   \n",
       "23            NaN          NaN          NaN          NaN          NaN   \n",
       "24            NaN          NaN          NaN          NaN          NaN   \n",
       "25            NaN          NaN          NaN          NaN          NaN   \n",
       "26            NaN          NaN          NaN          NaN          NaN   \n",
       "27            NaN          NaN          NaN          NaN          NaN   \n",
       "28            NaN          NaN          NaN          NaN          NaN   \n",
       "29            NaN          NaN          NaN          NaN          NaN   \n",
       "...           ...          ...          ...          ...          ...   \n",
       "980           NaN          NaN          NaN          NaN          NaN   \n",
       "981           NaN          NaN          NaN          NaN          NaN   \n",
       "982           NaN          NaN          NaN          NaN          NaN   \n",
       "983           NaN          NaN          NaN          NaN          NaN   \n",
       "984           NaN          NaN          NaN          NaN          NaN   \n",
       "985           NaN          NaN          NaN          NaN          NaN   \n",
       "986           NaN          NaN          NaN          NaN          NaN   \n",
       "987           NaN          NaN          NaN          NaN          NaN   \n",
       "988           NaN          NaN          NaN          NaN          NaN   \n",
       "989           NaN          NaN          NaN          NaN          NaN   \n",
       "990           NaN          NaN          NaN          NaN          NaN   \n",
       "991           NaN          NaN          NaN          NaN          NaN   \n",
       "992           NaN          NaN          NaN          NaN          NaN   \n",
       "993           NaN          NaN          NaN          NaN          NaN   \n",
       "994           NaN          NaN          NaN          NaN          NaN   \n",
       "995           NaN          NaN          NaN          NaN          NaN   \n",
       "996           NaN          NaN          NaN          NaN          NaN   \n",
       "997           NaN          NaN          NaN          NaN          NaN   \n",
       "998           NaN          NaN          NaN          NaN          NaN   \n",
       "999           NaN          NaN          NaN          NaN          NaN   \n",
       "1000          NaN          NaN          NaN          NaN          NaN   \n",
       "1001          NaN          NaN          NaN          NaN          NaN   \n",
       "1002          NaN          NaN          NaN          NaN          NaN   \n",
       "1003          NaN          NaN          NaN          NaN          NaN   \n",
       "1004          NaN          NaN          NaN          NaN          NaN   \n",
       "1005          NaN          NaN          NaN          NaN          NaN   \n",
       "1006          NaN          NaN          NaN          NaN          NaN   \n",
       "1007          NaN          NaN          NaN          NaN          NaN   \n",
       "1008          NaN          NaN          NaN          NaN          NaN   \n",
       "1009          NaN          NaN          NaN          NaN          NaN   \n",
       "\n",
       "      Unnamed: 26  Unnamed: 27  Unnamed: 28  Unnamed: 29  Unnamed: 30  \\\n",
       "0             NaN          NaN          NaN          NaN          NaN   \n",
       "1             NaN          NaN          NaN          NaN          NaN   \n",
       "2             NaN          NaN          NaN          NaN          NaN   \n",
       "3             NaN          NaN          NaN          NaN          NaN   \n",
       "4             NaN          NaN          NaN          NaN          NaN   \n",
       "5             NaN          NaN          NaN          NaN          NaN   \n",
       "6             NaN          NaN          NaN          NaN          NaN   \n",
       "7             NaN          NaN          NaN          NaN          NaN   \n",
       "8             NaN          NaN          NaN          NaN          NaN   \n",
       "9             NaN          NaN          NaN          NaN          NaN   \n",
       "10            NaN          NaN          NaN          NaN          NaN   \n",
       "11            NaN          NaN          NaN          NaN          NaN   \n",
       "12            NaN          NaN          NaN          NaN          NaN   \n",
       "13            NaN          NaN          NaN          NaN          NaN   \n",
       "14            NaN          NaN          NaN          NaN          NaN   \n",
       "15            NaN          NaN          NaN          NaN          NaN   \n",
       "16            NaN          NaN          NaN          NaN          NaN   \n",
       "17            NaN          NaN          NaN          NaN          NaN   \n",
       "18            NaN          NaN          NaN          NaN          NaN   \n",
       "19            NaN          NaN          NaN          NaN          NaN   \n",
       "20            NaN          NaN          NaN          NaN          NaN   \n",
       "21            NaN          NaN          NaN          NaN          NaN   \n",
       "22            NaN          NaN          NaN          NaN          NaN   \n",
       "23            NaN          NaN          NaN          NaN          NaN   \n",
       "24            NaN          NaN          NaN          NaN          NaN   \n",
       "25            NaN          NaN          NaN          NaN          NaN   \n",
       "26            NaN          NaN          NaN          NaN          NaN   \n",
       "27            NaN          NaN          NaN          NaN          NaN   \n",
       "28            NaN          NaN          NaN          NaN          NaN   \n",
       "29            NaN          NaN          NaN          NaN          NaN   \n",
       "...           ...          ...          ...          ...          ...   \n",
       "980           NaN          NaN          NaN          NaN          NaN   \n",
       "981           NaN          NaN          NaN          NaN          NaN   \n",
       "982           NaN          NaN          NaN          NaN          NaN   \n",
       "983           NaN          NaN          NaN          NaN          NaN   \n",
       "984           NaN          NaN          NaN          NaN          NaN   \n",
       "985           NaN          NaN          NaN          NaN          NaN   \n",
       "986           NaN          NaN          NaN          NaN          NaN   \n",
       "987           NaN          NaN          NaN          NaN          NaN   \n",
       "988           NaN          NaN          NaN          NaN          NaN   \n",
       "989           NaN          NaN          NaN          NaN          NaN   \n",
       "990           NaN          NaN          NaN          NaN          NaN   \n",
       "991           NaN          NaN          NaN          NaN          NaN   \n",
       "992           NaN          NaN          NaN          NaN          NaN   \n",
       "993           NaN          NaN          NaN          NaN          NaN   \n",
       "994           NaN          NaN          NaN          NaN          NaN   \n",
       "995           NaN          NaN          NaN          NaN          NaN   \n",
       "996           NaN          NaN          NaN          NaN          NaN   \n",
       "997           NaN          NaN          NaN          NaN          NaN   \n",
       "998           NaN          NaN          NaN          NaN          NaN   \n",
       "999           NaN          NaN          NaN          NaN          NaN   \n",
       "1000          NaN          NaN          NaN          NaN          NaN   \n",
       "1001          NaN          NaN          NaN          NaN          NaN   \n",
       "1002          NaN          NaN          NaN          NaN          NaN   \n",
       "1003          NaN          NaN          NaN          NaN          NaN   \n",
       "1004          NaN          NaN          NaN          NaN          NaN   \n",
       "1005          NaN          NaN          NaN          NaN          NaN   \n",
       "1006          NaN          NaN          NaN          NaN          NaN   \n",
       "1007          NaN          NaN          NaN          NaN          NaN   \n",
       "1008          NaN          NaN          NaN          NaN          NaN   \n",
       "1009          NaN          NaN          NaN          NaN          NaN   \n",
       "\n",
       "      Unnamed: 31  Unnamed: 32  Unnamed: 33  Unnamed: 34  Unnamed: 35  \\\n",
       "0             NaN          NaN          NaN          NaN          NaN   \n",
       "1             NaN          NaN          NaN          NaN          NaN   \n",
       "2             NaN          NaN          NaN          NaN          NaN   \n",
       "3             NaN          NaN          NaN          NaN          NaN   \n",
       "4             NaN          NaN          NaN          NaN          NaN   \n",
       "5             NaN          NaN          NaN          NaN          NaN   \n",
       "6             NaN          NaN          NaN          NaN          NaN   \n",
       "7             NaN          NaN          NaN          NaN          NaN   \n",
       "8             NaN          NaN          NaN          NaN          NaN   \n",
       "9             NaN          NaN          NaN          NaN          NaN   \n",
       "10            NaN          NaN          NaN          NaN          NaN   \n",
       "11            NaN          NaN          NaN          NaN          NaN   \n",
       "12            NaN          NaN          NaN          NaN          NaN   \n",
       "13            NaN          NaN          NaN          NaN          NaN   \n",
       "14            NaN          NaN          NaN          NaN          NaN   \n",
       "15            NaN          NaN          NaN          NaN          NaN   \n",
       "16            NaN          NaN          NaN          NaN          NaN   \n",
       "17            NaN          NaN          NaN          NaN          NaN   \n",
       "18            NaN          NaN          NaN          NaN          NaN   \n",
       "19            NaN          NaN          NaN          NaN          NaN   \n",
       "20            NaN          NaN          NaN          NaN          NaN   \n",
       "21            NaN          NaN          NaN          NaN          NaN   \n",
       "22            NaN          NaN          NaN          NaN          NaN   \n",
       "23            NaN          NaN          NaN          NaN          NaN   \n",
       "24            NaN          NaN          NaN          NaN          NaN   \n",
       "25            NaN          NaN          NaN          NaN          NaN   \n",
       "26            NaN          NaN          NaN          NaN          NaN   \n",
       "27            NaN          NaN          NaN          NaN          NaN   \n",
       "28            NaN          NaN          NaN          NaN          NaN   \n",
       "29            NaN          NaN          NaN          NaN          NaN   \n",
       "...           ...          ...          ...          ...          ...   \n",
       "980           NaN          NaN          NaN          NaN          NaN   \n",
       "981           NaN          NaN          NaN          NaN          NaN   \n",
       "982           NaN          NaN          NaN          NaN          NaN   \n",
       "983           NaN          NaN          NaN          NaN          NaN   \n",
       "984           NaN          NaN          NaN          NaN          NaN   \n",
       "985           NaN          NaN          NaN          NaN          NaN   \n",
       "986           NaN          NaN          NaN          NaN          NaN   \n",
       "987           NaN          NaN          NaN          NaN          NaN   \n",
       "988           NaN          NaN          NaN          NaN          NaN   \n",
       "989           NaN          NaN          NaN          NaN          NaN   \n",
       "990           NaN          NaN          NaN          NaN          NaN   \n",
       "991           NaN          NaN          NaN          NaN          NaN   \n",
       "992           NaN          NaN          NaN          NaN          NaN   \n",
       "993           NaN          NaN          NaN          NaN          NaN   \n",
       "994           NaN          NaN          NaN          NaN          NaN   \n",
       "995           NaN          NaN          NaN          NaN          NaN   \n",
       "996           NaN          NaN          NaN          NaN          NaN   \n",
       "997           NaN          NaN          NaN          NaN          NaN   \n",
       "998           NaN          NaN          NaN          NaN          NaN   \n",
       "999           NaN          NaN          NaN          NaN          NaN   \n",
       "1000          NaN          NaN          NaN          NaN          NaN   \n",
       "1001          NaN          NaN          NaN          NaN          NaN   \n",
       "1002          NaN          NaN          NaN          NaN          NaN   \n",
       "1003          NaN          NaN          NaN          NaN          NaN   \n",
       "1004          NaN          NaN          NaN          NaN          NaN   \n",
       "1005          NaN          NaN          NaN          NaN          NaN   \n",
       "1006          NaN          NaN          NaN          NaN          NaN   \n",
       "1007          NaN          NaN          NaN          NaN          NaN   \n",
       "1008          NaN          NaN          NaN          NaN          NaN   \n",
       "1009          NaN          NaN          NaN   11/12/2019          4.0   \n",
       "\n",
       "     Unnamed: 36  Unnamed: 37  \n",
       "0            NaN          NaN  \n",
       "1            NaN          NaN  \n",
       "2            NaN          NaN  \n",
       "3            NaN          NaN  \n",
       "4            NaN          NaN  \n",
       "5            NaN          NaN  \n",
       "6            NaN          NaN  \n",
       "7            NaN          NaN  \n",
       "8            NaN          NaN  \n",
       "9            NaN          NaN  \n",
       "10           NaN          NaN  \n",
       "11           NaN          NaN  \n",
       "12           NaN          NaN  \n",
       "13           NaN          NaN  \n",
       "14           NaN          NaN  \n",
       "15           NaN          NaN  \n",
       "16           NaN          NaN  \n",
       "17           NaN          NaN  \n",
       "18           NaN          NaN  \n",
       "19           NaN          NaN  \n",
       "20           NaN          NaN  \n",
       "21           NaN          NaN  \n",
       "22           NaN          NaN  \n",
       "23           NaN          NaN  \n",
       "24           NaN          NaN  \n",
       "25           NaN          NaN  \n",
       "26           NaN          NaN  \n",
       "27           NaN          NaN  \n",
       "28           NaN          NaN  \n",
       "29           NaN          NaN  \n",
       "...          ...          ...  \n",
       "980          NaN          NaN  \n",
       "981          NaN          NaN  \n",
       "982          NaN          NaN  \n",
       "983          NaN          NaN  \n",
       "984          NaN          NaN  \n",
       "985          NaN          NaN  \n",
       "986          NaN          NaN  \n",
       "987          NaN          NaN  \n",
       "988          NaN          NaN  \n",
       "989          NaN          NaN  \n",
       "990          NaN          NaN  \n",
       "991          NaN          NaN  \n",
       "992          NaN          NaN  \n",
       "993          NaN          NaN  \n",
       "994          NaN          NaN  \n",
       "995          NaN          NaN  \n",
       "996          NaN          NaN  \n",
       "997          NaN          NaN  \n",
       "998          NaN          NaN  \n",
       "999          NaN          NaN  \n",
       "1000         NaN          NaN  \n",
       "1001         NaN          NaN  \n",
       "1002         NaN          NaN  \n",
       "1003         NaN          NaN  \n",
       "1004         NaN          NaN  \n",
       "1005         NaN          NaN  \n",
       "1006         NaN          NaN  \n",
       "1007         NaN          NaN  \n",
       "1008         NaN          NaN  \n",
       "1009         3.0         Copa  \n",
       "\n",
       "[1010 rows x 38 columns]>"
      ]
     },
     "execution_count": 121,
     "metadata": {},
     "output_type": "execute_result"
    }
   ],
   "source": [
    "df.head"
   ]
  },
  {
   "cell_type": "code",
   "execution_count": 122,
   "metadata": {},
   "outputs": [
    {
     "data": {
      "text/plain": [
       "(1010, 38)"
      ]
     },
     "execution_count": 122,
     "metadata": {},
     "output_type": "execute_result"
    }
   ],
   "source": [
    "#linhas e colunas\n",
    "df.shape"
   ]
  },
  {
   "cell_type": "code",
   "execution_count": 123,
   "metadata": {},
   "outputs": [],
   "source": [
    "#TRATAMENTO DOS DADOS"
   ]
  },
  {
   "cell_type": "code",
   "execution_count": 124,
   "metadata": {},
   "outputs": [],
   "source": [
    "# apenas palmeiras com altura entre 5 e 6 m\n",
    "df = df[df['Altura Palmeira (m)'] == 6]"
   ]
  },
  {
   "cell_type": "code",
   "execution_count": 125,
   "metadata": {},
   "outputs": [],
   "source": [
    "#drop all the columns where all the data is empty\n",
    "df = df.dropna(how='all', axis='columns')"
   ]
  },
  {
   "cell_type": "code",
   "execution_count": 126,
   "metadata": {},
   "outputs": [],
   "source": [
    "#Remove unnamed columns\n",
    "df = df.loc[:, ~df.columns.str.contains('^Unnamed')]"
   ]
  },
  {
   "cell_type": "code",
   "execution_count": 127,
   "metadata": {},
   "outputs": [],
   "source": [
    "#Deleta Quadrantes e Numeros nulos\n",
    "df.dropna(subset=['Quadrante', 'Número'], inplace=True)"
   ]
  },
  {
   "cell_type": "code",
   "execution_count": 128,
   "metadata": {},
   "outputs": [],
   "source": [
    "#Deleta especies Pendentes \n",
    "df.drop(df[df['Espécie'] == 'Pendente'].index, inplace=True)"
   ]
  },
  {
   "cell_type": "code",
   "execution_count": 129,
   "metadata": {},
   "outputs": [
    {
     "data": {
      "text/plain": [
       "(17, 16)"
      ]
     },
     "execution_count": 129,
     "metadata": {},
     "output_type": "execute_result"
    }
   ],
   "source": [
    "df.shape"
   ]
  },
  {
   "cell_type": "code",
   "execution_count": 132,
   "metadata": {},
   "outputs": [
    {
     "data": {
      "text/html": [
       "<div>\n",
       "<style scoped>\n",
       "    .dataframe tbody tr th:only-of-type {\n",
       "        vertical-align: middle;\n",
       "    }\n",
       "\n",
       "    .dataframe tbody tr th {\n",
       "        vertical-align: top;\n",
       "    }\n",
       "\n",
       "    .dataframe thead th {\n",
       "        text-align: right;\n",
       "    }\n",
       "</style>\n",
       "<table border=\"1\" class=\"dataframe\">\n",
       "  <thead>\n",
       "    <tr style=\"text-align: right;\">\n",
       "      <th></th>\n",
       "      <th>Data</th>\n",
       "      <th>Palmeira</th>\n",
       "      <th>Altura Palmeira (m)</th>\n",
       "      <th>Área</th>\n",
       "      <th>Quadrante</th>\n",
       "      <th>Número</th>\n",
       "      <th>Família</th>\n",
       "      <th>Gênero</th>\n",
       "      <th>Espécie</th>\n",
       "      <th>Altura (cm)</th>\n",
       "      <th>Dap (mm)</th>\n",
       "      <th>Coletada</th>\n",
       "      <th>Nativa</th>\n",
       "      <th>Estágio sucessional</th>\n",
       "      <th>Obs</th>\n",
       "      <th>Identificação</th>\n",
       "    </tr>\n",
       "  </thead>\n",
       "  <tbody>\n",
       "    <tr>\n",
       "      <th>194</th>\n",
       "      <td>7/2/2020</td>\n",
       "      <td>6.0</td>\n",
       "      <td>6.0</td>\n",
       "      <td>Copa</td>\n",
       "      <td>1.0</td>\n",
       "      <td>4763</td>\n",
       "      <td>Sapindaceae</td>\n",
       "      <td>Cupania</td>\n",
       "      <td>Cupania oblongifolia</td>\n",
       "      <td>22.0</td>\n",
       "      <td>3,47</td>\n",
       "      <td>S</td>\n",
       "      <td>S</td>\n",
       "      <td>Pioneira</td>\n",
       "      <td>NaN</td>\n",
       "      <td>OK</td>\n",
       "    </tr>\n",
       "    <tr>\n",
       "      <th>197</th>\n",
       "      <td>7/2/2020</td>\n",
       "      <td>6.0</td>\n",
       "      <td>6.0</td>\n",
       "      <td>Copa</td>\n",
       "      <td>4.0</td>\n",
       "      <td>4765</td>\n",
       "      <td>Meliaceae</td>\n",
       "      <td>Guarea</td>\n",
       "      <td>Guarea macrophylla</td>\n",
       "      <td>27.0</td>\n",
       "      <td>4,43</td>\n",
       "      <td>N</td>\n",
       "      <td>S</td>\n",
       "      <td>Não Pioneira</td>\n",
       "      <td>NaN</td>\n",
       "      <td>OK</td>\n",
       "    </tr>\n",
       "    <tr>\n",
       "      <th>198</th>\n",
       "      <td>7/2/2020</td>\n",
       "      <td>6.0</td>\n",
       "      <td>6.0</td>\n",
       "      <td>Copa</td>\n",
       "      <td>4.0</td>\n",
       "      <td>4767</td>\n",
       "      <td>Sapindaceae</td>\n",
       "      <td>Cupania</td>\n",
       "      <td>Cupania oblongifolia</td>\n",
       "      <td>20.0</td>\n",
       "      <td>3</td>\n",
       "      <td>S</td>\n",
       "      <td>S</td>\n",
       "      <td>Pioneira</td>\n",
       "      <td>NaN</td>\n",
       "      <td>OK</td>\n",
       "    </tr>\n",
       "    <tr>\n",
       "      <th>199</th>\n",
       "      <td>7/2/2020</td>\n",
       "      <td>6.0</td>\n",
       "      <td>6.0</td>\n",
       "      <td>Externo</td>\n",
       "      <td>1.0</td>\n",
       "      <td>4769</td>\n",
       "      <td>Rubiaceae</td>\n",
       "      <td>Coffea</td>\n",
       "      <td>Coffea arabica</td>\n",
       "      <td>195.0</td>\n",
       "      <td>24,8</td>\n",
       "      <td>N</td>\n",
       "      <td>N</td>\n",
       "      <td>NaN</td>\n",
       "      <td>NaN</td>\n",
       "      <td>OK</td>\n",
       "    </tr>\n",
       "    <tr>\n",
       "      <th>201</th>\n",
       "      <td>7/2/2020</td>\n",
       "      <td>6.0</td>\n",
       "      <td>6.0</td>\n",
       "      <td>Externo</td>\n",
       "      <td>1.0</td>\n",
       "      <td>4771</td>\n",
       "      <td>Rubiaceae</td>\n",
       "      <td>Psychotria</td>\n",
       "      <td>Psychotria suterella</td>\n",
       "      <td>20.0</td>\n",
       "      <td>3,58</td>\n",
       "      <td>N</td>\n",
       "      <td>S</td>\n",
       "      <td>Não Pioneira</td>\n",
       "      <td>NaN</td>\n",
       "      <td>OK</td>\n",
       "    </tr>\n",
       "  </tbody>\n",
       "</table>\n",
       "</div>"
      ],
      "text/plain": [
       "         Data  Palmeira  Altura Palmeira (m)     Área  Quadrante Número  \\\n",
       "194  7/2/2020       6.0                  6.0     Copa        1.0   4763   \n",
       "197  7/2/2020       6.0                  6.0     Copa        4.0   4765   \n",
       "198  7/2/2020       6.0                  6.0     Copa        4.0   4767   \n",
       "199  7/2/2020       6.0                  6.0  Externo        1.0   4769   \n",
       "201  7/2/2020       6.0                  6.0  Externo        1.0   4771   \n",
       "\n",
       "         Família      Gênero               Espécie  Altura (cm) Dap (mm)  \\\n",
       "194  Sapindaceae     Cupania  Cupania oblongifolia         22.0     3,47   \n",
       "197    Meliaceae      Guarea    Guarea macrophylla         27.0     4,43   \n",
       "198  Sapindaceae     Cupania  Cupania oblongifolia         20.0        3   \n",
       "199    Rubiaceae      Coffea        Coffea arabica        195.0     24,8   \n",
       "201    Rubiaceae  Psychotria  Psychotria suterella         20.0     3,58   \n",
       "\n",
       "    Coletada Nativa Estágio sucessional  Obs Identificação  \n",
       "194        S      S            Pioneira  NaN            OK  \n",
       "197        N      S        Não Pioneira  NaN            OK  \n",
       "198        S      S            Pioneira  NaN            OK  \n",
       "199        N      N                 NaN  NaN            OK  \n",
       "201        N      S        Não Pioneira  NaN            OK  "
      ]
     },
     "execution_count": 132,
     "metadata": {},
     "output_type": "execute_result"
    }
   ],
   "source": [
    "df.head()"
   ]
  },
  {
   "cell_type": "code",
   "execution_count": 133,
   "metadata": {},
   "outputs": [
    {
     "name": "stdout",
     "output_type": "stream",
     "text": [
      "Data                    object\n",
      "Palmeira               float64\n",
      "Altura Palmeira (m)    float64\n",
      "Área                    object\n",
      "Quadrante              float64\n",
      "Número                  object\n",
      "Família                 object\n",
      "Gênero                  object\n",
      "Espécie                 object\n",
      "Altura (cm)            float64\n",
      "Dap (mm)                object\n",
      "Coletada                object\n",
      "Nativa                  object\n",
      "Estágio sucessional     object\n",
      "Obs                     object\n",
      "Identificação           object\n",
      "dtype: object\n"
     ]
    }
   ],
   "source": [
    "#tipos de dados das colunas\n",
    "print(df.dtypes)"
   ]
  },
  {
   "cell_type": "code",
   "execution_count": 134,
   "metadata": {},
   "outputs": [],
   "source": [
    "#Ajustando os tipos de dados\n",
    "\n",
    "df['Estágio sucessional'] = df['Estágio sucessional'].astype(str)\n",
    "df['Nativa'] = df['Nativa'].astype(str)\n",
    "df['Espécie'] = df['Espécie'].astype('str')\n",
    "df['Gênero'] = df['Gênero'].astype(str)\n",
    "df['Família'] = df['Família'].astype(str)\n",
    "df['Quadrante'] = df['Quadrante'].astype(str)\n",
    "df['Área'] = df['Área'].astype('category')\n",
    "df['Altura Palmeira (m)'] = df['Altura Palmeira (m)'].astype(str)\n",
    "df['Palmeira'] = df['Palmeira'].astype(str)\n",
    "df['Dap (mm)'] = df['Dap (mm)'].astype(str)\n",
    "\n",
    "#troca , por . no na coluna dap\n",
    "df['Dap (mm)'] = df['Dap (mm)'].apply(lambda x: x.replace(',', '.'))\n",
    "df['Dap (mm)'] = df['Dap (mm)'].astype('float64')\n",
    "\n"
   ]
  },
  {
   "cell_type": "code",
   "execution_count": 135,
   "metadata": {},
   "outputs": [
    {
     "name": "stdout",
     "output_type": "stream",
     "text": [
      "Data                     object\n",
      "Palmeira                 object\n",
      "Altura Palmeira (m)      object\n",
      "Área                   category\n",
      "Quadrante                object\n",
      "Número                   object\n",
      "Família                  object\n",
      "Gênero                   object\n",
      "Espécie                  object\n",
      "Altura (cm)             float64\n",
      "Dap (mm)                float64\n",
      "Coletada                 object\n",
      "Nativa                   object\n",
      "Estágio sucessional      object\n",
      "Obs                      object\n",
      "Identificação            object\n",
      "dtype: object\n"
     ]
    }
   ],
   "source": [
    "#tipos de dados ajustados\n",
    "print(df.dtypes)"
   ]
  },
  {
   "cell_type": "code",
   "execution_count": 136,
   "metadata": {},
   "outputs": [
    {
     "data": {
      "text/html": [
       "<div>\n",
       "<style scoped>\n",
       "    .dataframe tbody tr th:only-of-type {\n",
       "        vertical-align: middle;\n",
       "    }\n",
       "\n",
       "    .dataframe tbody tr th {\n",
       "        vertical-align: top;\n",
       "    }\n",
       "\n",
       "    .dataframe thead th {\n",
       "        text-align: right;\n",
       "    }\n",
       "</style>\n",
       "<table border=\"1\" class=\"dataframe\">\n",
       "  <thead>\n",
       "    <tr style=\"text-align: right;\">\n",
       "      <th></th>\n",
       "      <th>Data</th>\n",
       "      <th>Palmeira</th>\n",
       "      <th>Altura Palmeira (m)</th>\n",
       "      <th>Área</th>\n",
       "      <th>Quadrante</th>\n",
       "      <th>Número</th>\n",
       "      <th>Família</th>\n",
       "      <th>Gênero</th>\n",
       "      <th>Espécie</th>\n",
       "      <th>Altura (cm)</th>\n",
       "      <th>Dap (mm)</th>\n",
       "      <th>Coletada</th>\n",
       "      <th>Nativa</th>\n",
       "      <th>Estágio sucessional</th>\n",
       "      <th>Obs</th>\n",
       "      <th>Identificação</th>\n",
       "    </tr>\n",
       "  </thead>\n",
       "  <tbody>\n",
       "    <tr>\n",
       "      <th>194</th>\n",
       "      <td>7/2/2020</td>\n",
       "      <td>6.0</td>\n",
       "      <td>6.0</td>\n",
       "      <td>Copa</td>\n",
       "      <td>1.0</td>\n",
       "      <td>4763</td>\n",
       "      <td>Sapindaceae</td>\n",
       "      <td>Cupania</td>\n",
       "      <td>Cupania oblongifolia</td>\n",
       "      <td>22.0</td>\n",
       "      <td>3.47</td>\n",
       "      <td>S</td>\n",
       "      <td>S</td>\n",
       "      <td>Pioneira</td>\n",
       "      <td>NaN</td>\n",
       "      <td>OK</td>\n",
       "    </tr>\n",
       "    <tr>\n",
       "      <th>197</th>\n",
       "      <td>7/2/2020</td>\n",
       "      <td>6.0</td>\n",
       "      <td>6.0</td>\n",
       "      <td>Copa</td>\n",
       "      <td>4.0</td>\n",
       "      <td>4765</td>\n",
       "      <td>Meliaceae</td>\n",
       "      <td>Guarea</td>\n",
       "      <td>Guarea macrophylla</td>\n",
       "      <td>27.0</td>\n",
       "      <td>4.43</td>\n",
       "      <td>N</td>\n",
       "      <td>S</td>\n",
       "      <td>Não Pioneira</td>\n",
       "      <td>NaN</td>\n",
       "      <td>OK</td>\n",
       "    </tr>\n",
       "    <tr>\n",
       "      <th>198</th>\n",
       "      <td>7/2/2020</td>\n",
       "      <td>6.0</td>\n",
       "      <td>6.0</td>\n",
       "      <td>Copa</td>\n",
       "      <td>4.0</td>\n",
       "      <td>4767</td>\n",
       "      <td>Sapindaceae</td>\n",
       "      <td>Cupania</td>\n",
       "      <td>Cupania oblongifolia</td>\n",
       "      <td>20.0</td>\n",
       "      <td>3.00</td>\n",
       "      <td>S</td>\n",
       "      <td>S</td>\n",
       "      <td>Pioneira</td>\n",
       "      <td>NaN</td>\n",
       "      <td>OK</td>\n",
       "    </tr>\n",
       "    <tr>\n",
       "      <th>199</th>\n",
       "      <td>7/2/2020</td>\n",
       "      <td>6.0</td>\n",
       "      <td>6.0</td>\n",
       "      <td>Externo</td>\n",
       "      <td>1.0</td>\n",
       "      <td>4769</td>\n",
       "      <td>Rubiaceae</td>\n",
       "      <td>Coffea</td>\n",
       "      <td>Coffea arabica</td>\n",
       "      <td>195.0</td>\n",
       "      <td>24.80</td>\n",
       "      <td>N</td>\n",
       "      <td>N</td>\n",
       "      <td>nan</td>\n",
       "      <td>NaN</td>\n",
       "      <td>OK</td>\n",
       "    </tr>\n",
       "    <tr>\n",
       "      <th>201</th>\n",
       "      <td>7/2/2020</td>\n",
       "      <td>6.0</td>\n",
       "      <td>6.0</td>\n",
       "      <td>Externo</td>\n",
       "      <td>1.0</td>\n",
       "      <td>4771</td>\n",
       "      <td>Rubiaceae</td>\n",
       "      <td>Psychotria</td>\n",
       "      <td>Psychotria suterella</td>\n",
       "      <td>20.0</td>\n",
       "      <td>3.58</td>\n",
       "      <td>N</td>\n",
       "      <td>S</td>\n",
       "      <td>Não Pioneira</td>\n",
       "      <td>NaN</td>\n",
       "      <td>OK</td>\n",
       "    </tr>\n",
       "  </tbody>\n",
       "</table>\n",
       "</div>"
      ],
      "text/plain": [
       "         Data Palmeira Altura Palmeira (m)     Área Quadrante Número  \\\n",
       "194  7/2/2020      6.0                 6.0     Copa       1.0   4763   \n",
       "197  7/2/2020      6.0                 6.0     Copa       4.0   4765   \n",
       "198  7/2/2020      6.0                 6.0     Copa       4.0   4767   \n",
       "199  7/2/2020      6.0                 6.0  Externo       1.0   4769   \n",
       "201  7/2/2020      6.0                 6.0  Externo       1.0   4771   \n",
       "\n",
       "         Família      Gênero               Espécie  Altura (cm)  Dap (mm)  \\\n",
       "194  Sapindaceae     Cupania  Cupania oblongifolia         22.0      3.47   \n",
       "197    Meliaceae      Guarea    Guarea macrophylla         27.0      4.43   \n",
       "198  Sapindaceae     Cupania  Cupania oblongifolia         20.0      3.00   \n",
       "199    Rubiaceae      Coffea        Coffea arabica        195.0     24.80   \n",
       "201    Rubiaceae  Psychotria  Psychotria suterella         20.0      3.58   \n",
       "\n",
       "    Coletada Nativa Estágio sucessional  Obs Identificação  \n",
       "194        S      S            Pioneira  NaN            OK  \n",
       "197        N      S        Não Pioneira  NaN            OK  \n",
       "198        S      S            Pioneira  NaN            OK  \n",
       "199        N      N                 nan  NaN            OK  \n",
       "201        N      S        Não Pioneira  NaN            OK  "
      ]
     },
     "execution_count": 136,
     "metadata": {},
     "output_type": "execute_result"
    }
   ],
   "source": [
    "df.head()"
   ]
  },
  {
   "cell_type": "code",
   "execution_count": 137,
   "metadata": {},
   "outputs": [
    {
     "data": {
      "text/plain": [
       "(17, 16)"
      ]
     },
     "execution_count": 137,
     "metadata": {},
     "output_type": "execute_result"
    }
   ],
   "source": [
    "#new shape\n",
    "df.shape"
   ]
  },
  {
   "cell_type": "code",
   "execution_count": 138,
   "metadata": {},
   "outputs": [],
   "source": [
    "#Ajuste valores ausentes nas colunas Estágio Sucessional e Nativa \n",
    "df['Estágio sucessional'] =  df['Estágio sucessional'].apply(lambda x: x.replace('nan', 'indeterminado'))\n",
    "df['Estágio sucessional'] =  df['Estágio sucessional'].fillna('indeterminado')\n",
    "df['Nativa'] =  df['Nativa'].apply(lambda x: x.replace('nan', 'indeterminado'))\n",
    "df['Nativa'] =  df['Nativa'].fillna('indeterminado')"
   ]
  },
  {
   "cell_type": "code",
   "execution_count": 139,
   "metadata": {},
   "outputs": [],
   "source": [
    "#Ajustar Area externa para 'Entorno'\n",
    "df['Área'] =  df['Área'].apply(lambda x: x.replace('Externo', 'Entorno'))"
   ]
  },
  {
   "cell_type": "code",
   "execution_count": 140,
   "metadata": {},
   "outputs": [],
   "source": [
    "#Remove decimal do nome da palmeira e da altura da palmeira \n",
    "df['Palmeira'] = df['Palmeira'].apply(lambda x: x.split('.')[0]) \n",
    "df['Altura Palmeira (m)'] = df['Altura Palmeira (m)'].apply(lambda x: x.split('.')[0]) "
   ]
  },
  {
   "cell_type": "code",
   "execution_count": 141,
   "metadata": {},
   "outputs": [
    {
     "data": {
      "text/html": [
       "<div>\n",
       "<style scoped>\n",
       "    .dataframe tbody tr th:only-of-type {\n",
       "        vertical-align: middle;\n",
       "    }\n",
       "\n",
       "    .dataframe tbody tr th {\n",
       "        vertical-align: top;\n",
       "    }\n",
       "\n",
       "    .dataframe thead th {\n",
       "        text-align: right;\n",
       "    }\n",
       "</style>\n",
       "<table border=\"1\" class=\"dataframe\">\n",
       "  <thead>\n",
       "    <tr style=\"text-align: right;\">\n",
       "      <th></th>\n",
       "      <th>Data</th>\n",
       "      <th>Palmeira</th>\n",
       "      <th>Altura Palmeira (m)</th>\n",
       "      <th>Área</th>\n",
       "      <th>Quadrante</th>\n",
       "      <th>Número</th>\n",
       "      <th>Família</th>\n",
       "      <th>Gênero</th>\n",
       "      <th>Espécie</th>\n",
       "      <th>Altura (cm)</th>\n",
       "      <th>Dap (mm)</th>\n",
       "      <th>Coletada</th>\n",
       "      <th>Nativa</th>\n",
       "      <th>Estágio sucessional</th>\n",
       "      <th>Obs</th>\n",
       "      <th>Identificação</th>\n",
       "    </tr>\n",
       "  </thead>\n",
       "  <tbody>\n",
       "    <tr>\n",
       "      <th>194</th>\n",
       "      <td>7/2/2020</td>\n",
       "      <td>6</td>\n",
       "      <td>6</td>\n",
       "      <td>Copa</td>\n",
       "      <td>1.0</td>\n",
       "      <td>4763</td>\n",
       "      <td>Sapindaceae</td>\n",
       "      <td>Cupania</td>\n",
       "      <td>Cupania oblongifolia</td>\n",
       "      <td>22.0</td>\n",
       "      <td>3.47</td>\n",
       "      <td>S</td>\n",
       "      <td>S</td>\n",
       "      <td>Pioneira</td>\n",
       "      <td>NaN</td>\n",
       "      <td>OK</td>\n",
       "    </tr>\n",
       "    <tr>\n",
       "      <th>197</th>\n",
       "      <td>7/2/2020</td>\n",
       "      <td>6</td>\n",
       "      <td>6</td>\n",
       "      <td>Copa</td>\n",
       "      <td>4.0</td>\n",
       "      <td>4765</td>\n",
       "      <td>Meliaceae</td>\n",
       "      <td>Guarea</td>\n",
       "      <td>Guarea macrophylla</td>\n",
       "      <td>27.0</td>\n",
       "      <td>4.43</td>\n",
       "      <td>N</td>\n",
       "      <td>S</td>\n",
       "      <td>Não Pioneira</td>\n",
       "      <td>NaN</td>\n",
       "      <td>OK</td>\n",
       "    </tr>\n",
       "    <tr>\n",
       "      <th>198</th>\n",
       "      <td>7/2/2020</td>\n",
       "      <td>6</td>\n",
       "      <td>6</td>\n",
       "      <td>Copa</td>\n",
       "      <td>4.0</td>\n",
       "      <td>4767</td>\n",
       "      <td>Sapindaceae</td>\n",
       "      <td>Cupania</td>\n",
       "      <td>Cupania oblongifolia</td>\n",
       "      <td>20.0</td>\n",
       "      <td>3.00</td>\n",
       "      <td>S</td>\n",
       "      <td>S</td>\n",
       "      <td>Pioneira</td>\n",
       "      <td>NaN</td>\n",
       "      <td>OK</td>\n",
       "    </tr>\n",
       "    <tr>\n",
       "      <th>199</th>\n",
       "      <td>7/2/2020</td>\n",
       "      <td>6</td>\n",
       "      <td>6</td>\n",
       "      <td>Entorno</td>\n",
       "      <td>1.0</td>\n",
       "      <td>4769</td>\n",
       "      <td>Rubiaceae</td>\n",
       "      <td>Coffea</td>\n",
       "      <td>Coffea arabica</td>\n",
       "      <td>195.0</td>\n",
       "      <td>24.80</td>\n",
       "      <td>N</td>\n",
       "      <td>N</td>\n",
       "      <td>indeterminado</td>\n",
       "      <td>NaN</td>\n",
       "      <td>OK</td>\n",
       "    </tr>\n",
       "    <tr>\n",
       "      <th>201</th>\n",
       "      <td>7/2/2020</td>\n",
       "      <td>6</td>\n",
       "      <td>6</td>\n",
       "      <td>Entorno</td>\n",
       "      <td>1.0</td>\n",
       "      <td>4771</td>\n",
       "      <td>Rubiaceae</td>\n",
       "      <td>Psychotria</td>\n",
       "      <td>Psychotria suterella</td>\n",
       "      <td>20.0</td>\n",
       "      <td>3.58</td>\n",
       "      <td>N</td>\n",
       "      <td>S</td>\n",
       "      <td>Não Pioneira</td>\n",
       "      <td>NaN</td>\n",
       "      <td>OK</td>\n",
       "    </tr>\n",
       "    <tr>\n",
       "      <th>202</th>\n",
       "      <td>7/2/2020</td>\n",
       "      <td>6</td>\n",
       "      <td>6</td>\n",
       "      <td>Entorno</td>\n",
       "      <td>1.0</td>\n",
       "      <td>4772</td>\n",
       "      <td>Sapindaceae</td>\n",
       "      <td>Cupania</td>\n",
       "      <td>Cupania oblongifolia</td>\n",
       "      <td>37.0</td>\n",
       "      <td>4.54</td>\n",
       "      <td>N</td>\n",
       "      <td>S</td>\n",
       "      <td>Pioneira</td>\n",
       "      <td>NaN</td>\n",
       "      <td>OK</td>\n",
       "    </tr>\n",
       "    <tr>\n",
       "      <th>203</th>\n",
       "      <td>7/2/2020</td>\n",
       "      <td>6</td>\n",
       "      <td>6</td>\n",
       "      <td>Entorno</td>\n",
       "      <td>1.0</td>\n",
       "      <td>4773</td>\n",
       "      <td>Monimiaceae</td>\n",
       "      <td>Mollinedia</td>\n",
       "      <td>Mollinedia uleana</td>\n",
       "      <td>58.0</td>\n",
       "      <td>10.80</td>\n",
       "      <td>S</td>\n",
       "      <td>S</td>\n",
       "      <td>indeterminado</td>\n",
       "      <td>NaN</td>\n",
       "      <td>OK</td>\n",
       "    </tr>\n",
       "    <tr>\n",
       "      <th>204</th>\n",
       "      <td>7/2/2020</td>\n",
       "      <td>6</td>\n",
       "      <td>6</td>\n",
       "      <td>Entorno</td>\n",
       "      <td>2.0</td>\n",
       "      <td>4774</td>\n",
       "      <td>Sapindaceae</td>\n",
       "      <td>Allophylus</td>\n",
       "      <td>Allophylus edulis</td>\n",
       "      <td>400.0</td>\n",
       "      <td>45.40</td>\n",
       "      <td>S</td>\n",
       "      <td>S</td>\n",
       "      <td>Não Pioneira</td>\n",
       "      <td>idem 4774</td>\n",
       "      <td>OK</td>\n",
       "    </tr>\n",
       "    <tr>\n",
       "      <th>205</th>\n",
       "      <td>7/2/2020</td>\n",
       "      <td>6</td>\n",
       "      <td>6</td>\n",
       "      <td>Entorno</td>\n",
       "      <td>2.0</td>\n",
       "      <td>4775</td>\n",
       "      <td>Rubiaceae</td>\n",
       "      <td>Coffea</td>\n",
       "      <td>Coffea arabica</td>\n",
       "      <td>48.0</td>\n",
       "      <td>4.38</td>\n",
       "      <td>N</td>\n",
       "      <td>N</td>\n",
       "      <td>indeterminado</td>\n",
       "      <td>NaN</td>\n",
       "      <td>OK</td>\n",
       "    </tr>\n",
       "    <tr>\n",
       "      <th>207</th>\n",
       "      <td>7/2/2020</td>\n",
       "      <td>6</td>\n",
       "      <td>6</td>\n",
       "      <td>Entorno</td>\n",
       "      <td>2.0</td>\n",
       "      <td>4778</td>\n",
       "      <td>Monimiaceae</td>\n",
       "      <td>Mollinedia</td>\n",
       "      <td>Mollinedia uleana</td>\n",
       "      <td>160.0</td>\n",
       "      <td>20.20</td>\n",
       "      <td>S</td>\n",
       "      <td>S</td>\n",
       "      <td>indeterminado</td>\n",
       "      <td>NaN</td>\n",
       "      <td>OK</td>\n",
       "    </tr>\n",
       "    <tr>\n",
       "      <th>208</th>\n",
       "      <td>7/2/2020</td>\n",
       "      <td>6</td>\n",
       "      <td>6</td>\n",
       "      <td>Entorno</td>\n",
       "      <td>2.0</td>\n",
       "      <td>4779</td>\n",
       "      <td>Arecaceae</td>\n",
       "      <td>Euterpe</td>\n",
       "      <td>Euterpe edulis</td>\n",
       "      <td>34.0</td>\n",
       "      <td>5.92</td>\n",
       "      <td>N</td>\n",
       "      <td>S</td>\n",
       "      <td>Não Pioneira</td>\n",
       "      <td>NaN</td>\n",
       "      <td>OK</td>\n",
       "    </tr>\n",
       "    <tr>\n",
       "      <th>210</th>\n",
       "      <td>7/2/2020</td>\n",
       "      <td>6</td>\n",
       "      <td>6</td>\n",
       "      <td>Entorno</td>\n",
       "      <td>3.0</td>\n",
       "      <td>4781</td>\n",
       "      <td>Moraceae</td>\n",
       "      <td>Ficus</td>\n",
       "      <td>Ficus obtusifolia</td>\n",
       "      <td>180.0</td>\n",
       "      <td>29.30</td>\n",
       "      <td>S</td>\n",
       "      <td>S</td>\n",
       "      <td>indeterminado</td>\n",
       "      <td>NaN</td>\n",
       "      <td>NaN</td>\n",
       "    </tr>\n",
       "    <tr>\n",
       "      <th>211</th>\n",
       "      <td>7/2/2020</td>\n",
       "      <td>6</td>\n",
       "      <td>6</td>\n",
       "      <td>Entorno</td>\n",
       "      <td>3.0</td>\n",
       "      <td>4782</td>\n",
       "      <td>Arecaceae</td>\n",
       "      <td>Archontophoenix</td>\n",
       "      <td>Archontophoenix cunninghamiana</td>\n",
       "      <td>24.0</td>\n",
       "      <td>4.06</td>\n",
       "      <td>N</td>\n",
       "      <td>N</td>\n",
       "      <td>indeterminado</td>\n",
       "      <td>NaN</td>\n",
       "      <td>OK</td>\n",
       "    </tr>\n",
       "    <tr>\n",
       "      <th>212</th>\n",
       "      <td>7/2/2020</td>\n",
       "      <td>6</td>\n",
       "      <td>6</td>\n",
       "      <td>Entorno</td>\n",
       "      <td>3.0</td>\n",
       "      <td>4783</td>\n",
       "      <td>Arecaceae</td>\n",
       "      <td>Euterpe</td>\n",
       "      <td>Euterpe edulis</td>\n",
       "      <td>150.0</td>\n",
       "      <td>28.40</td>\n",
       "      <td>N</td>\n",
       "      <td>S</td>\n",
       "      <td>Não Pioneira</td>\n",
       "      <td>NaN</td>\n",
       "      <td>OK</td>\n",
       "    </tr>\n",
       "    <tr>\n",
       "      <th>213</th>\n",
       "      <td>7/2/2020</td>\n",
       "      <td>6</td>\n",
       "      <td>6</td>\n",
       "      <td>Entorno</td>\n",
       "      <td>3.0</td>\n",
       "      <td>4785</td>\n",
       "      <td>Arecaceae</td>\n",
       "      <td>Euterpe</td>\n",
       "      <td>Euterpe edulis</td>\n",
       "      <td>33.0</td>\n",
       "      <td>6.58</td>\n",
       "      <td>N</td>\n",
       "      <td>S</td>\n",
       "      <td>Não Pioneira</td>\n",
       "      <td>NaN</td>\n",
       "      <td>OK</td>\n",
       "    </tr>\n",
       "    <tr>\n",
       "      <th>214</th>\n",
       "      <td>7/2/2020</td>\n",
       "      <td>6</td>\n",
       "      <td>6</td>\n",
       "      <td>Entorno</td>\n",
       "      <td>4.0</td>\n",
       "      <td>4786</td>\n",
       "      <td>Elaeocarpaceae</td>\n",
       "      <td>Sloanea</td>\n",
       "      <td>Sloanea guianensis</td>\n",
       "      <td>100.0</td>\n",
       "      <td>10.56</td>\n",
       "      <td>S</td>\n",
       "      <td>S</td>\n",
       "      <td>indeterminado</td>\n",
       "      <td>NaN</td>\n",
       "      <td>NaN</td>\n",
       "    </tr>\n",
       "    <tr>\n",
       "      <th>217</th>\n",
       "      <td>7/2/2020</td>\n",
       "      <td>6</td>\n",
       "      <td>6</td>\n",
       "      <td>Entorno</td>\n",
       "      <td>4.0</td>\n",
       "      <td>4789</td>\n",
       "      <td>Sapindaceae</td>\n",
       "      <td>Allophylus</td>\n",
       "      <td>Allophylus edulis</td>\n",
       "      <td>20.0</td>\n",
       "      <td>2.12</td>\n",
       "      <td>S</td>\n",
       "      <td>S</td>\n",
       "      <td>Não Pioneira</td>\n",
       "      <td>idem 4774</td>\n",
       "      <td>OK</td>\n",
       "    </tr>\n",
       "  </tbody>\n",
       "</table>\n",
       "</div>"
      ],
      "text/plain": [
       "         Data Palmeira Altura Palmeira (m)     Área Quadrante Número  \\\n",
       "194  7/2/2020        6                   6     Copa       1.0   4763   \n",
       "197  7/2/2020        6                   6     Copa       4.0   4765   \n",
       "198  7/2/2020        6                   6     Copa       4.0   4767   \n",
       "199  7/2/2020        6                   6  Entorno       1.0   4769   \n",
       "201  7/2/2020        6                   6  Entorno       1.0   4771   \n",
       "202  7/2/2020        6                   6  Entorno       1.0   4772   \n",
       "203  7/2/2020        6                   6  Entorno       1.0   4773   \n",
       "204  7/2/2020        6                   6  Entorno       2.0   4774   \n",
       "205  7/2/2020        6                   6  Entorno       2.0   4775   \n",
       "207  7/2/2020        6                   6  Entorno       2.0   4778   \n",
       "208  7/2/2020        6                   6  Entorno       2.0   4779   \n",
       "210  7/2/2020        6                   6  Entorno       3.0   4781   \n",
       "211  7/2/2020        6                   6  Entorno       3.0   4782   \n",
       "212  7/2/2020        6                   6  Entorno       3.0   4783   \n",
       "213  7/2/2020        6                   6  Entorno       3.0   4785   \n",
       "214  7/2/2020        6                   6  Entorno       4.0   4786   \n",
       "217  7/2/2020        6                   6  Entorno       4.0   4789   \n",
       "\n",
       "             Família           Gênero                         Espécie  \\\n",
       "194      Sapindaceae          Cupania            Cupania oblongifolia   \n",
       "197        Meliaceae           Guarea              Guarea macrophylla   \n",
       "198      Sapindaceae          Cupania            Cupania oblongifolia   \n",
       "199        Rubiaceae           Coffea                  Coffea arabica   \n",
       "201        Rubiaceae       Psychotria            Psychotria suterella   \n",
       "202      Sapindaceae          Cupania            Cupania oblongifolia   \n",
       "203     Monimiaceae        Mollinedia               Mollinedia uleana   \n",
       "204      Sapindaceae      Allophylus                Allophylus edulis   \n",
       "205        Rubiaceae           Coffea                  Coffea arabica   \n",
       "207     Monimiaceae        Mollinedia               Mollinedia uleana   \n",
       "208        Arecaceae          Euterpe                  Euterpe edulis   \n",
       "210         Moraceae            Ficus               Ficus obtusifolia   \n",
       "211        Arecaceae  Archontophoenix  Archontophoenix cunninghamiana   \n",
       "212        Arecaceae          Euterpe                  Euterpe edulis   \n",
       "213        Arecaceae          Euterpe                  Euterpe edulis   \n",
       "214  Elaeocarpaceae           Sloanea              Sloanea guianensis   \n",
       "217      Sapindaceae      Allophylus                Allophylus edulis   \n",
       "\n",
       "     Altura (cm)  Dap (mm) Coletada Nativa Estágio sucessional        Obs  \\\n",
       "194         22.0      3.47        S      S            Pioneira        NaN   \n",
       "197         27.0      4.43        N      S        Não Pioneira        NaN   \n",
       "198         20.0      3.00        S      S            Pioneira        NaN   \n",
       "199        195.0     24.80        N      N       indeterminado        NaN   \n",
       "201         20.0      3.58        N      S        Não Pioneira        NaN   \n",
       "202         37.0      4.54        N      S            Pioneira        NaN   \n",
       "203         58.0     10.80        S      S       indeterminado        NaN   \n",
       "204        400.0     45.40        S      S        Não Pioneira  idem 4774   \n",
       "205         48.0      4.38        N      N       indeterminado        NaN   \n",
       "207        160.0     20.20        S      S       indeterminado        NaN   \n",
       "208         34.0      5.92        N      S        Não Pioneira        NaN   \n",
       "210        180.0     29.30        S      S       indeterminado        NaN   \n",
       "211         24.0      4.06        N      N       indeterminado        NaN   \n",
       "212        150.0     28.40        N      S        Não Pioneira        NaN   \n",
       "213         33.0      6.58        N      S        Não Pioneira        NaN   \n",
       "214        100.0     10.56        S      S       indeterminado        NaN   \n",
       "217         20.0      2.12        S      S        Não Pioneira  idem 4774   \n",
       "\n",
       "    Identificação  \n",
       "194            OK  \n",
       "197            OK  \n",
       "198            OK  \n",
       "199            OK  \n",
       "201            OK  \n",
       "202            OK  \n",
       "203            OK  \n",
       "204            OK  \n",
       "205            OK  \n",
       "207            OK  \n",
       "208            OK  \n",
       "210           NaN  \n",
       "211            OK  \n",
       "212            OK  \n",
       "213            OK  \n",
       "214           NaN  \n",
       "217            OK  "
      ]
     },
     "execution_count": 141,
     "metadata": {},
     "output_type": "execute_result"
    }
   ],
   "source": [
    "df.head(190)"
   ]
  },
  {
   "cell_type": "code",
   "execution_count": 142,
   "metadata": {},
   "outputs": [
    {
     "data": {
      "text/plain": [
       "Entorno    14\n",
       "Copa        3\n",
       "Name: Área, dtype: int64"
      ]
     },
     "execution_count": 142,
     "metadata": {},
     "output_type": "execute_result"
    }
   ],
   "source": [
    "#contar registros em cada grupo\n",
    "df['Área'].value_counts()"
   ]
  },
  {
   "cell_type": "code",
   "execution_count": 143,
   "metadata": {},
   "outputs": [
    {
     "data": {
      "text/plain": [
       "Data                   3\n",
       "Palmeira               3\n",
       "Altura Palmeira (m)    3\n",
       "Área                   3\n",
       "Quadrante              3\n",
       "Número                 3\n",
       "Família                3\n",
       "Gênero                 3\n",
       "Espécie                3\n",
       "Altura (cm)            3\n",
       "Dap (mm)               3\n",
       "Coletada               3\n",
       "Nativa                 3\n",
       "Estágio sucessional    3\n",
       "Obs                    0\n",
       "Identificação          3\n",
       "dtype: int64"
      ]
     },
     "execution_count": 143,
     "metadata": {},
     "output_type": "execute_result"
    }
   ],
   "source": [
    "#contar registros em cada coluna - área da copa\n",
    "df[df['Área'] == 'Copa'].count()"
   ]
  },
  {
   "cell_type": "code",
   "execution_count": 144,
   "metadata": {},
   "outputs": [
    {
     "data": {
      "text/plain": [
       "Data                   14\n",
       "Palmeira               14\n",
       "Altura Palmeira (m)    14\n",
       "Área                   14\n",
       "Quadrante              14\n",
       "Número                 14\n",
       "Família                14\n",
       "Gênero                 14\n",
       "Espécie                14\n",
       "Altura (cm)            14\n",
       "Dap (mm)               14\n",
       "Coletada               14\n",
       "Nativa                 14\n",
       "Estágio sucessional    14\n",
       "Obs                     2\n",
       "Identificação          12\n",
       "dtype: int64"
      ]
     },
     "execution_count": 144,
     "metadata": {},
     "output_type": "execute_result"
    }
   ],
   "source": [
    "#contar registros em cada coluna - área do entorno\n",
    "df[df['Área'] == 'Entorno'].count()"
   ]
  },
  {
   "cell_type": "code",
   "execution_count": 145,
   "metadata": {},
   "outputs": [],
   "source": [
    "#STATISTICAS"
   ]
  },
  {
   "cell_type": "code",
   "execution_count": 146,
   "metadata": {},
   "outputs": [
    {
     "data": {
      "text/plain": [
       "count     17.000000\n",
       "mean      89.882353\n",
       "std      101.074157\n",
       "min       20.000000\n",
       "25%       24.000000\n",
       "50%       37.000000\n",
       "75%      150.000000\n",
       "max      400.000000\n",
       "Name: Altura (cm), dtype: float64"
      ]
     },
     "execution_count": 146,
     "metadata": {},
     "output_type": "execute_result"
    }
   ],
   "source": [
    "#Altura\n",
    "df['Altura (cm)'].describe()"
   ]
  },
  {
   "cell_type": "code",
   "execution_count": 147,
   "metadata": {},
   "outputs": [
    {
     "data": {
      "text/plain": [
       "count    17.000000\n",
       "mean     12.443529\n",
       "std      12.593993\n",
       "min       2.120000\n",
       "25%       4.060000\n",
       "50%       5.920000\n",
       "75%      20.200000\n",
       "max      45.400000\n",
       "Name: Dap (mm), dtype: float64"
      ]
     },
     "execution_count": 147,
     "metadata": {},
     "output_type": "execute_result"
    }
   ],
   "source": [
    "df['Dap (mm)'].describe()"
   ]
  },
  {
   "cell_type": "code",
   "execution_count": 148,
   "metadata": {},
   "outputs": [
    {
     "data": {
      "text/plain": [
       "array([[<matplotlib.axes._subplots.AxesSubplot object at 0x7f0f697f18d0>,\n",
       "        <matplotlib.axes._subplots.AxesSubplot object at 0x7f0f6726ccc0>]],\n",
       "      dtype=object)"
      ]
     },
     "execution_count": 148,
     "metadata": {},
     "output_type": "execute_result"
    },
    {
     "data": {
      "image/png": "[encoded data removed]",
      "text/plain": [
       "<Figure size 432x288 with 2 Axes>"
      ]
     },
     "metadata": {},
     "output_type": "display_data"
    }
   ],
   "source": [
    "#histogramas das colunas numericas (Altura e Dap)\n",
    "df.hist()"
   ]
  },
  {
   "cell_type": "code",
   "execution_count": 149,
   "metadata": {},
   "outputs": [
    {
     "data": {
      "text/plain": [
       "array([[<matplotlib.axes._subplots.AxesSubplot object at 0x7f0f672e1198>,\n",
       "        <matplotlib.axes._subplots.AxesSubplot object at 0x7f0f67235780>]],\n",
       "      dtype=object)"
      ]
     },
     "execution_count": 149,
     "metadata": {},
     "output_type": "execute_result"
    },
    {
     "data": {
      "image/png": "[encoded data removed]",
      "text/plain": [
       "<Figure size 432x288 with 2 Axes>"
      ]
     },
     "metadata": {},
     "output_type": "display_data"
    }
   ],
   "source": [
    "#histograma da altura e do dap da área da copa\n",
    "df[df['Área'] == 'Copa'].hist()"
   ]
  },
  {
   "cell_type": "code",
   "execution_count": 150,
   "metadata": {},
   "outputs": [
    {
     "data": {
      "text/plain": [
       "array([[<matplotlib.axes._subplots.AxesSubplot object at 0x7f0f671af860>,\n",
       "        <matplotlib.axes._subplots.AxesSubplot object at 0x7f0f6717a0b8>]],\n",
       "      dtype=object)"
      ]
     },
     "execution_count": 150,
     "metadata": {},
     "output_type": "execute_result"
    },
    {
     "data": {
      "image/png": "[encoded data removed]",
      "text/plain": [
       "<Figure size 432x288 with 2 Axes>"
      ]
     },
     "metadata": {},
     "output_type": "display_data"
    }
   ],
   "source": [
    "#histograma da altura e do dap do entorno\n",
    "df[df['Área'] == 'Entorno'].hist()"
   ]
  },
  {
   "cell_type": "code",
   "execution_count": 151,
   "metadata": {},
   "outputs": [
    {
     "data": {
      "text/plain": [
       "array([[<matplotlib.axes._subplots.AxesSubplot object at 0x7f0f6709cc50>,\n",
       "        <matplotlib.axes._subplots.AxesSubplot object at 0x7f0f670c1da0>],\n",
       "       [<matplotlib.axes._subplots.AxesSubplot object at 0x7f0f67075470>,\n",
       "        <matplotlib.axes._subplots.AxesSubplot object at 0x7f0f6701bb00>]],\n",
       "      dtype=object)"
      ]
     },
     "execution_count": 151,
     "metadata": {},
     "output_type": "execute_result"
    },
    {
     "data": {
      "image/png": "[encoded data removed]",
      "text/plain": [
       "<Figure size 216x216 with 4 Axes>"
      ]
     },
     "metadata": {},
     "output_type": "display_data"
    }
   ],
   "source": [
    "# exibe relacionamentos entre os atributos numericos \n",
    "from pandas.plotting import scatter_matrix\n",
    "\n",
    "#figsize: tamanho da figura\n",
    "#alpha: transparencia\n",
    "scatter_matrix(df, alpha=0.5, figsize=(3, 3))\n",
    "\n"
   ]
  },
  {
   "cell_type": "code",
   "execution_count": 152,
   "metadata": {},
   "outputs": [
    {
     "data": {
      "text/plain": [
       "array([[<matplotlib.axes._subplots.AxesSubplot object at 0x7f0f66fa2c50>,\n",
       "        <matplotlib.axes._subplots.AxesSubplot object at 0x7f0f66f67fd0>],\n",
       "       [<matplotlib.axes._subplots.AxesSubplot object at 0x7f0f66f166a0>,\n",
       "        <matplotlib.axes._subplots.AxesSubplot object at 0x7f0f66f3ed30>]],\n",
       "      dtype=object)"
      ]
     },
     "execution_count": 152,
     "metadata": {},
     "output_type": "execute_result"
    },
    {
     "data": {
      "image/png": "[encoded data removed]",
      "text/plain": [
       "<Figure size 216x216 with 4 Axes>"
      ]
     },
     "metadata": {},
     "output_type": "display_data"
    }
   ],
   "source": [
    "#KDE is a non-parametric way to estimate the probability density function of any variable we wish to view.\n",
    "scatter_matrix(df, alpha=0.2, figsize=(3, 3), diagonal='kde')"
   ]
  },
  {
   "cell_type": "code",
   "execution_count": 153,
   "metadata": {},
   "outputs": [
    {
     "data": {
      "text/plain": [
       "<matplotlib.axes._subplots.AxesSubplot at 0x7f0f66eadc18>"
      ]
     },
     "execution_count": 153,
     "metadata": {},
     "output_type": "execute_result"
    },
    {
     "data": {
      "image/png": "[encoded data removed]",
      "text/plain": [
       "<Figure size 432x288 with 1 Axes>"
      ]
     },
     "metadata": {},
     "output_type": "display_data"
    }
   ],
   "source": [
    "#box plot do dap do grupo copa\n",
    "df[df['Área'] == 'Copa'].boxplot(column=['Dap (mm)'])"
   ]
  },
  {
   "cell_type": "code",
   "execution_count": 154,
   "metadata": {},
   "outputs": [
    {
     "data": {
      "text/plain": [
       "<matplotlib.axes._subplots.AxesSubplot at 0x7f0f66e192e8>"
      ]
     },
     "execution_count": 154,
     "metadata": {},
     "output_type": "execute_result"
    },
    {
     "data": {
      "image/png": "[encoded data removed]",
      "text/plain": [
       "<Figure size 432x288 with 1 Axes>"
      ]
     },
     "metadata": {},
     "output_type": "display_data"
    }
   ],
   "source": [
    "#box plot do dap do grupo entorno\n",
    "df[df['Área'] == 'Entorno'].boxplot(column=['Dap (mm)'])"
   ]
  },
  {
   "cell_type": "code",
   "execution_count": 155,
   "metadata": {},
   "outputs": [
    {
     "data": {
      "text/plain": [
       "<matplotlib.axes._subplots.AxesSubplot at 0x7f0f66de7438>"
      ]
     },
     "execution_count": 155,
     "metadata": {},
     "output_type": "execute_result"
    },
    {
     "data": {
      "image/png": "[encoded data removed]",
      "text/plain": [
       "<Figure size 432x288 with 1 Axes>"
      ]
     },
     "metadata": {},
     "output_type": "display_data"
    }
   ],
   "source": [
    "#box plot da altura do grupo copa\n",
    "df[df['Área'] == 'Copa'].boxplot(column=['Altura (cm)'])"
   ]
  },
  {
   "cell_type": "code",
   "execution_count": 156,
   "metadata": {},
   "outputs": [
    {
     "data": {
      "text/plain": [
       "<matplotlib.axes._subplots.AxesSubplot at 0x7f0f66d56668>"
      ]
     },
     "execution_count": 156,
     "metadata": {},
     "output_type": "execute_result"
    },
    {
     "data": {
      "image/png": "[encoded data removed]",
      "text/plain": [
       "<Figure size 432x288 with 1 Axes>"
      ]
     },
     "metadata": {},
     "output_type": "display_data"
    }
   ],
   "source": [
    "#box plot da altura do grupo entorno\n",
    "df[df['Área'] == 'Entorno'].boxplot(column=['Altura (cm)'])"
   ]
  },
  {
   "cell_type": "code",
   "execution_count": 157,
   "metadata": {},
   "outputs": [
    {
     "data": {
      "text/plain": [
       "Área\n",
       "Copa        23.000000\n",
       "Entorno    104.214286\n",
       "Name: Altura (cm), dtype: float64"
      ]
     },
     "execution_count": 157,
     "metadata": {},
     "output_type": "execute_result"
    }
   ],
   "source": [
    "# media das alturas de cada grupo\n",
    "df.groupby('Área')['Altura (cm)'].mean()"
   ]
  },
  {
   "cell_type": "code",
   "execution_count": 158,
   "metadata": {},
   "outputs": [
    {
     "data": {
      "text/plain": [
       "Área\n",
       "Copa       20.0\n",
       "Entorno    20.0\n",
       "Name: Altura (cm), dtype: float64"
      ]
     },
     "execution_count": 158,
     "metadata": {},
     "output_type": "execute_result"
    }
   ],
   "source": [
    "# agrupar por grupo e altura minima\n",
    "df.groupby('Área')['Altura (cm)'].min()"
   ]
  },
  {
   "cell_type": "code",
   "execution_count": 159,
   "metadata": {},
   "outputs": [
    {
     "data": {
      "text/plain": [
       "Área\n",
       "Copa        27.0\n",
       "Entorno    400.0\n",
       "Name: Altura (cm), dtype: float64"
      ]
     },
     "execution_count": 159,
     "metadata": {},
     "output_type": "execute_result"
    }
   ],
   "source": [
    "#agrupar por grupo e altura max\n",
    "df.groupby('Área')['Altura (cm)'].max()"
   ]
  },
  {
   "cell_type": "code",
   "execution_count": null,
   "metadata": {},
   "outputs": [],
   "source": []
  },
  {
   "cell_type": "code",
   "execution_count": 160,
   "metadata": {},
   "outputs": [
    {
     "data": {
      "text/plain": [
       "Text(0,0.5,'Quantidade')"
      ]
     },
     "execution_count": 160,
     "metadata": {},
     "output_type": "execute_result"
    },
    {
     "data": {
      "image/png": "[encoded data removed]",
      "text/plain": [
       "<Figure size 432x288 with 1 Axes>"
      ]
     },
     "metadata": {},
     "output_type": "display_data"
    }
   ],
   "source": [
    "#Gráfico de barras da area das especies da area da copa ordenadas de forma descendente\n",
    "plot_copa = df[df['Área'] == 'Copa']\n",
    "plot_copa =  plot_copa[~plot_copa['Espécie'].isin(['Pendente'] )]\n",
    "plot_copa = plot_copa.groupby('Espécie')['Número'].count() \n",
    "plot_copa = plot_copa[plot_copa > 0]\n",
    "plot_copa = plot_copa.sort_values(ascending = False)\n",
    "\n",
    "plot_copa.plot(kind='bar')\n",
    "plt.title (\"Espécies na Copa\")\n",
    "plt.ylabel(\"Quantidade\")"
   ]
  },
  {
   "cell_type": "code",
   "execution_count": 164,
   "metadata": {},
   "outputs": [
    {
     "data": {
      "text/plain": [
       "Text(0,0.5,'Quantidade')"
      ]
     },
     "execution_count": 164,
     "metadata": {},
     "output_type": "execute_result"
    },
    {
     "data": {
      "image/png": "[encoded data removed]",
      "text/plain": [
       "<Figure size 432x288 with 1 Axes>"
      ]
     },
     "metadata": {},
     "output_type": "display_data"
    }
   ],
   "source": [
    "#Gráfico de barras da area das especies da area do entorno ordenadas de forma descendente\n",
    "plot_entorno = df[['Área','Espécie','Número']]\n",
    "plot_entorno= plot_entorno[plot_entorno['Área'] == 'Entorno']\n",
    "plot_entorno = plot_entorno.groupby('Espécie')['Número'].count()\n",
    "plot_entorno = plot_entorno[ plot_entorno > 0 ]\n",
    "plot_entorno = plot_entorno.sort_values(ascending = False)\n",
    "\n",
    "plot_entorno.plot(kind='bar')\n",
    "plt.title (\"Espécies no Entorno\")\n",
    "plt.ylabel(\"Quantidade\")"
   ]
  },
  {
   "cell_type": "code",
   "execution_count": 166,
   "metadata": {},
   "outputs": [
    {
     "data": {
      "image/png": "[encoded data removed]",
      "text/plain": [
       "<Figure size 360x360 with 1 Axes>"
      ]
     },
     "metadata": {},
     "output_type": "display_data"
    }
   ],
   "source": [
    "# Grafico de pizza om cores personalizadas relativo as especies da area da copa \n",
    "\n",
    "entorno = df[df['Área'] == 'Copa']\n",
    "entorno = entorno[~entorno['Espécie'].isin(['Pendente'] )]\n",
    "entorno = entorno.groupby('Espécie', as_index=False)['Número'].count() \n",
    "entorno = entorno[entorno > 0]\n",
    "entorno = entorno.sort_values(by='Número',ascending = False)\n",
    "entorno = entorno.dropna()\n",
    "\n",
    "labels = entorno['Espécie'].tolist()\n",
    "\n",
    "sizes =  entorno['Número'].tolist()\n",
    "\n",
    "explode = [0.1, 0.1]\n",
    "\n",
    "colors = ['#FFA500', '#FF0000']\n",
    "\n",
    "fig, ax = plt.subplots(figsize=(5, 5))\n",
    "ax.axis('equal')\n",
    "\n",
    "pie = ax.pie(sizes, explode=explode, colors=colors,\n",
    "             autopct='%1.2f%%', pctdistance =0.87,textprops=dict(color=\"black\"))\n",
    "\n",
    "plt.legend(pie[0],labels, bbox_to_anchor=(1.5,0.5), loc=\"right\")\n",
    "\n",
    "plt.show()\n"
   ]
  },
  {
   "cell_type": "code",
   "execution_count": 168,
   "metadata": {},
   "outputs": [
    {
     "data": {
      "image/png": "[encoded data removed]",
      "text/plain": [
       "<Figure size 612x720 with 1 Axes>"
      ]
     },
     "metadata": {},
     "output_type": "display_data"
    }
   ],
   "source": [
    "# Grafico de pizza om cores personalizadas relativo as especies da area da copa \n",
    "\n",
    "entorno = df[df['Área'] == 'Entorno']\n",
    "entorno = entorno[~entorno['Espécie'].isin(['Pendente'] )]\n",
    "entorno = entorno.groupby('Espécie', as_index=False)['Número'].count() \n",
    "entorno = entorno[entorno > 0]\n",
    "entorno = entorno.sort_values(by='Número',ascending = False)\n",
    "entorno = entorno.dropna()\n",
    "\n",
    "labels = entorno['Espécie'].tolist()\n",
    "\n",
    "sizes =  entorno['Número'].tolist()\n",
    "\n",
    "explode = [0.1, 0.1, 0.1, 0.1, 0.1, 0.1, 0.1, 0.1, 0.1]\n",
    "\n",
    "colors = ['#FFA500', '#FF0000', '#FF00FF', '#FA8072', '#B0E0E6', '#7B68EE', '#00AAAA',\n",
    "          '#00FA9A', '#00FF7F']\n",
    "\n",
    "fig, ax = plt.subplots(figsize=(8.5, 10))\n",
    "ax.axis('equal')\n",
    "\n",
    "pie = ax.pie(sizes, explode=explode, colors=colors,\n",
    "             autopct='%1.2f%%', pctdistance =0.90,textprops=dict(color=\"black\"))\n",
    "\n",
    "plt.legend(pie[0], labels, bbox_to_anchor=(1.5,0.5), loc=\"right\")\n",
    "\n",
    "plt.show()\n"
   ]
  },
  {
   "cell_type": "code",
   "execution_count": 169,
   "metadata": {},
   "outputs": [
    {
     "data": {
      "image/png": "[encoded data removed]",
      "text/plain": [
       "<Figure size 360x360 with 1 Axes>"
      ]
     },
     "metadata": {},
     "output_type": "display_data"
    }
   ],
   "source": [
    "#Percentual de indivíduos arbóreos regenerantes sob a copa de palmeiras Livistona chinensis de 3 m de altura e no entorno delas.\n",
    "\n",
    "regenerantes_por_area = df[~df['Espécie'].isin(['Pendente'] )]\n",
    "regenerantes_por_area = regenerantes_por_area.groupby('Área', as_index=False)['Número'].count() \n",
    "regenerantes_por_area = regenerantes_por_area[regenerantes_por_area > 0]\n",
    "regenerantes_por_area = regenerantes_por_area.dropna()\n",
    "regenerantes_por_area\n",
    "\n",
    "labels = regenerantes_por_area['Área'].tolist()\n",
    "\n",
    "sizes =  regenerantes_por_area['Número'].tolist()\n",
    "\n",
    "explode = [0.1, 0.1]\n",
    "\n",
    "colors = ['#FFA500', '#FF0000']\n",
    "\n",
    "fig, ax = plt.subplots(figsize=(5, 5))\n",
    "ax.axis('equal')\n",
    "\n",
    "pie = ax.pie(sizes, explode=explode, colors=colors,\n",
    "             autopct='%1.2f%%', pctdistance =0.80,textprops=dict(color=\"black\"))\n",
    "\n",
    "plt.legend(pie[0], labels, bbox_to_anchor=(1.5,0.5), loc=\"right\")\n",
    "\n",
    "plt.show()"
   ]
  },
  {
   "cell_type": "code",
   "execution_count": 172,
   "metadata": {},
   "outputs": [
    {
     "name": "stderr",
     "output_type": "stream",
     "text": [
      "/home/tania/anaconda3/lib/python3.6/site-packages/ipykernel_launcher.py:3: UserWarning: Boolean Series key will be reindexed to match DataFrame index.\n",
      "  This is separate from the ipykernel package so we can avoid doing imports until\n"
     ]
    },
    {
     "data": {
      "image/png": "[encoded data removed]",
      "text/plain": [
       "<Figure size 360x360 with 1 Axes>"
      ]
     },
     "metadata": {},
     "output_type": "display_data"
    }
   ],
   "source": [
    "#Proporção de indivíduos arbóreos regenerantes nativos e exóticos sob as copas de palmeiras Livistona chinensis de 3 m de altura e no entorno delas.\n",
    "regenerantes_por_origem = df[df['Área'] == 'Copa']\n",
    "regenerantes_por_origem = regenerantes_por_origem[~df['Espécie'].isin(['Pendente'] )]\n",
    "regenerantes_por_origem = regenerantes_por_origem.groupby('Nativa', as_index=False)['Número'].count() \n",
    "regenerantes_por_origem = regenerantes_por_origem[regenerantes_por_origem > 0]\n",
    "regenerantes_por_origem = regenerantes_por_origem.dropna()\n",
    "regenerantes_por_origem\n",
    "\n",
    "#labels = ['Exótico', 'Nativo', 'Não Classificado']\n",
    "labels = ['Nativo']\n",
    "sizes =  regenerantes_por_origem['Número'].tolist()\n",
    "\n",
    "#explode = [0.1, 0.1, 0.1]\n",
    "explode = [0.1]\n",
    "\n",
    "colors = ['#FFA500', '#FF0000', '#BBB100']\n",
    "\n",
    "fig, ax = plt.subplots(figsize=(5, 5))\n",
    "ax.axis('equal')\n",
    "\n",
    "pie = ax.pie(sizes, explode=explode, colors=colors,\n",
    "             autopct='%1.2f%%', pctdistance =0.80,textprops=dict(color=\"black\"))\n",
    "\n",
    "plt.legend(pie[0], labels, bbox_to_anchor=(1.5,0.5), loc=\"right\")\n",
    "\n",
    "plt.show()"
   ]
  },
  {
   "cell_type": "code",
   "execution_count": 176,
   "metadata": {},
   "outputs": [
    {
     "name": "stderr",
     "output_type": "stream",
     "text": [
      "/home/tania/anaconda3/lib/python3.6/site-packages/ipykernel_launcher.py:3: UserWarning: Boolean Series key will be reindexed to match DataFrame index.\n",
      "  This is separate from the ipykernel package so we can avoid doing imports until\n"
     ]
    },
    {
     "data": {
      "image/png": "[encoded data removed]",
      "text/plain": [
       "<Figure size 360x360 with 1 Axes>"
      ]
     },
     "metadata": {},
     "output_type": "display_data"
    }
   ],
   "source": [
    "#Proporção de indivíduos arbóreos regenerantes nativos e exóticos no entorno palmeiras Livistona chinensis de 3 m de altura e no entorno delas.\n",
    "regenerantes_por_origem = df[df['Área'] == 'Entorno']\n",
    "regenerantes_por_origem = regenerantes_por_origem[~df['Espécie'].isin(['Pendente'] )]\n",
    "regenerantes_por_origem = regenerantes_por_origem.groupby('Nativa', as_index=False)['Número'].count() \n",
    "regenerantes_por_origem = regenerantes_por_origem[regenerantes_por_origem > 0]\n",
    "regenerantes_por_origem = regenerantes_por_origem.dropna()\n",
    "regenerantes_por_origem\n",
    "\n",
    "#labels = ['Exótico', 'Nativo', 'Não Classificado']\n",
    "labels = ['Exótico', 'Nativo']\n",
    "\n",
    "sizes =  regenerantes_por_origem['Número'].tolist()\n",
    "\n",
    "#explode = [0.1, 0.1, 0.1]\n",
    "explode = [0.1, 0.1]\n",
    "\n",
    "colors = ['#FFA500', '#FF0000', '#BBB100']\n",
    "\n",
    "fig, ax = plt.subplots(figsize=(5, 5))\n",
    "ax.axis('equal')\n",
    "\n",
    "pie = ax.pie(sizes, explode=explode, colors=colors,\n",
    "             autopct='%1.2f%%', pctdistance =0.80,textprops=dict(color=\"black\"))\n",
    "\n",
    "plt.legend(pie[0], labels, bbox_to_anchor=(1.5,0.5), loc=\"right\")\n",
    "\n",
    "plt.show()"
   ]
  },
  {
   "cell_type": "code",
   "execution_count": 179,
   "metadata": {},
   "outputs": [
    {
     "name": "stderr",
     "output_type": "stream",
     "text": [
      "/home/tania/anaconda3/lib/python3.6/site-packages/ipykernel_launcher.py:3: UserWarning: Boolean Series key will be reindexed to match DataFrame index.\n",
      "  This is separate from the ipykernel package so we can avoid doing imports until\n"
     ]
    },
    {
     "data": {
      "image/png": "[encoded data removed]",
      "text/plain": [
       "<Figure size 360x360 with 1 Axes>"
      ]
     },
     "metadata": {},
     "output_type": "display_data"
    }
   ],
   "source": [
    " #Proporção de indivíduos arbóreos regenerantes Pioneiros e Não Pioneiros sob as copas de palmeiras Livistona chinensis de 3 m de altura e no entorno delas.\n",
    "regenerantes_por_estagio = df[df['Área'] == 'Copa']\n",
    "regenerantes_por_estagio = regenerantes_por_estagio[~df['Espécie'].isin(['Pendente'] )]\n",
    "regenerantes_por_estagio = regenerantes_por_estagio.groupby('Estágio sucessional', as_index=False)['Número'].count() \n",
    "regenerantes_por_estagio = regenerantes_por_estagio[regenerantes_por_estagio > 0]\n",
    "regenerantes_por_estagio = regenerantes_por_estagio.dropna()\n",
    "regenerantes_por_estagio\n",
    "\n",
    "labels = regenerantes_por_estagio['Estágio sucessional'].tolist()\n",
    "\n",
    "sizes =  regenerantes_por_estagio['Número'].tolist()\n",
    "\n",
    "#explode = [0.1, 0.1, 0.1]\n",
    "\n",
    "explode = [0.1, 0.1]\n",
    "\n",
    "colors = ['#FFA500', '#FF0000', '#BBB100']\n",
    "\n",
    "fig, ax = plt.subplots(figsize=(5, 5))\n",
    "ax.axis('equal')\n",
    "\n",
    "pie = ax.pie(sizes, explode=explode, colors=colors,\n",
    "             autopct='%1.2f%%', pctdistance =0.80,textprops=dict(color=\"black\"))\n",
    "\n",
    "plt.legend(pie[0], labels, bbox_to_anchor=(1.5,0.5), loc=\"right\")\n",
    "\n",
    "plt.show()"
   ]
  },
  {
   "cell_type": "code",
   "execution_count": 180,
   "metadata": {},
   "outputs": [
    {
     "name": "stderr",
     "output_type": "stream",
     "text": [
      "/home/tania/anaconda3/lib/python3.6/site-packages/ipykernel_launcher.py:3: UserWarning: Boolean Series key will be reindexed to match DataFrame index.\n",
      "  This is separate from the ipykernel package so we can avoid doing imports until\n"
     ]
    },
    {
     "data": {
      "image/png": "[encoded data removed]",
      "text/plain": [
       "<Figure size 360x360 with 1 Axes>"
      ]
     },
     "metadata": {},
     "output_type": "display_data"
    }
   ],
   "source": [
    " #Proporção de indivíduos arbóreos regenerantes Pioneiros e Não Pioneiros no entorno de palmeiras Livistona chinensis de 3 m de altura e no entorno delas.\n",
    "regenerantes_por_estagio = df[df['Área'] == 'Entorno']\n",
    "regenerantes_por_estagio = regenerantes_por_estagio[~df['Espécie'].isin(['Pendente'] )]\n",
    "regenerantes_por_estagio = regenerantes_por_estagio.groupby('Estágio sucessional', as_index=False)['Número'].count() \n",
    "regenerantes_por_estagio = regenerantes_por_estagio[regenerantes_por_estagio > 0]\n",
    "regenerantes_por_estagio = regenerantes_por_estagio.dropna()\n",
    "regenerantes_por_estagio\n",
    "\n",
    "labels = regenerantes_por_estagio['Estágio sucessional'].tolist()\n",
    "\n",
    "sizes =  regenerantes_por_estagio['Número'].tolist()\n",
    "\n",
    "explode = [0.1, 0.1, 0.1]\n",
    "\n",
    "colors = ['#FFA500', '#FF0000', '#BBB100']\n",
    "\n",
    "fig, ax = plt.subplots(figsize=(5, 5))\n",
    "ax.axis('equal')\n",
    "\n",
    "pie = ax.pie(sizes, explode=explode, colors=colors,\n",
    "             autopct='%1.2f%%', pctdistance =0.80,textprops=dict(color=\"black\"))\n",
    "\n",
    "plt.legend(pie[0], labels, bbox_to_anchor=(1.5,0.5), loc=\"right\")\n",
    "\n",
    "plt.show()"
   ]
  },
  {
   "cell_type": "code",
   "execution_count": null,
   "metadata": {},
   "outputs": [],
   "source": [
    "#Distribuição das espécies arbóreas sob as copas de Livistona chinensis de 3 m de altura"
   ]
  }
 ],
 "metadata": {
  "kernelspec": {
   "display_name": "Python 3",
   "language": "python",
   "name": "python3"
  },
  "language_info": {
   "codemirror_mode": {
    "name": "ipython",
    "version": 3
   },
   "file_extension": ".py",
   "mimetype": "text/x-python",
   "name": "python",
   "nbconvert_exporter": "python",
   "pygments_lexer": "ipython3",
   "version": "3.6.5"
  }
 },
 "nbformat": 4,
 "nbformat_minor": 2
}
