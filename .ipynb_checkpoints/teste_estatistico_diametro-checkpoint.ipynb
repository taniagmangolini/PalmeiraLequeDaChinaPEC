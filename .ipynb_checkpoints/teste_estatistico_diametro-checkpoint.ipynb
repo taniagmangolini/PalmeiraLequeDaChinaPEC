{
 "cells": [
  {
   "cell_type": "code",
   "execution_count": 17,
   "metadata": {},
   "outputs": [],
   "source": [
    "from numpy.random import seed\n",
    "from numpy.random import randn\n",
    "from scipy.stats import mannwhitneyu\n",
    "from scipy.stats import shapiro\n",
    "\n",
    "#PALMEIRAS 3m\n",
    "# diametro dos especimes em comum as areas externas e copas: \n",
    "#Cupania oblongifolia, Coffea arabica, Euterpe edulis, Psychotria suterella, Myrcia tijucensis, Myrciaria floribunda e Indeterminada 2\n",
    "externo = [7.6,4.8,3.4,5.3,2.6,7.8,3,6.2,2.5,3.9,4,12.1,2.4,8.3,2,7.3,6.2,9.9,18,9.2,10.2,8.2,\n",
    "           41.3,41.6,4.9,7.2,9.5,4.1,48.4,5,4.3,10.2,4.3,10,11,2.8,2.9,5.9,13.2,3.2,4.25,3.6,\n",
    "           13.6,8.7,5.7,5.2,3.9,2.8,3.6,3,4.3,6.5,2.7,49.7,9.45,30.9,3.55,5.9,7,2.3,3.5,4.15,\n",
    "           3.9,3.2,6.3,2.6,6.1,5.5,6.4,8.21,16.55,28.55,3.3,2.11,8.3,68.7,7.6,4.6,10.3,13.82,\n",
    "           12.6,5.89,6.45,3.13,3.15,10.2,3.73,2.13,13.13,14.45,4.09,1.73,1.54,1.45,18.84,6.4,\n",
    "           18.13,2.6,3.71,37.86]\n",
    "\n",
    "copa =   [3,4.5,5.4,10.8,3,6.3,14.2,32,5.7,8.3,4.78,6,14.7,9.8,25.3,7.2,7.4,8,2.6,\n",
    "          9.2,5,5.5,4.2,4.2,2.5,4.3,3.4,7.8,2.7,7.3,13.6,3.1,6.5,7.1,2.1,41.3,2.1,\n",
    "          2.1,1.8,1.75,2.7,2.5,12.67,11.9,20.08,3.48,16.36,10.13,4.35,2.13]\n",
    "\n"
   ]
  },
  {
   "cell_type": "code",
   "execution_count": 18,
   "metadata": {},
   "outputs": [
    {
     "name": "stdout",
     "output_type": "stream",
     "text": [
      "Statistics=0.602, p=0.000\n",
      "Grupo EXTERNO não tem distribuição normal (rejeita H0)\n"
     ]
    }
   ],
   "source": [
    "# Shapiro-Wilk Test (teste de normalidade) para grupo EXTERNO - PALMEIRAS 3m\n",
    "\n",
    "stat, p = shapiro(externo)\n",
    "print('Statistics=%.3f, p=%.3f' % (stat, p))\n",
    "\n",
    "# resultado\n",
    "alpha = 0.05\n",
    "\n",
    "if p > alpha:\n",
    "    print('Grupo EXTERNO tem distribuição normal (aceita H0)')\n",
    "else:\n",
    "    print('Grupo EXTERNO não tem distribuição normal (rejeita H0)')\n",
    "    "
   ]
  },
  {
   "cell_type": "code",
   "execution_count": 19,
   "metadata": {},
   "outputs": [
    {
     "name": "stdout",
     "output_type": "stream",
     "text": [
      "Statistics=0.720, p=0.000\n",
      "Grupo COPA não tem distribuição normal (rejeita H0)\n"
     ]
    }
   ],
   "source": [
    "# Shapiro-Wilk Test (teste de normalidade) para grupo COPA - PALMEIRAS 3m\n",
    "\n",
    "stat, p = shapiro(copa)\n",
    "print('Statistics=%.3f, p=%.3f' % (stat, p))\n",
    "\n",
    "# resultado\n",
    "\n",
    "alpha = 0.05\n",
    "\n",
    "if p > alpha:\n",
    "\tprint('Grupo COPA tem distribuição normal (aceita H0)')\n",
    "else:\n",
    "\tprint('Grupo COPA não tem distribuição normal (rejeita H0)')"
   ]
  },
  {
   "cell_type": "code",
   "execution_count": 20,
   "metadata": {},
   "outputs": [
    {
     "name": "stdout",
     "output_type": "stream",
     "text": [
      "Statistics=2403.500, p=0.351\n",
      "Mesma distribuição (aceita H0)\n"
     ]
    }
   ],
   "source": [
    "# Mann-Whitney test para as PALMEIRAS 3m\n",
    "\n",
    "stat, p = mannwhitneyu(externo, copa)\n",
    "print('Statistics=%.3f, p=%.3f' % (stat, p))\n",
    "\n",
    "#  resultado\n",
    "\n",
    "alpha = 0.05\n",
    "\n",
    "if p > alpha:\n",
    "\tprint('Mesma distribuição (aceita H0)')\n",
    "else:\n",
    "\tprint('Diferentes distribuiçoes (rejeita H0), ou seja, existem diferenças significativas entre as duas condicoes')\n"
   ]
  },
  {
   "cell_type": "code",
   "execution_count": null,
   "metadata": {},
   "outputs": [],
   "source": []
  },
  {
   "cell_type": "code",
   "execution_count": null,
   "metadata": {},
   "outputs": [],
   "source": []
  },
  {
   "cell_type": "code",
   "execution_count": null,
   "metadata": {},
   "outputs": [],
   "source": []
  },
  {
   "cell_type": "code",
   "execution_count": null,
   "metadata": {},
   "outputs": [],
   "source": []
  },
  {
   "cell_type": "code",
   "execution_count": null,
   "metadata": {},
   "outputs": [],
   "source": []
  },
  {
   "cell_type": "code",
   "execution_count": null,
   "metadata": {},
   "outputs": [],
   "source": []
  }
 ],
 "metadata": {
  "kernelspec": {
   "display_name": "Python 3",
   "language": "python",
   "name": "python3"
  },
  "language_info": {
   "codemirror_mode": {
    "name": "ipython",
    "version": 3
   },
   "file_extension": ".py",
   "mimetype": "text/x-python",
   "name": "python",
   "nbconvert_exporter": "python",
   "pygments_lexer": "ipython3",
   "version": "3.6.5"
  }
 },
 "nbformat": 4,
 "nbformat_minor": 2
}
