{
 "cells": [
  {
   "cell_type": "code",
   "execution_count": 5,
   "id": "c5d89714-3eed-40a6-961d-c6c956f614d3",
   "metadata": {},
   "outputs": [
    {
     "name": "stdout",
     "output_type": "stream",
     "text": [
      "Anaconda version: 1.6.14\n",
      "pandas version: 1.1.5\n",
      "numpy version: 1.19.2\n",
      "matplotlib version: 3.3.4\n"
     ]
    },
    {
     "data": {
      "image/png": "[encoded data removed]",
      "text/plain": [
       "<Figure size 432x288 with 1 Axes>"
      ]
     },
     "metadata": {
      "needs_background": "light"
     },
     "output_type": "display_data"
    }
   ],
   "source": [
    "import pandas as pd\n",
    "import matplotlib\n",
    "import matplotlib.pyplot as plt\n",
    "plt.rcParams['font.family'] = 'serif'\n",
    "plt.rcParams['font.serif'] = ['Times New Roman'] + plt.rcParams['font.serif']\n",
    "plt.rc('xtick', labelsize=11) \n",
    "plt.rc('ytick', labelsize=11) \n",
    "from matplotlib.ticker import MaxNLocator\n",
    "import numpy as np\n",
    "\n",
    "print('Anaconda version: 1.6.14')\n",
    "print('pandas version:', pd.__version__)\n",
    "print('numpy version:', np.__version__)\n",
    "print('matplotlib version:', matplotlib.__version__)\n",
    "\n",
    "labels = ['0 a 2', '3 a 5', '6 ou mais']\n",
    "\n",
    "total_parcelas_copas_3m = 20\n",
    "total_parcelas_copas_6m = 20\n",
    "total_parcelas_entorno_3m = 20\n",
    "total_parcelas_entorno_6m = 20\n",
    "\n",
    "\n",
    "copa3m = [(10/total_parcelas_copas_3m)*100, (9/total_parcelas_copas_3m)*100, (1/total_parcelas_copas_3m)*100]\n",
    "entorno3m = [(0/total_parcelas_entorno_3m)*100, (8/total_parcelas_entorno_3m)*100, (12/total_parcelas_entorno_3m)*100]\n",
    "\n",
    "copa6m = [(15/total_parcelas_copas_3m)*100, (5/total_parcelas_copas_3m)*100, (0/total_parcelas_copas_3m)*100]\n",
    "entorno6m = [(3/total_parcelas_entorno_6m)*100, (10/total_parcelas_entorno_6m)*100, (7/total_parcelas_entorno_6m)*100]\n",
    "\n",
    "df = pd.DataFrame({'Copas 3 m': copa3m,\n",
    "                    'Copas 6 m': copa6m,\n",
    "                    'Entorno 3 m': entorno3m,\n",
    "                    'Entorno 6 m': entorno6m,\n",
    "                    }, \n",
    "                    index=labels)\n",
    "\n",
    "ax = df.plot.bar(rot=0)\n",
    "x = np.arange(len(labels))  # the label locations\n",
    "\n",
    "# Add some text for labels, title and custom x-axis tick labels, etc.\n",
    "ax.set_ylabel('% de parcelas')\n",
    "ax.set_xlabel('Quantidade de regenerantes')\n",
    "ax.set_title('Quantidade de regenerantes por parcela')\n",
    "ax.set_xticks(x)\n",
    "ax.set_xticklabels(labels)\n",
    "ax.legend()\n",
    "\n",
    "#fig.tight_layout()\n",
    "\n",
    "plt.savefig('fig3.png', format='png', dpi=300, bbox_inches='tight')\n",
    "plt.show()"
   ]
  },
  {
   "cell_type": "code",
   "execution_count": null,
   "id": "9067e566-154c-4b9b-917f-66f71f1a504e",
   "metadata": {},
   "outputs": [],
   "source": []
  },
  {
   "cell_type": "code",
   "execution_count": null,
   "id": "f3d6e089-98b0-42ab-90e1-2a75928b0689",
   "metadata": {},
   "outputs": [],
   "source": []
  }
 ],
 "metadata": {
  "kernelspec": {
   "display_name": "Python 3",
   "language": "python",
   "name": "python3"
  },
  "language_info": {
   "codemirror_mode": {
    "name": "ipython",
    "version": 3
   },
   "file_extension": ".py",
   "mimetype": "text/x-python",
   "name": "python",
   "nbconvert_exporter": "python",
   "pygments_lexer": "ipython3",
   "version": "3.6.5"
  }
 },
 "nbformat": 4,
 "nbformat_minor": 5
}
