{
 "cells": [
  {
   "cell_type": "code",
   "execution_count": 1,
   "metadata": {},
   "outputs": [],
   "source": [
    "from numpy.random import seed\n",
    "from numpy.random import randn\n",
    "from scipy.stats import mannwhitneyu\n",
    "from scipy.stats import shapiro\n",
    "\n",
    "#PALMEIRAS 3m\n",
    "# altura dos individuos coletados nas areas externas e sob as copas\n",
    "externo = [87,59,49,38,72,36,116,32,64,33,\n",
    "           64,70,79,22,89,20,66,48,83,137,\n",
    "           55,47,76,77,42,50,81,79,32,300,\n",
    "           35,300,300,38,57,50,20,45,65,50,\n",
    "           20,83,79,119,27,27,24,69,20,66,\n",
    "           42,48,52,46,98,24,47,45,147,79,\n",
    "           55,43,33,20,20,150,67,102,29,24,\n",
    "           54,79,37,63,195,35,76,67,600,350,\n",
    "           37,23,38,86,20,35,25,32,35,40,20,\n",
    "           37,54,23,42,60,78,71,59,115,350,\n",
    "           33,300,125,125,100,95,108,200,300,\n",
    "           40,30,20,20,70,50,80,38,34,21,37,\n",
    "           94,165,44,43,20,20,20,20,190,36,\n",
    "           107,40,33,300]\n",
    "\n",
    "copa =   [34,29,58,164,23,\n",
    "          39,85,300,25,95,\n",
    "          20,45,149,42,141,\n",
    "          185,59,58,20,48,\n",
    "          60,42,43,20,40,\n",
    "          28,20,22,40,22,\n",
    "          90,105,186,43,\n",
    "          79,87,27,170,20,\n",
    "          22,22,69,20,20,\n",
    "          20,180,183,150,\n",
    "          24,26,125,110,\n",
    "          28,35,20]\n"
   ]
  },
  {
   "cell_type": "code",
   "execution_count": 2,
   "metadata": {},
   "outputs": [
    {
     "name": "stdout",
     "output_type": "stream",
     "text": [
      "Statistics=0.629, p=0.000\n",
      "Grupo EXTERNO não tem distribuição normal (rejeita H0)\n"
     ]
    }
   ],
   "source": [
    "# Shapiro-Wilk Test (teste de normalidade) para grupo EXTERNO - PALMEIRAS 3m\n",
    "\n",
    "stat, p = shapiro(externo)\n",
    "print('Statistics=%.3f, p=%.3f' % (stat, p))\n",
    "\n",
    "# resultado\n",
    "alpha = 0.05\n",
    "\n",
    "if p > alpha:\n",
    "    print('Grupo EXTERNO tem distribuição normal (aceita H0)')\n",
    "else:\n",
    "    print('Grupo EXTERNO não tem distribuição normal (rejeita H0)')\n",
    "    "
   ]
  },
  {
   "cell_type": "code",
   "execution_count": 3,
   "metadata": {},
   "outputs": [
    {
     "name": "stdout",
     "output_type": "stream",
     "text": [
      "Statistics=0.784, p=0.000\n",
      "Grupo COPA não tem distribuição normal (rejeita H0)\n"
     ]
    }
   ],
   "source": [
    "# Shapiro-Wilk Test (teste de normalidade) para grupo COPA - PALMEIRAS 3m\n",
    "\n",
    "stat, p = shapiro(copa)\n",
    "print('Statistics=%.3f, p=%.3f' % (stat, p))\n",
    "\n",
    "# resultado\n",
    "\n",
    "alpha = 0.05\n",
    "\n",
    "if p > alpha:\n",
    "\tprint('Grupo COPA tem distribuição normal (aceita H0)')\n",
    "else:\n",
    "\tprint('Grupo COPA não tem distribuição normal (rejeita H0)')"
   ]
  },
  {
   "cell_type": "code",
   "execution_count": 4,
   "metadata": {},
   "outputs": [
    {
     "name": "stdout",
     "output_type": "stream",
     "text": [
      "Statistics=3338.000, p=0.138\n",
      "Mesma distribuição (aceita H0)\n"
     ]
    }
   ],
   "source": [
    "# Mann-Whitney test para as PALMEIRAS 3m\n",
    "\n",
    "stat, p = mannwhitneyu(externo, copa)\n",
    "print('Statistics=%.3f, p=%.3f' % (stat, p))\n",
    "\n",
    "#  resultado\n",
    "\n",
    "alpha = 0.05\n",
    "\n",
    "if p > alpha:\n",
    "\tprint('Mesma distribuição (aceita H0)')\n",
    "else:\n",
    "\tprint('Diferentes distribuiçoes (rejeita H0), ou seja, existem diferenças significativas entre as duas condicoes')\n"
   ]
  },
  {
   "cell_type": "code",
   "execution_count": null,
   "metadata": {},
   "outputs": [],
   "source": []
  },
  {
   "cell_type": "code",
   "execution_count": null,
   "metadata": {},
   "outputs": [],
   "source": []
  },
  {
   "cell_type": "code",
   "execution_count": null,
   "metadata": {},
   "outputs": [],
   "source": []
  },
  {
   "cell_type": "code",
   "execution_count": null,
   "metadata": {},
   "outputs": [],
   "source": []
  },
  {
   "cell_type": "code",
   "execution_count": null,
   "metadata": {},
   "outputs": [],
   "source": []
  },
  {
   "cell_type": "code",
   "execution_count": null,
   "metadata": {},
   "outputs": [],
   "source": []
  }
 ],
 "metadata": {
  "kernelspec": {
   "display_name": "Python 3",
   "language": "python",
   "name": "python3"
  },
  "language_info": {
   "codemirror_mode": {
    "name": "ipython",
    "version": 3
   },
   "file_extension": ".py",
   "mimetype": "text/x-python",
   "name": "python",
   "nbconvert_exporter": "python",
   "pygments_lexer": "ipython3",
   "version": "3.6.5"
  }
 },
 "nbformat": 4,
 "nbformat_minor": 2
}
