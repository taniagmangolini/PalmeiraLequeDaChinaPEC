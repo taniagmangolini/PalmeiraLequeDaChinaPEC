{
 "cells": [
  {
   "cell_type": "code",
   "execution_count": 9,
   "metadata": {},
   "outputs": [],
   "source": [
    "from numpy.random import seed\n",
    "from numpy.random import randn\n",
    "from scipy.stats import mannwhitneyu\n",
    "from scipy.stats import shapiro\n",
    "\n",
    "#PALMEIRAS 3m\n",
    "# alturas dos especimes em comum as areas externas e copas: \n",
    "#Cupania oblongifolia, Coffea arabica, Euterpe edulis, Psychotria suterella, Myrcia tijucensis, Myrciaria floribunda e Indeterminada 2\n",
    "\n",
    "externo = [87,49,38,72,36,116,32,64,33,64,70,79,22,89,20,66,48,83,137,55,47,76,77,42,50,81,79,\n",
    "           32,300,35,57,50,20,79,119,27,20,66,98,24,47,45,147,79,55,43,33,20,29,24,54,79,37,195,76,\n",
    "           350,23,38,86,32,35,40,20,37,54,23,42,60,78,59,115,350,33,300,125,125,100,95,108,200,300,\n",
    "           40,30,20,20,70,38,21,94,165,44,20,20,20,190,36,107,40,33,300]\n",
    "\n",
    "\n",
    "copa =   [34,29,58,164,23,39,85,300,25,95,20,45,149,42,141,185,59,58,20,60,42,43,20,40,\n",
    "          28,20,22,40,22,90,105,43,79,87,27,170,20,22,22,20,20,20,180,183,150,24,125,110,28,20]\n"
   ]
  },
  {
   "cell_type": "code",
   "execution_count": 10,
   "metadata": {},
   "outputs": [
    {
     "name": "stdout",
     "output_type": "stream",
     "text": [
      "Statistics=0.704, p=0.000\n",
      "Grupo EXTERNO não tem distribuição normal (rejeita H0)\n"
     ]
    }
   ],
   "source": [
    "# Shapiro-Wilk Test (teste de normalidade) para grupo EXTERNO - PALMEIRAS 3m\n",
    "\n",
    "stat, p = shapiro(externo)\n",
    "print('Statistics=%.3f, p=%.3f' % (stat, p))\n",
    "\n",
    "# resultado\n",
    "alpha = 0.05\n",
    "\n",
    "if p > alpha:\n",
    "    print('Grupo EXTERNO tem distribuição normal (aceita H0)')\n",
    "else:\n",
    "    print('Grupo EXTERNO não tem distribuição normal (rejeita H0)')\n",
    "    "
   ]
  },
  {
   "cell_type": "code",
   "execution_count": 11,
   "metadata": {},
   "outputs": [
    {
     "name": "stdout",
     "output_type": "stream",
     "text": [
      "Statistics=0.783, p=0.000\n",
      "Grupo COPA não tem distribuição normal (rejeita H0)\n"
     ]
    }
   ],
   "source": [
    "# Shapiro-Wilk Test (teste de normalidade) para grupo COPA - PALMEIRAS 3m\n",
    "\n",
    "stat, p = shapiro(copa)\n",
    "print('Statistics=%.3f, p=%.3f' % (stat, p))\n",
    "\n",
    "# resultado\n",
    "\n",
    "alpha = 0.05\n",
    "\n",
    "if p > alpha:\n",
    "\tprint('Grupo COPA tem distribuição normal (aceita H0)')\n",
    "else:\n",
    "\tprint('Grupo COPA não tem distribuição normal (rejeita H0)')"
   ]
  },
  {
   "cell_type": "code",
   "execution_count": 12,
   "metadata": {},
   "outputs": [
    {
     "name": "stdout",
     "output_type": "stream",
     "text": [
      "Statistics=2201.000, p=0.117\n",
      "Mesma distribuição (aceita H0)\n"
     ]
    }
   ],
   "source": [
    "# Mann-Whitney test para as PALMEIRAS 3m\n",
    "\n",
    "stat, p = mannwhitneyu(externo, copa)\n",
    "print('Statistics=%.3f, p=%.3f' % (stat, p))\n",
    "\n",
    "#  resultado\n",
    "\n",
    "alpha = 0.05\n",
    "\n",
    "if p > alpha:\n",
    "\tprint('Mesma distribuição (aceita H0)')\n",
    "else:\n",
    "\tprint('Diferentes distribuiçoes (rejeita H0), ou seja, existem diferenças significativas entre as duas condicoes')\n"
   ]
  },
  {
   "cell_type": "code",
   "execution_count": null,
   "metadata": {},
   "outputs": [],
   "source": []
  },
  {
   "cell_type": "code",
   "execution_count": null,
   "metadata": {},
   "outputs": [],
   "source": []
  },
  {
   "cell_type": "code",
   "execution_count": null,
   "metadata": {},
   "outputs": [],
   "source": []
  },
  {
   "cell_type": "code",
   "execution_count": null,
   "metadata": {},
   "outputs": [],
   "source": []
  },
  {
   "cell_type": "code",
   "execution_count": null,
   "metadata": {},
   "outputs": [],
   "source": []
  },
  {
   "cell_type": "code",
   "execution_count": null,
   "metadata": {},
   "outputs": [],
   "source": []
  }
 ],
 "metadata": {
  "kernelspec": {
   "display_name": "Python 3",
   "language": "python",
   "name": "python3"
  },
  "language_info": {
   "codemirror_mode": {
    "name": "ipython",
    "version": 3
   },
   "file_extension": ".py",
   "mimetype": "text/x-python",
   "name": "python",
   "nbconvert_exporter": "python",
   "pygments_lexer": "ipython3",
   "version": "3.6.5"
  }
 },
 "nbformat": 4,
 "nbformat_minor": 2
}
